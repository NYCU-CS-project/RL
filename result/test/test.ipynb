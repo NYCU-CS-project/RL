{
 "cells": [
  {
   "cell_type": "code",
   "execution_count": 17,
   "metadata": {},
   "outputs": [],
   "source": [
    "import gymnasium as gym\n",
    "import numpy as np\n",
    "from copy import deepcopy\n",
    "import torch\n",
    "from torch.distributions import Normal\n",
    "import numpy as np\n",
    "import torch.nn as nn\n",
    "import torch.nn.functional as F\n",
    "from torch.distributions import Categorical\n",
    "from torch.utils.data import Dataset, DataLoader\n",
    "from stable_baselines3.common.vec_env import VecVideoRecorder, DummyVecEnv\n",
    "import imageio\n",
    "import pandas as pd\n",
    "from tqdm import tqdm\n",
    "from PIL import Image\n",
    "from stable_baselines3.dqn.policies import MlpPolicy\n",
    "import matplotlib.pyplot as plt\n"
   ]
  },
  {
   "cell_type": "code",
   "execution_count": 18,
   "metadata": {},
   "outputs": [
    {
     "data": {
      "text/plain": [
       "15"
      ]
     },
     "execution_count": 18,
     "metadata": {},
     "output_type": "execute_result"
    }
   ],
   "source": [
    "import gc\n",
    "gc.collect()"
   ]
  },
  {
   "cell_type": "code",
   "execution_count": 2,
   "metadata": {},
   "outputs": [
    {
     "name": "stdout",
     "output_type": "stream",
     "text": [
      "Tue Apr  2 13:19:31 2024       \n",
      "+---------------------------------------------------------------------------------------+\n",
      "| NVIDIA-SMI 545.23.06              Driver Version: 545.23.06    CUDA Version: 12.3     |\n",
      "|-----------------------------------------+----------------------+----------------------+\n",
      "| GPU  Name                 Persistence-M | Bus-Id        Disp.A | Volatile Uncorr. ECC |\n",
      "| Fan  Temp   Perf          Pwr:Usage/Cap |         Memory-Usage | GPU-Util  Compute M. |\n",
      "|                                         |                      |               MIG M. |\n",
      "|=========================================+======================+======================|\n",
      "|   0  NVIDIA GeForce GTX 1080 Ti     On  | 00000000:01:00.0 Off |                  N/A |\n",
      "|  0%   34C    P8              15W / 250W |      4MiB / 11264MiB |      0%      Default |\n",
      "|                                         |                      |                  N/A |\n",
      "+-----------------------------------------+----------------------+----------------------+\n",
      "                                                                                         \n",
      "+---------------------------------------------------------------------------------------+\n",
      "| Processes:                                                                            |\n",
      "|  GPU   GI   CI        PID   Type   Process name                            GPU Memory |\n",
      "|        ID   ID                                                             Usage      |\n",
      "|=======================================================================================|\n",
      "|  No running processes found                                                           |\n",
      "+---------------------------------------------------------------------------------------+\n"
     ]
    },
    {
     "ename": "NameError",
     "evalue": "name 'torch' is not defined",
     "output_type": "error",
     "traceback": [
      "\u001b[0;31m---------------------------------------------------------------------------\u001b[0m",
      "\u001b[0;31mNameError\u001b[0m                                 Traceback (most recent call last)",
      "Cell \u001b[0;32mIn[2], line 4\u001b[0m\n\u001b[1;32m      1\u001b[0m get_ipython()\u001b[38;5;241m.\u001b[39msystem(\u001b[38;5;124m'\u001b[39m\u001b[38;5;124mnvidia-smi\u001b[39m\u001b[38;5;124m'\u001b[39m)\n\u001b[1;32m      3\u001b[0m \u001b[38;5;66;03m# clean up memory forcefully\u001b[39;00m\n\u001b[0;32m----> 4\u001b[0m \u001b[43mtorch\u001b[49m\u001b[38;5;241m.\u001b[39mcuda\u001b[38;5;241m.\u001b[39mempty_cache()\n\u001b[1;32m      5\u001b[0m torch\u001b[38;5;241m.\u001b[39mcuda\u001b[38;5;241m.\u001b[39mmemory_summary(device\u001b[38;5;241m=\u001b[39m\u001b[38;5;28;01mNone\u001b[39;00m, abbreviated\u001b[38;5;241m=\u001b[39m\u001b[38;5;28;01mFalse\u001b[39;00m)\n\u001b[1;32m      7\u001b[0m device \u001b[38;5;241m=\u001b[39m torch\u001b[38;5;241m.\u001b[39mdevice(\u001b[38;5;124m\"\u001b[39m\u001b[38;5;124mcuda\u001b[39m\u001b[38;5;124m\"\u001b[39m \u001b[38;5;28;01mif\u001b[39;00m torch\u001b[38;5;241m.\u001b[39mcuda\u001b[38;5;241m.\u001b[39mis_available() \u001b[38;5;28;01melse\u001b[39;00m \u001b[38;5;124m\"\u001b[39m\u001b[38;5;124mcpu\u001b[39m\u001b[38;5;124m\"\u001b[39m)\n",
      "\u001b[0;31mNameError\u001b[0m: name 'torch' is not defined"
     ]
    }
   ],
   "source": [
    "!nvidia-smi\n",
    "\n",
    "# clean up memory forcefully\n",
    "torch.cuda.empty_cache()\n",
    "torch.cuda.memory_summary(device=None, abbreviated=False)\n",
    "\n",
    "device = torch.device(\"cuda\" if torch.cuda.is_available() else \"cpu\")\n",
    "device\n",
    "\n",
    "\n",
    "\n"
   ]
  },
  {
   "cell_type": "code",
   "execution_count": 20,
   "metadata": {},
   "outputs": [
    {
     "name": "stdout",
     "output_type": "stream",
     "text": [
      "Using device: cuda\n"
     ]
    }
   ],
   "source": [
    "\n",
    "device = torch.device(\"cuda\" if torch.cuda.is_available() else \"cpu\")\n",
    "print(f\"Using device: {device}\")\n",
    "class CustomDataset(Dataset):\n",
    "    def __init__(self, observations, actions):\n",
    "        self.observations = torch.tensor(observations, dtype=torch.float32,device=device)\n",
    "        self.actions = torch.tensor(actions, dtype=torch.float32,device=device)\n",
    "\n",
    "    def __len__(self):\n",
    "        return len(self.observations)\n",
    "\n",
    "    def __getitem__(self, idx):\n",
    "        observation = self.observations[idx]\n",
    "        action = self.actions[idx]\n",
    "        return observation, action\n",
    "\n",
    "class PolicyNetwork(nn.Module):\n",
    "    def __init__(self, input_dim, output_dim):\n",
    "        super(PolicyNetwork, self).__init__()\n",
    "        self.fc1 = nn.Linear(input_dim, 32)\n",
    "        self.norm1 = nn.LayerNorm(32)\n",
    "        self.fc2 = nn.Linear(32, 32)\n",
    "        self.norm2 = nn.LayerNorm(32)\n",
    "        self.fc3 = nn.Linear(32, output_dim)\n",
    "\n",
    "    def forward(self, x):\n",
    "        # x = F.relu(self.norm1(self.fc1(x)))\n",
    "        # x = F.relu(self.norm2(self.fc2(x)))\n",
    "        x = F.relu(self.fc1(x))\n",
    "        x = F.relu(self.fc2(x))\n",
    "        x = self.fc3(x)\n",
    "        return x\n",
    "\n",
    "    "
   ]
  },
  {
   "cell_type": "code",
   "execution_count": 21,
   "metadata": {},
   "outputs": [
    {
     "name": "stdout",
     "output_type": "stream",
     "text": [
      "(28000, 4) (28000,) (28000,) (28000,) (28000,) (28000, 4)\n",
      "[-0.0455423  -0.00493775  0.01715994  0.02859923] 0 1.0 False {'TimeLimit.truncated': False} [-0.04564106 -0.20030153  0.01773192  0.32664654]\n"
     ]
    }
   ],
   "source": [
    "env_id = \"CartPole-v1\"\n",
    "# env = make_vec_env(env_id, n_envs=1)\n",
    "# read /mnt/nfs/work/c98181/RL/dataset/CartPole-v1...npy\n",
    "# np.save(\"/mnt/nfs/work/c98181/RL/dataset/\"+env_id+f\"_28000_obs.npy\", obs_list)\n",
    "# np.save(\"/mnt/nfs/work/c98181/RL/dataset/\"+env_id+\"_28000_actions.npy\", actions_list)\n",
    "# np.save(\"/mnt/nfs/work/c98181/RL/dataset/\"+env_id+\"_28000_rewards.npy\", rewards_list)\n",
    "# np.save(\"/mnt/nfs/work/c98181/RL/dataset/\"+env_id+\"_28000_dones.npy\", dones_list)\n",
    "# np.save(\"/mnt/nfs/work/c98181/RL/dataset/\"+env_id+\"_28000_info.npy\", info_list)\n",
    "# np.save(\"/mnt/nfs/work/c98181/RL/dataset/\"+env_id+\"_28000_next_obs.npy\", next_obs_list)\n",
    "observations= np.load(\"/mnt/nfs/work/c98181/RL/dataset/CartPole-v1_28000_obs.npy\", allow_pickle=True)\n",
    "actions = np.load(\"/mnt/nfs/work/c98181/RL/dataset/CartPole-v1_28000_actions.npy\", allow_pickle=True)\n",
    "rewards = np.load(\"/mnt/nfs/work/c98181/RL/dataset/CartPole-v1_28000_rewards.npy\", allow_pickle=True)\n",
    "dones = np.load(\"/mnt/nfs/work/c98181/RL/dataset/CartPole-v1_28000_dones.npy\", allow_pickle=True)\n",
    "info = np.load(\"/mnt/nfs/work/c98181/RL/dataset/CartPole-v1_28000_info.npy\", allow_pickle=True)\n",
    "next_obs = np.load(\"/mnt/nfs/work/c98181/RL/dataset/CartPole-v1_28000_next_obs.npy\", allow_pickle=True)\n",
    "observations=observations.squeeze()\n",
    "actions=actions.squeeze()\n",
    "rewards=rewards.squeeze()\n",
    "dones=dones.squeeze()\n",
    "info=info.squeeze()\n",
    "next_obs=next_obs.squeeze()\n",
    "\n",
    "# observations = observations[:1000]\n",
    "# actions = actions[:1000]\n",
    "print(observations.shape, actions.shape, rewards.shape, dones.shape, info.shape, next_obs.shape)\n",
    "print(observations[0], actions[0], rewards[0], dones[0], info[0], next_obs[0])\n",
    "\n",
    "# print(actions)"
   ]
  },
  {
   "cell_type": "code",
   "execution_count": 22,
   "metadata": {},
   "outputs": [],
   "source": [
    "class mydataset(Dataset):\n",
    "    def __init__(self, observations, actions):\n",
    "        self.observations = torch.tensor(observations, dtype=torch.float32).to(device)\n",
    "        self.actions = torch.tensor(actions, dtype=torch.float32).to(device)\n",
    "\n",
    "    def __len__(self):\n",
    "        return len(self.observations)\n",
    "\n",
    "    def __getitem__(self, idx):\n",
    "        observation = self.observations[idx]\n",
    "        action = self.actions[idx]\n",
    "        return observation, action"
   ]
  },
  {
   "cell_type": "code",
   "execution_count": 8,
   "metadata": {},
   "outputs": [
    {
     "name": "stderr",
     "output_type": "stream",
     "text": [
      "Epoch [1/50]: 100%|██████████| 1750/1750 [00:05<00:00, 349.02it/s, loss=0.165]  \n"
     ]
    },
    {
     "name": "stdout",
     "output_type": "stream",
     "text": [
      "[9.82]\n"
     ]
    },
    {
     "name": "stderr",
     "output_type": "stream",
     "text": [
      "Epoch [2/50]:  73%|███████▎  | 1284/1750 [00:03<00:01, 357.26it/s, loss=0.123]  \n"
     ]
    },
    {
     "ename": "KeyboardInterrupt",
     "evalue": "",
     "output_type": "error",
     "traceback": [
      "\u001b[0;31m---------------------------------------------------------------------------\u001b[0m",
      "\u001b[0;31mKeyboardInterrupt\u001b[0m                         Traceback (most recent call last)",
      "Cell \u001b[0;32mIn[8], line 48\u001b[0m\n\u001b[1;32m     43\u001b[0m loss_record\u001b[38;5;241m=\u001b[39m[]\n\u001b[1;32m     45\u001b[0m \u001b[38;5;28;01mfor\u001b[39;00m step, (obs_batch,act_batch) \u001b[38;5;129;01min\u001b[39;00m \u001b[38;5;28menumerate\u001b[39m(pbar):\n\u001b[0;32m---> 48\u001b[0m     logits \u001b[38;5;241m=\u001b[39m \u001b[43mpolicy_network\u001b[49m\u001b[43m(\u001b[49m\u001b[43mobs_batch\u001b[49m\u001b[43m)\u001b[49m\n\u001b[1;32m     49\u001b[0m     \u001b[38;5;66;03m# cross entropy\u001b[39;00m\n\u001b[1;32m     50\u001b[0m     loss\u001b[38;5;241m=\u001b[39mloss_func(logits, act_batch\u001b[38;5;241m.\u001b[39mlong())\n",
      "File \u001b[0;32m~/miniconda3/envs/atari/lib/python3.9/site-packages/torch/nn/modules/module.py:1511\u001b[0m, in \u001b[0;36mModule._wrapped_call_impl\u001b[0;34m(self, *args, **kwargs)\u001b[0m\n\u001b[1;32m   1509\u001b[0m     \u001b[38;5;28;01mreturn\u001b[39;00m \u001b[38;5;28mself\u001b[39m\u001b[38;5;241m.\u001b[39m_compiled_call_impl(\u001b[38;5;241m*\u001b[39margs, \u001b[38;5;241m*\u001b[39m\u001b[38;5;241m*\u001b[39mkwargs)  \u001b[38;5;66;03m# type: ignore[misc]\u001b[39;00m\n\u001b[1;32m   1510\u001b[0m \u001b[38;5;28;01melse\u001b[39;00m:\n\u001b[0;32m-> 1511\u001b[0m     \u001b[38;5;28;01mreturn\u001b[39;00m \u001b[38;5;28;43mself\u001b[39;49m\u001b[38;5;241;43m.\u001b[39;49m\u001b[43m_call_impl\u001b[49m\u001b[43m(\u001b[49m\u001b[38;5;241;43m*\u001b[39;49m\u001b[43margs\u001b[49m\u001b[43m,\u001b[49m\u001b[43m \u001b[49m\u001b[38;5;241;43m*\u001b[39;49m\u001b[38;5;241;43m*\u001b[39;49m\u001b[43mkwargs\u001b[49m\u001b[43m)\u001b[49m\n",
      "File \u001b[0;32m~/miniconda3/envs/atari/lib/python3.9/site-packages/torch/nn/modules/module.py:1520\u001b[0m, in \u001b[0;36mModule._call_impl\u001b[0;34m(self, *args, **kwargs)\u001b[0m\n\u001b[1;32m   1515\u001b[0m \u001b[38;5;66;03m# If we don't have any hooks, we want to skip the rest of the logic in\u001b[39;00m\n\u001b[1;32m   1516\u001b[0m \u001b[38;5;66;03m# this function, and just call forward.\u001b[39;00m\n\u001b[1;32m   1517\u001b[0m \u001b[38;5;28;01mif\u001b[39;00m \u001b[38;5;129;01mnot\u001b[39;00m (\u001b[38;5;28mself\u001b[39m\u001b[38;5;241m.\u001b[39m_backward_hooks \u001b[38;5;129;01mor\u001b[39;00m \u001b[38;5;28mself\u001b[39m\u001b[38;5;241m.\u001b[39m_backward_pre_hooks \u001b[38;5;129;01mor\u001b[39;00m \u001b[38;5;28mself\u001b[39m\u001b[38;5;241m.\u001b[39m_forward_hooks \u001b[38;5;129;01mor\u001b[39;00m \u001b[38;5;28mself\u001b[39m\u001b[38;5;241m.\u001b[39m_forward_pre_hooks\n\u001b[1;32m   1518\u001b[0m         \u001b[38;5;129;01mor\u001b[39;00m _global_backward_pre_hooks \u001b[38;5;129;01mor\u001b[39;00m _global_backward_hooks\n\u001b[1;32m   1519\u001b[0m         \u001b[38;5;129;01mor\u001b[39;00m _global_forward_hooks \u001b[38;5;129;01mor\u001b[39;00m _global_forward_pre_hooks):\n\u001b[0;32m-> 1520\u001b[0m     \u001b[38;5;28;01mreturn\u001b[39;00m \u001b[43mforward_call\u001b[49m\u001b[43m(\u001b[49m\u001b[38;5;241;43m*\u001b[39;49m\u001b[43margs\u001b[49m\u001b[43m,\u001b[49m\u001b[43m \u001b[49m\u001b[38;5;241;43m*\u001b[39;49m\u001b[38;5;241;43m*\u001b[39;49m\u001b[43mkwargs\u001b[49m\u001b[43m)\u001b[49m\n\u001b[1;32m   1522\u001b[0m \u001b[38;5;28;01mtry\u001b[39;00m:\n\u001b[1;32m   1523\u001b[0m     result \u001b[38;5;241m=\u001b[39m \u001b[38;5;28;01mNone\u001b[39;00m\n",
      "Cell \u001b[0;32mIn[5], line 26\u001b[0m, in \u001b[0;36mPolicyNetwork.forward\u001b[0;34m(self, x)\u001b[0m\n\u001b[1;32m     25\u001b[0m \u001b[38;5;28;01mdef\u001b[39;00m \u001b[38;5;21mforward\u001b[39m(\u001b[38;5;28mself\u001b[39m, x):\n\u001b[0;32m---> 26\u001b[0m     x \u001b[38;5;241m=\u001b[39m F\u001b[38;5;241m.\u001b[39mrelu(\u001b[38;5;28;43mself\u001b[39;49m\u001b[38;5;241;43m.\u001b[39;49m\u001b[43mnorm1\u001b[49m\u001b[43m(\u001b[49m\u001b[38;5;28;43mself\u001b[39;49m\u001b[38;5;241;43m.\u001b[39;49m\u001b[43mfc1\u001b[49m\u001b[43m(\u001b[49m\u001b[43mx\u001b[49m\u001b[43m)\u001b[49m\u001b[43m)\u001b[49m)\n\u001b[1;32m     27\u001b[0m     x \u001b[38;5;241m=\u001b[39m F\u001b[38;5;241m.\u001b[39mrelu(\u001b[38;5;28mself\u001b[39m\u001b[38;5;241m.\u001b[39mnorm2(\u001b[38;5;28mself\u001b[39m\u001b[38;5;241m.\u001b[39mfc2(x)))\n\u001b[1;32m     28\u001b[0m     x \u001b[38;5;241m=\u001b[39m \u001b[38;5;28mself\u001b[39m\u001b[38;5;241m.\u001b[39mfc3(x)\n",
      "File \u001b[0;32m~/miniconda3/envs/atari/lib/python3.9/site-packages/torch/nn/modules/module.py:1511\u001b[0m, in \u001b[0;36mModule._wrapped_call_impl\u001b[0;34m(self, *args, **kwargs)\u001b[0m\n\u001b[1;32m   1509\u001b[0m     \u001b[38;5;28;01mreturn\u001b[39;00m \u001b[38;5;28mself\u001b[39m\u001b[38;5;241m.\u001b[39m_compiled_call_impl(\u001b[38;5;241m*\u001b[39margs, \u001b[38;5;241m*\u001b[39m\u001b[38;5;241m*\u001b[39mkwargs)  \u001b[38;5;66;03m# type: ignore[misc]\u001b[39;00m\n\u001b[1;32m   1510\u001b[0m \u001b[38;5;28;01melse\u001b[39;00m:\n\u001b[0;32m-> 1511\u001b[0m     \u001b[38;5;28;01mreturn\u001b[39;00m \u001b[38;5;28;43mself\u001b[39;49m\u001b[38;5;241;43m.\u001b[39;49m\u001b[43m_call_impl\u001b[49m\u001b[43m(\u001b[49m\u001b[38;5;241;43m*\u001b[39;49m\u001b[43margs\u001b[49m\u001b[43m,\u001b[49m\u001b[43m \u001b[49m\u001b[38;5;241;43m*\u001b[39;49m\u001b[38;5;241;43m*\u001b[39;49m\u001b[43mkwargs\u001b[49m\u001b[43m)\u001b[49m\n",
      "File \u001b[0;32m~/miniconda3/envs/atari/lib/python3.9/site-packages/torch/nn/modules/module.py:1520\u001b[0m, in \u001b[0;36mModule._call_impl\u001b[0;34m(self, *args, **kwargs)\u001b[0m\n\u001b[1;32m   1515\u001b[0m \u001b[38;5;66;03m# If we don't have any hooks, we want to skip the rest of the logic in\u001b[39;00m\n\u001b[1;32m   1516\u001b[0m \u001b[38;5;66;03m# this function, and just call forward.\u001b[39;00m\n\u001b[1;32m   1517\u001b[0m \u001b[38;5;28;01mif\u001b[39;00m \u001b[38;5;129;01mnot\u001b[39;00m (\u001b[38;5;28mself\u001b[39m\u001b[38;5;241m.\u001b[39m_backward_hooks \u001b[38;5;129;01mor\u001b[39;00m \u001b[38;5;28mself\u001b[39m\u001b[38;5;241m.\u001b[39m_backward_pre_hooks \u001b[38;5;129;01mor\u001b[39;00m \u001b[38;5;28mself\u001b[39m\u001b[38;5;241m.\u001b[39m_forward_hooks \u001b[38;5;129;01mor\u001b[39;00m \u001b[38;5;28mself\u001b[39m\u001b[38;5;241m.\u001b[39m_forward_pre_hooks\n\u001b[1;32m   1518\u001b[0m         \u001b[38;5;129;01mor\u001b[39;00m _global_backward_pre_hooks \u001b[38;5;129;01mor\u001b[39;00m _global_backward_hooks\n\u001b[1;32m   1519\u001b[0m         \u001b[38;5;129;01mor\u001b[39;00m _global_forward_hooks \u001b[38;5;129;01mor\u001b[39;00m _global_forward_pre_hooks):\n\u001b[0;32m-> 1520\u001b[0m     \u001b[38;5;28;01mreturn\u001b[39;00m \u001b[43mforward_call\u001b[49m\u001b[43m(\u001b[49m\u001b[38;5;241;43m*\u001b[39;49m\u001b[43margs\u001b[49m\u001b[43m,\u001b[49m\u001b[43m \u001b[49m\u001b[38;5;241;43m*\u001b[39;49m\u001b[38;5;241;43m*\u001b[39;49m\u001b[43mkwargs\u001b[49m\u001b[43m)\u001b[49m\n\u001b[1;32m   1522\u001b[0m \u001b[38;5;28;01mtry\u001b[39;00m:\n\u001b[1;32m   1523\u001b[0m     result \u001b[38;5;241m=\u001b[39m \u001b[38;5;28;01mNone\u001b[39;00m\n",
      "\u001b[0;31mKeyboardInterrupt\u001b[0m: "
     ]
    }
   ],
   "source": []
  },
  {
   "cell_type": "code",
   "execution_count": 8,
   "metadata": {},
   "outputs": [
    {
     "name": "stderr",
     "output_type": "stream",
     "text": [
      "/mnt/nfs/work/c98181/miniconda3/envs/atari/lib/python3.9/site-packages/tqdm/auto.py:21: TqdmWarning: IProgress not found. Please update jupyter and ipywidgets. See https://ipywidgets.readthedocs.io/en/stable/user_install.html\n",
      "  from .autonotebook import tqdm as notebook_tqdm\n"
     ]
    }
   ],
   "source": [
    "import numpy as np\n",
    "import gymnasium as gym\n",
    "from imitation.policies.serialize import load_policy\n",
    "from imitation.util.util import make_vec_env\n",
    "from imitation.data.wrappers import RolloutInfoWrapper\n",
    "\n",
    "env = make_vec_env(\n",
    "    \"seals:seals/CartPole-v0\",\n",
    "    rng=np.random.default_rng(),\n",
    "    post_wrappers=[\n",
    "        lambda env, _: RolloutInfoWrapper(env)\n",
    "    ],  # needed for computing rollouts later\n",
    ")\n",
    "expert = load_policy(\n",
    "    \"ppo-huggingface\",\n",
    "    organization=\"HumanCompatibleAI\",\n",
    "    env_name=\"seals/CartPole-v0\",\n",
    "    venv=env,\n",
    ")"
   ]
  },
  {
   "cell_type": "code",
   "execution_count": 9,
   "metadata": {},
   "outputs": [
    {
     "name": "stdout",
     "output_type": "stream",
     "text": [
      "500.0\n"
     ]
    }
   ],
   "source": [
    "from stable_baselines3.common.evaluation import evaluate_policy\n",
    "\n",
    "reward, _ = evaluate_policy(expert, env, 10)\n",
    "print(reward)"
   ]
  },
  {
   "cell_type": "code",
   "execution_count": 10,
   "metadata": {},
   "outputs": [],
   "source": [
    "from imitation.data import rollout, types as rtypes"
   ]
  },
  {
   "cell_type": "code",
   "execution_count": 11,
   "metadata": {},
   "outputs": [],
   "source": [
    "\n",
    "rng = np.random.default_rng()\n",
    "rollouts = rollout.rollout(\n",
    "    expert,\n",
    "    env,\n",
    "    rollout.make_sample_until(min_timesteps=None, min_episodes=50),\n",
    "    rng=rng,\n",
    ")\n",
    "transitions = rollout.flatten_trajectories(rollouts)"
   ]
  },
  {
   "cell_type": "code",
   "execution_count": 12,
   "metadata": {},
   "outputs": [
    {
     "name": "stdout",
     "output_type": "stream",
     "text": [
      "(28000, 4) (28000,)\n"
     ]
    }
   ],
   "source": [
    "print(transitions.obs.shape, transitions.acts.shape)\n",
    "my=rtypes.Transitions(obs=observations, acts=actions, dones=dones, infos=info, next_obs=next_obs)\n"
   ]
  },
  {
   "cell_type": "code",
   "execution_count": 13,
   "metadata": {},
   "outputs": [
    {
     "name": "stdout",
     "output_type": "stream",
     "text": [
      "The `rollout` function generated a list of 56 <class 'imitation.data.types.TrajectoryWithRew'>.\n",
      "After flattening, this list is turned into a <class 'imitation.data.types.Transitions'> object containing 28000 transitions.\n",
      "The transitions object contains arrays for: obs, acts, infos, next_obs, dones.\"\n",
      "\n"
     ]
    }
   ],
   "source": [
    "print(\n",
    "    f\"\"\"The `rollout` function generated a list of {len(rollouts)} {type(rollouts[0])}.\n",
    "After flattening, this list is turned into a {type(transitions)} object containing {len(transitions)} transitions.\n",
    "The transitions object contains arrays for: {', '.join(transitions.__dict__.keys())}.\"\n",
    "\"\"\"\n",
    ")\n"
   ]
  },
  {
   "cell_type": "code",
   "execution_count": 14,
   "metadata": {},
   "outputs": [
    {
     "name": "stdout",
     "output_type": "stream",
     "text": [
      "FeedForward32Policy(\n",
      "  (features_extractor): FlattenExtractor(\n",
      "    (flatten): Flatten(start_dim=1, end_dim=-1)\n",
      "  )\n",
      "  (pi_features_extractor): FlattenExtractor(\n",
      "    (flatten): Flatten(start_dim=1, end_dim=-1)\n",
      "  )\n",
      "  (vf_features_extractor): FlattenExtractor(\n",
      "    (flatten): Flatten(start_dim=1, end_dim=-1)\n",
      "  )\n",
      "  (mlp_extractor): MlpExtractor(\n",
      "    (policy_net): Sequential(\n",
      "      (0): Linear(in_features=4, out_features=32, bias=True)\n",
      "      (1): Tanh()\n",
      "      (2): Linear(in_features=32, out_features=32, bias=True)\n",
      "      (3): Tanh()\n",
      "    )\n",
      "    (value_net): Sequential(\n",
      "      (0): Linear(in_features=4, out_features=32, bias=True)\n",
      "      (1): Tanh()\n",
      "      (2): Linear(in_features=32, out_features=32, bias=True)\n",
      "      (3): Tanh()\n",
      "    )\n",
      "  )\n",
      "  (action_net): Linear(in_features=32, out_features=2, bias=True)\n",
      "  (value_net): Linear(in_features=32, out_features=1, bias=True)\n",
      ")\n"
     ]
    }
   ],
   "source": [
    "from imitation.algorithms import bc\n",
    "bc_trainer = bc.BC(\n",
    "    observation_space=env.observation_space,\n",
    "    action_space=env.action_space,\n",
    "    demonstrations=my,\n",
    "    rng=rng,\n",
    "    device=\"cpu\"\n",
    ")\n",
    "print(bc_trainer.policy)"
   ]
  },
  {
   "cell_type": "code",
   "execution_count": 15,
   "metadata": {},
   "outputs": [
    {
     "name": "stdout",
     "output_type": "stream",
     "text": [
      "Reward before training: 89.7\n"
     ]
    }
   ],
   "source": [
    "reward_before_training, _ = evaluate_policy(bc_trainer.policy, env, 10)\n",
    "print(f\"Reward before training: {reward_before_training}\")"
   ]
  },
  {
   "cell_type": "code",
   "execution_count": 16,
   "metadata": {},
   "outputs": [
    {
     "name": "stderr",
     "output_type": "stream",
     "text": [
      "0batch [00:00, ?batch/s]"
     ]
    },
    {
     "name": "stdout",
     "output_type": "stream",
     "text": [
      "---------------------------------\n",
      "| batch_size        | 32        |\n",
      "| bc/               |           |\n",
      "|    batch          | 0         |\n",
      "|    ent_loss       | -0.000693 |\n",
      "|    entropy        | 0.693     |\n",
      "|    epoch          | 0         |\n",
      "|    l2_loss        | 0         |\n",
      "|    l2_norm        | 72.5      |\n",
      "|    loss           | 0.693     |\n",
      "|    neglogp        | 0.694     |\n",
      "|    prob_true_act  | 0.5       |\n",
      "|    samples_so_far | 32        |\n",
      "---------------------------------\n"
     ]
    },
    {
     "name": "stderr",
     "output_type": "stream",
     "text": [
      "458batch [00:01, 454.20batch/s]"
     ]
    },
    {
     "name": "stdout",
     "output_type": "stream",
     "text": [
      "---------------------------------\n",
      "| batch_size        | 32        |\n",
      "| bc/               |           |\n",
      "|    batch          | 500       |\n",
      "|    ent_loss       | -0.000383 |\n",
      "|    entropy        | 0.383     |\n",
      "|    epoch          | 0         |\n",
      "|    l2_loss        | 0         |\n",
      "|    l2_norm        | 96.3      |\n",
      "|    loss           | 0.354     |\n",
      "|    neglogp        | 0.355     |\n",
      "|    prob_true_act  | 0.755     |\n",
      "|    samples_so_far | 16032     |\n",
      "---------------------------------\n"
     ]
    },
    {
     "name": "stderr",
     "output_type": "stream",
     "text": [
      "875batch [00:01, 442.08batch/s]\n"
     ]
    },
    {
     "name": "stdout",
     "output_type": "stream",
     "text": [
      "Reward after training: 9.0\n"
     ]
    }
   ],
   "source": [
    "bc_trainer.train(n_epochs=1)\n",
    "reward_after_training, _ = evaluate_policy(bc_trainer.policy, env, 10)\n",
    "print(f\"Reward after training: {reward_after_training}\")"
   ]
  },
  {
   "cell_type": "code",
   "execution_count": 33,
   "metadata": {},
   "outputs": [
    {
     "name": "stderr",
     "output_type": "stream",
     "text": [
      "100%|██████████| 10/10 [00:01<00:00,  8.70it/s]?it/s, loss=0.617]\n",
      "100%|██████████| 10/10 [00:00<00:00, 10.61it/s]:02, 14.06it/s, loss=0.534]\n",
      "100%|██████████| 10/10 [00:01<00:00,  8.68it/s]:56, 14.50it/s, loss=0.432]\n",
      "100%|██████████| 10/10 [00:01<00:00,  5.12it/s]:58, 13.93it/s, loss=0.404]\n",
      "100%|██████████| 10/10 [00:01<00:00,  5.34it/s]2:38, 10.27it/s, loss=0.357]\n",
      "100%|██████████| 10/10 [00:03<00:00,  2.98it/s]2:55,  9.10it/s, loss=0.345]\n",
      "100%|██████████| 10/10 [00:04<00:00,  2.14it/s]3:25,  7.61it/s, loss=0.228]\n",
      "100%|██████████| 10/10 [00:03<00:00,  2.85it/s]5:48,  4.40it/s, loss=0.435]\n",
      "100%|██████████| 10/10 [00:04<00:00,  2.07it/s]6:55,  3.61it/s, loss=0.315]\n",
      "100%|██████████| 10/10 [00:04<00:00,  2.06it/s]7:47,  3.14it/s, loss=0.282]\n",
      "100%|██████████| 10/10 [00:05<00:00,  1.80it/s]8:21,  2.87it/s, loss=0.235]\n",
      "100%|██████████| 10/10 [00:06<00:00,  1.63it/s]7:41,  3.05it/s, loss=0.287]\n",
      "100%|██████████| 10/10 [00:07<00:00,  1.34it/s]8:26,  2.71it/s, loss=0.486]\n",
      "100%|██████████| 10/10 [00:06<00:00,  1.59it/s]9:00,  2.48it/s, loss=0.361] \n",
      "100%|██████████| 10/10 [00:04<00:00,  2.05it/s]9:09,  2.39it/s, loss=0.429] \n",
      "100%|██████████| 10/10 [00:06<00:00,  1.62it/s]7:42,  2.77it/s, loss=0.229] \n",
      "100%|██████████| 10/10 [00:05<00:00,  1.97it/s]8:07,  2.57it/s, loss=0.236] \n",
      "100%|██████████| 10/10 [00:06<00:00,  1.44it/s]6:54,  2.94it/s, loss=0.213] \n",
      "100%|██████████| 10/10 [00:06<00:00,  1.44it/s]7:33,  2.62it/s, loss=0.414] \n",
      "100%|██████████| 10/10 [00:05<00:00,  1.69it/s]7:55,  2.43it/s, loss=0.305] \n",
      "100%|██████████| 10/10 [00:07<00:00,  1.30it/s]7:52,  2.38it/s, loss=0.739]\n",
      "100%|██████████| 10/10 [00:06<00:00,  1.56it/s]7:59,  2.28it/s, loss=0.231] \n",
      "100%|██████████| 10/10 [00:06<00:00,  1.48it/s]8:01,  2.21it/s, loss=0.4]  \n",
      "100%|██████████| 10/10 [00:07<00:00,  1.35it/s]7:53,  2.18it/s, loss=0.299]\n",
      "100%|██████████| 10/10 [00:08<00:00,  1.23it/s]7:04,  2.35it/s, loss=0.41]  \n",
      "100%|██████████| 10/10 [00:07<00:00,  1.33it/s]7:21,  2.19it/s, loss=0.286] \n",
      "100%|██████████| 10/10 [00:07<00:00,  1.41it/s]7:19,  2.13it/s, loss=0.218]\n",
      "100%|██████████| 10/10 [00:07<00:00,  1.29it/s]7:07,  2.12it/s, loss=0.276]\n",
      "100%|██████████| 10/10 [00:06<00:00,  1.44it/s]6:52,  2.12it/s, loss=0.177] \n",
      "100%|██████████| 10/10 [00:07<00:00,  1.27it/s]6:34,  2.14it/s, loss=0.397]\n",
      "100%|██████████| 10/10 [00:07<00:00,  1.28it/s]6:18,  2.15it/s, loss=0.234]\n",
      "100%|██████████| 10/10 [00:08<00:00,  1.24it/s]6:12,  2.10it/s, loss=0.244] \n",
      "100%|██████████| 10/10 [00:07<00:00,  1.28it/s]06:12,  2.01it/s, loss=0.236] \n",
      "100%|██████████| 10/10 [00:07<00:00,  1.28it/s]05:51,  2.04it/s, loss=0.267]\n",
      "100%|██████████| 10/10 [00:07<00:00,  1.31it/s]05:39,  2.03it/s, loss=0.503]\n",
      "100%|██████████| 10/10 [00:07<00:00,  1.28it/s]05:29,  1.99it/s, loss=0.198]\n",
      "100%|██████████| 10/10 [00:07<00:00,  1.27it/s]05:13,  1.99it/s, loss=0.164]\n",
      "100%|██████████| 10/10 [00:07<00:00,  1.30it/s]04:55,  2.01it/s, loss=0.327]\n",
      "100%|██████████| 10/10 [00:07<00:00,  1.26it/s]04:41,  2.00it/s, loss=0.313]\n",
      "100%|██████████| 10/10 [00:08<00:00,  1.25it/s]04:25,  2.00it/s, loss=0.609] \n",
      "100%|██████████| 10/10 [00:08<00:00,  1.24it/s]04:11,  1.99it/s, loss=0.143]\n",
      "100%|██████████| 10/10 [00:08<00:00,  1.23it/s]03:55,  1.99it/s, loss=0.189]\n",
      "100%|██████████| 10/10 [00:08<00:00,  1.25it/s]03:40,  1.98it/s, loss=0.333]\n",
      "100%|██████████| 10/10 [00:07<00:00,  1.25it/s]03:26,  1.97it/s, loss=0.253] \n",
      "100%|██████████| 10/10 [00:08<00:00,  1.24it/s]03:12,  1.95it/s, loss=0.348]\n",
      "100%|██████████| 10/10 [00:08<00:00,  1.25it/s]02:54,  1.96it/s, loss=0.185]\n",
      "100%|██████████| 10/10 [00:08<00:00,  1.24it/s]02:39,  1.96it/s, loss=0.265] \n",
      "100%|██████████| 10/10 [00:08<00:00,  1.24it/s]02:24,  1.95it/s, loss=0.295] \n",
      "100%|██████████| 10/10 [00:08<00:00,  1.24it/s]02:07,  1.95it/s, loss=0.144]\n",
      "100%|██████████| 10/10 [00:08<00:00,  1.24it/s]01:50,  1.97it/s, loss=0.0666]\n",
      "100%|██████████| 10/10 [00:08<00:00,  1.24it/s]01:35,  1.96it/s, loss=0.269] \n",
      "100%|██████████| 10/10 [00:08<00:00,  1.24it/s]01:19,  1.96it/s, loss=0.199] \n",
      "100%|██████████| 10/10 [00:08<00:00,  1.24it/s]01:03,  1.96it/s, loss=0.192] \n",
      "100%|██████████| 10/10 [00:08<00:00,  1.24it/s]00:47,  1.97it/s, loss=0.29]  \n",
      "100%|██████████| 10/10 [00:08<00:00,  1.25it/s]00:31,  1.97it/s, loss=0.082] \n",
      "100%|██████████| 10/10 [00:08<00:00,  1.24it/s]00:15,  1.97it/s, loss=0.199] \n",
      "Epoch [1/3]: 100%|██████████| 1750/1750 [12:35<00:00,  2.32it/s, loss=0.199]\n",
      "100%|██████████| 10/10 [00:08<00:00,  1.24it/s]?it/s, loss=0.21]  \n",
      "100%|██████████| 10/10 [00:08<00:00,  1.23it/s]:10,  2.02it/s, loss=0.214] \n",
      "100%|██████████| 10/10 [00:08<00:00,  1.24it/s]:15,  1.97it/s, loss=0.334] \n",
      "100%|██████████| 10/10 [00:08<00:00,  1.24it/s]:08,  1.95it/s, loss=0.179] \n",
      "100%|██████████| 10/10 [00:08<00:00,  1.24it/s]3:49,  1.96it/s, loss=0.194] \n",
      "100%|██████████| 10/10 [00:08<00:00,  1.24it/s]3:25,  1.98it/s, loss=0.211] \n",
      "100%|██████████| 10/10 [00:08<00:00,  1.23it/s]3:10,  1.98it/s, loss=0.173] \n",
      "100%|██████████| 10/10 [00:08<00:00,  1.22it/s]2:58,  1.97it/s, loss=0.278] \n",
      "100%|██████████| 10/10 [00:08<00:00,  1.24it/s]2:44,  1.96it/s, loss=0.132] \n",
      "100%|██████████| 10/10 [00:08<00:00,  1.23it/s]2:21,  1.98it/s, loss=0.193] \n",
      "100%|██████████| 10/10 [00:08<00:00,  1.24it/s]2:10,  1.97it/s, loss=0.102] \n",
      "100%|██████████| 10/10 [00:08<00:00,  1.24it/s]2:00,  1.95it/s, loss=0.15]  \n",
      "100%|██████████| 10/10 [00:08<00:00,  1.24it/s]1:52,  1.93it/s, loss=0.296] \n",
      "100%|██████████| 10/10 [00:08<00:00,  1.25it/s]1:24,  1.96it/s, loss=0.0639]\n",
      "100%|██████████| 10/10 [00:08<00:00,  1.24it/s]1:08,  1.96it/s, loss=0.272] \n",
      "100%|██████████| 10/10 [00:08<00:00,  1.24it/s]0:53,  1.96it/s, loss=0.103] \n",
      "100%|██████████| 10/10 [00:08<00:00,  1.24it/s]0:39,  1.96it/s, loss=0.105] \n",
      "100%|██████████| 10/10 [00:08<00:00,  1.22it/s]0:18,  1.97it/s, loss=0.0475]\n",
      "100%|██████████| 10/10 [00:08<00:00,  1.23it/s]0:07,  1.95it/s, loss=0.168] \n",
      "100%|██████████| 10/10 [00:08<00:00,  1.24it/s]9:52,  1.95it/s, loss=0.115] \n",
      "100%|██████████| 10/10 [00:08<00:00,  1.24it/s]9:34,  1.96it/s, loss=0.205] \n",
      "100%|██████████| 10/10 [00:08<00:00,  1.25it/s]9:13,  1.97it/s, loss=0.0189]\n",
      "100%|██████████| 10/10 [00:08<00:00,  1.24it/s]8:59,  1.97it/s, loss=0.135] \n",
      "100%|██████████| 10/10 [00:08<00:00,  1.24it/s]8:45,  1.96it/s, loss=0.113] \n",
      "100%|██████████| 10/10 [00:08<00:00,  1.24it/s]8:30,  1.96it/s, loss=0.4]   \n",
      "100%|██████████| 10/10 [00:08<00:00,  1.24it/s]8:11,  1.97it/s, loss=0.1]   \n",
      "100%|██████████| 10/10 [00:08<00:00,  1.25it/s]7:58,  1.96it/s, loss=0.0686]\n",
      "100%|██████████| 10/10 [00:08<00:00,  1.24it/s]7:42,  1.96it/s, loss=0.122]  \n",
      "100%|██████████| 10/10 [00:08<00:00,  1.23it/s]7:27,  1.95it/s, loss=0.154] \n",
      "100%|██████████| 10/10 [00:08<00:00,  1.24it/s]7:09,  1.96it/s, loss=0.0912]\n",
      "100%|██████████| 10/10 [00:08<00:00,  1.23it/s]6:56,  1.95it/s, loss=0.108] \n",
      "100%|██████████| 10/10 [00:08<00:00,  1.24it/s]6:40,  1.95it/s, loss=0.127] \n",
      "100%|██████████| 10/10 [00:08<00:00,  1.25it/s]06:25,  1.95it/s, loss=0.233] \n",
      "100%|██████████| 10/10 [00:08<00:00,  1.24it/s]06:03,  1.98it/s, loss=0.0807]\n",
      "100%|██████████| 10/10 [00:08<00:00,  1.24it/s]05:49,  1.97it/s, loss=0.117] \n",
      "100%|██████████| 10/10 [00:08<00:00,  1.24it/s]05:34,  1.96it/s, loss=0.0796] \n",
      "100%|██████████| 10/10 [00:08<00:00,  1.25it/s]05:19,  1.95it/s, loss=0.0912]\n",
      "100%|██████████| 10/10 [00:08<00:00,  1.24it/s]04:59,  1.98it/s, loss=0.102] \n",
      "100%|██████████| 10/10 [00:08<00:00,  1.25it/s]04:45,  1.97it/s, loss=0.111] \n",
      "100%|██████████| 10/10 [00:08<00:00,  1.24it/s]04:30,  1.96it/s, loss=0.0448]\n",
      "100%|██████████| 10/10 [00:08<00:00,  1.24it/s]04:17,  1.94it/s, loss=0.0916]\n",
      "100%|██████████| 10/10 [00:08<00:00,  1.23it/s]03:58,  1.96it/s, loss=0.258] \n",
      "100%|██████████| 10/10 [00:08<00:00,  1.23it/s]03:44,  1.95it/s, loss=0.158] \n",
      "100%|██████████| 10/10 [00:08<00:00,  1.24it/s]03:28,  1.95it/s, loss=0.0465] \n",
      "100%|██████████| 10/10 [00:08<00:00,  1.24it/s]03:12,  1.94it/s, loss=0.0654]\n",
      "100%|██████████| 10/10 [00:08<00:00,  1.24it/s]02:55,  1.96it/s, loss=0.0853]\n",
      "100%|██████████| 10/10 [00:08<00:00,  1.24it/s]02:39,  1.96it/s, loss=0.124] \n",
      "100%|██████████| 10/10 [00:08<00:00,  1.24it/s]02:23,  1.96it/s, loss=0.0363]\n",
      "100%|██████████| 10/10 [00:08<00:00,  1.24it/s]02:07,  1.96it/s, loss=0.112]  \n",
      "100%|██████████| 10/10 [00:08<00:00,  1.24it/s]01:50,  1.98it/s, loss=0.189] \n",
      "100%|██████████| 10/10 [00:08<00:00,  1.23it/s]01:34,  1.97it/s, loss=0.0539]\n",
      "100%|██████████| 10/10 [00:08<00:00,  1.22it/s]01:19,  1.97it/s, loss=0.0744]\n",
      "100%|██████████| 10/10 [00:08<00:00,  1.23it/s]01:03,  1.95it/s, loss=0.0767] \n",
      "100%|██████████| 10/10 [00:08<00:00,  1.24it/s]00:47,  1.98it/s, loss=0.0951]\n",
      "100%|██████████| 10/10 [00:08<00:00,  1.24it/s]00:32,  1.93it/s, loss=0.115] \n",
      "100%|██████████| 10/10 [00:08<00:00,  1.23it/s]00:16,  1.93it/s, loss=0.111] \n",
      "Epoch [2/3]: 100%|██████████| 1750/1750 [14:53<00:00,  1.96it/s, loss=0.111]\n",
      "100%|██████████| 10/10 [00:08<00:00,  1.24it/s]?it/s, loss=0.12]  \n",
      "100%|██████████| 10/10 [00:08<00:00,  1.24it/s]:16,  2.01it/s, loss=0.0788]\n",
      "100%|██████████| 10/10 [00:08<00:00,  1.24it/s]:16,  1.97it/s, loss=0.0567]\n",
      "100%|██████████| 10/10 [00:08<00:00,  1.25it/s]:09,  1.95it/s, loss=0.104] \n",
      "100%|██████████| 10/10 [00:08<00:00,  1.23it/s]3:53,  1.95it/s, loss=0.261] \n",
      "100%|██████████| 10/10 [00:08<00:00,  1.24it/s]3:30,  1.97it/s, loss=0.193]  \n",
      "100%|██████████| 10/10 [00:08<00:00,  1.23it/s]3:18,  1.96it/s, loss=0.109]  \n",
      "100%|██████████| 10/10 [00:08<00:00,  1.24it/s]3:04,  1.95it/s, loss=0.219]  \n",
      "100%|██████████| 10/10 [00:08<00:00,  1.24it/s]2:50,  1.95it/s, loss=0.0682]\n",
      "100%|██████████| 10/10 [00:08<00:00,  1.24it/s]2:25,  1.97it/s, loss=0.0904] \n",
      "100%|██████████| 10/10 [00:08<00:00,  1.25it/s]2:12,  1.96it/s, loss=0.0188] \n",
      "100%|██████████| 10/10 [00:08<00:00,  1.24it/s]1:55,  1.96it/s, loss=0.0525]\n",
      "100%|██████████| 10/10 [00:08<00:00,  1.24it/s]1:44,  1.95it/s, loss=0.101] \n",
      "100%|██████████| 10/10 [00:08<00:00,  1.24it/s]1:22,  1.97it/s, loss=0.137]  \n",
      "100%|██████████| 10/10 [00:08<00:00,  1.25it/s]1:11,  1.95it/s, loss=0.0488] \n",
      "100%|██████████| 10/10 [00:07<00:00,  1.25it/s]0:56,  1.95it/s, loss=0.155] \n",
      "100%|██████████| 10/10 [00:08<00:00,  1.24it/s]0:41,  1.95it/s, loss=0.0688] \n",
      "100%|██████████| 10/10 [00:08<00:00,  1.25it/s]0:18,  1.97it/s, loss=0.216]   \n",
      "100%|██████████| 10/10 [00:08<00:00,  1.24it/s]0:03,  1.97it/s, loss=0.0288] \n",
      "100%|██████████| 10/10 [00:08<00:00,  1.23it/s]9:49,  1.96it/s, loss=0.0231] \n",
      "100%|██████████| 10/10 [00:08<00:00,  1.24it/s]9:35,  1.96it/s, loss=0.0752]\n",
      "100%|██████████| 10/10 [00:08<00:00,  1.23it/s]9:13,  1.97it/s, loss=0.042] \n",
      "100%|██████████| 10/10 [00:08<00:00,  1.25it/s]9:01,  1.96it/s, loss=0.147] \n",
      "100%|██████████| 10/10 [00:08<00:00,  1.25it/s]8:49,  1.95it/s, loss=0.0636] \n",
      "100%|██████████| 10/10 [00:08<00:00,  1.24it/s]8:35,  1.94it/s, loss=0.0224] \n",
      "100%|██████████| 10/10 [00:08<00:00,  1.24it/s]8:18,  1.94it/s, loss=0.0663] \n",
      "100%|██████████| 10/10 [00:08<00:00,  1.25it/s]8:05,  1.93it/s, loss=0.055] \n",
      "100%|██████████| 10/10 [00:08<00:00,  1.24it/s]7:48,  1.93it/s, loss=0.168] \n",
      "100%|██████████| 10/10 [00:08<00:00,  1.23it/s]7:31,  1.94it/s, loss=0.0741]\n",
      "100%|██████████| 10/10 [00:08<00:00,  1.23it/s]7:11,  1.95it/s, loss=0.113] \n",
      "100%|██████████| 10/10 [00:08<00:00,  1.23it/s]6:56,  1.95it/s, loss=0.167] \n",
      "100%|██████████| 10/10 [00:08<00:00,  1.24it/s]6:40,  1.95it/s, loss=0.0741] \n",
      "100%|██████████| 10/10 [00:08<00:00,  1.24it/s]06:24,  1.95it/s, loss=0.0301]\n",
      "100%|██████████| 10/10 [00:08<00:00,  1.24it/s]06:03,  1.98it/s, loss=0.0443] \n",
      "100%|██████████| 10/10 [00:08<00:00,  1.24it/s]05:48,  1.97it/s, loss=0.0339] \n",
      "100%|██████████| 10/10 [00:08<00:00,  1.23it/s]05:35,  1.95it/s, loss=0.022] \n",
      "100%|██████████| 10/10 [00:08<00:00,  1.24it/s]05:22,  1.94it/s, loss=0.0646]\n",
      "100%|██████████| 10/10 [00:08<00:00,  1.24it/s]05:02,  1.96it/s, loss=0.0296] \n",
      "100%|██████████| 10/10 [00:08<00:00,  1.24it/s]04:46,  1.96it/s, loss=0.0322]  \n",
      "100%|██████████| 10/10 [00:08<00:00,  1.24it/s]04:31,  1.95it/s, loss=0.0465] \n",
      "100%|██████████| 10/10 [00:08<00:00,  1.22it/s]04:16,  1.95it/s, loss=0.0395] \n",
      "100%|██████████| 10/10 [00:08<00:00,  1.25it/s]03:59,  1.95it/s, loss=0.0688] \n",
      "100%|██████████| 10/10 [00:08<00:00,  1.24it/s]03:45,  1.94it/s, loss=0.0454] \n",
      "100%|██████████| 10/10 [00:08<00:00,  1.24it/s]03:28,  1.94it/s, loss=0.0998]\n",
      "100%|██████████| 10/10 [00:08<00:00,  1.24it/s]03:12,  1.95it/s, loss=0.0247] \n",
      "100%|██████████| 10/10 [00:08<00:00,  1.24it/s]02:54,  1.97it/s, loss=0.0848] \n",
      "100%|██████████| 10/10 [00:08<00:00,  1.24it/s]02:38,  1.96it/s, loss=0.0757] \n",
      "100%|██████████| 10/10 [00:08<00:00,  1.24it/s]02:22,  1.97it/s, loss=0.161]  \n",
      "100%|██████████| 10/10 [00:08<00:00,  1.24it/s]02:07,  1.96it/s, loss=0.204]  \n",
      "100%|██████████| 10/10 [00:08<00:00,  1.23it/s]01:49,  1.98it/s, loss=0.252] \n",
      "100%|██████████| 10/10 [00:08<00:00,  1.24it/s]01:34,  1.98it/s, loss=0.0424] \n",
      "100%|██████████| 10/10 [00:08<00:00,  1.24it/s]01:19,  1.97it/s, loss=0.0367] \n",
      "100%|██████████| 10/10 [00:08<00:00,  1.24it/s]01:04,  1.95it/s, loss=0.115]  \n",
      "100%|██████████| 10/10 [00:08<00:00,  1.24it/s]00:47,  1.96it/s, loss=0.0363]\n",
      "100%|██████████| 10/10 [00:08<00:00,  1.24it/s]00:31,  1.96it/s, loss=0.0516]\n",
      "100%|██████████| 10/10 [00:08<00:00,  1.24it/s]00:15,  1.95it/s, loss=0.0376] \n",
      "Epoch [3/3]: 100%|██████████| 1750/1750 [14:54<00:00,  1.96it/s, loss=0.0376]\n"
     ]
    }
   ],
   "source": [
    "# show line number below\n",
    "from stable_baselines3.common.env_util import make_vec_env as make_vec_env_sb3\n",
    "\n",
    "policy_network = PolicyNetwork(\n",
    "    4, 2).to(device)\n",
    "# nn init kaiming\n",
    "# torch.nn.init.kaiming_normal_(policy_network.fc1.weight)\n",
    "# torch.nn.init.kaiming_normal_(policy_network.fc2.weight)\n",
    "# torch.nn.init.kaiming_normal_(policy_network.fc3.weight)\n",
    "\n",
    "# build training set and validation set\n",
    "train_size = int(1* len(observations))\n",
    "train_observations = observations[:train_size]\n",
    "train_actions = actions[:train_size]\n",
    "# val_observations = observations[train_size:]\n",
    "# val_actions = actions[train_size:]\n",
    "\n",
    "# build dataset\n",
    "train_dataset = CustomDataset(observations, actions)\n",
    "# val_dataset = CustomDataset(val_observations, val_actions)\n",
    "env = make_vec_env_sb3(env_id, n_envs=1)\n",
    "\n",
    "optimizer = torch.optim.Adam(policy_network.parameters(), lr=0.0017601048183920826,weight_decay=2.350251568550711e-5,eps=1e-8)\n",
    "\n",
    "\n",
    "# Training loop\n",
    "num_epochs = 1\n",
    "batch_size = 16\n",
    "\n",
    "train_dataloader = DataLoader(train_dataset , batch_size=batch_size, shuffle=True)\n",
    "# val_dataloader = DataLoader(val_dataset , batch_size=batch_size, shuffle=True)\n",
    "loss_func = nn.CrossEntropyLoss()\n",
    "log_interval = 500\n",
    "now_log=0\n",
    "\n",
    "graph=[]\n",
    "eval_rewards=[]\n",
    "for epoch in range(num_epochs):\n",
    "\n",
    "    policy_network.train()\n",
    "\n",
    "    # Compute the log probabilities of the actions\n",
    "    pbar=tqdm(train_dataloader,position=0,leave=True)\n",
    "    loss_record=[]\n",
    "    now_log=0\n",
    "    for step, (obs_batch,act_batch) in enumerate(pbar):\n",
    "        now_log+=obs_batch.shape[0]\n",
    "        \n",
    "        logits = policy_network(obs_batch)\n",
    "        # cross entropy\n",
    "        loss=loss_func(logits, act_batch.long())\n",
    "        \n",
    "        # Optimize the policy\n",
    "        optimizer.zero_grad()\n",
    "\n",
    "        loss.backward()\n",
    "        optimizer.step()\n",
    "\n",
    "        pbar.set_description((f\"Epoch [{epoch+1}/{num_epochs}]\"))\n",
    "        pbar.set_postfix({\"loss\":loss.detach().item()})\n",
    "\n",
    "\n",
    "        #scheduler\n",
    "\n",
    "        graph.append(loss.detach().item())\n",
    "        if now_log>=log_interval:\n",
    "            now_log-=log_interval\n",
    "            policy_network.eval()  # 切换到评估模式\n",
    "\n",
    "            \n",
    "            # test ten times\n",
    "            total_reward=0\n",
    "            num_test = 10\n",
    "            for _ in tqdm(range(num_test)):\n",
    "                state = env.reset()\n",
    "                done = False\n",
    "                \n",
    "                # test the policy and save as gif\n",
    "                frames = []\n",
    "                while not done:\n",
    "                    state_tensor = torch.tensor(state, dtype=torch.float32).to(device)\n",
    "                    # print(state_tensor.shape)\n",
    "                    with torch.no_grad():\n",
    "                        pred= policy_network(state_tensor)\n",
    "                        action = torch.argmax(pred).cpu().numpy()\n",
    "                        \n",
    "                    state, reward, done, _ = env.step([action])  # 执行动作\n",
    "                    total_reward += reward\n",
    "                    frame = env.render(mode=\"rgb_array\")  # 获取当前环境的图像\n",
    "                    frames.append(frame)  # 添加到帧列表中\n",
    "\n",
    "                # 保存为GIF\n",
    "                \n",
    "\n",
    "\n",
    "            image_path = f\"eval_{step+1}.gif\"\n",
    "            imageio.mimsave(\"/mnt/nfs/work/c98181/RL/result/test/gif/\"+image_path, frames)  # duration控制帧切换的速度\n",
    "\n",
    "\n",
    "            \n",
    "            # print(total_reward/num_test)\n",
    "                \n",
    "            eval_rewards.append(total_reward/num_test)\n",
    "\n",
    "            policy_network.train()      \n",
    "env.close()\n",
    "\n",
    "    \n"
   ]
  },
  {
   "cell_type": "code",
   "execution_count": null,
   "metadata": {},
   "outputs": [
    {
     "data": {
      "image/png": "[encoded data removed]",
      "text/plain": [
       "<Figure size 640x480 with 1 Axes>"
      ]
     },
     "metadata": {},
     "output_type": "display_data"
    },
    {
     "data": {
      "image/png": "[encoded data removed]",
      "text/plain": [
       "<Figure size 640x480 with 1 Axes>"
      ]
     },
     "metadata": {},
     "output_type": "display_data"
    }
   ],
   "source": [
    "# draw the loss graph\n",
    "import matplotlib.pyplot as plt\n",
    "plt.plot(graph)\n",
    "plt.xlabel(\"step\")\n",
    "plt.ylabel(\"Loss\")\n",
    "plt.title(\"Loss vs Epoch\")\n",
    "plt.show()\n",
    "\n",
    "# draw the reward graph\n",
    "plt.plot(eval_rewards)\n",
    "plt.xlabel(\"step\")\n",
    "plt.ylabel(\"Reward\")\n",
    "plt.title(\"Reward vs Epoch\")\n",
    "plt.show()\n",
    "\n",
    "\n"
   ]
  }
 ],
 "metadata": {
  "kernelspec": {
   "display_name": "atari",
   "language": "python",
   "name": "python3"
  },
  "language_info": {
   "codemirror_mode": {
    "name": "ipython",
    "version": 3
   },
   "file_extension": ".py",
   "mimetype": "text/x-python",
   "name": "python",
   "nbconvert_exporter": "python",
   "pygments_lexer": "ipython3",
   "version": "3.9.19"
  }
 },
 "nbformat": 4,
 "nbformat_minor": 2
}
