{
 "cells": [
  {
   "cell_type": "code",
   "execution_count": 1,
   "metadata": {},
   "outputs": [],
   "source": [
    "import gymnasium as gym\n",
    "import numpy as np\n",
    "from copy import deepcopy\n",
    "import torch\n",
    "from torch.distributions import Normal\n",
    "import numpy as np\n",
    "import torch.nn as nn\n",
    "import torch.nn.functional as F\n",
    "from torch.distributions import Categorical\n",
    "from torch.utils.data import Dataset, DataLoader\n",
    "from stable_baselines3.common.vec_env import VecVideoRecorder, DummyVecEnv\n",
    "import imageio\n",
    "import pandas as pd\n",
    "from tqdm import tqdm\n",
    "from PIL import Image\n",
    "from stable_baselines3.dqn.policies import MlpPolicy\n",
    "import matplotlib.pyplot as plt\n"
   ]
  },
  {
   "cell_type": "code",
   "execution_count": 2,
   "metadata": {},
   "outputs": [
    {
     "data": {
      "text/plain": [
       "7"
      ]
     },
     "execution_count": 2,
     "metadata": {},
     "output_type": "execute_result"
    }
   ],
   "source": [
    "import gc\n",
    "gc.collect()"
   ]
  },
  {
   "cell_type": "code",
   "execution_count": 3,
   "metadata": {},
   "outputs": [
    {
     "name": "stdout",
     "output_type": "stream",
     "text": [
      "Sat Apr 13 22:29:54 2024       \n",
      "+---------------------------------------------------------------------------------------+\n",
      "| NVIDIA-SMI 545.23.06              Driver Version: 545.23.06    CUDA Version: 12.3     |\n",
      "|-----------------------------------------+----------------------+----------------------+\n",
      "| GPU  Name                 Persistence-M | Bus-Id        Disp.A | Volatile Uncorr. ECC |\n",
      "| Fan  Temp   Perf          Pwr:Usage/Cap |         Memory-Usage | GPU-Util  Compute M. |\n",
      "|                                         |                      |               MIG M. |\n",
      "|=========================================+======================+======================|\n",
      "|   0  NVIDIA GeForce GTX 1080 Ti     On  | 00000000:01:00.0 Off |                  N/A |\n",
      "|  0%   41C    P8              16W / 250W |    968MiB / 11264MiB |      0%      Default |\n",
      "|                                         |                      |                  N/A |\n",
      "+-----------------------------------------+----------------------+----------------------+\n",
      "                                                                                         \n",
      "+---------------------------------------------------------------------------------------+\n",
      "| Processes:                                                                            |\n",
      "|  GPU   GI   CI        PID   Type   Process name                            GPU Memory |\n",
      "|        ID   ID                                                             Usage      |\n",
      "|=======================================================================================|\n",
      "|    0   N/A  N/A    147318      C   ...iu/miniconda3/envs/myenv/bin/python      194MiB |\n",
      "|    0   N/A  N/A    663739      C   ...iu/miniconda3/envs/myenv/bin/python      192MiB |\n",
      "|    0   N/A  N/A    725751      C   ...iu/miniconda3/envs/myenv/bin/python      192MiB |\n",
      "|    0   N/A  N/A   1370793      C   ...81/miniconda3/envs/atari/bin/python      192MiB |\n",
      "|    0   N/A  N/A   1378106      C   ...81/miniconda3/envs/atari/bin/python      194MiB |\n",
      "+---------------------------------------------------------------------------------------+\n"
     ]
    },
    {
     "data": {
      "text/plain": [
       "device(type='cuda')"
      ]
     },
     "execution_count": 3,
     "metadata": {},
     "output_type": "execute_result"
    }
   ],
   "source": [
    "!nvidia-smi\n",
    "\n",
    "# clean up memory forcefully\n",
    "torch.cuda.empty_cache()\n",
    "torch.cuda.memory_summary(device=None, abbreviated=False)\n",
    "\n",
    "device = torch.device(\"cuda\" if torch.cuda.is_available() else \"cpu\")\n",
    "device\n",
    "\n",
    "\n",
    "\n"
   ]
  },
  {
   "cell_type": "code",
   "execution_count": 4,
   "metadata": {},
   "outputs": [
    {
     "name": "stdout",
     "output_type": "stream",
     "text": [
      "Using device: cuda\n"
     ]
    }
   ],
   "source": [
    "\n",
    "device = torch.device(\"cuda\" if torch.cuda.is_available() else \"cpu\")\n",
    "print(f\"Using device: {device}\")\n",
    "class CustomDataset(Dataset):\n",
    "    def __init__(self, observations, actions):\n",
    "        self.observations = torch.tensor(observations, dtype=torch.float32,device=device)\n",
    "        self.actions = torch.tensor(actions, dtype=torch.float32,device=device)\n",
    "\n",
    "    def __len__(self):\n",
    "        return len(self.observations)\n",
    "\n",
    "    def __getitem__(self, idx):\n",
    "        observation = self.observations[idx]\n",
    "        action = self.actions[idx]\n",
    "        return observation, action\n",
    "\n",
    "class PolicyNetwork(nn.Module):\n",
    "    def __init__(self, input_dim, output_dim):\n",
    "        super(PolicyNetwork, self).__init__()\n",
    "        self.fc1 = nn.Linear(input_dim, 32)\n",
    "        self.norm1 = nn.LayerNorm(32)\n",
    "        self.fc2 = nn.Linear(32, 32)\n",
    "        self.norm2 = nn.LayerNorm(32)\n",
    "        self.fc3 = nn.Linear(32, output_dim)\n",
    "\n",
    "    def forward(self, x):\n",
    "        x = F.relu(self.norm1(self.fc1(x)))\n",
    "        x = F.relu(self.norm2(self.fc2(x)))\n",
    "        # x = F.relu(self.fc1(x))\n",
    "        # x = F.relu(self.fc2(x))\n",
    "        x = self.fc3(x)\n",
    "        return x\n",
    "\n",
    "    "
   ]
  },
  {
   "cell_type": "code",
   "execution_count": 10,
   "metadata": {},
   "outputs": [
    {
     "name": "stdout",
     "output_type": "stream",
     "text": [
      "(500000, 2) (500000,) (500000,) (500000,) (500000,) (500000, 2)\n",
      "[-0.43945786  0.        ] 0 -1.0 False {'TimeLimit.truncated': False} [-0.44108224 -0.00162438]\n",
      "3\n",
      "2\n"
     ]
    }
   ],
   "source": [
    "from stable_baselines3.common.env_util import make_vec_env as make_vec_env_sb3\n",
    "env_id=\"MountainCar-v0\"\n",
    "#env = make_vec_env_sb3(env_id, n_envs=1)\n",
    "observations= np.load(\"../dataset/obs.npy\", allow_pickle=True)\n",
    "actions = np.load(\"../dataset/actions.npy\", allow_pickle=True)\n",
    "rewards = np.load(\"../dataset/rewards.npy\", allow_pickle=True)\n",
    "dones = np.load(\"../dataset/dones.npy\", allow_pickle=True)\n",
    "info = np.load(\"../dataset/info.npy\", allow_pickle=True)\n",
    "next_obs = np.load(\"../dataset/next_obs.npy\", allow_pickle=True)\n",
    "observations=observations.squeeze()\n",
    "actions=actions.squeeze()\n",
    "rewards=rewards.squeeze()\n",
    "dones=dones.squeeze()\n",
    "info=info.squeeze()\n",
    "next_obs=next_obs.squeeze()\n",
    "# observations = observations[:1000]\n",
    "# actions = actions[:1000]\n",
    "print(observations.shape, actions.shape, rewards.shape, dones.shape, info.shape, next_obs.shape)\n",
    "print(observations[0], actions[0], rewards[0], dones[0], info[0], next_obs[0])\n",
    "env = make_vec_env_sb3(env_id, n_envs=1)\n",
    "\n",
    "print(env.action_space.n)\n",
    "print(env.observation_space.shape[0])"
   ]
  },
  {
   "cell_type": "code",
   "execution_count": 11,
   "metadata": {},
   "outputs": [],
   "source": [
    "class mydataset(Dataset):\n",
    "    def __init__(self, observations, actions):\n",
    "        self.observations = torch.tensor(observations, dtype=torch.float32).to(device)\n",
    "        self.actions = torch.tensor(actions, dtype=torch.float32).to(device)\n",
    "\n",
    "    def __len__(self):\n",
    "        return len(self.observations)\n",
    "\n",
    "    def __getitem__(self, idx):\n",
    "        observation = self.observations[idx]\n",
    "        action = self.actions[idx]\n",
    "        return observation, action"
   ]
  },
  {
   "cell_type": "code",
   "execution_count": 12,
   "metadata": {},
   "outputs": [
    {
     "name": "stderr",
     "output_type": "stream",
     "text": [
      "Epoch [1/1]:   1%|          | 31/3907 [00:00<00:25, 154.67it/s, loss=0.792]/tmp/ipykernel_954097/938292622.py:71: UserWarning: Creating a tensor from a list of numpy.ndarrays is extremely slow. Please consider converting the list to a single numpy.ndarray with numpy.array() before converting to a tensor. (Triggered internally at /opt/conda/conda-bld/pytorch_1708025847094/work/torch/csrc/utils/tensor_new.cpp:275.)\n",
      "  state_tensor = torch.tensor([state], dtype=torch.float32).to(device)\n",
      "Epoch [1/1]:   1%|▏         | 49/3907 [00:05<09:27,  6.80it/s, loss=0.73]  "
     ]
    },
    {
     "name": "stdout",
     "output_type": "stream",
     "text": [
      "[-200.]\n"
     ]
    },
    {
     "name": "stderr",
     "output_type": "stream",
     "text": [
      "Epoch [1/1]:   3%|▎         | 113/3907 [00:11<05:32, 11.42it/s, loss=0.701]"
     ]
    },
    {
     "name": "stdout",
     "output_type": "stream",
     "text": [
      "[-200.]\n"
     ]
    },
    {
     "name": "stderr",
     "output_type": "stream",
     "text": [
      "Epoch [1/1]:   3%|▎         | 129/3907 [00:16<08:52,  7.10it/s, loss=0.788]"
     ]
    },
    {
     "name": "stdout",
     "output_type": "stream",
     "text": [
      "[-200.]\n"
     ]
    },
    {
     "name": "stderr",
     "output_type": "stream",
     "text": [
      "Epoch [1/1]:   5%|▍         | 190/3907 [00:21<06:02, 10.26it/s, loss=0.673]"
     ]
    },
    {
     "name": "stdout",
     "output_type": "stream",
     "text": [
      "[-200.]\n"
     ]
    },
    {
     "name": "stderr",
     "output_type": "stream",
     "text": [
      "Epoch [1/1]:   5%|▌         | 206/3907 [00:26<08:51,  6.97it/s, loss=0.615]"
     ]
    },
    {
     "name": "stdout",
     "output_type": "stream",
     "text": [
      "[-200.]\n"
     ]
    },
    {
     "name": "stderr",
     "output_type": "stream",
     "text": [
      "Epoch [1/1]:   7%|▋         | 268/3907 [00:31<06:03, 10.00it/s, loss=0.556]"
     ]
    },
    {
     "name": "stdout",
     "output_type": "stream",
     "text": [
      "[-200.]\n"
     ]
    },
    {
     "name": "stderr",
     "output_type": "stream",
     "text": [
      "Epoch [1/1]:   7%|▋         | 284/3907 [00:36<08:39,  6.97it/s, loss=0.528]"
     ]
    },
    {
     "name": "stdout",
     "output_type": "stream",
     "text": [
      "[-200.]\n"
     ]
    },
    {
     "name": "stderr",
     "output_type": "stream",
     "text": [
      "Epoch [1/1]:   9%|▉         | 347/3907 [00:41<05:52, 10.09it/s, loss=0.448]"
     ]
    },
    {
     "name": "stdout",
     "output_type": "stream",
     "text": [
      "[-200.]\n"
     ]
    },
    {
     "name": "stderr",
     "output_type": "stream",
     "text": [
      "Epoch [1/1]:   9%|▉         | 363/3907 [00:46<08:19,  7.10it/s, loss=0.362]"
     ]
    },
    {
     "name": "stdout",
     "output_type": "stream",
     "text": [
      "[-197.2]\n"
     ]
    },
    {
     "name": "stderr",
     "output_type": "stream",
     "text": [
      "Epoch [1/1]:  11%|█         | 425/3907 [00:51<05:33, 10.45it/s, loss=0.288]"
     ]
    },
    {
     "name": "stdout",
     "output_type": "stream",
     "text": [
      "[-160.6]\n"
     ]
    },
    {
     "name": "stderr",
     "output_type": "stream",
     "text": [
      "Epoch [1/1]:  11%|█▏        | 441/3907 [00:55<07:28,  7.73it/s, loss=0.212]"
     ]
    },
    {
     "name": "stdout",
     "output_type": "stream",
     "text": [
      "[-149.5]\n"
     ]
    },
    {
     "name": "stderr",
     "output_type": "stream",
     "text": [
      "Epoch [1/1]:  13%|█▎        | 502/3907 [00:59<04:34, 12.41it/s, loss=0.317]"
     ]
    },
    {
     "name": "stdout",
     "output_type": "stream",
     "text": [
      "[-139.3]\n"
     ]
    },
    {
     "name": "stderr",
     "output_type": "stream",
     "text": [
      "Epoch [1/1]:  13%|█▎        | 518/3907 [01:03<06:38,  8.51it/s, loss=0.284]"
     ]
    },
    {
     "name": "stdout",
     "output_type": "stream",
     "text": [
      "[-132.8]\n"
     ]
    },
    {
     "name": "stderr",
     "output_type": "stream",
     "text": [
      "Epoch [1/1]:  15%|█▍        | 582/3907 [01:06<04:03, 13.64it/s, loss=0.321]"
     ]
    },
    {
     "name": "stdout",
     "output_type": "stream",
     "text": [
      "[-145.6]\n"
     ]
    },
    {
     "name": "stderr",
     "output_type": "stream",
     "text": [
      "Epoch [1/1]:  15%|█▌        | 598/3907 [01:09<05:10, 10.67it/s, loss=0.215]"
     ]
    },
    {
     "name": "stdout",
     "output_type": "stream",
     "text": [
      "[-120.6]\n"
     ]
    },
    {
     "name": "stderr",
     "output_type": "stream",
     "text": [
      "Epoch [1/1]:  17%|█▋        | 659/3907 [01:12<03:32, 15.32it/s, loss=0.204]"
     ]
    },
    {
     "name": "stdout",
     "output_type": "stream",
     "text": [
      "[-127.6]\n"
     ]
    },
    {
     "name": "stderr",
     "output_type": "stream",
     "text": [
      "Epoch [1/1]:  17%|█▋        | 675/3907 [01:17<05:41,  9.46it/s, loss=0.331]"
     ]
    },
    {
     "name": "stdout",
     "output_type": "stream",
     "text": [
      "[-142.3]\n"
     ]
    },
    {
     "name": "stderr",
     "output_type": "stream",
     "text": [
      "Epoch [1/1]:  19%|█▉        | 739/3907 [01:20<03:31, 15.00it/s, loss=0.186]"
     ]
    },
    {
     "name": "stdout",
     "output_type": "stream",
     "text": [
      "[-120.3]\n"
     ]
    },
    {
     "name": "stderr",
     "output_type": "stream",
     "text": [
      "Epoch [1/1]:  19%|█▉        | 756/3907 [01:22<04:33, 11.53it/s, loss=0.198]"
     ]
    },
    {
     "name": "stdout",
     "output_type": "stream",
     "text": [
      "[-115.2]\n"
     ]
    },
    {
     "name": "stderr",
     "output_type": "stream",
     "text": [
      "Epoch [1/1]:  21%|██        | 812/3907 [01:25<03:17, 15.64it/s, loss=0.274]"
     ]
    },
    {
     "name": "stdout",
     "output_type": "stream",
     "text": [
      "[-114.8]\n"
     ]
    },
    {
     "name": "stderr",
     "output_type": "stream",
     "text": [
      "Epoch [1/1]:  21%|██        | 827/3907 [01:28<04:16, 12.02it/s, loss=0.214]"
     ]
    },
    {
     "name": "stdout",
     "output_type": "stream",
     "text": [
      "[-113.5]\n"
     ]
    },
    {
     "name": "stderr",
     "output_type": "stream",
     "text": [
      "Epoch [1/1]:  23%|██▎       | 891/3907 [01:31<02:49, 17.78it/s, loss=0.197]"
     ]
    },
    {
     "name": "stdout",
     "output_type": "stream",
     "text": [
      "[-107.]\n"
     ]
    },
    {
     "name": "stderr",
     "output_type": "stream",
     "text": [
      "Epoch [1/1]:  23%|██▎       | 906/3907 [01:35<05:01,  9.97it/s, loss=0.293]"
     ]
    },
    {
     "name": "stdout",
     "output_type": "stream",
     "text": [
      "[-117.9]\n"
     ]
    },
    {
     "name": "stderr",
     "output_type": "stream",
     "text": [
      "Epoch [1/1]:  25%|██▍       | 967/3907 [01:38<03:14, 15.10it/s, loss=0.268] "
     ]
    },
    {
     "name": "stdout",
     "output_type": "stream",
     "text": [
      "[-122.]\n"
     ]
    },
    {
     "name": "stderr",
     "output_type": "stream",
     "text": [
      "Epoch [1/1]:  26%|██▌       | 1015/3907 [01:42<03:15, 14.81it/s, loss=0.24]"
     ]
    },
    {
     "name": "stdout",
     "output_type": "stream",
     "text": [
      "[-121.9]\n"
     ]
    },
    {
     "name": "stderr",
     "output_type": "stream",
     "text": [
      "Epoch [1/1]:  26%|██▋       | 1032/3907 [01:45<04:16, 11.22it/s, loss=0.155] "
     ]
    },
    {
     "name": "stdout",
     "output_type": "stream",
     "text": [
      "[-118.4]\n"
     ]
    },
    {
     "name": "stderr",
     "output_type": "stream",
     "text": [
      "Epoch [1/1]:  28%|██▊       | 1089/3907 [01:47<02:44, 17.16it/s, loss=0.122]"
     ]
    },
    {
     "name": "stdout",
     "output_type": "stream",
     "text": [
      "[-100.6]\n"
     ]
    },
    {
     "name": "stderr",
     "output_type": "stream",
     "text": [
      "Epoch [1/1]:  28%|██▊       | 1106/3907 [01:50<03:32, 13.19it/s, loss=0.215]"
     ]
    },
    {
     "name": "stdout",
     "output_type": "stream",
     "text": [
      "[-110.6]\n"
     ]
    },
    {
     "name": "stderr",
     "output_type": "stream",
     "text": [
      "Epoch [1/1]:  30%|██▉       | 1165/3907 [01:55<03:12, 14.23it/s, loss=0.235]"
     ]
    },
    {
     "name": "stdout",
     "output_type": "stream",
     "text": [
      "[-128.4]\n"
     ]
    },
    {
     "name": "stderr",
     "output_type": "stream",
     "text": [
      "Epoch [1/1]:  30%|███       | 1181/3907 [01:59<04:57,  9.17it/s, loss=0.127] "
     ]
    },
    {
     "name": "stdout",
     "output_type": "stream",
     "text": [
      "[-113.9]\n"
     ]
    },
    {
     "name": "stderr",
     "output_type": "stream",
     "text": [
      "Epoch [1/1]:  32%|███▏      | 1245/3907 [02:02<02:59, 14.85it/s, loss=0.183]"
     ]
    },
    {
     "name": "stdout",
     "output_type": "stream",
     "text": [
      "[-121.9]\n"
     ]
    },
    {
     "name": "stderr",
     "output_type": "stream",
     "text": [
      "Epoch [1/1]:  32%|███▏      | 1261/3907 [02:05<03:53, 11.33it/s, loss=0.263]"
     ]
    },
    {
     "name": "stdout",
     "output_type": "stream",
     "text": [
      "[-114.3]\n"
     ]
    },
    {
     "name": "stderr",
     "output_type": "stream",
     "text": [
      "Epoch [1/1]:  34%|███▍      | 1322/3907 [02:07<02:31, 17.03it/s, loss=0.106]"
     ]
    },
    {
     "name": "stdout",
     "output_type": "stream",
     "text": [
      "[-113.3]\n"
     ]
    },
    {
     "name": "stderr",
     "output_type": "stream",
     "text": [
      "Epoch [1/1]:  34%|███▍      | 1338/3907 [02:10<03:29, 12.26it/s, loss=0.189]"
     ]
    },
    {
     "name": "stdout",
     "output_type": "stream",
     "text": [
      "[-121.2]\n"
     ]
    },
    {
     "name": "stderr",
     "output_type": "stream",
     "text": [
      "Epoch [1/1]:  36%|███▌      | 1402/3907 [02:13<02:14, 18.58it/s, loss=0.224] "
     ]
    },
    {
     "name": "stdout",
     "output_type": "stream",
     "text": [
      "[-129.9]\n"
     ]
    },
    {
     "name": "stderr",
     "output_type": "stream",
     "text": [
      "Epoch [1/1]:  36%|███▋      | 1418/3907 [02:15<03:01, 13.74it/s, loss=0.232]"
     ]
    },
    {
     "name": "stdout",
     "output_type": "stream",
     "text": [
      "[-108.8]\n"
     ]
    },
    {
     "name": "stderr",
     "output_type": "stream",
     "text": [
      "Epoch [1/1]:  38%|███▊      | 1480/3907 [02:18<02:09, 18.75it/s, loss=0.263] "
     ]
    },
    {
     "name": "stdout",
     "output_type": "stream",
     "text": [
      "[-115.7]\n"
     ]
    },
    {
     "name": "stderr",
     "output_type": "stream",
     "text": [
      "Epoch [1/1]:  38%|███▊      | 1496/3907 [02:20<02:55, 13.76it/s, loss=0.175]"
     ]
    },
    {
     "name": "stdout",
     "output_type": "stream",
     "text": [
      "[-104.]\n"
     ]
    },
    {
     "name": "stderr",
     "output_type": "stream",
     "text": [
      "Epoch [1/1]:  40%|███▉      | 1559/3907 [02:24<02:24, 16.30it/s, loss=0.125] "
     ]
    },
    {
     "name": "stdout",
     "output_type": "stream",
     "text": [
      "[-109.7]\n"
     ]
    },
    {
     "name": "stderr",
     "output_type": "stream",
     "text": [
      "Epoch [1/1]:  40%|████      | 1576/3907 [02:29<03:54,  9.93it/s, loss=0.115] "
     ]
    },
    {
     "name": "stdout",
     "output_type": "stream",
     "text": [
      "[-122.1]\n"
     ]
    },
    {
     "name": "stderr",
     "output_type": "stream",
     "text": [
      "Epoch [1/1]:  42%|████▏     | 1636/3907 [02:32<02:30, 15.11it/s, loss=0.206] "
     ]
    },
    {
     "name": "stdout",
     "output_type": "stream",
     "text": [
      "[-110.]\n"
     ]
    },
    {
     "name": "stderr",
     "output_type": "stream",
     "text": [
      "Epoch [1/1]:  42%|████▏     | 1652/3907 [02:35<03:18, 11.38it/s, loss=0.151] "
     ]
    },
    {
     "name": "stdout",
     "output_type": "stream",
     "text": [
      "[-106.1]\n"
     ]
    },
    {
     "name": "stderr",
     "output_type": "stream",
     "text": [
      "Epoch [1/1]:  44%|████▍     | 1711/3907 [02:37<02:15, 16.22it/s, loss=0.208] "
     ]
    },
    {
     "name": "stdout",
     "output_type": "stream",
     "text": [
      "[-111.5]\n"
     ]
    },
    {
     "name": "stderr",
     "output_type": "stream",
     "text": [
      "Epoch [1/1]:  44%|████▍     | 1726/3907 [02:40<02:53, 12.59it/s, loss=0.181]"
     ]
    },
    {
     "name": "stdout",
     "output_type": "stream",
     "text": [
      "[-111.3]\n"
     ]
    },
    {
     "name": "stderr",
     "output_type": "stream",
     "text": [
      "Epoch [1/1]:  46%|████▌     | 1793/3907 [02:43<01:51, 19.00it/s, loss=0.205]"
     ]
    },
    {
     "name": "stdout",
     "output_type": "stream",
     "text": [
      "[-100.3]\n"
     ]
    },
    {
     "name": "stderr",
     "output_type": "stream",
     "text": [
      "Epoch [1/1]:  46%|████▋     | 1809/3907 [02:45<02:36, 13.39it/s, loss=0.167]"
     ]
    },
    {
     "name": "stdout",
     "output_type": "stream",
     "text": [
      "[-118.7]\n"
     ]
    },
    {
     "name": "stderr",
     "output_type": "stream",
     "text": [
      "Epoch [1/1]:  48%|████▊     | 1863/3907 [02:48<02:01, 16.83it/s, loss=0.167] "
     ]
    },
    {
     "name": "stdout",
     "output_type": "stream",
     "text": [
      "[-117.4]\n"
     ]
    },
    {
     "name": "stderr",
     "output_type": "stream",
     "text": [
      "Epoch [1/1]:  49%|████▉     | 1909/3907 [02:51<01:48, 18.50it/s, loss=0.159] "
     ]
    },
    {
     "name": "stdout",
     "output_type": "stream",
     "text": [
      "[-100.9]\n"
     ]
    },
    {
     "name": "stderr",
     "output_type": "stream",
     "text": [
      "Epoch [1/1]:  49%|████▉     | 1926/3907 [02:54<02:36, 12.64it/s, loss=0.187] "
     ]
    },
    {
     "name": "stdout",
     "output_type": "stream",
     "text": [
      "[-108.5]\n"
     ]
    },
    {
     "name": "stderr",
     "output_type": "stream",
     "text": [
      "Epoch [1/1]:  51%|█████     | 1989/3907 [02:57<01:45, 18.22it/s, loss=0.154]"
     ]
    },
    {
     "name": "stdout",
     "output_type": "stream",
     "text": [
      "[-112.7]\n"
     ]
    },
    {
     "name": "stderr",
     "output_type": "stream",
     "text": [
      "Epoch [1/1]:  51%|█████▏    | 2006/3907 [02:59<02:18, 13.75it/s, loss=0.213] "
     ]
    },
    {
     "name": "stdout",
     "output_type": "stream",
     "text": [
      "[-115.9]\n"
     ]
    },
    {
     "name": "stderr",
     "output_type": "stream",
     "text": [
      "Epoch [1/1]:  53%|█████▎    | 2067/3907 [03:02<01:31, 20.02it/s, loss=0.196] "
     ]
    },
    {
     "name": "stdout",
     "output_type": "stream",
     "text": [
      "[-106.3]\n"
     ]
    },
    {
     "name": "stderr",
     "output_type": "stream",
     "text": [
      "Epoch [1/1]:  53%|█████▎    | 2084/3907 [03:05<02:14, 13.51it/s, loss=0.251] "
     ]
    },
    {
     "name": "stdout",
     "output_type": "stream",
     "text": [
      "[-106.7]\n"
     ]
    },
    {
     "name": "stderr",
     "output_type": "stream",
     "text": [
      "Epoch [1/1]:  55%|█████▍    | 2144/3907 [03:08<01:38, 17.97it/s, loss=0.098] "
     ]
    },
    {
     "name": "stdout",
     "output_type": "stream",
     "text": [
      "[-122.6]\n"
     ]
    },
    {
     "name": "stderr",
     "output_type": "stream",
     "text": [
      "Epoch [1/1]:  55%|█████▌    | 2160/3907 [03:10<02:10, 13.38it/s, loss=0.186] "
     ]
    },
    {
     "name": "stdout",
     "output_type": "stream",
     "text": [
      "[-110.5]\n"
     ]
    },
    {
     "name": "stderr",
     "output_type": "stream",
     "text": [
      "Epoch [1/1]:  57%|█████▋    | 2222/3907 [03:13<01:31, 18.43it/s, loss=0.127] "
     ]
    },
    {
     "name": "stdout",
     "output_type": "stream",
     "text": [
      "[-107.9]\n"
     ]
    },
    {
     "name": "stderr",
     "output_type": "stream",
     "text": [
      "Epoch [1/1]:  57%|█████▋    | 2238/3907 [03:16<02:16, 12.22it/s, loss=0.263]"
     ]
    },
    {
     "name": "stdout",
     "output_type": "stream",
     "text": [
      "[-112.1]\n"
     ]
    },
    {
     "name": "stderr",
     "output_type": "stream",
     "text": [
      "Epoch [1/1]:  59%|█████▉    | 2302/3907 [03:19<01:29, 17.88it/s, loss=0.202] "
     ]
    },
    {
     "name": "stdout",
     "output_type": "stream",
     "text": [
      "[-107.8]\n"
     ]
    },
    {
     "name": "stderr",
     "output_type": "stream",
     "text": [
      "Epoch [1/1]:  59%|█████▉    | 2319/3907 [03:22<02:04, 12.76it/s, loss=0.161] "
     ]
    },
    {
     "name": "stdout",
     "output_type": "stream",
     "text": [
      "[-112.]\n"
     ]
    },
    {
     "name": "stderr",
     "output_type": "stream",
     "text": [
      "Epoch [1/1]:  61%|██████    | 2379/3907 [03:25<01:25, 17.85it/s, loss=0.125] "
     ]
    },
    {
     "name": "stdout",
     "output_type": "stream",
     "text": [
      "[-114.8]\n"
     ]
    },
    {
     "name": "stderr",
     "output_type": "stream",
     "text": [
      "Epoch [1/1]:  61%|██████▏   | 2396/3907 [03:27<01:57, 12.91it/s, loss=0.157] "
     ]
    },
    {
     "name": "stdout",
     "output_type": "stream",
     "text": [
      "[-109.9]\n"
     ]
    },
    {
     "name": "stderr",
     "output_type": "stream",
     "text": [
      "Epoch [1/1]:  63%|██████▎   | 2457/3907 [03:30<01:17, 18.67it/s, loss=0.129] "
     ]
    },
    {
     "name": "stdout",
     "output_type": "stream",
     "text": [
      "[-110.5]\n"
     ]
    },
    {
     "name": "stderr",
     "output_type": "stream",
     "text": [
      "Epoch [1/1]:  63%|██████▎   | 2474/3907 [03:33<01:49, 13.12it/s, loss=0.124] "
     ]
    },
    {
     "name": "stdout",
     "output_type": "stream",
     "text": [
      "[-116.2]\n"
     ]
    },
    {
     "name": "stderr",
     "output_type": "stream",
     "text": [
      "Epoch [1/1]:  65%|██████▍   | 2533/3907 [03:36<01:17, 17.78it/s, loss=0.0878]"
     ]
    },
    {
     "name": "stdout",
     "output_type": "stream",
     "text": [
      "[-107.4]\n"
     ]
    },
    {
     "name": "stderr",
     "output_type": "stream",
     "text": [
      "Epoch [1/1]:  65%|██████▌   | 2549/3907 [03:38<01:42, 13.22it/s, loss=0.127] "
     ]
    },
    {
     "name": "stdout",
     "output_type": "stream",
     "text": [
      "[-98.1]\n"
     ]
    },
    {
     "name": "stderr",
     "output_type": "stream",
     "text": [
      "Epoch [1/1]:  67%|██████▋   | 2615/3907 [03:42<01:21, 15.92it/s, loss=0.179] "
     ]
    },
    {
     "name": "stdout",
     "output_type": "stream",
     "text": [
      "[-120.5]\n"
     ]
    },
    {
     "name": "stderr",
     "output_type": "stream",
     "text": [
      "Epoch [1/1]:  67%|██████▋   | 2632/3907 [03:45<01:45, 12.09it/s, loss=0.135] "
     ]
    },
    {
     "name": "stdout",
     "output_type": "stream",
     "text": [
      "[-108.2]\n"
     ]
    },
    {
     "name": "stderr",
     "output_type": "stream",
     "text": [
      "Epoch [1/1]:  69%|██████▉   | 2688/3907 [03:48<01:14, 16.29it/s, loss=0.119] "
     ]
    },
    {
     "name": "stdout",
     "output_type": "stream",
     "text": [
      "[-121.3]\n"
     ]
    },
    {
     "name": "stderr",
     "output_type": "stream",
     "text": [
      "Epoch [1/1]:  69%|██████▉   | 2704/3907 [03:52<02:00,  9.97it/s, loss=0.233] "
     ]
    },
    {
     "name": "stdout",
     "output_type": "stream",
     "text": [
      "[-111.]\n"
     ]
    },
    {
     "name": "stderr",
     "output_type": "stream",
     "text": [
      "Epoch [1/1]:  71%|███████   | 2769/3907 [03:55<01:11, 15.89it/s, loss=0.174] "
     ]
    },
    {
     "name": "stdout",
     "output_type": "stream",
     "text": [
      "[-109.1]\n"
     ]
    },
    {
     "name": "stderr",
     "output_type": "stream",
     "text": [
      "Epoch [1/1]:  71%|███████▏  | 2785/3907 [03:58<01:35, 11.76it/s, loss=0.195] "
     ]
    },
    {
     "name": "stdout",
     "output_type": "stream",
     "text": [
      "[-112.]\n"
     ]
    },
    {
     "name": "stderr",
     "output_type": "stream",
     "text": [
      "Epoch [1/1]:  73%|███████▎  | 2848/3907 [04:00<00:57, 18.28it/s, loss=0.158] "
     ]
    },
    {
     "name": "stdout",
     "output_type": "stream",
     "text": [
      "[-105.7]\n"
     ]
    },
    {
     "name": "stderr",
     "output_type": "stream",
     "text": [
      "Epoch [1/1]:  73%|███████▎  | 2865/3907 [04:03<01:19, 13.18it/s, loss=0.111] "
     ]
    },
    {
     "name": "stdout",
     "output_type": "stream",
     "text": [
      "[-101.2]\n"
     ]
    },
    {
     "name": "stderr",
     "output_type": "stream",
     "text": [
      "Epoch [1/1]:  75%|███████▍  | 2924/3907 [04:06<00:54, 18.01it/s, loss=0.243]"
     ]
    },
    {
     "name": "stdout",
     "output_type": "stream",
     "text": [
      "[-108.6]\n"
     ]
    },
    {
     "name": "stderr",
     "output_type": "stream",
     "text": [
      "Epoch [1/1]:  75%|███████▌  | 2940/3907 [04:09<01:17, 12.52it/s, loss=0.155] "
     ]
    },
    {
     "name": "stdout",
     "output_type": "stream",
     "text": [
      "[-116.8]\n"
     ]
    },
    {
     "name": "stderr",
     "output_type": "stream",
     "text": [
      "Epoch [1/1]:  77%|███████▋  | 3003/3907 [04:12<00:49, 18.10it/s, loss=0.258] "
     ]
    },
    {
     "name": "stdout",
     "output_type": "stream",
     "text": [
      "[-102.7]\n"
     ]
    },
    {
     "name": "stderr",
     "output_type": "stream",
     "text": [
      "Epoch [1/1]:  77%|███████▋  | 3019/3907 [04:14<01:08, 12.90it/s, loss=0.161] "
     ]
    },
    {
     "name": "stdout",
     "output_type": "stream",
     "text": [
      "[-102.7]\n"
     ]
    },
    {
     "name": "stderr",
     "output_type": "stream",
     "text": [
      "Epoch [1/1]:  79%|███████▉  | 3081/3907 [04:17<00:45, 18.22it/s, loss=0.134] "
     ]
    },
    {
     "name": "stdout",
     "output_type": "stream",
     "text": [
      "[-104.1]\n"
     ]
    },
    {
     "name": "stderr",
     "output_type": "stream",
     "text": [
      "Epoch [1/1]:  79%|███████▉  | 3097/3907 [04:20<00:58, 13.76it/s, loss=0.117] "
     ]
    },
    {
     "name": "stdout",
     "output_type": "stream",
     "text": [
      "[-109.8]\n"
     ]
    },
    {
     "name": "stderr",
     "output_type": "stream",
     "text": [
      "Epoch [1/1]:  81%|████████  | 3158/3907 [04:22<00:37, 19.75it/s, loss=0.115] "
     ]
    },
    {
     "name": "stdout",
     "output_type": "stream",
     "text": [
      "[-111.]\n"
     ]
    },
    {
     "name": "stderr",
     "output_type": "stream",
     "text": [
      "Epoch [1/1]:  81%|████████  | 3174/3907 [04:25<00:53, 13.67it/s, loss=0.127] "
     ]
    },
    {
     "name": "stdout",
     "output_type": "stream",
     "text": [
      "[-100.]\n"
     ]
    },
    {
     "name": "stderr",
     "output_type": "stream",
     "text": [
      "Epoch [1/1]:  83%|████████▎ | 3239/3907 [04:29<00:43, 15.37it/s, loss=0.157] "
     ]
    },
    {
     "name": "stdout",
     "output_type": "stream",
     "text": [
      "[-113.4]\n"
     ]
    },
    {
     "name": "stderr",
     "output_type": "stream",
     "text": [
      "Epoch [1/1]:  83%|████████▎ | 3255/3907 [04:32<00:53, 12.14it/s, loss=0.189] "
     ]
    },
    {
     "name": "stdout",
     "output_type": "stream",
     "text": [
      "[-105.7]\n"
     ]
    },
    {
     "name": "stderr",
     "output_type": "stream",
     "text": [
      "Epoch [1/1]:  85%|████████▍ | 3316/3907 [04:34<00:32, 18.37it/s, loss=0.149] "
     ]
    },
    {
     "name": "stdout",
     "output_type": "stream",
     "text": [
      "[-100.3]\n"
     ]
    },
    {
     "name": "stderr",
     "output_type": "stream",
     "text": [
      "Epoch [1/1]:  85%|████████▌ | 3332/3907 [04:37<00:44, 12.95it/s, loss=0.206] "
     ]
    },
    {
     "name": "stdout",
     "output_type": "stream",
     "text": [
      "[-103.3]\n"
     ]
    },
    {
     "name": "stderr",
     "output_type": "stream",
     "text": [
      "Epoch [1/1]:  87%|████████▋ | 3393/3907 [04:40<00:28, 17.83it/s, loss=0.155] "
     ]
    },
    {
     "name": "stdout",
     "output_type": "stream",
     "text": [
      "[-105.2]\n"
     ]
    },
    {
     "name": "stderr",
     "output_type": "stream",
     "text": [
      "Epoch [1/1]:  87%|████████▋ | 3409/3907 [04:43<00:40, 12.44it/s, loss=0.152] "
     ]
    },
    {
     "name": "stdout",
     "output_type": "stream",
     "text": [
      "[-104.4]\n"
     ]
    },
    {
     "name": "stderr",
     "output_type": "stream",
     "text": [
      "Epoch [1/1]:  89%|████████▉ | 3473/3907 [04:46<00:23, 18.35it/s, loss=0.145] "
     ]
    },
    {
     "name": "stdout",
     "output_type": "stream",
     "text": [
      "[-104.8]\n"
     ]
    },
    {
     "name": "stderr",
     "output_type": "stream",
     "text": [
      "Epoch [1/1]:  89%|████████▉ | 3489/3907 [04:48<00:32, 12.96it/s, loss=0.173] "
     ]
    },
    {
     "name": "stdout",
     "output_type": "stream",
     "text": [
      "[-103.1]\n"
     ]
    },
    {
     "name": "stderr",
     "output_type": "stream",
     "text": [
      "Epoch [1/1]:  91%|█████████ | 3550/3907 [04:51<00:19, 18.08it/s, loss=0.0949]"
     ]
    },
    {
     "name": "stdout",
     "output_type": "stream",
     "text": [
      "[-107.2]\n"
     ]
    },
    {
     "name": "stderr",
     "output_type": "stream",
     "text": [
      "Epoch [1/1]:  91%|█████████▏| 3566/3907 [04:54<00:25, 13.59it/s, loss=0.157] "
     ]
    },
    {
     "name": "stdout",
     "output_type": "stream",
     "text": [
      "[-111.5]\n"
     ]
    },
    {
     "name": "stderr",
     "output_type": "stream",
     "text": [
      "Epoch [1/1]:  93%|█████████▎| 3628/3907 [04:57<00:14, 18.73it/s, loss=0.173] "
     ]
    },
    {
     "name": "stdout",
     "output_type": "stream",
     "text": [
      "[-106.2]\n"
     ]
    },
    {
     "name": "stderr",
     "output_type": "stream",
     "text": [
      "Epoch [1/1]:  93%|█████████▎| 3644/3907 [04:59<00:19, 13.31it/s, loss=0.222] "
     ]
    },
    {
     "name": "stdout",
     "output_type": "stream",
     "text": [
      "[-119.]\n"
     ]
    },
    {
     "name": "stderr",
     "output_type": "stream",
     "text": [
      "Epoch [1/1]:  95%|█████████▍| 3706/3907 [05:02<00:10, 18.43it/s, loss=0.121] "
     ]
    },
    {
     "name": "stdout",
     "output_type": "stream",
     "text": [
      "[-115.9]\n"
     ]
    },
    {
     "name": "stderr",
     "output_type": "stream",
     "text": [
      "Epoch [1/1]:  95%|█████████▌| 3722/3907 [05:05<00:14, 12.83it/s, loss=0.101] "
     ]
    },
    {
     "name": "stdout",
     "output_type": "stream",
     "text": [
      "[-117.1]\n"
     ]
    },
    {
     "name": "stderr",
     "output_type": "stream",
     "text": [
      "Epoch [1/1]:  97%|█████████▋| 3785/3907 [05:08<00:06, 18.39it/s, loss=0.09]  "
     ]
    },
    {
     "name": "stdout",
     "output_type": "stream",
     "text": [
      "[-103.4]\n"
     ]
    },
    {
     "name": "stderr",
     "output_type": "stream",
     "text": [
      "Epoch [1/1]:  97%|█████████▋| 3802/3907 [05:11<00:08, 13.01it/s, loss=0.102] "
     ]
    },
    {
     "name": "stdout",
     "output_type": "stream",
     "text": [
      "[-103.4]\n"
     ]
    },
    {
     "name": "stderr",
     "output_type": "stream",
     "text": [
      "Epoch [1/1]:  99%|█████████▉| 3864/3907 [05:14<00:02, 17.60it/s, loss=0.188] "
     ]
    },
    {
     "name": "stdout",
     "output_type": "stream",
     "text": [
      "[-112.1]\n"
     ]
    },
    {
     "name": "stderr",
     "output_type": "stream",
     "text": [
      "Epoch [1/1]:  99%|█████████▉| 3881/3907 [05:17<00:02, 12.43it/s, loss=0.0867]"
     ]
    },
    {
     "name": "stdout",
     "output_type": "stream",
     "text": [
      "[-121.6]\n"
     ]
    },
    {
     "name": "stderr",
     "output_type": "stream",
     "text": [
      "Epoch [1/1]: 100%|██████████| 3907/3907 [05:19<00:00, 12.23it/s, loss=0.0776]"
     ]
    },
    {
     "name": "stdout",
     "output_type": "stream",
     "text": [
      "[-102.5]\n"
     ]
    },
    {
     "name": "stderr",
     "output_type": "stream",
     "text": [
      "\n"
     ]
    }
   ],
   "source": [
    "\n",
    "policy_network = PolicyNetwork(\n",
    "    env.observation_space.shape[0],env.action_space.n ).to(device)\n",
    "# nn init kaiming\n",
    "torch.nn.init.kaiming_normal_(policy_network.fc1.weight)\n",
    "torch.nn.init.kaiming_normal_(policy_network.fc2.weight)\n",
    "torch.nn.init.kaiming_normal_(policy_network.fc3.weight)\n",
    "\n",
    "\n",
    "\n",
    "train_dataset = CustomDataset(observations, actions)\n",
    "\n",
    "optimizer = torch.optim.Adam(policy_network.parameters(), lr=1e-3,weight_decay=1e-5)\n",
    "\n",
    "\n",
    "# Training loop\n",
    "num_epochs = 1\n",
    "batch_size = 128\n",
    "\n",
    "train_dataloader = DataLoader(train_dataset , batch_size=batch_size, shuffle=True)\n",
    "# val_dataloader = DataLoader(val_dataset , batch_size=batch_size, shuffle=True)\n",
    "loss_func = nn.CrossEntropyLoss()\n",
    "log_interval = len(observations)//100\n",
    "num_test=10\n",
    "\n",
    "now_log=0\n",
    "now_pos=0\n",
    "graph=[]\n",
    "eval_rewards=[]\n",
    "for epoch in range(num_epochs):\n",
    "    policy_network.train()\n",
    "\n",
    "    # Compute the log probabilities of the actions\n",
    "    pbar=tqdm(train_dataloader,position=0,leave=True)\n",
    "    now_log=0\n",
    "    now_pos=0\n",
    "    for step, (obs_batch,act_batch) in enumerate(pbar):\n",
    "        now_log+=obs_batch.shape[0]\n",
    "        now_pos+=obs_batch.shape[0]\n",
    "        \n",
    "        logits = policy_network(obs_batch)\n",
    "        # cross entropy\n",
    "        loss=loss_func(logits, act_batch.long())\n",
    "        \n",
    "        # Optimize the policy\n",
    "        optimizer.zero_grad()\n",
    "\n",
    "        loss.backward()\n",
    "        optimizer.step()\n",
    "\n",
    "\n",
    "\n",
    "\n",
    "        #scheduler\n",
    "\n",
    "        graph.append(loss.detach().item())\n",
    "        if now_log>=log_interval:\n",
    "            now_log-=log_interval\n",
    "            \n",
    "            policy_network.eval()  # 切换到评估模式\n",
    "\n",
    "            \n",
    "\n",
    "            total_reward=0\n",
    "            # test the policy and save as the first test as gif\n",
    "            frames = []\n",
    "            saved_frame = False\n",
    "            for _ in range(num_test):\n",
    "                state = env.reset()\n",
    "                done = False\n",
    "                while not done:\n",
    "                    state_tensor = torch.tensor([state], dtype=torch.float32).to(device)\n",
    "                    with torch.no_grad():\n",
    "                        action = Categorical(logits=(policy_network(state_tensor))).sample().cpu().numpy()[0]\n",
    "                        \n",
    "                    state, reward, done, _ = env.step(action)  # 执行动作\n",
    "                    total_reward += reward\n",
    "                    if not saved_frame:\n",
    "                        frame = env.render(mode=\"rgb_array\")\n",
    "                        frames.append(frame)  # 添加到帧列表中\n",
    "                # 保存为GIF\n",
    "                if not saved_frame:\n",
    "                    saved_frame = True\n",
    "                    image_path = f\"epoch_{epoch+1}_iteration_{now_pos}.gif\"\n",
    "                    imageio.mimsave(\"./gif/\"+image_path, frames)\n",
    "\n",
    "\n",
    "            \n",
    "            print(total_reward/num_test)\n",
    "                \n",
    "            eval_rewards.append(total_reward/num_test)\n",
    "\n",
    "            policy_network.train()      \n",
    "        pbar.set_description((f\"Epoch [{epoch+1}/{num_epochs}]\"))\n",
    "        pbar.set_postfix({\"loss\":loss.detach().item()})\n",
    "env.close()\n",
    "\n",
    "    \n"
   ]
  },
  {
   "cell_type": "code",
   "execution_count": 15,
   "metadata": {},
   "outputs": [
    {
     "data": {
      "image/png": "[encoded data removed]",
      "text/plain": [
       "<Figure size 640x480 with 1 Axes>"
      ]
     },
     "metadata": {},
     "output_type": "display_data"
    },
    {
     "data": {
      "image/png": "[encoded data removed]",
      "text/plain": [
       "<Figure size 640x480 with 1 Axes>"
      ]
     },
     "metadata": {},
     "output_type": "display_data"
    },
    {
     "data": {
      "text/plain": [
       "<Figure size 640x480 with 0 Axes>"
      ]
     },
     "metadata": {},
     "output_type": "display_data"
    }
   ],
   "source": [
    "# save to /mnt/nfs/work/albertliu/RL/CartPole-v1/BC\n",
    "# draw the loss graph\n",
    "import matplotlib.pyplot as plt\n",
    "plt.plot(graph)\n",
    "plt.xlabel(\"iteration\")\n",
    "plt.ylabel(\"Loss\")\n",
    "plt.title(\"Loss vs Epoch\")\n",
    "plt.show()\n",
    "plt.savefig(\"./loss.png\")\n",
    "\n",
    "# draw the reward graph\n",
    "plt.plot(eval_rewards)\n",
    "plt.xlabel(\"iteration\")\n",
    "plt.ylabel(\"Reward\")\n",
    "plt.title(\"Reward vs Epoch\")\n",
    "plt.show()\n",
    "plt.savefig(\"./reward.png\")\n",
    "\n",
    "\n"
   ]
  }
 ],
 "metadata": {
  "kernelspec": {
   "display_name": "atari",
   "language": "python",
   "name": "python3"
  },
  "language_info": {
   "codemirror_mode": {
    "name": "ipython",
    "version": 3
   },
   "file_extension": ".py",
   "mimetype": "text/x-python",
   "name": "python",
   "nbconvert_exporter": "python",
   "pygments_lexer": "ipython3",
   "version": "3.9.19"
  }
 },
 "nbformat": 4,
 "nbformat_minor": 2
}
