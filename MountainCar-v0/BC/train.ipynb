{
 "cells": [
  {
   "cell_type": "code",
   "execution_count": 1,
   "metadata": {},
   "outputs": [],
   "source": [
    "import gymnasium as gym\n",
    "import numpy as np\n",
    "from copy import deepcopy\n",
    "import torch\n",
    "from torch.distributions import Normal\n",
    "import numpy as np\n",
    "import torch.nn as nn\n",
    "import torch.nn.functional as F\n",
    "from torch.distributions import Categorical\n",
    "from torch.utils.data import Dataset, DataLoader\n",
    "from stable_baselines3.common.vec_env import VecVideoRecorder, DummyVecEnv\n",
    "import imageio\n",
    "import pandas as pd\n",
    "from tqdm import tqdm\n",
    "from PIL import Image\n",
    "from stable_baselines3.dqn.policies import MlpPolicy\n",
    "import matplotlib.pyplot as plt\n"
   ]
  },
  {
   "cell_type": "code",
   "execution_count": 2,
   "metadata": {},
   "outputs": [
    {
     "data": {
      "text/plain": [
       "7"
      ]
     },
     "execution_count": 2,
     "metadata": {},
     "output_type": "execute_result"
    }
   ],
   "source": [
    "import gc\n",
    "gc.collect()"
   ]
  },
  {
   "cell_type": "code",
   "execution_count": 3,
   "metadata": {},
   "outputs": [
    {
     "name": "stdout",
     "output_type": "stream",
     "text": [
      "Sat Apr 13 22:29:54 2024       \n",
      "+---------------------------------------------------------------------------------------+\n",
      "| NVIDIA-SMI 545.23.06              Driver Version: 545.23.06    CUDA Version: 12.3     |\n",
      "|-----------------------------------------+----------------------+----------------------+\n",
      "| GPU  Name                 Persistence-M | Bus-Id        Disp.A | Volatile Uncorr. ECC |\n",
      "| Fan  Temp   Perf          Pwr:Usage/Cap |         Memory-Usage | GPU-Util  Compute M. |\n",
      "|                                         |                      |               MIG M. |\n",
      "|=========================================+======================+======================|\n",
      "|   0  NVIDIA GeForce GTX 1080 Ti     On  | 00000000:01:00.0 Off |                  N/A |\n",
      "|  0%   41C    P8              16W / 250W |    968MiB / 11264MiB |      0%      Default |\n",
      "|                                         |                      |                  N/A |\n",
      "+-----------------------------------------+----------------------+----------------------+\n",
      "                                                                                         \n",
      "+---------------------------------------------------------------------------------------+\n",
      "| Processes:                                                                            |\n",
      "|  GPU   GI   CI        PID   Type   Process name                            GPU Memory |\n",
      "|        ID   ID                                                             Usage      |\n",
      "|=======================================================================================|\n",
      "|    0   N/A  N/A    147318      C   ...iu/miniconda3/envs/myenv/bin/python      194MiB |\n",
      "|    0   N/A  N/A    663739      C   ...iu/miniconda3/envs/myenv/bin/python      192MiB |\n",
      "|    0   N/A  N/A    725751      C   ...iu/miniconda3/envs/myenv/bin/python      192MiB |\n",
      "|    0   N/A  N/A   1370793      C   ...81/miniconda3/envs/atari/bin/python      192MiB |\n",
      "|    0   N/A  N/A   1378106      C   ...81/miniconda3/envs/atari/bin/python      194MiB |\n",
      "+---------------------------------------------------------------------------------------+\n"
     ]
    },
    {
     "data": {
      "text/plain": [
       "device(type='cuda')"
      ]
     },
     "execution_count": 3,
     "metadata": {},
     "output_type": "execute_result"
    }
   ],
   "source": [
    "!nvidia-smi\n",
    "\n",
    "# clean up memory forcefully\n",
    "torch.cuda.empty_cache()\n",
    "torch.cuda.memory_summary(device=None, abbreviated=False)\n",
    "\n",
    "device = torch.device(\"cuda\" if torch.cuda.is_available() else \"cpu\")\n",
    "device\n",
    "\n",
    "\n",
    "\n"
   ]
  },
  {
   "cell_type": "code",
   "execution_count": 4,
   "metadata": {},
   "outputs": [
    {
     "name": "stdout",
     "output_type": "stream",
     "text": [
      "Using device: cuda\n"
     ]
    }
   ],
   "source": [
    "\n",
    "device = torch.device(\"cuda\" if torch.cuda.is_available() else \"cpu\")\n",
    "print(f\"Using device: {device}\")\n",
    "class CustomDataset(Dataset):\n",
    "    def __init__(self, observations, actions):\n",
    "        self.observations = torch.tensor(observations, dtype=torch.float32,device=device)\n",
    "        self.actions = torch.tensor(actions, dtype=torch.float32,device=device)\n",
    "\n",
    "    def __len__(self):\n",
    "        return len(self.observations)\n",
    "\n",
    "    def __getitem__(self, idx):\n",
    "        observation = self.observations[idx]\n",
    "        action = self.actions[idx]\n",
    "        return observation, action\n",
    "\n",
    "class PolicyNetwork(nn.Module):\n",
    "    def __init__(self, input_dim, output_dim):\n",
    "        super(PolicyNetwork, self).__init__()\n",
    "        self.fc1 = nn.Linear(input_dim, 32)\n",
    "        self.norm1 = nn.LayerNorm(32)\n",
    "        self.fc2 = nn.Linear(32, 32)\n",
    "        self.norm2 = nn.LayerNorm(32)\n",
    "        self.fc3 = nn.Linear(32, output_dim)\n",
    "\n",
    "    def forward(self, x):\n",
    "        x = F.relu(self.norm1(self.fc1(x)))\n",
    "        x = F.relu(self.norm2(self.fc2(x)))\n",
    "        # x = F.relu(self.fc1(x))\n",
    "        # x = F.relu(self.fc2(x))\n",
    "        x = self.fc3(x)\n",
    "        return x\n",
    "\n",
    "    "
   ]
  },
  {
   "cell_type": "code",
   "execution_count": 10,
   "metadata": {},
   "outputs": [
    {
     "name": "stdout",
     "output_type": "stream",
     "text": [
      "(500000, 2) (500000,) (500000,) (500000,) (500000,) (500000, 2)\n",
      "[-0.43945786  0.        ] 0 -1.0 False {'TimeLimit.truncated': False} [-0.44108224 -0.00162438]\n",
      "3\n",
      "2\n"
     ]
    }
   ],
   "source": [
    "from stable_baselines3.common.env_util import make_vec_env as make_vec_env_sb3\n",
    "env_id=\"MountainCar-v0\"\n",
    "#env = make_vec_env_sb3(env_id, n_envs=1)\n",
    "observations= np.load(\"../dataset/obs.npy\", allow_pickle=True)\n",
    "actions = np.load(\"../dataset/actions.npy\", allow_pickle=True)\n",
    "rewards = np.load(\"../dataset/rewards.npy\", allow_pickle=True)\n",
    "dones = np.load(\"../dataset/dones.npy\", allow_pickle=True)\n",
    "info = np.load(\"../dataset/info.npy\", allow_pickle=True)\n",
    "next_obs = np.load(\"../dataset/next_obs.npy\", allow_pickle=True)\n",
    "observations=observations.squeeze()\n",
    "actions=actions.squeeze()\n",
    "rewards=rewards.squeeze()\n",
    "dones=dones.squeeze()\n",
    "info=info.squeeze()\n",
    "next_obs=next_obs.squeeze()\n",
    "# observations = observations[:1000]\n",
    "# actions = actions[:1000]\n",
    "print(observations.shape, actions.shape, rewards.shape, dones.shape, info.shape, next_obs.shape)\n",
    "print(observations[0], actions[0], rewards[0], dones[0], info[0], next_obs[0])\n",
    "env = make_vec_env_sb3(env_id, n_envs=1)\n",
    "\n",
    "print(env.action_space.n)\n",
    "print(env.observation_space.shape[0])"
   ]
  },
  {
   "cell_type": "code",
   "execution_count": 11,
   "metadata": {},
   "outputs": [],
   "source": [
    "class mydataset(Dataset):\n",
    "    def __init__(self, observations, actions):\n",
    "        self.observations = torch.tensor(observations, dtype=torch.float32).to(device)\n",
    "        self.actions = torch.tensor(actions, dtype=torch.float32).to(device)\n",
    "\n",
    "    def __len__(self):\n",
    "        return len(self.observations)\n",
    "\n",
    "    def __getitem__(self, idx):\n",
    "        observation = self.observations[idx]\n",
    "        action = self.actions[idx]\n",
    "        return observation, action"
   ]
  },
  {
   "cell_type": "code",
   "execution_count": 17,
   "metadata": {},
   "outputs": [
    {
     "name": "stderr",
     "output_type": "stream",
     "text": [
      "Epoch [1/1]:   0%|          | 0/3907 [00:00<?, ?it/s, loss=0.907]"
     ]
    },
    {
     "name": "stderr",
     "output_type": "stream",
     "text": [
      "Epoch [1/1]:   1%|          | 48/3907 [00:05<08:04,  7.97it/s, loss=0.746] "
     ]
    },
    {
     "name": "stdout",
     "output_type": "stream",
     "text": [
      "[-200.]\n"
     ]
    },
    {
     "name": "stderr",
     "output_type": "stream",
     "text": [
      "Epoch [1/1]:   3%|▎         | 112/3907 [00:10<05:14, 12.08it/s, loss=0.721]"
     ]
    },
    {
     "name": "stdout",
     "output_type": "stream",
     "text": [
      "[-200.]\n"
     ]
    },
    {
     "name": "stderr",
     "output_type": "stream",
     "text": [
      "Epoch [1/1]:   3%|▎         | 129/3907 [00:15<08:30,  7.40it/s, loss=0.506]"
     ]
    },
    {
     "name": "stdout",
     "output_type": "stream",
     "text": [
      "[-200.]\n"
     ]
    },
    {
     "name": "stderr",
     "output_type": "stream",
     "text": [
      "Epoch [1/1]:   5%|▍         | 190/3907 [00:20<05:53, 10.51it/s, loss=0.453]"
     ]
    },
    {
     "name": "stdout",
     "output_type": "stream",
     "text": [
      "[-198.3]\n"
     ]
    },
    {
     "name": "stderr",
     "output_type": "stream",
     "text": [
      "Epoch [1/1]:   5%|▌         | 206/3907 [00:24<08:06,  7.60it/s, loss=0.329]"
     ]
    },
    {
     "name": "stdout",
     "output_type": "stream",
     "text": [
      "[-191.7]\n"
     ]
    },
    {
     "name": "stderr",
     "output_type": "stream",
     "text": [
      "Epoch [1/1]:   7%|▋         | 270/3907 [00:29<05:19, 11.40it/s, loss=0.334]"
     ]
    },
    {
     "name": "stdout",
     "output_type": "stream",
     "text": [
      "[-169.4]\n"
     ]
    },
    {
     "name": "stderr",
     "output_type": "stream",
     "text": [
      "Epoch [1/1]:   7%|▋         | 286/3907 [00:34<07:45,  7.79it/s, loss=0.26] "
     ]
    },
    {
     "name": "stdout",
     "output_type": "stream",
     "text": [
      "[-139.6]\n"
     ]
    },
    {
     "name": "stderr",
     "output_type": "stream",
     "text": [
      "Epoch [1/1]:   9%|▉         | 344/3907 [00:39<05:48, 10.23it/s, loss=0.235]"
     ]
    },
    {
     "name": "stdout",
     "output_type": "stream",
     "text": [
      "[-140.7]\n"
     ]
    },
    {
     "name": "stderr",
     "output_type": "stream",
     "text": [
      "Epoch [1/1]:   9%|▉         | 359/3907 [00:42<06:58,  8.48it/s, loss=0.165]"
     ]
    },
    {
     "name": "stdout",
     "output_type": "stream",
     "text": [
      "[-107.3]\n"
     ]
    },
    {
     "name": "stderr",
     "output_type": "stream",
     "text": [
      "Epoch [1/1]:  11%|█         | 424/3907 [00:45<04:08, 14.03it/s, loss=0.284]"
     ]
    },
    {
     "name": "stdout",
     "output_type": "stream",
     "text": [
      "[-100.3]\n"
     ]
    },
    {
     "name": "stderr",
     "output_type": "stream",
     "text": [
      "Epoch [1/1]:  11%|█▏        | 440/3907 [00:49<06:26,  8.97it/s, loss=0.236]"
     ]
    },
    {
     "name": "stdout",
     "output_type": "stream",
     "text": [
      "[-141.9]\n"
     ]
    },
    {
     "name": "stderr",
     "output_type": "stream",
     "text": [
      "Epoch [1/1]:  13%|█▎        | 502/3907 [00:52<04:01, 14.07it/s, loss=0.245]"
     ]
    },
    {
     "name": "stdout",
     "output_type": "stream",
     "text": [
      "[-120.5]\n"
     ]
    },
    {
     "name": "stderr",
     "output_type": "stream",
     "text": [
      "Epoch [1/1]:  13%|█▎        | 518/3907 [00:57<06:03,  9.32it/s, loss=0.232]"
     ]
    },
    {
     "name": "stdout",
     "output_type": "stream",
     "text": [
      "[-123.1]\n"
     ]
    },
    {
     "name": "stderr",
     "output_type": "stream",
     "text": [
      "Epoch [1/1]:  15%|█▍        | 578/3907 [01:00<03:57, 14.00it/s, loss=0.218]"
     ]
    },
    {
     "name": "stdout",
     "output_type": "stream",
     "text": [
      "[-119.9]\n"
     ]
    },
    {
     "name": "stderr",
     "output_type": "stream",
     "text": [
      "Epoch [1/1]:  15%|█▌        | 593/3907 [01:03<05:21, 10.32it/s, loss=0.321]"
     ]
    },
    {
     "name": "stdout",
     "output_type": "stream",
     "text": [
      "[-152.8]\n"
     ]
    },
    {
     "name": "stderr",
     "output_type": "stream",
     "text": [
      "Epoch [1/1]:  17%|█▋        | 658/3907 [01:06<03:27, 15.64it/s, loss=0.33] "
     ]
    },
    {
     "name": "stdout",
     "output_type": "stream",
     "text": [
      "[-121.]\n"
     ]
    },
    {
     "name": "stderr",
     "output_type": "stream",
     "text": [
      "Epoch [1/1]:  17%|█▋        | 673/3907 [01:09<04:49, 11.16it/s, loss=0.163]"
     ]
    },
    {
     "name": "stdout",
     "output_type": "stream",
     "text": [
      "[-130.7]\n"
     ]
    },
    {
     "name": "stderr",
     "output_type": "stream",
     "text": [
      "Epoch [1/1]:  19%|█▉        | 736/3907 [01:14<04:03, 13.01it/s, loss=0.27] "
     ]
    },
    {
     "name": "stdout",
     "output_type": "stream",
     "text": [
      "[-159.4]\n"
     ]
    },
    {
     "name": "stderr",
     "output_type": "stream",
     "text": [
      "Epoch [1/1]:  19%|█▉        | 751/3907 [01:18<06:08,  8.58it/s, loss=0.22] "
     ]
    },
    {
     "name": "stdout",
     "output_type": "stream",
     "text": [
      "[-133.1]\n"
     ]
    },
    {
     "name": "stderr",
     "output_type": "stream",
     "text": [
      "Epoch [1/1]:  21%|██        | 813/3907 [01:22<03:50, 13.40it/s, loss=0.158]"
     ]
    },
    {
     "name": "stdout",
     "output_type": "stream",
     "text": [
      "[-116.]\n"
     ]
    },
    {
     "name": "stderr",
     "output_type": "stream",
     "text": [
      "Epoch [1/1]:  21%|██        | 828/3907 [01:25<05:03, 10.14it/s, loss=0.216]"
     ]
    },
    {
     "name": "stdout",
     "output_type": "stream",
     "text": [
      "[-126.1]\n"
     ]
    },
    {
     "name": "stderr",
     "output_type": "stream",
     "text": [
      "Epoch [1/1]:  23%|██▎       | 892/3907 [01:28<03:17, 15.23it/s, loss=0.216]"
     ]
    },
    {
     "name": "stdout",
     "output_type": "stream",
     "text": [
      "[-114.8]\n"
     ]
    },
    {
     "name": "stderr",
     "output_type": "stream",
     "text": [
      "Epoch [1/1]:  23%|██▎       | 907/3907 [01:31<04:35, 10.90it/s, loss=0.24] "
     ]
    },
    {
     "name": "stdout",
     "output_type": "stream",
     "text": [
      "[-126.2]\n"
     ]
    },
    {
     "name": "stderr",
     "output_type": "stream",
     "text": [
      "Epoch [1/1]:  25%|██▍       | 971/3907 [01:34<03:00, 16.24it/s, loss=0.207]"
     ]
    },
    {
     "name": "stdout",
     "output_type": "stream",
     "text": [
      "[-122.8]\n"
     ]
    },
    {
     "name": "stderr",
     "output_type": "stream",
     "text": [
      "Epoch [1/1]:  25%|██▌       | 987/3907 [01:37<04:09, 11.68it/s, loss=0.26] "
     ]
    },
    {
     "name": "stdout",
     "output_type": "stream",
     "text": [
      "[-116.7]\n"
     ]
    },
    {
     "name": "stderr",
     "output_type": "stream",
     "text": [
      "Epoch [1/1]:  27%|██▋       | 1044/3907 [01:40<02:56, 16.26it/s, loss=0.165]"
     ]
    },
    {
     "name": "stdout",
     "output_type": "stream",
     "text": [
      "[-106.8]\n"
     ]
    },
    {
     "name": "stderr",
     "output_type": "stream",
     "text": [
      "Epoch [1/1]:  28%|██▊       | 1090/3907 [01:43<02:45, 17.00it/s, loss=0.175]"
     ]
    },
    {
     "name": "stdout",
     "output_type": "stream",
     "text": [
      "[-132.7]\n"
     ]
    },
    {
     "name": "stderr",
     "output_type": "stream",
     "text": [
      "Epoch [1/1]:  28%|██▊       | 1107/3907 [01:46<03:58, 11.74it/s, loss=0.132]"
     ]
    },
    {
     "name": "stdout",
     "output_type": "stream",
     "text": [
      "[-135.1]\n"
     ]
    },
    {
     "name": "stderr",
     "output_type": "stream",
     "text": [
      "Epoch [1/1]:  30%|██▉       | 1164/3907 [01:49<02:55, 15.60it/s, loss=0.193]"
     ]
    },
    {
     "name": "stdout",
     "output_type": "stream",
     "text": [
      "[-109.1]\n"
     ]
    },
    {
     "name": "stderr",
     "output_type": "stream",
     "text": [
      "Epoch [1/1]:  31%|███       | 1206/3907 [01:53<02:50, 15.86it/s, loss=0.246]"
     ]
    },
    {
     "name": "stdout",
     "output_type": "stream",
     "text": [
      "[-132.7]\n"
     ]
    },
    {
     "name": "stderr",
     "output_type": "stream",
     "text": [
      "Epoch [1/1]:  31%|███▏      | 1222/3907 [01:56<04:02, 11.08it/s, loss=0.23] "
     ]
    },
    {
     "name": "stdout",
     "output_type": "stream",
     "text": [
      "[-106.7]\n"
     ]
    },
    {
     "name": "stderr",
     "output_type": "stream",
     "text": [
      "Epoch [1/1]:  33%|███▎      | 1283/3907 [01:59<02:43, 16.05it/s, loss=0.193]"
     ]
    },
    {
     "name": "stdout",
     "output_type": "stream",
     "text": [
      "[-113.8]\n"
     ]
    },
    {
     "name": "stderr",
     "output_type": "stream",
     "text": [
      "Epoch [1/1]:  33%|███▎      | 1299/3907 [02:02<03:48, 11.41it/s, loss=0.276] "
     ]
    },
    {
     "name": "stdout",
     "output_type": "stream",
     "text": [
      "[-113.1]\n"
     ]
    },
    {
     "name": "stderr",
     "output_type": "stream",
     "text": [
      "Epoch [1/1]:  35%|███▍      | 1359/3907 [02:05<02:42, 15.63it/s, loss=0.175]"
     ]
    },
    {
     "name": "stdout",
     "output_type": "stream",
     "text": [
      "[-132.7]\n"
     ]
    },
    {
     "name": "stderr",
     "output_type": "stream",
     "text": [
      "Epoch [1/1]:  35%|███▌      | 1374/3907 [02:08<03:33, 11.87it/s, loss=0.185]"
     ]
    },
    {
     "name": "stdout",
     "output_type": "stream",
     "text": [
      "[-110.8]\n"
     ]
    },
    {
     "name": "stderr",
     "output_type": "stream",
     "text": [
      "Epoch [1/1]:  37%|███▋      | 1437/3907 [02:13<03:01, 13.63it/s, loss=0.174]"
     ]
    },
    {
     "name": "stdout",
     "output_type": "stream",
     "text": [
      "[-128.]\n"
     ]
    },
    {
     "name": "stderr",
     "output_type": "stream",
     "text": [
      "Epoch [1/1]:  38%|███▊      | 1483/3907 [02:17<02:54, 13.92it/s, loss=0.272] "
     ]
    },
    {
     "name": "stdout",
     "output_type": "stream",
     "text": [
      "[-120.7]\n"
     ]
    },
    {
     "name": "stderr",
     "output_type": "stream",
     "text": [
      "Epoch [1/1]:  38%|███▊      | 1500/3907 [02:20<03:53, 10.31it/s, loss=0.16] "
     ]
    },
    {
     "name": "stdout",
     "output_type": "stream",
     "text": [
      "[-132.7]\n"
     ]
    },
    {
     "name": "stderr",
     "output_type": "stream",
     "text": [
      "Epoch [1/1]:  40%|███▉      | 1557/3907 [02:24<02:46, 14.08it/s, loss=0.224]"
     ]
    },
    {
     "name": "stdout",
     "output_type": "stream",
     "text": [
      "[-103.6]\n"
     ]
    },
    {
     "name": "stderr",
     "output_type": "stream",
     "text": [
      "Epoch [1/1]:  40%|████      | 1573/3907 [02:27<03:43, 10.43it/s, loss=0.188]"
     ]
    },
    {
     "name": "stdout",
     "output_type": "stream",
     "text": [
      "[-115.1]\n"
     ]
    },
    {
     "name": "stderr",
     "output_type": "stream",
     "text": [
      "Epoch [1/1]:  42%|████▏     | 1636/3907 [02:29<02:15, 16.76it/s, loss=0.129]"
     ]
    },
    {
     "name": "stdout",
     "output_type": "stream",
     "text": [
      "[-120.1]\n"
     ]
    },
    {
     "name": "stderr",
     "output_type": "stream",
     "text": [
      "Epoch [1/1]:  42%|████▏     | 1652/3907 [02:32<03:15, 11.52it/s, loss=0.153]"
     ]
    },
    {
     "name": "stdout",
     "output_type": "stream",
     "text": [
      "[-123.2]\n"
     ]
    },
    {
     "name": "stderr",
     "output_type": "stream",
     "text": [
      "Epoch [1/1]:  44%|████▍     | 1711/3907 [02:36<02:20, 15.66it/s, loss=0.196] "
     ]
    },
    {
     "name": "stdout",
     "output_type": "stream",
     "text": [
      "[-124.1]\n"
     ]
    },
    {
     "name": "stderr",
     "output_type": "stream",
     "text": [
      "Epoch [1/1]:  44%|████▍     | 1726/3907 [02:39<03:13, 11.25it/s, loss=0.354] "
     ]
    },
    {
     "name": "stdout",
     "output_type": "stream",
     "text": [
      "[-113.9]\n"
     ]
    },
    {
     "name": "stderr",
     "output_type": "stream",
     "text": [
      "Epoch [1/1]:  46%|████▌     | 1788/3907 [02:41<02:05, 16.93it/s, loss=0.21] "
     ]
    },
    {
     "name": "stdout",
     "output_type": "stream",
     "text": [
      "[-114.7]\n"
     ]
    },
    {
     "name": "stderr",
     "output_type": "stream",
     "text": [
      "Epoch [1/1]:  47%|████▋     | 1834/3907 [02:44<01:56, 17.79it/s, loss=0.171] "
     ]
    },
    {
     "name": "stdout",
     "output_type": "stream",
     "text": [
      "[-101.2]\n"
     ]
    },
    {
     "name": "stderr",
     "output_type": "stream",
     "text": [
      "Epoch [1/1]:  47%|████▋     | 1851/3907 [02:47<02:49, 12.16it/s, loss=0.201]"
     ]
    },
    {
     "name": "stdout",
     "output_type": "stream",
     "text": [
      "[-106.2]\n"
     ]
    },
    {
     "name": "stderr",
     "output_type": "stream",
     "text": [
      "Epoch [1/1]:  49%|████▉     | 1907/3907 [02:50<02:00, 16.62it/s, loss=0.237]"
     ]
    },
    {
     "name": "stdout",
     "output_type": "stream",
     "text": [
      "[-106.6]\n"
     ]
    },
    {
     "name": "stderr",
     "output_type": "stream",
     "text": [
      "Epoch [1/1]:  49%|████▉     | 1923/3907 [02:53<02:37, 12.63it/s, loss=0.206] "
     ]
    },
    {
     "name": "stdout",
     "output_type": "stream",
     "text": [
      "[-119.6]\n"
     ]
    },
    {
     "name": "stderr",
     "output_type": "stream",
     "text": [
      "Epoch [1/1]:  51%|█████     | 1984/3907 [02:57<02:08, 15.02it/s, loss=0.101]"
     ]
    },
    {
     "name": "stdout",
     "output_type": "stream",
     "text": [
      "[-131.6]\n"
     ]
    },
    {
     "name": "stderr",
     "output_type": "stream",
     "text": [
      "Epoch [1/1]:  52%|█████▏    | 2031/3907 [03:01<02:11, 14.27it/s, loss=0.183] "
     ]
    },
    {
     "name": "stdout",
     "output_type": "stream",
     "text": [
      "[-115.7]\n"
     ]
    },
    {
     "name": "stderr",
     "output_type": "stream",
     "text": [
      "Epoch [1/1]:  52%|█████▏    | 2048/3907 [03:04<02:53, 10.71it/s, loss=0.157] "
     ]
    },
    {
     "name": "stdout",
     "output_type": "stream",
     "text": [
      "[-112.9]\n"
     ]
    },
    {
     "name": "stderr",
     "output_type": "stream",
     "text": [
      "Epoch [1/1]:  54%|█████▍    | 2101/3907 [03:08<02:03, 14.63it/s, loss=0.122]"
     ]
    },
    {
     "name": "stdout",
     "output_type": "stream",
     "text": [
      "[-116.4]\n"
     ]
    },
    {
     "name": "stderr",
     "output_type": "stream",
     "text": [
      "Epoch [1/1]:  55%|█████▍    | 2144/3907 [03:10<01:46, 16.50it/s, loss=0.162]"
     ]
    },
    {
     "name": "stdout",
     "output_type": "stream",
     "text": [
      "[-111.1]\n"
     ]
    },
    {
     "name": "stderr",
     "output_type": "stream",
     "text": [
      "Epoch [1/1]:  55%|█████▌    | 2160/3907 [03:13<02:35, 11.27it/s, loss=0.249]"
     ]
    },
    {
     "name": "stdout",
     "output_type": "stream",
     "text": [
      "[-111.8]\n"
     ]
    },
    {
     "name": "stderr",
     "output_type": "stream",
     "text": [
      "Epoch [1/1]:  57%|█████▋    | 2221/3907 [03:17<01:43, 16.28it/s, loss=0.246]"
     ]
    },
    {
     "name": "stdout",
     "output_type": "stream",
     "text": [
      "[-121.3]\n"
     ]
    },
    {
     "name": "stderr",
     "output_type": "stream",
     "text": [
      "Epoch [1/1]:  57%|█████▋    | 2237/3907 [03:22<03:07,  8.92it/s, loss=0.225]"
     ]
    },
    {
     "name": "stdout",
     "output_type": "stream",
     "text": [
      "[-122.7]\n"
     ]
    },
    {
     "name": "stderr",
     "output_type": "stream",
     "text": [
      "Epoch [1/1]:  59%|█████▊    | 2295/3907 [03:25<01:58, 13.58it/s, loss=0.161] "
     ]
    },
    {
     "name": "stdout",
     "output_type": "stream",
     "text": [
      "[-111.1]\n"
     ]
    },
    {
     "name": "stderr",
     "output_type": "stream",
     "text": [
      "Epoch [1/1]:  60%|█████▉    | 2340/3907 [03:30<02:12, 11.83it/s, loss=0.208]"
     ]
    },
    {
     "name": "stdout",
     "output_type": "stream",
     "text": [
      "[-130.2]\n"
     ]
    },
    {
     "name": "stderr",
     "output_type": "stream",
     "text": [
      "Epoch [1/1]:  60%|██████    | 2356/3907 [03:33<02:35, 10.00it/s, loss=0.213]"
     ]
    },
    {
     "name": "stdout",
     "output_type": "stream",
     "text": [
      "[-104.2]\n"
     ]
    },
    {
     "name": "stderr",
     "output_type": "stream",
     "text": [
      "Epoch [1/1]:  62%|██████▏   | 2415/3907 [03:36<01:38, 15.13it/s, loss=0.146]"
     ]
    },
    {
     "name": "stdout",
     "output_type": "stream",
     "text": [
      "[-103.1]\n"
     ]
    },
    {
     "name": "stderr",
     "output_type": "stream",
     "text": [
      "Epoch [1/1]:  63%|██████▎   | 2460/3907 [03:38<01:25, 16.94it/s, loss=0.227]"
     ]
    },
    {
     "name": "stdout",
     "output_type": "stream",
     "text": [
      "[-103.1]\n"
     ]
    },
    {
     "name": "stderr",
     "output_type": "stream",
     "text": [
      "Epoch [1/1]:  63%|██████▎   | 2477/3907 [03:41<01:52, 12.70it/s, loss=0.219]"
     ]
    },
    {
     "name": "stdout",
     "output_type": "stream",
     "text": [
      "[-118.]\n"
     ]
    },
    {
     "name": "stderr",
     "output_type": "stream",
     "text": [
      "Epoch [1/1]:  65%|██████▍   | 2524/3907 [03:44<01:27, 15.84it/s, loss=0.132]"
     ]
    },
    {
     "name": "stdout",
     "output_type": "stream",
     "text": [
      "[-116.]\n"
     ]
    },
    {
     "name": "stderr",
     "output_type": "stream",
     "text": [
      "Epoch [1/1]:  66%|██████▌   | 2572/3907 [03:47<01:16, 17.53it/s, loss=0.165] "
     ]
    },
    {
     "name": "stdout",
     "output_type": "stream",
     "text": [
      "[-105.5]\n"
     ]
    },
    {
     "name": "stderr",
     "output_type": "stream",
     "text": [
      "Epoch [1/1]:  67%|██████▋   | 2615/3907 [03:49<01:09, 18.71it/s, loss=0.169] "
     ]
    },
    {
     "name": "stdout",
     "output_type": "stream",
     "text": [
      "[-113.]\n"
     ]
    },
    {
     "name": "stderr",
     "output_type": "stream",
     "text": [
      "Epoch [1/1]:  67%|██████▋   | 2631/3907 [03:52<01:44, 12.22it/s, loss=0.103]"
     ]
    },
    {
     "name": "stdout",
     "output_type": "stream",
     "text": [
      "[-122.2]\n"
     ]
    },
    {
     "name": "stderr",
     "output_type": "stream",
     "text": [
      "Epoch [1/1]:  69%|██████▉   | 2690/3907 [03:55<01:10, 17.36it/s, loss=0.217] "
     ]
    },
    {
     "name": "stdout",
     "output_type": "stream",
     "text": [
      "[-103.]\n"
     ]
    },
    {
     "name": "stderr",
     "output_type": "stream",
     "text": [
      "Epoch [1/1]:  69%|██████▉   | 2706/3907 [03:58<01:42, 11.72it/s, loss=0.185] "
     ]
    },
    {
     "name": "stdout",
     "output_type": "stream",
     "text": [
      "[-116.2]\n"
     ]
    },
    {
     "name": "stderr",
     "output_type": "stream",
     "text": [
      "Epoch [1/1]:  71%|███████   | 2768/3907 [04:02<01:09, 16.46it/s, loss=0.244]"
     ]
    },
    {
     "name": "stdout",
     "output_type": "stream",
     "text": [
      "[-127.2]\n"
     ]
    },
    {
     "name": "stderr",
     "output_type": "stream",
     "text": [
      "Epoch [1/1]:  71%|███████▏  | 2784/3907 [04:04<01:33, 12.05it/s, loss=0.21]  "
     ]
    },
    {
     "name": "stdout",
     "output_type": "stream",
     "text": [
      "[-130.3]\n"
     ]
    },
    {
     "name": "stderr",
     "output_type": "stream",
     "text": [
      "Epoch [1/1]:  73%|███████▎  | 2841/3907 [04:08<01:06, 15.91it/s, loss=0.175] "
     ]
    },
    {
     "name": "stdout",
     "output_type": "stream",
     "text": [
      "[-104.8]\n"
     ]
    },
    {
     "name": "stderr",
     "output_type": "stream",
     "text": [
      "Epoch [1/1]:  74%|███████▍  | 2889/3907 [04:10<00:55, 18.29it/s, loss=0.173] "
     ]
    },
    {
     "name": "stdout",
     "output_type": "stream",
     "text": [
      "[-106.1]\n"
     ]
    },
    {
     "name": "stderr",
     "output_type": "stream",
     "text": [
      "Epoch [1/1]:  74%|███████▍  | 2906/3907 [04:13<01:20, 12.41it/s, loss=0.128] "
     ]
    },
    {
     "name": "stdout",
     "output_type": "stream",
     "text": [
      "[-116.6]\n"
     ]
    },
    {
     "name": "stderr",
     "output_type": "stream",
     "text": [
      "Epoch [1/1]:  76%|███████▌  | 2965/3907 [04:16<00:53, 17.70it/s, loss=0.222]"
     ]
    },
    {
     "name": "stdout",
     "output_type": "stream",
     "text": [
      "[-109.1]\n"
     ]
    },
    {
     "name": "stderr",
     "output_type": "stream",
     "text": [
      "Epoch [1/1]:  76%|███████▋  | 2982/3907 [04:19<01:13, 12.61it/s, loss=0.155] "
     ]
    },
    {
     "name": "stdout",
     "output_type": "stream",
     "text": [
      "[-103.3]\n"
     ]
    },
    {
     "name": "stderr",
     "output_type": "stream",
     "text": [
      "Epoch [1/1]:  78%|███████▊  | 3043/3907 [04:22<00:48, 17.77it/s, loss=0.143] "
     ]
    },
    {
     "name": "stdout",
     "output_type": "stream",
     "text": [
      "[-111.3]\n"
     ]
    },
    {
     "name": "stderr",
     "output_type": "stream",
     "text": [
      "Epoch [1/1]:  78%|███████▊  | 3060/3907 [04:25<01:08, 12.32it/s, loss=0.108] "
     ]
    },
    {
     "name": "stdout",
     "output_type": "stream",
     "text": [
      "[-117.9]\n"
     ]
    },
    {
     "name": "stderr",
     "output_type": "stream",
     "text": [
      "Epoch [1/1]:  80%|███████▉  | 3116/3907 [04:27<00:45, 17.52it/s, loss=0.148] "
     ]
    },
    {
     "name": "stdout",
     "output_type": "stream",
     "text": [
      "[-100.7]\n"
     ]
    },
    {
     "name": "stderr",
     "output_type": "stream",
     "text": [
      "Epoch [1/1]:  80%|████████  | 3131/3907 [04:30<01:03, 12.23it/s, loss=0.126] "
     ]
    },
    {
     "name": "stdout",
     "output_type": "stream",
     "text": [
      "[-107.1]\n"
     ]
    },
    {
     "name": "stderr",
     "output_type": "stream",
     "text": [
      "Epoch [1/1]:  82%|████████▏ | 3196/3907 [04:33<00:37, 18.90it/s, loss=0.174] "
     ]
    },
    {
     "name": "stdout",
     "output_type": "stream",
     "text": [
      "[-114.6]\n"
     ]
    },
    {
     "name": "stderr",
     "output_type": "stream",
     "text": [
      "Epoch [1/1]:  82%|████████▏ | 3211/3907 [04:35<00:50, 13.73it/s, loss=0.156] "
     ]
    },
    {
     "name": "stdout",
     "output_type": "stream",
     "text": [
      "[-100.8]\n"
     ]
    },
    {
     "name": "stderr",
     "output_type": "stream",
     "text": [
      "Epoch [1/1]:  84%|████████▍ | 3277/3907 [04:38<00:33, 19.06it/s, loss=0.157] "
     ]
    },
    {
     "name": "stdout",
     "output_type": "stream",
     "text": [
      "[-115.4]\n"
     ]
    },
    {
     "name": "stderr",
     "output_type": "stream",
     "text": [
      "Epoch [1/1]:  84%|████████▍ | 3293/3907 [04:41<00:47, 12.99it/s, loss=0.174]"
     ]
    },
    {
     "name": "stdout",
     "output_type": "stream",
     "text": [
      "[-106.1]\n"
     ]
    },
    {
     "name": "stderr",
     "output_type": "stream",
     "text": [
      "Epoch [1/1]:  86%|████████▌ | 3349/3907 [04:44<00:33, 16.48it/s, loss=0.142] "
     ]
    },
    {
     "name": "stdout",
     "output_type": "stream",
     "text": [
      "[-102.5]\n"
     ]
    },
    {
     "name": "stderr",
     "output_type": "stream",
     "text": [
      "Epoch [1/1]:  87%|████████▋ | 3396/3907 [04:47<00:28, 18.25it/s, loss=0.202] "
     ]
    },
    {
     "name": "stdout",
     "output_type": "stream",
     "text": [
      "[-104.9]\n"
     ]
    },
    {
     "name": "stderr",
     "output_type": "stream",
     "text": [
      "Epoch [1/1]:  87%|████████▋ | 3413/3907 [04:50<00:39, 12.41it/s, loss=0.202]"
     ]
    },
    {
     "name": "stdout",
     "output_type": "stream",
     "text": [
      "[-124.1]\n"
     ]
    },
    {
     "name": "stderr",
     "output_type": "stream",
     "text": [
      "Epoch [1/1]:  89%|████████▉ | 3472/3907 [04:53<00:25, 17.30it/s, loss=0.145] "
     ]
    },
    {
     "name": "stdout",
     "output_type": "stream",
     "text": [
      "[-113.8]\n"
     ]
    },
    {
     "name": "stderr",
     "output_type": "stream",
     "text": [
      "Epoch [1/1]:  89%|████████▉ | 3488/3907 [04:56<00:34, 12.18it/s, loss=0.122] "
     ]
    },
    {
     "name": "stdout",
     "output_type": "stream",
     "text": [
      "[-110.]\n"
     ]
    },
    {
     "name": "stderr",
     "output_type": "stream",
     "text": [
      "Epoch [1/1]:  91%|█████████ | 3551/3907 [04:58<00:19, 18.42it/s, loss=0.236]"
     ]
    },
    {
     "name": "stdout",
     "output_type": "stream",
     "text": [
      "[-108.7]\n"
     ]
    },
    {
     "name": "stderr",
     "output_type": "stream",
     "text": [
      "Epoch [1/1]:  91%|█████████▏| 3568/3907 [05:01<00:26, 12.86it/s, loss=0.15]  "
     ]
    },
    {
     "name": "stdout",
     "output_type": "stream",
     "text": [
      "[-104.]\n"
     ]
    },
    {
     "name": "stderr",
     "output_type": "stream",
     "text": [
      "Epoch [1/1]:  93%|█████████▎| 3625/3907 [05:04<00:15, 17.70it/s, loss=0.176] "
     ]
    },
    {
     "name": "stdout",
     "output_type": "stream",
     "text": [
      "[-97.8]\n"
     ]
    },
    {
     "name": "stderr",
     "output_type": "stream",
     "text": [
      "Epoch [1/1]:  93%|█████████▎| 3640/3907 [05:07<00:21, 12.31it/s, loss=0.206] "
     ]
    },
    {
     "name": "stdout",
     "output_type": "stream",
     "text": [
      "[-104.9]\n"
     ]
    },
    {
     "name": "stderr",
     "output_type": "stream",
     "text": [
      "Epoch [1/1]:  95%|█████████▍| 3706/3907 [05:10<00:10, 18.52it/s, loss=0.189] "
     ]
    },
    {
     "name": "stdout",
     "output_type": "stream",
     "text": [
      "[-101.1]\n"
     ]
    },
    {
     "name": "stderr",
     "output_type": "stream",
     "text": [
      "Epoch [1/1]:  95%|█████████▌| 3722/3907 [05:12<00:14, 12.91it/s, loss=0.174] "
     ]
    },
    {
     "name": "stdout",
     "output_type": "stream",
     "text": [
      "[-109.6]\n"
     ]
    },
    {
     "name": "stderr",
     "output_type": "stream",
     "text": [
      "Epoch [1/1]:  97%|█████████▋| 3784/3907 [05:15<00:06, 18.69it/s, loss=0.107] "
     ]
    },
    {
     "name": "stdout",
     "output_type": "stream",
     "text": [
      "[-122.8]\n"
     ]
    },
    {
     "name": "stderr",
     "output_type": "stream",
     "text": [
      "Epoch [1/1]:  97%|█████████▋| 3800/3907 [05:18<00:08, 13.10it/s, loss=0.187] "
     ]
    },
    {
     "name": "stdout",
     "output_type": "stream",
     "text": [
      "[-108.4]\n"
     ]
    },
    {
     "name": "stderr",
     "output_type": "stream",
     "text": [
      "Epoch [1/1]:  99%|█████████▉| 3864/3907 [05:21<00:02, 18.23it/s, loss=0.16]  "
     ]
    },
    {
     "name": "stdout",
     "output_type": "stream",
     "text": [
      "[-108.8]\n"
     ]
    },
    {
     "name": "stderr",
     "output_type": "stream",
     "text": [
      "Epoch [1/1]:  99%|█████████▉| 3880/3907 [05:25<00:02, 10.16it/s, loss=0.131] "
     ]
    },
    {
     "name": "stdout",
     "output_type": "stream",
     "text": [
      "[-114.5]\n"
     ]
    },
    {
     "name": "stderr",
     "output_type": "stream",
     "text": [
      "Epoch [1/1]: 100%|██████████| 3907/3907 [05:28<00:00, 11.88it/s, loss=0.293]"
     ]
    },
    {
     "name": "stdout",
     "output_type": "stream",
     "text": [
      "[-114.7]\n"
     ]
    },
    {
     "name": "stderr",
     "output_type": "stream",
     "text": [
      "\n"
     ]
    }
   ],
   "source": [
    "\n",
    "policy_network = PolicyNetwork(\n",
    "    env.observation_space.shape[0],env.action_space.n ).to(device)\n",
    "# nn init kaiming\n",
    "torch.nn.init.kaiming_normal_(policy_network.fc1.weight)\n",
    "torch.nn.init.kaiming_normal_(policy_network.fc2.weight)\n",
    "torch.nn.init.kaiming_normal_(policy_network.fc3.weight)\n",
    "\n",
    "\n",
    "\n",
    "train_dataset = CustomDataset(observations, actions)\n",
    "\n",
    "optimizer = torch.optim.Adam(policy_network.parameters(), lr=1e-3,weight_decay=1e-4)\n",
    "\n",
    "\n",
    "# Training loop\n",
    "num_epochs = 1\n",
    "batch_size = 128\n",
    "\n",
    "train_dataloader = DataLoader(train_dataset , batch_size=batch_size, shuffle=True)\n",
    "# val_dataloader = DataLoader(val_dataset , batch_size=batch_size, shuffle=True)\n",
    "loss_func = nn.CrossEntropyLoss()\n",
    "log_interval = len(observations)//100\n",
    "num_test=10\n",
    "\n",
    "now_log=0\n",
    "now_pos=0\n",
    "graph=[]\n",
    "eval_rewards=[]\n",
    "for epoch in range(num_epochs):\n",
    "    policy_network.train()\n",
    "\n",
    "    # Compute the log probabilities of the actions\n",
    "    pbar=tqdm(train_dataloader,position=0,leave=True)\n",
    "    now_log=0\n",
    "    now_pos=0\n",
    "    for step, (obs_batch,act_batch) in enumerate(pbar):\n",
    "        now_log+=obs_batch.shape[0]\n",
    "        now_pos+=obs_batch.shape[0]\n",
    "        \n",
    "        logits = policy_network(obs_batch)\n",
    "        # cross entropy\n",
    "        loss=loss_func(logits, act_batch.long())\n",
    "        \n",
    "        # Optimize the policy\n",
    "        optimizer.zero_grad()\n",
    "\n",
    "        loss.backward()\n",
    "        optimizer.step()\n",
    "\n",
    "\n",
    "\n",
    "\n",
    "        #scheduler\n",
    "\n",
    "        graph.append(loss.detach().item())\n",
    "        if now_log>=log_interval:\n",
    "            now_log-=log_interval\n",
    "            \n",
    "            policy_network.eval()  # 切换到评估模式\n",
    "\n",
    "            \n",
    "\n",
    "            total_reward=0\n",
    "            # test the policy and save as the first test as gif\n",
    "            frames = []\n",
    "            saved_frame = False\n",
    "            for _ in range(num_test):\n",
    "                state = env.reset()\n",
    "                done = False\n",
    "                while not done:\n",
    "                    state_tensor = torch.tensor([state], dtype=torch.float32).to(device)\n",
    "                    with torch.no_grad():\n",
    "                        action = Categorical(logits=(policy_network(state_tensor))).sample().cpu().numpy()[0]\n",
    "                        \n",
    "                    state, reward, done, _ = env.step(action)  # 执行动作\n",
    "                    total_reward += reward\n",
    "                    if not saved_frame:\n",
    "                        frame = env.render(mode=\"rgb_array\")\n",
    "                        frames.append(frame)  # 添加到帧列表中\n",
    "                # 保存为GIF\n",
    "                if not saved_frame:\n",
    "                    saved_frame = True\n",
    "                    image_path = f\"epoch_{epoch+1}_iteration_{now_pos}.gif\"\n",
    "                    imageio.mimsave(\"./gif/\"+image_path, frames)\n",
    "\n",
    "\n",
    "            \n",
    "            print(total_reward/num_test)\n",
    "                \n",
    "            eval_rewards.append(total_reward/num_test)\n",
    "\n",
    "            policy_network.train()      \n",
    "        pbar.set_description((f\"Epoch [{epoch+1}/{num_epochs}]\"))\n",
    "        pbar.set_postfix({\"loss\":loss.detach().item()})\n",
    "env.close()\n",
    "\n",
    "    \n"
   ]
  },
  {
   "cell_type": "code",
   "execution_count": 19,
   "metadata": {},
   "outputs": [
    {
     "data": {
      "image/png": "[encoded data removed]",
      "text/plain": [
       "<Figure size 640x480 with 1 Axes>"
      ]
     },
     "metadata": {},
     "output_type": "display_data"
    },
    {
     "data": {
      "image/png": "[encoded data removed]",
      "text/plain": [
       "<Figure size 640x480 with 1 Axes>"
      ]
     },
     "metadata": {},
     "output_type": "display_data"
    }
   ],
   "source": [
    "# draw the loss graph\n",
    "import matplotlib.pyplot as plt\n",
    "plt.plot(graph)\n",
    "plt.xlabel(\"iteration\")\n",
    "plt.ylabel(\"Loss\")\n",
    "plt.title(\"Loss vs Epoch\")\n",
    "\n",
    "plt.savefig(\"./loss.png\")\n",
    "plt.show()\n",
    "# draw the reward graph\n",
    "plt.plot(eval_rewards)\n",
    "plt.xlabel(\"iteration\")\n",
    "plt.ylabel(\"Reward\")\n",
    "plt.title(\"Reward vs Epoch\")\n",
    "plt.savefig(\"./reward.png\")\n",
    "plt.show()\n",
    "\n",
    "\n"
   ]
  }
 ],
 "metadata": {
  "kernelspec": {
   "display_name": "atari",
   "language": "python",
   "name": "python3"
  },
  "language_info": {
   "codemirror_mode": {
    "name": "ipython",
    "version": 3
   },
   "file_extension": ".py",
   "mimetype": "text/x-python",
   "name": "python",
   "nbconvert_exporter": "python",
   "pygments_lexer": "ipython3",
   "version": "3.9.19"
  }
 },
 "nbformat": 4,
 "nbformat_minor": 2
}
