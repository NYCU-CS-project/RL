{
 "cells": [
  {
   "cell_type": "code",
   "execution_count": 8,
   "metadata": {},
   "outputs": [],
   "source": [
    "import gymnasium as gym\n",
    "import numpy as np\n",
    "from stable_baselines3.common.env_util import make_vec_env as make_vec_env_sb3\n",
    "from copy import deepcopy\n",
    "import torch\n",
    "from torch.distributions import Normal\n",
    "import numpy as np\n",
    "import torch.nn as nn\n",
    "import torch.nn.functional as F\n",
    "from torch.distributions import Categorical,kl_divergence\n",
    "from torch.utils.data import Dataset, DataLoader\n",
    "from stable_baselines3.common.vec_env import VecVideoRecorder, DummyVecEnv\n",
    "import imageio\n",
    "import pandas as pd\n",
    "from tqdm import tqdm\n",
    "from PIL import Image\n",
    "from stable_baselines3.dqn.policies import MlpPolicy\n",
    "import matplotlib.pyplot as plt\n"
   ]
  },
  {
   "cell_type": "code",
   "execution_count": 9,
   "metadata": {},
   "outputs": [
    {
     "data": {
      "text/plain": [
       "3560"
      ]
     },
     "execution_count": 9,
     "metadata": {},
     "output_type": "execute_result"
    }
   ],
   "source": [
    "import gc\n",
    "gc.collect()"
   ]
  },
  {
   "cell_type": "code",
   "execution_count": 10,
   "metadata": {},
   "outputs": [
    {
     "name": "stdout",
     "output_type": "stream",
     "text": [
      "Sat Apr 13 23:27:08 2024       \n",
      "+---------------------------------------------------------------------------------------+\n",
      "| NVIDIA-SMI 545.23.06              Driver Version: 545.23.06    CUDA Version: 12.3     |\n",
      "|-----------------------------------------+----------------------+----------------------+\n",
      "| GPU  Name                 Persistence-M | Bus-Id        Disp.A | Volatile Uncorr. ECC |\n",
      "| Fan  Temp   Perf          Pwr:Usage/Cap |         Memory-Usage | GPU-Util  Compute M. |\n",
      "|                                         |                      |               MIG M. |\n",
      "|=========================================+======================+======================|\n",
      "|   0  NVIDIA GeForce GTX 1080 Ti     On  | 00000000:01:00.0 Off |                  N/A |\n",
      "|  8%   52C    P2              57W / 250W |   1220MiB / 11264MiB |      0%      Default |\n",
      "|                                         |                      |                  N/A |\n",
      "+-----------------------------------------+----------------------+----------------------+\n",
      "                                                                                         \n",
      "+---------------------------------------------------------------------------------------+\n",
      "| Processes:                                                                            |\n",
      "|  GPU   GI   CI        PID   Type   Process name                            GPU Memory |\n",
      "|        ID   ID                                                             Usage      |\n",
      "|=======================================================================================|\n",
      "|    0   N/A  N/A    147318      C   ...iu/miniconda3/envs/myenv/bin/python      194MiB |\n",
      "|    0   N/A  N/A    954097      C   ...81/miniconda3/envs/atari/bin/python      212MiB |\n",
      "|    0   N/A  N/A    979280      C   ...81/miniconda3/envs/atari/bin/python      212MiB |\n",
      "|    0   N/A  N/A   1000416      C   ...81/miniconda3/envs/atari/bin/python      212MiB |\n",
      "|    0   N/A  N/A   1370793      C   ...81/miniconda3/envs/atari/bin/python      192MiB |\n",
      "|    0   N/A  N/A   1378106      C   ...81/miniconda3/envs/atari/bin/python      194MiB |\n",
      "+---------------------------------------------------------------------------------------+\n"
     ]
    },
    {
     "data": {
      "text/plain": [
       "device(type='cuda')"
      ]
     },
     "execution_count": 10,
     "metadata": {},
     "output_type": "execute_result"
    }
   ],
   "source": [
    "!nvidia-smi\n",
    "# clean up memory forcefully\n",
    "torch.cuda.empty_cache()\n",
    "\n",
    "device = torch.device(\"cuda\" if torch.cuda.is_available() else \"cpu\")\n",
    "device\n",
    "\n"
   ]
  },
  {
   "cell_type": "code",
   "execution_count": 11,
   "metadata": {},
   "outputs": [
    {
     "name": "stdout",
     "output_type": "stream",
     "text": [
      "Using device: cuda\n"
     ]
    }
   ],
   "source": [
    "\n",
    "device = torch.device(\"cuda\" if torch.cuda.is_available() else \"cpu\")\n",
    "print(f\"Using device: {device}\")\n",
    "class CustomDataset(Dataset):\n",
    "    def __init__(self, observations, actions):\n",
    "        self.observations = torch.tensor(observations, dtype=torch.float32,device=device)\n",
    "        self.actions = torch.tensor(actions, dtype=torch.float32,device=device)\n",
    "\n",
    "    def __len__(self):\n",
    "        return len(self.observations)\n",
    "\n",
    "    def __getitem__(self, idx):\n",
    "        observation = self.observations[idx]\n",
    "        action = self.actions[idx]\n",
    "        return observation, action\n",
    "\n",
    "class PolicyNetwork(nn.Module):\n",
    "    def __init__(self, input_dim, output_dim):\n",
    "        super(PolicyNetwork, self).__init__()\n",
    "        self.fc1 = nn.Linear(input_dim, 32)\n",
    "        self.norm1 = nn.LayerNorm(32)\n",
    "        self.fc2 = nn.Linear(32, 32)\n",
    "        self.norm2 = nn.LayerNorm(32)\n",
    "        self.fc3 = nn.Linear(32, output_dim)\n",
    "\n",
    "    def forward(self, x):\n",
    "        x = F.relu(self.norm1(self.fc1(x)))\n",
    "        x = F.relu(self.norm2(self.fc2(x)))\n",
    "        # x = F.relu(self.fc1(x))\n",
    "        # x = F.relu(self.fc2(x))\n",
    "        x = self.fc3(x)\n",
    "        return x\n",
    "\n",
    "    "
   ]
  },
  {
   "cell_type": "code",
   "execution_count": 16,
   "metadata": {},
   "outputs": [
    {
     "name": "stdout",
     "output_type": "stream",
     "text": [
      "(500000, 2) (500000,) (500000,) (500000,) (500000,) (500000, 2)\n",
      "[-0.43945786  0.        ] 0 -1.0 False {'TimeLimit.truncated': False} [-0.44108224 -0.00162438]\n",
      "3\n",
      "2\n"
     ]
    }
   ],
   "source": [
    "from stable_baselines3.common.env_util import make_vec_env as make_vec_env_sb3\n",
    "env_id=\"MountainCar-v0\"\n",
    "#env = make_vec_env_sb3(env_id, n_envs=1)\n",
    "observations= np.load(\"../dataset/obs.npy\", allow_pickle=True)\n",
    "actions = np.load(\"../dataset/actions.npy\", allow_pickle=True)\n",
    "rewards = np.load(\"../dataset/rewards.npy\", allow_pickle=True)\n",
    "dones = np.load(\"../dataset/dones.npy\", allow_pickle=True)\n",
    "info = np.load(\"../dataset/info.npy\", allow_pickle=True)\n",
    "next_obs = np.load(\"../dataset/next_obs.npy\", allow_pickle=True)\n",
    "observations=observations.squeeze()\n",
    "actions=actions.squeeze()\n",
    "rewards=rewards.squeeze()\n",
    "dones=dones.squeeze()\n",
    "info=info.squeeze()\n",
    "next_obs=next_obs.squeeze()\n",
    "# observations = observations[:1000]\n",
    "# actions = actions[:1000]\n",
    "print(observations.shape, actions.shape, rewards.shape, dones.shape, info.shape, next_obs.shape)\n",
    "print(observations[0], actions[0], rewards[0], dones[0], info[0], next_obs[0])\n",
    "env = make_vec_env_sb3(env_id, n_envs=1)\n",
    "\n",
    "print(env.action_space.n)\n",
    "print(env.observation_space.shape[0])"
   ]
  },
  {
   "cell_type": "code",
   "execution_count": 13,
   "metadata": {},
   "outputs": [],
   "source": [
    "class mydataset(Dataset):\n",
    "    def __init__(self, observations, actions):\n",
    "        self.observations = torch.tensor(observations, dtype=torch.float32).to(device)\n",
    "        self.actions = torch.tensor(actions, dtype=torch.float32).to(device)\n",
    "\n",
    "    def __len__(self):\n",
    "        return len(self.observations)\n",
    "\n",
    "    def __getitem__(self, idx):\n",
    "        observation = self.observations[idx]\n",
    "        action = self.actions[idx]\n",
    "        return observation, action"
   ]
  },
  {
   "cell_type": "markdown",
   "metadata": {},
   "source": [
    "# Simple KTO"
   ]
  },
  {
   "cell_type": "code",
   "execution_count": 17,
   "metadata": {},
   "outputs": [
    {
     "name": "stderr",
     "output_type": "stream",
     "text": [
      "Epoch [1/5]:   2%|▏         | 68/3907 [00:05<05:48, 11.00it/s, loss=0.481, positive_reward=0.187, negative_reward=0.104, margin=0.0825]   "
     ]
    },
    {
     "name": "stdout",
     "output_type": "stream",
     "text": [
      "[-200.]\n"
     ]
    },
    {
     "name": "stderr",
     "output_type": "stream",
     "text": [
      "Epoch [1/5]:   3%|▎         | 100/3907 [00:11<07:31,  8.43it/s, loss=0.489, positive_reward=0.198, negative_reward=0.15, margin=0.0481]  "
     ]
    },
    {
     "name": "stdout",
     "output_type": "stream",
     "text": [
      "[-200.]\n"
     ]
    },
    {
     "name": "stderr",
     "output_type": "stream",
     "text": [
      "Epoch [1/5]:   3%|▎         | 136/3907 [00:16<07:43,  8.13it/s, loss=0.481, positive_reward=0.195, negative_reward=0.113, margin=0.082]  "
     ]
    },
    {
     "name": "stdout",
     "output_type": "stream",
     "text": [
      "[-200.]\n"
     ]
    },
    {
     "name": "stderr",
     "output_type": "stream",
     "text": [
      "Epoch [1/5]:   5%|▍         | 185/3907 [00:22<07:17,  8.52it/s, loss=0.484, positive_reward=0.282, negative_reward=0.208, margin=0.0748]"
     ]
    },
    {
     "name": "stdout",
     "output_type": "stream",
     "text": [
      "[-200.]\n"
     ]
    },
    {
     "name": "stderr",
     "output_type": "stream",
     "text": [
      "Epoch [1/5]:   6%|▌         | 216/3907 [00:28<08:00,  7.68it/s, loss=0.456, positive_reward=0.411, negative_reward=0.218, margin=0.194] "
     ]
    },
    {
     "name": "stdout",
     "output_type": "stream",
     "text": [
      "[-200.]\n"
     ]
    },
    {
     "name": "stderr",
     "output_type": "stream",
     "text": [
      "Epoch [1/5]:   7%|▋         | 262/3907 [00:33<07:15,  8.38it/s, loss=0.469, positive_reward=0.483, negative_reward=0.346, margin=0.137] "
     ]
    },
    {
     "name": "stdout",
     "output_type": "stream",
     "text": [
      "[-190.4]\n"
     ]
    },
    {
     "name": "stderr",
     "output_type": "stream",
     "text": [
      "Epoch [1/5]:   7%|▋         | 286/3907 [00:38<08:33,  7.06it/s, loss=0.49, positive_reward=0.481, negative_reward=0.439, margin=0.0418] "
     ]
    },
    {
     "name": "stdout",
     "output_type": "stream",
     "text": [
      "[-170.]\n"
     ]
    },
    {
     "name": "stderr",
     "output_type": "stream",
     "text": [
      "Epoch [1/5]:   9%|▊         | 337/3907 [00:44<07:25,  8.01it/s, loss=0.481, positive_reward=0.556, negative_reward=0.48, margin=0.0766] "
     ]
    },
    {
     "name": "stdout",
     "output_type": "stream",
     "text": [
      "[-160.7]\n"
     ]
    },
    {
     "name": "stderr",
     "output_type": "stream",
     "text": [
      "Epoch [1/5]:   9%|▉         | 371/3907 [00:49<06:43,  8.77it/s, loss=0.469, positive_reward=0.639, negative_reward=0.487, margin=0.151]  "
     ]
    },
    {
     "name": "stdout",
     "output_type": "stream",
     "text": [
      "[-145.8]\n"
     ]
    },
    {
     "name": "stderr",
     "output_type": "stream",
     "text": [
      "Epoch [1/5]:  11%|█         | 411/3907 [00:52<05:11, 11.21it/s, loss=0.46, positive_reward=0.593, negative_reward=0.402, margin=0.191]   "
     ]
    },
    {
     "name": "stdout",
     "output_type": "stream",
     "text": [
      "[-143.3]\n"
     ]
    },
    {
     "name": "stderr",
     "output_type": "stream",
     "text": [
      "Epoch [1/5]:  12%|█▏        | 460/3907 [00:55<04:15, 13.51it/s, loss=0.5, positive_reward=0.57, negative_reward=0.588, margin=-.0173]    "
     ]
    },
    {
     "name": "stdout",
     "output_type": "stream",
     "text": [
      "[-148.4]\n"
     ]
    },
    {
     "name": "stderr",
     "output_type": "stream",
     "text": [
      "Epoch [1/5]:  13%|█▎        | 493/3907 [00:59<04:18, 13.21it/s, loss=0.496, positive_reward=0.592, negative_reward=0.586, margin=0.00599]"
     ]
    },
    {
     "name": "stdout",
     "output_type": "stream",
     "text": [
      "[-137.9]\n"
     ]
    },
    {
     "name": "stderr",
     "output_type": "stream",
     "text": [
      "Epoch [1/5]:  13%|█▎        | 527/3907 [01:02<04:21, 12.92it/s, loss=0.478, positive_reward=0.645, negative_reward=0.538, margin=0.106]   "
     ]
    },
    {
     "name": "stdout",
     "output_type": "stream",
     "text": [
      "[-121.4]\n"
     ]
    },
    {
     "name": "stderr",
     "output_type": "stream",
     "text": [
      "Epoch [1/5]:  14%|█▍        | 563/3907 [01:06<05:05, 10.94it/s, loss=0.472, positive_reward=0.594, negative_reward=0.461, margin=0.133]  "
     ]
    },
    {
     "name": "stdout",
     "output_type": "stream",
     "text": [
      "[-151.5]\n"
     ]
    },
    {
     "name": "stderr",
     "output_type": "stream",
     "text": [
      "Epoch [1/5]:  16%|█▌        | 609/3907 [01:11<05:39,  9.73it/s, loss=0.485, positive_reward=0.676, negative_reward=0.619, margin=0.0572] "
     ]
    },
    {
     "name": "stdout",
     "output_type": "stream",
     "text": [
      "[-140.6]\n"
     ]
    },
    {
     "name": "stderr",
     "output_type": "stream",
     "text": [
      "Epoch [1/5]:  16%|█▋        | 642/3907 [01:17<06:23,  8.51it/s, loss=0.509, positive_reward=0.509, negative_reward=0.556, margin=-.0472] "
     ]
    },
    {
     "name": "stdout",
     "output_type": "stream",
     "text": [
      "[-154.8]\n"
     ]
    },
    {
     "name": "stderr",
     "output_type": "stream",
     "text": [
      "Epoch [1/5]:  18%|█▊        | 691/3907 [01:21<04:59, 10.75it/s, loss=0.481, positive_reward=0.691, negative_reward=0.604, margin=0.0867] "
     ]
    },
    {
     "name": "stdout",
     "output_type": "stream",
     "text": [
      "[-133.8]\n"
     ]
    },
    {
     "name": "stderr",
     "output_type": "stream",
     "text": [
      "Epoch [1/5]:  18%|█▊        | 722/3907 [01:24<04:21, 12.17it/s, loss=0.489, positive_reward=0.627, negative_reward=0.544, margin=0.0828] "
     ]
    },
    {
     "name": "stdout",
     "output_type": "stream",
     "text": [
      "[-117.9]\n"
     ]
    },
    {
     "name": "stderr",
     "output_type": "stream",
     "text": [
      "Epoch [1/5]:  20%|█▉        | 775/3907 [01:26<03:09, 16.49it/s, loss=0.476, positive_reward=0.639, negative_reward=0.526, margin=0.113]  "
     ]
    },
    {
     "name": "stdout",
     "output_type": "stream",
     "text": [
      "[-121.7]\n"
     ]
    },
    {
     "name": "stderr",
     "output_type": "stream",
     "text": [
      "Epoch [1/5]:  21%|██        | 807/3907 [01:29<03:24, 15.16it/s, loss=0.517, positive_reward=0.505, negative_reward=0.584, margin=-.0792] "
     ]
    },
    {
     "name": "stdout",
     "output_type": "stream",
     "text": [
      "[-118.7]\n"
     ]
    },
    {
     "name": "stderr",
     "output_type": "stream",
     "text": [
      "Epoch [1/5]:  22%|██▏       | 841/3907 [01:33<03:42, 13.78it/s, loss=0.51, positive_reward=0.602, negative_reward=0.654, margin=-.052]   "
     ]
    },
    {
     "name": "stdout",
     "output_type": "stream",
     "text": [
      "[-116.6]\n"
     ]
    },
    {
     "name": "stderr",
     "output_type": "stream",
     "text": [
      "Epoch [1/5]:  22%|██▏       | 879/3907 [01:36<03:48, 13.28it/s, loss=0.5, positive_reward=0.562, negative_reward=0.562, margin=-.000459]  "
     ]
    },
    {
     "name": "stdout",
     "output_type": "stream",
     "text": [
      "[-119.3]\n"
     ]
    },
    {
     "name": "stderr",
     "output_type": "stream",
     "text": [
      "Epoch [1/5]:  24%|██▎       | 923/3907 [01:40<04:15, 11.69it/s, loss=0.493, positive_reward=0.596, negative_reward=0.56, margin=0.0367]  "
     ]
    },
    {
     "name": "stdout",
     "output_type": "stream",
     "text": [
      "[-142.1]\n"
     ]
    },
    {
     "name": "stderr",
     "output_type": "stream",
     "text": [
      "Epoch [1/5]:  24%|██▍       | 957/3907 [01:44<04:35, 10.69it/s, loss=0.491, positive_reward=0.619, negative_reward=0.577, margin=0.042]  "
     ]
    },
    {
     "name": "stdout",
     "output_type": "stream",
     "text": [
      "[-125.7]\n"
     ]
    },
    {
     "name": "stderr",
     "output_type": "stream",
     "text": [
      "Epoch [1/5]:  26%|██▌       | 1008/3907 [01:47<03:26, 14.04it/s, loss=0.52, positive_reward=-.0596, negative_reward=0.0516, margin=-.111]     "
     ]
    },
    {
     "name": "stdout",
     "output_type": "stream",
     "text": [
      "[-117.1]\n"
     ]
    },
    {
     "name": "stderr",
     "output_type": "stream",
     "text": [
      "Epoch [1/5]:  27%|██▋       | 1038/3907 [01:52<04:50,  9.87it/s, loss=0.508, positive_reward=-.0192, negative_reward=0.0258, margin=-.0451]  "
     ]
    },
    {
     "name": "stdout",
     "output_type": "stream",
     "text": [
      "[-121.3]\n"
     ]
    },
    {
     "name": "stderr",
     "output_type": "stream",
     "text": [
      "Epoch [1/5]:  27%|██▋       | 1073/3907 [01:55<03:53, 12.14it/s, loss=0.514, positive_reward=-.0495, negative_reward=0.0463, margin=-.0957]    "
     ]
    },
    {
     "name": "stdout",
     "output_type": "stream",
     "text": [
      "[-112.9]\n"
     ]
    },
    {
     "name": "stderr",
     "output_type": "stream",
     "text": [
      "Epoch [1/5]:  29%|██▊       | 1123/3907 [01:59<03:50, 12.10it/s, loss=0.494, positive_reward=0.0194, negative_reward=-.0126, margin=0.032]     "
     ]
    },
    {
     "name": "stdout",
     "output_type": "stream",
     "text": [
      "[-123.2]\n"
     ]
    },
    {
     "name": "stderr",
     "output_type": "stream",
     "text": [
      "Epoch [1/5]:  30%|██▉       | 1155/3907 [02:03<03:40, 12.49it/s, loss=0.508, positive_reward=0.00141, negative_reward=0.0384, margin=-.037]    "
     ]
    },
    {
     "name": "stdout",
     "output_type": "stream",
     "text": [
      "[-112.]\n"
     ]
    },
    {
     "name": "stderr",
     "output_type": "stream",
     "text": [
      "Epoch [1/5]:  30%|███       | 1191/3907 [02:06<03:37, 12.50it/s, loss=0.504, positive_reward=0.00671, negative_reward=0.0248, margin=-.0181]   "
     ]
    },
    {
     "name": "stdout",
     "output_type": "stream",
     "text": [
      "[-125.3]\n"
     ]
    },
    {
     "name": "stderr",
     "output_type": "stream",
     "text": [
      "Epoch [1/5]:  32%|███▏      | 1234/3907 [02:11<04:23, 10.13it/s, loss=0.506, positive_reward=-.0167, negative_reward=0.0176, margin=-.0343]   "
     ]
    },
    {
     "name": "stdout",
     "output_type": "stream",
     "text": [
      "[-123.5]\n"
     ]
    },
    {
     "name": "stderr",
     "output_type": "stream",
     "text": [
      "Epoch [1/5]:  32%|███▏      | 1268/3907 [02:14<03:54, 11.27it/s, loss=0.511, positive_reward=-.0151, negative_reward=0.0392, margin=-.0543]  "
     ]
    },
    {
     "name": "stdout",
     "output_type": "stream",
     "text": [
      "[-131.2]\n"
     ]
    },
    {
     "name": "stderr",
     "output_type": "stream",
     "text": [
      "Epoch [1/5]:  34%|███▎      | 1318/3907 [02:17<02:54, 14.81it/s, loss=0.496, positive_reward=0.0224, negative_reward=0.00676, margin=0.0156]   "
     ]
    },
    {
     "name": "stdout",
     "output_type": "stream",
     "text": [
      "[-119.6]\n"
     ]
    },
    {
     "name": "stderr",
     "output_type": "stream",
     "text": [
      "Epoch [1/5]:  35%|███▍      | 1350/3907 [02:21<03:09, 13.49it/s, loss=0.518, positive_reward=-.0128, negative_reward=0.0697, margin=-.0825]  "
     ]
    },
    {
     "name": "stdout",
     "output_type": "stream",
     "text": [
      "[-121.3]\n"
     ]
    },
    {
     "name": "stderr",
     "output_type": "stream",
     "text": [
      "Epoch [1/5]:  36%|███▌      | 1387/3907 [02:24<03:02, 13.81it/s, loss=0.505, positive_reward=-.0144, negative_reward=0.0154, margin=-.0298] "
     ]
    },
    {
     "name": "stdout",
     "output_type": "stream",
     "text": [
      "[-125.]\n"
     ]
    },
    {
     "name": "stderr",
     "output_type": "stream",
     "text": [
      "Epoch [1/5]:  37%|███▋      | 1440/3907 [02:27<02:36, 15.81it/s, loss=0.512, positive_reward=-.0204, negative_reward=0.0375, margin=-.0579]    "
     ]
    },
    {
     "name": "stdout",
     "output_type": "stream",
     "text": [
      "[-127.3]\n"
     ]
    },
    {
     "name": "stderr",
     "output_type": "stream",
     "text": [
      "Epoch [1/5]:  38%|███▊      | 1473/3907 [02:30<02:46, 14.63it/s, loss=0.503, positive_reward=0.00828, negative_reward=0.0209, margin=-.0126] "
     ]
    },
    {
     "name": "stdout",
     "output_type": "stream",
     "text": [
      "[-136.6]\n"
     ]
    },
    {
     "name": "stderr",
     "output_type": "stream",
     "text": [
      "Epoch [1/5]:  38%|███▊      | 1504/3907 [02:33<02:58, 13.45it/s, loss=0.514, positive_reward=-.0324, negative_reward=0.0448, margin=-.0772]   "
     ]
    },
    {
     "name": "stdout",
     "output_type": "stream",
     "text": [
      "[-117.2]\n"
     ]
    },
    {
     "name": "stderr",
     "output_type": "stream",
     "text": [
      "Epoch [1/5]:  40%|███▉      | 1550/3907 [02:36<02:25, 16.22it/s, loss=0.506, positive_reward=-.019, negative_reward=0.0167, margin=-.0357]   "
     ]
    },
    {
     "name": "stdout",
     "output_type": "stream",
     "text": [
      "[-115.5]\n"
     ]
    },
    {
     "name": "stderr",
     "output_type": "stream",
     "text": [
      "Epoch [1/5]:  40%|████      | 1582/3907 [02:41<03:32, 10.93it/s, loss=0.5, positive_reward=0.00925, negative_reward=0.00989, margin=-.000649]  "
     ]
    },
    {
     "name": "stdout",
     "output_type": "stream",
     "text": [
      "[-127.3]\n"
     ]
    },
    {
     "name": "stderr",
     "output_type": "stream",
     "text": [
      "Epoch [1/5]:  41%|████▏     | 1621/3907 [02:44<02:58, 12.83it/s, loss=0.496, positive_reward=0.0263, negative_reward=0.00862, margin=0.0177]  "
     ]
    },
    {
     "name": "stdout",
     "output_type": "stream",
     "text": [
      "[-108.7]\n"
     ]
    },
    {
     "name": "stderr",
     "output_type": "stream",
     "text": [
      "Epoch [1/5]:  43%|████▎     | 1674/3907 [02:47<02:23, 15.59it/s, loss=0.503, positive_reward=-.00584, negative_reward=0.0161, margin=-.0219]  "
     ]
    },
    {
     "name": "stdout",
     "output_type": "stream",
     "text": [
      "[-119.7]\n"
     ]
    },
    {
     "name": "stderr",
     "output_type": "stream",
     "text": [
      "Epoch [1/5]:  44%|████▎     | 1705/3907 [02:51<02:53, 12.68it/s, loss=0.504, positive_reward=0.0224, negative_reward=0.0404, margin=-.018]   "
     ]
    },
    {
     "name": "stdout",
     "output_type": "stream",
     "text": [
      "[-109.8]\n"
     ]
    },
    {
     "name": "stderr",
     "output_type": "stream",
     "text": [
      "Epoch [1/5]:  44%|████▍     | 1736/3907 [02:54<03:02, 11.92it/s, loss=0.503, positive_reward=0.0346, negative_reward=0.048, margin=-.0134]    "
     ]
    },
    {
     "name": "stdout",
     "output_type": "stream",
     "text": [
      "[-134.2]\n"
     ]
    },
    {
     "name": "stderr",
     "output_type": "stream",
     "text": [
      "Epoch [1/5]:  46%|████▌     | 1784/3907 [02:57<02:37, 13.51it/s, loss=0.503, positive_reward=0.0141, negative_reward=0.0251, margin=-.0109]   "
     ]
    },
    {
     "name": "stdout",
     "output_type": "stream",
     "text": [
      "[-111.9]\n"
     ]
    },
    {
     "name": "stderr",
     "output_type": "stream",
     "text": [
      "Epoch [1/5]:  47%|████▋     | 1817/3907 [03:02<03:04, 11.32it/s, loss=0.501, positive_reward=0.0167, negative_reward=0.0188, margin=-.00216]  "
     ]
    },
    {
     "name": "stdout",
     "output_type": "stream",
     "text": [
      "[-126.2]\n"
     ]
    },
    {
     "name": "stderr",
     "output_type": "stream",
     "text": [
      "Epoch [1/5]:  47%|████▋     | 1855/3907 [03:05<02:48, 12.14it/s, loss=0.508, positive_reward=-.0604, negative_reward=0.00101, margin=-.0614]   "
     ]
    },
    {
     "name": "stdout",
     "output_type": "stream",
     "text": [
      "[-115.7]\n"
     ]
    },
    {
     "name": "stderr",
     "output_type": "stream",
     "text": [
      "Epoch [1/5]:  49%|████▉     | 1906/3907 [03:09<02:30, 13.34it/s, loss=0.498, positive_reward=0.0114, negative_reward=0.00425, margin=0.00718]"
     ]
    },
    {
     "name": "stdout",
     "output_type": "stream",
     "text": [
      "[-138.]\n"
     ]
    },
    {
     "name": "stderr",
     "output_type": "stream",
     "text": [
      "Epoch [1/5]:  50%|████▉     | 1938/3907 [03:12<02:41, 12.18it/s, loss=0.502, positive_reward=0.0206, negative_reward=0.0284, margin=-.00776]  "
     ]
    },
    {
     "name": "stdout",
     "output_type": "stream",
     "text": [
      "[-108.7]\n"
     ]
    },
    {
     "name": "stderr",
     "output_type": "stream",
     "text": [
      "Epoch [1/5]:  50%|█████     | 1972/3907 [03:16<02:33, 12.64it/s, loss=0.508, positive_reward=-.00267, negative_reward=0.0321, margin=-.0347]  "
     ]
    },
    {
     "name": "stdout",
     "output_type": "stream",
     "text": [
      "[-111.1]\n"
     ]
    },
    {
     "name": "stderr",
     "output_type": "stream",
     "text": [
      "Epoch [1/5]:  52%|█████▏    | 2019/3907 [03:18<02:02, 15.43it/s, loss=0.501, positive_reward=-.0174, negative_reward=-.00807, margin=-.00933] "
     ]
    },
    {
     "name": "stdout",
     "output_type": "stream",
     "text": [
      "[-102.2]\n"
     ]
    },
    {
     "name": "stderr",
     "output_type": "stream",
     "text": [
      "Epoch [1/5]:  52%|█████▏    | 2051/3907 [03:23<02:44, 11.31it/s, loss=0.505, positive_reward=0.00978, negative_reward=0.0313, margin=-.0215]   "
     ]
    },
    {
     "name": "stdout",
     "output_type": "stream",
     "text": [
      "[-114.4]\n"
     ]
    },
    {
     "name": "stderr",
     "output_type": "stream",
     "text": [
      "Epoch [1/5]:  54%|█████▍    | 2103/3907 [03:25<01:53, 15.85it/s, loss=0.526, positive_reward=-.0298, negative_reward=0.0925, margin=-.122]    "
     ]
    },
    {
     "name": "stdout",
     "output_type": "stream",
     "text": [
      "[-112.5]\n"
     ]
    },
    {
     "name": "stderr",
     "output_type": "stream",
     "text": [
      "Epoch [1/5]:  55%|█████▍    | 2135/3907 [03:28<01:57, 15.03it/s, loss=0.502, positive_reward=-.00884, negative_reward=0.00403, margin=-.0129] "
     ]
    },
    {
     "name": "stdout",
     "output_type": "stream",
     "text": [
      "[-123.8]\n"
     ]
    },
    {
     "name": "stderr",
     "output_type": "stream",
     "text": [
      "Epoch [1/5]:  55%|█████▌    | 2167/3907 [03:33<02:50, 10.22it/s, loss=0.506, positive_reward=-.00541, negative_reward=0.0227, margin=-.0281]  "
     ]
    },
    {
     "name": "stdout",
     "output_type": "stream",
     "text": [
      "[-129.]\n"
     ]
    },
    {
     "name": "stderr",
     "output_type": "stream",
     "text": [
      "Epoch [1/5]:  57%|█████▋    | 2214/3907 [03:36<02:09, 13.05it/s, loss=0.506, positive_reward=-.0112, negative_reward=0.0213, margin=-.0324]    "
     ]
    },
    {
     "name": "stdout",
     "output_type": "stream",
     "text": [
      "[-105.8]\n"
     ]
    },
    {
     "name": "stderr",
     "output_type": "stream",
     "text": [
      "Epoch [1/5]:  57%|█████▋    | 2246/3907 [03:39<01:56, 14.23it/s, loss=0.511, positive_reward=-.0118, negative_reward=0.0388, margin=-.0506]   "
     ]
    },
    {
     "name": "stdout",
     "output_type": "stream",
     "text": [
      "[-101.2]\n"
     ]
    },
    {
     "name": "stderr",
     "output_type": "stream",
     "text": [
      "Epoch [1/5]:  59%|█████▊    | 2295/3907 [03:42<01:45, 15.33it/s, loss=0.511, positive_reward=-.0127, negative_reward=0.0401, margin=-.0529]    "
     ]
    },
    {
     "name": "stdout",
     "output_type": "stream",
     "text": [
      "[-121.4]\n"
     ]
    },
    {
     "name": "stderr",
     "output_type": "stream",
     "text": [
      "Epoch [1/5]:  60%|█████▉    | 2327/3907 [03:45<01:50, 14.34it/s, loss=0.507, positive_reward=-.011, negative_reward=0.0272, margin=-.0382]    "
     ]
    },
    {
     "name": "stdout",
     "output_type": "stream",
     "text": [
      "[-108.1]\n"
     ]
    },
    {
     "name": "stderr",
     "output_type": "stream",
     "text": [
      "Epoch [1/5]:  61%|██████    | 2364/3907 [03:50<02:15, 11.39it/s, loss=0.511, positive_reward=-.046, negative_reward=0.0239, margin=-.0698]    "
     ]
    },
    {
     "name": "stdout",
     "output_type": "stream",
     "text": [
      "[-124.8]\n"
     ]
    },
    {
     "name": "stderr",
     "output_type": "stream",
     "text": [
      "Epoch [1/5]:  61%|██████▏   | 2402/3907 [03:53<02:00, 12.52it/s, loss=0.504, positive_reward=-.00475, negative_reward=0.0158, margin=-.0205] "
     ]
    },
    {
     "name": "stdout",
     "output_type": "stream",
     "text": [
      "[-137.5]\n"
     ]
    },
    {
     "name": "stderr",
     "output_type": "stream",
     "text": [
      "Epoch [1/5]:  63%|██████▎   | 2454/3907 [03:58<02:08, 11.32it/s, loss=0.502, positive_reward=-.0171, negative_reward=-.00387, margin=-.0132]  "
     ]
    },
    {
     "name": "stdout",
     "output_type": "stream",
     "text": [
      "[-129.2]\n"
     ]
    },
    {
     "name": "stderr",
     "output_type": "stream",
     "text": [
      "Epoch [1/5]:  64%|██████▎   | 2487/3907 [04:01<01:57, 12.12it/s, loss=0.519, positive_reward=-.00699, negative_reward=0.0894, margin=-.0964]  "
     ]
    },
    {
     "name": "stdout",
     "output_type": "stream",
     "text": [
      "[-110.2]\n"
     ]
    },
    {
     "name": "stderr",
     "output_type": "stream",
     "text": [
      "Epoch [1/5]:  64%|██████▍   | 2520/3907 [04:04<01:42, 13.60it/s, loss=0.498, positive_reward=0.0262, negative_reward=0.0171, margin=0.00907]  "
     ]
    },
    {
     "name": "stdout",
     "output_type": "stream",
     "text": [
      "[-109.7]\n"
     ]
    },
    {
     "name": "stderr",
     "output_type": "stream",
     "text": [
      "Epoch [1/5]:  66%|██████▌   | 2573/3907 [04:07<01:22, 16.22it/s, loss=0.5, positive_reward=0.000886, negative_reward=0.00252, margin=-.00164] "
     ]
    },
    {
     "name": "stdout",
     "output_type": "stream",
     "text": [
      "[-116.4]\n"
     ]
    },
    {
     "name": "stderr",
     "output_type": "stream",
     "text": [
      "Epoch [1/5]:  67%|██████▋   | 2603/3907 [04:10<01:29, 14.49it/s, loss=0.51, positive_reward=0.0204, negative_reward=0.0614, margin=-.041]      "
     ]
    },
    {
     "name": "stdout",
     "output_type": "stream",
     "text": [
      "[-105.7]\n"
     ]
    },
    {
     "name": "stderr",
     "output_type": "stream",
     "text": [
      "Epoch [1/5]:  67%|██████▋   | 2636/3907 [04:13<01:33, 13.55it/s, loss=0.51, positive_reward=-.0168, negative_reward=0.0322, margin=-.0489]   "
     ]
    },
    {
     "name": "stdout",
     "output_type": "stream",
     "text": [
      "[-117.8]\n"
     ]
    },
    {
     "name": "stderr",
     "output_type": "stream",
     "text": [
      "Epoch [1/5]:  69%|██████▉   | 2688/3907 [04:18<01:42, 11.89it/s, loss=0.502, positive_reward=-.0315, negative_reward=-.0119, margin=-.0196]   "
     ]
    },
    {
     "name": "stdout",
     "output_type": "stream",
     "text": [
      "[-138.6]\n"
     ]
    },
    {
     "name": "stderr",
     "output_type": "stream",
     "text": [
      "Epoch [1/5]:  70%|██████▉   | 2719/3907 [04:21<01:37, 12.17it/s, loss=0.51, positive_reward=-.0375, negative_reward=0.0281, margin=-.0656]    "
     ]
    },
    {
     "name": "stdout",
     "output_type": "stream",
     "text": [
      "[-112.1]\n"
     ]
    },
    {
     "name": "stderr",
     "output_type": "stream",
     "text": [
      "Epoch [1/5]:  70%|███████   | 2754/3907 [04:24<01:30, 12.75it/s, loss=0.497, positive_reward=0.0207, negative_reward=0.00652, margin=0.0142] "
     ]
    },
    {
     "name": "stdout",
     "output_type": "stream",
     "text": [
      "[-121.5]\n"
     ]
    },
    {
     "name": "stderr",
     "output_type": "stream",
     "text": [
      "Epoch [1/5]:  72%|███████▏  | 2803/3907 [04:28<01:17, 14.20it/s, loss=0.526, positive_reward=-.041, negative_reward=0.0932, margin=-.134]     "
     ]
    },
    {
     "name": "stdout",
     "output_type": "stream",
     "text": [
      "[-103.5]\n"
     ]
    },
    {
     "name": "stderr",
     "output_type": "stream",
     "text": [
      "Epoch [1/5]:  73%|███████▎  | 2834/3907 [04:31<01:21, 13.22it/s, loss=0.511, positive_reward=-.0236, negative_reward=0.0343, margin=-.058]    "
     ]
    },
    {
     "name": "stdout",
     "output_type": "stream",
     "text": [
      "[-104.8]\n"
     ]
    },
    {
     "name": "stderr",
     "output_type": "stream",
     "text": [
      "Epoch [1/5]:  73%|███████▎  | 2871/3907 [04:35<01:33, 11.05it/s, loss=0.512, positive_reward=-.0305, negative_reward=0.0368, margin=-.0673]  "
     ]
    },
    {
     "name": "stdout",
     "output_type": "stream",
     "text": [
      "[-140.2]\n"
     ]
    },
    {
     "name": "stderr",
     "output_type": "stream",
     "text": [
      "Epoch [1/5]:  75%|███████▍  | 2922/3907 [04:40<01:32, 10.67it/s, loss=0.496, positive_reward=0.0112, negative_reward=0.000107, margin=0.0111]"
     ]
    },
    {
     "name": "stdout",
     "output_type": "stream",
     "text": [
      "[-130.8]\n"
     ]
    },
    {
     "name": "stderr",
     "output_type": "stream",
     "text": [
      "Epoch [1/5]:  76%|███████▌  | 2955/3907 [04:43<01:16, 12.46it/s, loss=0.519, positive_reward=-.0398, negative_reward=0.0643, margin=-.104]   "
     ]
    },
    {
     "name": "stdout",
     "output_type": "stream",
     "text": [
      "[-113.7]\n"
     ]
    },
    {
     "name": "stderr",
     "output_type": "stream",
     "text": [
      "Epoch [1/5]:  76%|███████▋  | 2985/3907 [04:47<01:29, 10.34it/s, loss=0.509, positive_reward=0.00973, negative_reward=0.0459, margin=-.0361]  "
     ]
    },
    {
     "name": "stdout",
     "output_type": "stream",
     "text": [
      "[-129.2]\n"
     ]
    },
    {
     "name": "stderr",
     "output_type": "stream",
     "text": [
      "Epoch [1/5]:  78%|███████▊  | 3032/3907 [04:51<01:10, 12.38it/s, loss=0.516, positive_reward=-.0579, negative_reward=0.0491, margin=-.107]    "
     ]
    },
    {
     "name": "stdout",
     "output_type": "stream",
     "text": [
      "[-118.5]\n"
     ]
    },
    {
     "name": "stderr",
     "output_type": "stream",
     "text": [
      "Epoch [1/5]:  78%|███████▊  | 3066/3907 [04:56<01:23, 10.07it/s, loss=0.498, positive_reward=0.0106, negative_reward=0.00487, margin=0.00571]  "
     ]
    },
    {
     "name": "stdout",
     "output_type": "stream",
     "text": [
      "[-123.2]\n"
     ]
    },
    {
     "name": "stderr",
     "output_type": "stream",
     "text": [
      "Epoch [1/5]:  80%|███████▉  | 3117/3907 [04:59<01:02, 12.58it/s, loss=0.498, positive_reward=0.0241, negative_reward=0.0135, margin=0.0106]   "
     ]
    },
    {
     "name": "stdout",
     "output_type": "stream",
     "text": [
      "[-113.8]\n"
     ]
    },
    {
     "name": "stderr",
     "output_type": "stream",
     "text": [
      "Epoch [1/5]:  81%|████████  | 3147/3907 [05:03<01:01, 12.27it/s, loss=0.505, positive_reward=0.0187, negative_reward=0.0416, margin=-.0229]  "
     ]
    },
    {
     "name": "stdout",
     "output_type": "stream",
     "text": [
      "[-100.7]\n"
     ]
    },
    {
     "name": "stderr",
     "output_type": "stream",
     "text": [
      "Epoch [1/5]:  81%|████████▏ | 3183/3907 [05:06<00:55, 13.11it/s, loss=0.509, positive_reward=-.0554, negative_reward=0.0133, margin=-.0687]   "
     ]
    },
    {
     "name": "stdout",
     "output_type": "stream",
     "text": [
      "[-96.]\n"
     ]
    },
    {
     "name": "stderr",
     "output_type": "stream",
     "text": [
      "Epoch [1/5]:  83%|████████▎ | 3232/3907 [05:09<00:45, 14.79it/s, loss=0.499, positive_reward=0.000173, negative_reward=-.00437, margin=0.00454]"
     ]
    },
    {
     "name": "stdout",
     "output_type": "stream",
     "text": [
      "[-111.1]\n"
     ]
    },
    {
     "name": "stderr",
     "output_type": "stream",
     "text": [
      "Epoch [1/5]:  84%|████████▎ | 3263/3907 [05:12<00:47, 13.55it/s, loss=0.513, positive_reward=-.0291, negative_reward=0.0434, margin=-.0725]    "
     ]
    },
    {
     "name": "stdout",
     "output_type": "stream",
     "text": [
      "[-104.3]\n"
     ]
    },
    {
     "name": "stderr",
     "output_type": "stream",
     "text": [
      "Epoch [1/5]:  85%|████████▍ | 3302/3907 [05:15<00:43, 13.96it/s, loss=0.518, positive_reward=0.00565, negative_reward=0.0806, margin=-.075]   "
     ]
    },
    {
     "name": "stdout",
     "output_type": "stream",
     "text": [
      "[-110.5]\n"
     ]
    },
    {
     "name": "stderr",
     "output_type": "stream",
     "text": [
      "Epoch [1/5]:  85%|████████▌ | 3339/3907 [05:20<00:52, 10.73it/s, loss=0.501, positive_reward=-.00442, negative_reward=0.00276, margin=-.00718] "
     ]
    },
    {
     "name": "stdout",
     "output_type": "stream",
     "text": [
      "[-134.]\n"
     ]
    },
    {
     "name": "stderr",
     "output_type": "stream",
     "text": [
      "Epoch [1/5]:  87%|████████▋ | 3391/3907 [05:23<00:36, 13.95it/s, loss=0.504, positive_reward=0.0224, negative_reward=0.0391, margin=-.0167]    "
     ]
    },
    {
     "name": "stdout",
     "output_type": "stream",
     "text": [
      "[-117.9]\n"
     ]
    },
    {
     "name": "stderr",
     "output_type": "stream",
     "text": [
      "Epoch [1/5]:  88%|████████▊ | 3420/3907 [05:27<00:38, 12.78it/s, loss=0.555, positive_reward=-.173, negative_reward=0.241, margin=-.414]      "
     ]
    },
    {
     "name": "stdout",
     "output_type": "stream",
     "text": [
      "[-112.4]\n"
     ]
    },
    {
     "name": "stderr",
     "output_type": "stream",
     "text": [
      "Epoch [1/5]:  89%|████████▊ | 3458/3907 [05:31<00:40, 10.96it/s, loss=0.512, positive_reward=-.000172, negative_reward=0.0533, margin=-.0535]"
     ]
    },
    {
     "name": "stdout",
     "output_type": "stream",
     "text": [
      "[-145.7]\n"
     ]
    },
    {
     "name": "stderr",
     "output_type": "stream",
     "text": [
      "Epoch [1/5]:  89%|████████▉ | 3496/3907 [05:35<00:33, 12.11it/s, loss=0.513, positive_reward=-.00906, negative_reward=0.0525, margin=-.0616]   "
     ]
    },
    {
     "name": "stdout",
     "output_type": "stream",
     "text": [
      "[-124.4]\n"
     ]
    },
    {
     "name": "stderr",
     "output_type": "stream",
     "text": [
      "Epoch [1/5]:  91%|█████████ | 3546/3907 [05:37<00:23, 15.62it/s, loss=0.499, positive_reward=0.0176, negative_reward=0.0143, margin=0.00323]   "
     ]
    },
    {
     "name": "stdout",
     "output_type": "stream",
     "text": [
      "[-117.1]\n"
     ]
    },
    {
     "name": "stderr",
     "output_type": "stream",
     "text": [
      "Epoch [1/5]:  92%|█████████▏| 3578/3907 [05:40<00:21, 15.61it/s, loss=0.503, positive_reward=0.0175, negative_reward=0.0298, margin=-.0123]  "
     ]
    },
    {
     "name": "stdout",
     "output_type": "stream",
     "text": [
      "[-100.1]\n"
     ]
    },
    {
     "name": "stderr",
     "output_type": "stream",
     "text": [
      "Epoch [1/5]:  93%|█████████▎| 3614/3907 [05:43<00:19, 15.04it/s, loss=0.501, positive_reward=0.0126, negative_reward=0.0184, margin=-.00572] "
     ]
    },
    {
     "name": "stdout",
     "output_type": "stream",
     "text": [
      "[-105.4]\n"
     ]
    },
    {
     "name": "stderr",
     "output_type": "stream",
     "text": [
      "Epoch [1/5]:  93%|█████████▎| 3653/3907 [05:46<00:17, 14.88it/s, loss=0.501, positive_reward=0.015, negative_reward=0.0204, margin=-.00539]  "
     ]
    },
    {
     "name": "stdout",
     "output_type": "stream",
     "text": [
      "[-122.8]\n"
     ]
    },
    {
     "name": "stderr",
     "output_type": "stream",
     "text": [
      "Epoch [1/5]:  95%|█████████▍| 3702/3907 [05:49<00:13, 15.46it/s, loss=0.496, positive_reward=0.0208, negative_reward=0.00619, margin=0.0147]   "
     ]
    },
    {
     "name": "stdout",
     "output_type": "stream",
     "text": [
      "[-118.6]\n"
     ]
    },
    {
     "name": "stderr",
     "output_type": "stream",
     "text": [
      "Epoch [1/5]:  96%|█████████▌| 3734/3907 [05:54<00:15, 11.49it/s, loss=0.508, positive_reward=-.00474, negative_reward=0.0284, margin=-.0331] "
     ]
    },
    {
     "name": "stdout",
     "output_type": "stream",
     "text": [
      "[-119.1]\n"
     ]
    },
    {
     "name": "stderr",
     "output_type": "stream",
     "text": [
      "Epoch [1/5]:  96%|█████████▋| 3765/3907 [05:57<00:11, 11.88it/s, loss=0.508, positive_reward=-.0174, negative_reward=0.0355, margin=-.0529]   "
     ]
    },
    {
     "name": "stdout",
     "output_type": "stream",
     "text": [
      "[-107.4]\n"
     ]
    },
    {
     "name": "stderr",
     "output_type": "stream",
     "text": [
      "Epoch [1/5]:  98%|█████████▊| 3814/3907 [06:00<00:06, 14.52it/s, loss=0.506, positive_reward=-.00937, negative_reward=0.0211, margin=-.0305]  "
     ]
    },
    {
     "name": "stdout",
     "output_type": "stream",
     "text": [
      "[-115.6]\n"
     ]
    },
    {
     "name": "stderr",
     "output_type": "stream",
     "text": [
      "Epoch [1/5]:  99%|█████████▊| 3849/3907 [06:05<00:05, 11.01it/s, loss=0.498, positive_reward=0.00836, negative_reward=0.000501, margin=0.00786]"
     ]
    },
    {
     "name": "stdout",
     "output_type": "stream",
     "text": [
      "[-121.]\n"
     ]
    },
    {
     "name": "stderr",
     "output_type": "stream",
     "text": [
      "Epoch [1/5]: 100%|█████████▉| 3888/3907 [06:07<00:01, 13.62it/s, loss=0.499, positive_reward=0.0186, negative_reward=0.0138, margin=0.00486]   "
     ]
    },
    {
     "name": "stdout",
     "output_type": "stream",
     "text": [
      "[-105.9]\n"
     ]
    },
    {
     "name": "stderr",
     "output_type": "stream",
     "text": [
      "Epoch [1/5]: 100%|██████████| 3907/3907 [06:12<00:00, 10.48it/s, loss=0.501, positive_reward=0.00327, negative_reward=0.00902, margin=-.00575]\n"
     ]
    },
    {
     "name": "stdout",
     "output_type": "stream",
     "text": [
      "[-124.]\n"
     ]
    },
    {
     "name": "stderr",
     "output_type": "stream",
     "text": [
      "Epoch [2/5]:   2%|▏         | 61/3907 [00:02<03:08, 20.36it/s, loss=0.505, positive_reward=-.00163, negative_reward=0.0188, margin=-.0204]  "
     ]
    },
    {
     "name": "stdout",
     "output_type": "stream",
     "text": [
      "[-120.3]\n"
     ]
    },
    {
     "name": "stderr",
     "output_type": "stream",
     "text": [
      "Epoch [2/5]:   3%|▎         | 106/3907 [00:06<03:54, 16.18it/s, loss=0.515, positive_reward=-.00116, negative_reward=0.0613, margin=-.0625] "
     ]
    },
    {
     "name": "stdout",
     "output_type": "stream",
     "text": [
      "[-116.4]\n"
     ]
    },
    {
     "name": "stderr",
     "output_type": "stream",
     "text": [
      "Epoch [2/5]:   3%|▎         | 136/3907 [00:09<04:42, 13.36it/s, loss=0.505, positive_reward=0.00801, negative_reward=0.0289, margin=-.0209] "
     ]
    },
    {
     "name": "stdout",
     "output_type": "stream",
     "text": [
      "[-117.2]\n"
     ]
    },
    {
     "name": "stderr",
     "output_type": "stream",
     "text": [
      "Epoch [2/5]:   5%|▍         | 187/3907 [00:12<04:02, 15.31it/s, loss=0.501, positive_reward=0.00892, negative_reward=0.0137, margin=-.00483] "
     ]
    },
    {
     "name": "stdout",
     "output_type": "stream",
     "text": [
      "[-107.5]\n"
     ]
    },
    {
     "name": "stderr",
     "output_type": "stream",
     "text": [
      "Epoch [2/5]:   6%|▌         | 218/3907 [00:16<04:46, 12.89it/s, loss=0.498, positive_reward=0.0215, negative_reward=0.00999, margin=0.0115] "
     ]
    },
    {
     "name": "stdout",
     "output_type": "stream",
     "text": [
      "[-111.7]\n"
     ]
    },
    {
     "name": "stderr",
     "output_type": "stream",
     "text": [
      "Epoch [2/5]:   7%|▋         | 254/3907 [00:19<04:43, 12.87it/s, loss=0.511, positive_reward=-.0539, negative_reward=0.0192, margin=-.073]    "
     ]
    },
    {
     "name": "stdout",
     "output_type": "stream",
     "text": [
      "[-114.4]\n"
     ]
    },
    {
     "name": "stderr",
     "output_type": "stream",
     "text": [
      "Epoch [2/5]:   8%|▊         | 305/3907 [00:22<04:03, 14.81it/s, loss=0.491, positive_reward=0.0323, negative_reward=-.00617, margin=0.0385]  "
     ]
    },
    {
     "name": "stdout",
     "output_type": "stream",
     "text": [
      "[-111.7]\n"
     ]
    },
    {
     "name": "stderr",
     "output_type": "stream",
     "text": [
      "Epoch [2/5]:   9%|▊         | 337/3907 [00:25<04:18, 13.79it/s, loss=0.503, positive_reward=-.00456, negative_reward=0.00807, margin=-.0126]  "
     ]
    },
    {
     "name": "stdout",
     "output_type": "stream",
     "text": [
      "[-110.3]\n"
     ]
    },
    {
     "name": "stderr",
     "output_type": "stream",
     "text": [
      "Epoch [2/5]:   9%|▉         | 365/3907 [00:28<04:37, 12.76it/s, loss=0.509, positive_reward=-5.55e-5, negative_reward=0.0369, margin=-.0369]"
     ]
    },
    {
     "name": "stdout",
     "output_type": "stream",
     "text": [
      "[-103.2]\n"
     ]
    },
    {
     "name": "stderr",
     "output_type": "stream",
     "text": [
      "Epoch [2/5]:  11%|█         | 414/3907 [00:31<03:49, 15.19it/s, loss=0.505, positive_reward=-.0157, negative_reward=0.0116, margin=-.0273]   "
     ]
    },
    {
     "name": "stdout",
     "output_type": "stream",
     "text": [
      "[-102.2]\n"
     ]
    },
    {
     "name": "stderr",
     "output_type": "stream",
     "text": [
      "Epoch [2/5]:  12%|█▏        | 450/3907 [00:34<03:56, 14.63it/s, loss=0.501, positive_reward=0.0417, negative_reward=0.0436, margin=-.00198]  "
     ]
    },
    {
     "name": "stdout",
     "output_type": "stream",
     "text": [
      "[-120.]\n"
     ]
    },
    {
     "name": "stderr",
     "output_type": "stream",
     "text": [
      "Epoch [2/5]:  12%|█▏        | 486/3907 [00:38<04:03, 14.04it/s, loss=0.512, positive_reward=0.0136, negative_reward=0.0644, margin=-.0507]   "
     ]
    },
    {
     "name": "stdout",
     "output_type": "stream",
     "text": [
      "[-110.9]\n"
     ]
    },
    {
     "name": "stderr",
     "output_type": "stream",
     "text": [
      "Epoch [2/5]:  14%|█▎        | 534/3907 [00:41<04:03, 13.88it/s, loss=0.519, positive_reward=0.0251, negative_reward=0.11, margin=-.085]    "
     ]
    },
    {
     "name": "stdout",
     "output_type": "stream",
     "text": [
      "[-144.6]\n"
     ]
    },
    {
     "name": "stderr",
     "output_type": "stream",
     "text": [
      "Epoch [2/5]:  14%|█▍        | 566/3907 [00:44<04:06, 13.56it/s, loss=0.514, positive_reward=0.0603, negative_reward=0.13, margin=-.0694]    "
     ]
    },
    {
     "name": "stdout",
     "output_type": "stream",
     "text": [
      "[-108.7]\n"
     ]
    },
    {
     "name": "stderr",
     "output_type": "stream",
     "text": [
      "Epoch [2/5]:  16%|█▌        | 618/3907 [00:48<03:38, 15.05it/s, loss=0.517, positive_reward=0.00053, negative_reward=0.0715, margin=-.0709]  "
     ]
    },
    {
     "name": "stdout",
     "output_type": "stream",
     "text": [
      "[-117.8]\n"
     ]
    },
    {
     "name": "stderr",
     "output_type": "stream",
     "text": [
      "Epoch [2/5]:  17%|█▋        | 650/3907 [00:53<05:12, 10.43it/s, loss=0.519, positive_reward=-.0146, negative_reward=0.0738, margin=-.0884]   "
     ]
    },
    {
     "name": "stdout",
     "output_type": "stream",
     "text": [
      "[-135.2]\n"
     ]
    },
    {
     "name": "stderr",
     "output_type": "stream",
     "text": [
      "Epoch [2/5]:  18%|█▊        | 685/3907 [00:56<04:23, 12.20it/s, loss=0.53, positive_reward=-.0175, negative_reward=0.135, margin=-.152]      "
     ]
    },
    {
     "name": "stdout",
     "output_type": "stream",
     "text": [
      "[-101.5]\n"
     ]
    },
    {
     "name": "stderr",
     "output_type": "stream",
     "text": [
      "Epoch [2/5]:  19%|█▊        | 724/3907 [00:59<03:50, 13.82it/s, loss=0.517, positive_reward=-.0272, negative_reward=0.0614, margin=-.0886]   "
     ]
    },
    {
     "name": "stdout",
     "output_type": "stream",
     "text": [
      "[-110.5]\n"
     ]
    },
    {
     "name": "stderr",
     "output_type": "stream",
     "text": [
      "Epoch [2/5]:  20%|█▉        | 775/3907 [01:02<03:24, 15.32it/s, loss=0.505, positive_reward=-.00674, negative_reward=0.02, margin=-.0267]   "
     ]
    },
    {
     "name": "stdout",
     "output_type": "stream",
     "text": [
      "[-105.3]\n"
     ]
    },
    {
     "name": "stderr",
     "output_type": "stream",
     "text": [
      "Epoch [2/5]:  21%|██        | 807/3907 [01:05<03:53, 13.28it/s, loss=0.508, positive_reward=0.0201, negative_reward=0.0553, margin=-.0352]   "
     ]
    },
    {
     "name": "stdout",
     "output_type": "stream",
     "text": [
      "[-118.5]\n"
     ]
    },
    {
     "name": "stderr",
     "output_type": "stream",
     "text": [
      "Epoch [2/5]:  21%|██▏       | 839/3907 [01:08<03:59, 12.83it/s, loss=0.499, positive_reward=0.0335, negative_reward=0.029, margin=0.00458]  "
     ]
    },
    {
     "name": "stdout",
     "output_type": "stream",
     "text": [
      "[-116.]\n"
     ]
    },
    {
     "name": "stderr",
     "output_type": "stream",
     "text": [
      "Epoch [2/5]:  23%|██▎       | 889/3907 [01:11<03:19, 15.15it/s, loss=0.5, positive_reward=-.00379, negative_reward=-.00411, margin=0.000321] "
     ]
    },
    {
     "name": "stdout",
     "output_type": "stream",
     "text": [
      "[-108.5]\n"
     ]
    },
    {
     "name": "stderr",
     "output_type": "stream",
     "text": [
      "Epoch [2/5]:  24%|██▎       | 919/3907 [01:15<03:40, 13.56it/s, loss=0.503, positive_reward=0.022, negative_reward=0.0329, margin=-.0109]   "
     ]
    },
    {
     "name": "stdout",
     "output_type": "stream",
     "text": [
      "[-103.7]\n"
     ]
    },
    {
     "name": "stderr",
     "output_type": "stream",
     "text": [
      "Epoch [2/5]:  25%|██▍       | 958/3907 [01:19<04:05, 12.03it/s, loss=0.496, positive_reward=0.0106, negative_reward=-.0106, margin=0.0212]  "
     ]
    },
    {
     "name": "stdout",
     "output_type": "stream",
     "text": [
      "[-112.7]\n"
     ]
    },
    {
     "name": "stderr",
     "output_type": "stream",
     "text": [
      "Epoch [2/5]:  25%|██▌       | 996/3907 [01:21<03:23, 14.33it/s, loss=0.5, positive_reward=0.0209, negative_reward=0.0211, margin=-.000145]   "
     ]
    },
    {
     "name": "stdout",
     "output_type": "stream",
     "text": [
      "[-107.9]\n"
     ]
    },
    {
     "name": "stderr",
     "output_type": "stream",
     "text": [
      "Epoch [2/5]:  27%|██▋       | 1048/3907 [01:24<02:52, 16.53it/s, loss=0.505, positive_reward=0.0266, negative_reward=0.046, margin=-.0194]   "
     ]
    },
    {
     "name": "stdout",
     "output_type": "stream",
     "text": [
      "[-103.1]\n"
     ]
    },
    {
     "name": "stderr",
     "output_type": "stream",
     "text": [
      "Epoch [2/5]:  28%|██▊       | 1081/3907 [01:28<03:16, 14.41it/s, loss=0.504, positive_reward=-.0203, negative_reward=0.00237, margin=-.0227] "
     ]
    },
    {
     "name": "stdout",
     "output_type": "stream",
     "text": [
      "[-111.3]\n"
     ]
    },
    {
     "name": "stderr",
     "output_type": "stream",
     "text": [
      "Epoch [2/5]:  29%|██▊       | 1114/3907 [01:31<03:20, 13.96it/s, loss=0.502, positive_reward=0.0158, negative_reward=0.0237, margin=-.00795]"
     ]
    },
    {
     "name": "stdout",
     "output_type": "stream",
     "text": [
      "[-101.]\n"
     ]
    },
    {
     "name": "stderr",
     "output_type": "stream",
     "text": [
      "Epoch [2/5]:  30%|██▉       | 1153/3907 [01:33<02:57, 15.53it/s, loss=0.531, positive_reward=-.0033, negative_reward=0.141, margin=-.144]    "
     ]
    },
    {
     "name": "stdout",
     "output_type": "stream",
     "text": [
      "[-105.6]\n"
     ]
    },
    {
     "name": "stderr",
     "output_type": "stream",
     "text": [
      "Epoch [2/5]:  30%|███       | 1190/3907 [01:36<03:04, 14.76it/s, loss=0.501, positive_reward=0.00773, negative_reward=0.0137, margin=-.00598]  "
     ]
    },
    {
     "name": "stdout",
     "output_type": "stream",
     "text": [
      "[-124.8]\n"
     ]
    },
    {
     "name": "stderr",
     "output_type": "stream",
     "text": [
      "Epoch [2/5]:  32%|███▏      | 1240/3907 [01:41<03:37, 12.25it/s, loss=0.499, positive_reward=0.00961, negative_reward=0.006, margin=0.00361]  "
     ]
    },
    {
     "name": "stdout",
     "output_type": "stream",
     "text": [
      "[-120.2]\n"
     ]
    },
    {
     "name": "stderr",
     "output_type": "stream",
     "text": [
      "Epoch [2/5]:  33%|███▎      | 1271/3907 [01:44<03:36, 12.19it/s, loss=0.505, positive_reward=0.0335, negative_reward=0.0528, margin=-.0193]    "
     ]
    },
    {
     "name": "stdout",
     "output_type": "stream",
     "text": [
      "[-122.8]\n"
     ]
    },
    {
     "name": "stderr",
     "output_type": "stream",
     "text": [
      "Epoch [2/5]:  34%|███▍      | 1320/3907 [01:47<02:48, 15.36it/s, loss=0.499, positive_reward=0.0328, negative_reward=0.0287, margin=0.0041]   "
     ]
    },
    {
     "name": "stdout",
     "output_type": "stream",
     "text": [
      "[-101.9]\n"
     ]
    },
    {
     "name": "stderr",
     "output_type": "stream",
     "text": [
      "Epoch [2/5]:  35%|███▍      | 1349/3907 [01:50<03:16, 13.02it/s, loss=0.514, positive_reward=-.0547, negative_reward=0.0411, margin=-.0958]   "
     ]
    },
    {
     "name": "stdout",
     "output_type": "stream",
     "text": [
      "[-104.8]\n"
     ]
    },
    {
     "name": "stderr",
     "output_type": "stream",
     "text": [
      "Epoch [2/5]:  36%|███▌      | 1397/3907 [01:56<04:00, 10.43it/s, loss=0.504, positive_reward=0.0314, negative_reward=0.0497, margin=-.0183]  "
     ]
    },
    {
     "name": "stdout",
     "output_type": "stream",
     "text": [
      "[-171.9]\n"
     ]
    },
    {
     "name": "stderr",
     "output_type": "stream",
     "text": [
      "Epoch [2/5]:  37%|███▋      | 1428/3907 [01:59<03:40, 11.23it/s, loss=0.542, positive_reward=-.063, negative_reward=0.204, margin=-.267]    "
     ]
    },
    {
     "name": "stdout",
     "output_type": "stream",
     "text": [
      "[-115.4]\n"
     ]
    },
    {
     "name": "stderr",
     "output_type": "stream",
     "text": [
      "Epoch [2/5]:  38%|███▊      | 1466/3907 [02:04<04:02, 10.05it/s, loss=0.496, positive_reward=0.0339, negative_reward=0.0136, margin=0.0203]  "
     ]
    },
    {
     "name": "stdout",
     "output_type": "stream",
     "text": [
      "[-152.3]\n"
     ]
    },
    {
     "name": "stderr",
     "output_type": "stream",
     "text": [
      "Epoch [2/5]:  38%|███▊      | 1502/3907 [02:06<03:12, 12.49it/s, loss=0.502, positive_reward=0.0265, negative_reward=0.0332, margin=-.00664]   "
     ]
    },
    {
     "name": "stdout",
     "output_type": "stream",
     "text": [
      "[-105.]\n"
     ]
    },
    {
     "name": "stderr",
     "output_type": "stream",
     "text": [
      "Epoch [2/5]:  40%|███▉      | 1550/3907 [02:10<02:39, 14.76it/s, loss=0.501, positive_reward=0.0328, negative_reward=0.0375, margin=-.00471]   "
     ]
    },
    {
     "name": "stdout",
     "output_type": "stream",
     "text": [
      "[-113.5]\n"
     ]
    },
    {
     "name": "stderr",
     "output_type": "stream",
     "text": [
      "Epoch [2/5]:  40%|████      | 1582/3907 [02:13<02:48, 13.82it/s, loss=0.544, positive_reward=-.0914, negative_reward=0.155, margin=-.246]      "
     ]
    },
    {
     "name": "stdout",
     "output_type": "stream",
     "text": [
      "[-105.]\n"
     ]
    },
    {
     "name": "stderr",
     "output_type": "stream",
     "text": [
      "Epoch [2/5]:  42%|████▏     | 1634/3907 [02:18<03:14, 11.70it/s, loss=0.503, positive_reward=-.00333, negative_reward=0.0114, margin=-.0147]"
     ]
    },
    {
     "name": "stdout",
     "output_type": "stream",
     "text": [
      "[-137.]\n"
     ]
    },
    {
     "name": "stderr",
     "output_type": "stream",
     "text": [
      "Epoch [2/5]:  43%|████▎     | 1667/3907 [02:20<02:50, 13.12it/s, loss=0.505, positive_reward=0.000718, negative_reward=0.0286, margin=-.0279]"
     ]
    },
    {
     "name": "stdout",
     "output_type": "stream",
     "text": [
      "[-106.7]\n"
     ]
    },
    {
     "name": "stderr",
     "output_type": "stream",
     "text": [
      "Epoch [2/5]:  43%|████▎     | 1697/3907 [02:23<02:44, 13.46it/s, loss=0.52, positive_reward=-.0104, negative_reward=0.0775, margin=-.0879]   "
     ]
    },
    {
     "name": "stdout",
     "output_type": "stream",
     "text": [
      "[-106.3]\n"
     ]
    },
    {
     "name": "stderr",
     "output_type": "stream",
     "text": [
      "Epoch [2/5]:  45%|████▍     | 1744/3907 [02:26<02:21, 15.30it/s, loss=0.503, positive_reward=0.0138, negative_reward=0.031, margin=-.0172]  "
     ]
    },
    {
     "name": "stdout",
     "output_type": "stream",
     "text": [
      "[-114.7]\n"
     ]
    },
    {
     "name": "stderr",
     "output_type": "stream",
     "text": [
      "Epoch [2/5]:  45%|████▌     | 1775/3907 [02:29<02:29, 14.26it/s, loss=0.509, positive_reward=0.0256, negative_reward=0.0645, margin=-.039]     "
     ]
    },
    {
     "name": "stdout",
     "output_type": "stream",
     "text": [
      "[-135.6]\n"
     ]
    },
    {
     "name": "stderr",
     "output_type": "stream",
     "text": [
      "Epoch [2/5]:  47%|████▋     | 1824/3907 [02:32<02:26, 14.23it/s, loss=0.511, positive_reward=-.017, negative_reward=0.0394, margin=-.0565]   "
     ]
    },
    {
     "name": "stdout",
     "output_type": "stream",
     "text": [
      "[-136.1]\n"
     ]
    },
    {
     "name": "stderr",
     "output_type": "stream",
     "text": [
      "Epoch [2/5]:  47%|████▋     | 1853/3907 [02:36<02:43, 12.57it/s, loss=0.523, positive_reward=-.0531, negative_reward=0.0867, margin=-.14]     "
     ]
    },
    {
     "name": "stdout",
     "output_type": "stream",
     "text": [
      "[-115.3]\n"
     ]
    },
    {
     "name": "stderr",
     "output_type": "stream",
     "text": [
      "Epoch [2/5]:  49%|████▊     | 1901/3907 [02:39<02:18, 14.45it/s, loss=0.496, positive_reward=0.0201, negative_reward=0.00549, margin=0.0146] "
     ]
    },
    {
     "name": "stdout",
     "output_type": "stream",
     "text": [
      "[-108.7]\n"
     ]
    },
    {
     "name": "stderr",
     "output_type": "stream",
     "text": [
      "Epoch [2/5]:  49%|████▉     | 1933/3907 [02:42<02:26, 13.50it/s, loss=0.502, positive_reward=-.0332, negative_reward=-.00621, margin=-.027]  "
     ]
    },
    {
     "name": "stdout",
     "output_type": "stream",
     "text": [
      "[-105.7]\n"
     ]
    },
    {
     "name": "stderr",
     "output_type": "stream",
     "text": [
      "Epoch [2/5]:  51%|█████     | 1984/3907 [02:47<03:01, 10.58it/s, loss=0.506, positive_reward=0.0213, negative_reward=0.0464, margin=-.0251]  "
     ]
    },
    {
     "name": "stdout",
     "output_type": "stream",
     "text": [
      "[-140.8]\n"
     ]
    },
    {
     "name": "stderr",
     "output_type": "stream",
     "text": [
      "Epoch [2/5]:  52%|█████▏    | 2014/3907 [02:51<02:59, 10.57it/s, loss=0.497, positive_reward=0.0141, negative_reward=0.004, margin=0.0101]     "
     ]
    },
    {
     "name": "stdout",
     "output_type": "stream",
     "text": [
      "[-139.3]\n"
     ]
    },
    {
     "name": "stderr",
     "output_type": "stream",
     "text": [
      "Epoch [2/5]:  52%|█████▏    | 2048/3907 [02:54<02:42, 11.43it/s, loss=0.528, positive_reward=-.0462, negative_reward=0.108, margin=-.154]     "
     ]
    },
    {
     "name": "stdout",
     "output_type": "stream",
     "text": [
      "[-105.7]\n"
     ]
    },
    {
     "name": "stderr",
     "output_type": "stream",
     "text": [
      "Epoch [2/5]:  54%|█████▎    | 2097/3907 [02:57<02:08, 14.09it/s, loss=0.519, positive_reward=-.0397, negative_reward=0.0609, margin=-.101]   "
     ]
    },
    {
     "name": "stdout",
     "output_type": "stream",
     "text": [
      "[-109.1]\n"
     ]
    },
    {
     "name": "stderr",
     "output_type": "stream",
     "text": [
      "Epoch [2/5]:  54%|█████▍    | 2129/3907 [03:00<02:10, 13.58it/s, loss=0.497, positive_reward=0.0196, negative_reward=0.0053, margin=0.0143]   "
     ]
    },
    {
     "name": "stdout",
     "output_type": "stream",
     "text": [
      "[-110.9]\n"
     ]
    },
    {
     "name": "stderr",
     "output_type": "stream",
     "text": [
      "Epoch [2/5]:  55%|█████▌    | 2168/3907 [03:03<01:59, 14.58it/s, loss=0.523, positive_reward=-.0032, negative_reward=0.0995, margin=-.103]    "
     ]
    },
    {
     "name": "stdout",
     "output_type": "stream",
     "text": [
      "[-102.4]\n"
     ]
    },
    {
     "name": "stderr",
     "output_type": "stream",
     "text": [
      "Epoch [2/5]:  57%|█████▋    | 2219/3907 [03:06<01:45, 16.03it/s, loss=0.506, positive_reward=0.00225, negative_reward=0.0255, margin=-.0233] "
     ]
    },
    {
     "name": "stdout",
     "output_type": "stream",
     "text": [
      "[-111.2]\n"
     ]
    },
    {
     "name": "stderr",
     "output_type": "stream",
     "text": [
      "Epoch [2/5]:  58%|█████▊    | 2250/3907 [03:09<01:50, 14.93it/s, loss=0.514, positive_reward=0.000894, negative_reward=0.0621, margin=-.0612]"
     ]
    },
    {
     "name": "stdout",
     "output_type": "stream",
     "text": [
      "[-103.3]\n"
     ]
    },
    {
     "name": "stderr",
     "output_type": "stream",
     "text": [
      "Epoch [2/5]:  59%|█████▊    | 2286/3907 [03:12<01:50, 14.65it/s, loss=0.501, positive_reward=-.00647, negative_reward=0.00515, margin=-.0116]  "
     ]
    },
    {
     "name": "stdout",
     "output_type": "stream",
     "text": [
      "[-114.4]\n"
     ]
    },
    {
     "name": "stderr",
     "output_type": "stream",
     "text": [
      "Epoch [2/5]:  59%|█████▉    | 2323/3907 [03:15<01:46, 14.94it/s, loss=0.503, positive_reward=-.00948, negative_reward=0.00921, margin=-.0187]  "
     ]
    },
    {
     "name": "stdout",
     "output_type": "stream",
     "text": [
      "[-102.6]\n"
     ]
    },
    {
     "name": "stderr",
     "output_type": "stream",
     "text": [
      "Epoch [2/5]:  61%|██████    | 2376/3907 [03:18<01:33, 16.44it/s, loss=0.497, positive_reward=0.00399, negative_reward=-.0198, margin=0.0238]  "
     ]
    },
    {
     "name": "stdout",
     "output_type": "stream",
     "text": [
      "[-105.7]\n"
     ]
    },
    {
     "name": "stderr",
     "output_type": "stream",
     "text": [
      "Epoch [2/5]:  62%|██████▏   | 2408/3907 [03:21<01:39, 15.06it/s, loss=0.509, positive_reward=-.0472, negative_reward=0.0252, margin=-.0724]  "
     ]
    },
    {
     "name": "stdout",
     "output_type": "stream",
     "text": [
      "[-122.6]\n"
     ]
    },
    {
     "name": "stderr",
     "output_type": "stream",
     "text": [
      "Epoch [2/5]:  62%|██████▏   | 2434/3907 [03:24<02:03, 11.90it/s, loss=0.503, positive_reward=0.0273, negative_reward=0.0439, margin=-.0166]   "
     ]
    },
    {
     "name": "stdout",
     "output_type": "stream",
     "text": [
      "[-111.8]\n"
     ]
    },
    {
     "name": "stderr",
     "output_type": "stream",
     "text": [
      "Epoch [2/5]:  64%|██████▎   | 2484/3907 [03:27<01:34, 15.01it/s, loss=0.517, positive_reward=-.0371, negative_reward=0.0576, margin=-.0947]   "
     ]
    },
    {
     "name": "stdout",
     "output_type": "stream",
     "text": [
      "[-102.4]\n"
     ]
    },
    {
     "name": "stderr",
     "output_type": "stream",
     "text": [
      "Epoch [2/5]:  64%|██████▍   | 2518/3907 [03:30<01:31, 15.19it/s, loss=0.503, positive_reward=-.00904, negative_reward=0.00809, margin=-.0171]  "
     ]
    },
    {
     "name": "stdout",
     "output_type": "stream",
     "text": [
      "[-102.7]\n"
     ]
    },
    {
     "name": "stderr",
     "output_type": "stream",
     "text": [
      "Epoch [2/5]:  66%|██████▌   | 2566/3907 [03:33<01:17, 17.31it/s, loss=0.51, positive_reward=-.000333, negative_reward=0.0414, margin=-.0417]  "
     ]
    },
    {
     "name": "stdout",
     "output_type": "stream",
     "text": [
      "[-104.1]\n"
     ]
    },
    {
     "name": "stderr",
     "output_type": "stream",
     "text": [
      "Epoch [2/5]:  66%|██████▋   | 2596/3907 [03:36<01:32, 14.10it/s, loss=0.509, positive_reward=-.0107, negative_reward=0.033, margin=-.0437]   "
     ]
    },
    {
     "name": "stdout",
     "output_type": "stream",
     "text": [
      "[-109.7]\n"
     ]
    },
    {
     "name": "stderr",
     "output_type": "stream",
     "text": [
      "Epoch [2/5]:  68%|██████▊   | 2647/3907 [03:41<01:46, 11.88it/s, loss=0.503, positive_reward=0.00692, negative_reward=0.0183, margin=-.0113]  "
     ]
    },
    {
     "name": "stdout",
     "output_type": "stream",
     "text": [
      "[-113.5]\n"
     ]
    },
    {
     "name": "stderr",
     "output_type": "stream",
     "text": [
      "Epoch [2/5]:  69%|██████▊   | 2679/3907 [03:45<02:03,  9.96it/s, loss=0.506, positive_reward=-.00332, negative_reward=0.0225, margin=-.0259] "
     ]
    },
    {
     "name": "stdout",
     "output_type": "stream",
     "text": [
      "[-112.3]\n"
     ]
    },
    {
     "name": "stderr",
     "output_type": "stream",
     "text": [
      "Epoch [2/5]:  69%|██████▉   | 2712/3907 [03:49<01:47, 11.16it/s, loss=0.515, positive_reward=0.0125, negative_reward=0.0867, margin=-.0742]   "
     ]
    },
    {
     "name": "stdout",
     "output_type": "stream",
     "text": [
      "[-98.6]\n"
     ]
    },
    {
     "name": "stderr",
     "output_type": "stream",
     "text": [
      "Epoch [2/5]:  71%|███████   | 2760/3907 [03:51<01:18, 14.70it/s, loss=0.501, positive_reward=0.035, negative_reward=0.0394, margin=-.00438]    "
     ]
    },
    {
     "name": "stdout",
     "output_type": "stream",
     "text": [
      "[-108.7]\n"
     ]
    },
    {
     "name": "stderr",
     "output_type": "stream",
     "text": [
      "Epoch [2/5]:  71%|███████▏  | 2793/3907 [03:54<01:16, 14.51it/s, loss=0.505, positive_reward=-.0267, negative_reward=0.0067, margin=-.0334]   "
     ]
    },
    {
     "name": "stdout",
     "output_type": "stream",
     "text": [
      "[-104.8]\n"
     ]
    },
    {
     "name": "stderr",
     "output_type": "stream",
     "text": [
      "Epoch [2/5]:  73%|███████▎  | 2845/3907 [03:59<01:25, 12.37it/s, loss=0.506, positive_reward=-.00979, negative_reward=0.0182, margin=-.028]  "
     ]
    },
    {
     "name": "stdout",
     "output_type": "stream",
     "text": [
      "[-123.3]\n"
     ]
    },
    {
     "name": "stderr",
     "output_type": "stream",
     "text": [
      "Epoch [2/5]:  74%|███████▎  | 2878/3907 [04:02<01:16, 13.52it/s, loss=0.508, positive_reward=0.0196, negative_reward=0.0534, margin=-.0338]   "
     ]
    },
    {
     "name": "stdout",
     "output_type": "stream",
     "text": [
      "[-115.5]\n"
     ]
    },
    {
     "name": "stderr",
     "output_type": "stream",
     "text": [
      "Epoch [2/5]:  75%|███████▍  | 2911/3907 [04:04<01:08, 14.50it/s, loss=0.513, positive_reward=-.057, negative_reward=0.0296, margin=-.0866]  "
     ]
    },
    {
     "name": "stdout",
     "output_type": "stream",
     "text": [
      "[-115.]\n"
     ]
    },
    {
     "name": "stderr",
     "output_type": "stream",
     "text": [
      "Epoch [2/5]:  75%|███████▌  | 2949/3907 [04:07<01:04, 14.87it/s, loss=0.507, positive_reward=0.0378, negative_reward=0.0676, margin=-.0299]   "
     ]
    },
    {
     "name": "stdout",
     "output_type": "stream",
     "text": [
      "[-107.1]\n"
     ]
    },
    {
     "name": "stderr",
     "output_type": "stream",
     "text": [
      "Epoch [2/5]:  76%|███████▋  | 2988/3907 [04:10<01:00, 15.20it/s, loss=0.497, positive_reward=0.0321, negative_reward=0.0191, margin=0.013]    "
     ]
    },
    {
     "name": "stdout",
     "output_type": "stream",
     "text": [
      "[-106.]\n"
     ]
    },
    {
     "name": "stderr",
     "output_type": "stream",
     "text": [
      "Epoch [2/5]:  78%|███████▊  | 3040/3907 [04:13<00:52, 16.67it/s, loss=0.504, positive_reward=-.00427, negative_reward=0.0153, margin=-.0196] "
     ]
    },
    {
     "name": "stdout",
     "output_type": "stream",
     "text": [
      "[-109.6]\n"
     ]
    },
    {
     "name": "stderr",
     "output_type": "stream",
     "text": [
      "Epoch [2/5]:  79%|███████▊  | 3073/3907 [04:16<00:54, 15.29it/s, loss=0.515, positive_reward=-.0034, negative_reward=0.0628, margin=-.0662]  "
     ]
    },
    {
     "name": "stdout",
     "output_type": "stream",
     "text": [
      "[-100.]\n"
     ]
    },
    {
     "name": "stderr",
     "output_type": "stream",
     "text": [
      "Epoch [2/5]:  79%|███████▉  | 3105/3907 [04:19<00:54, 14.79it/s, loss=0.491, positive_reward=0.049, negative_reward=0.0129, margin=0.036]    "
     ]
    },
    {
     "name": "stdout",
     "output_type": "stream",
     "text": [
      "[-119.7]\n"
     ]
    },
    {
     "name": "stderr",
     "output_type": "stream",
     "text": [
      "Epoch [2/5]:  81%|████████  | 3156/3907 [04:22<00:49, 15.12it/s, loss=0.496, positive_reward=0.00747, negative_reward=-.0175, margin=0.025]   "
     ]
    },
    {
     "name": "stdout",
     "output_type": "stream",
     "text": [
      "[-108.8]\n"
     ]
    },
    {
     "name": "stderr",
     "output_type": "stream",
     "text": [
      "Epoch [2/5]:  82%|████████▏ | 3188/3907 [04:25<00:46, 15.36it/s, loss=0.49, positive_reward=0.0501, negative_reward=0.0083, margin=0.0418]   "
     ]
    },
    {
     "name": "stdout",
     "output_type": "stream",
     "text": [
      "[-101.6]\n"
     ]
    },
    {
     "name": "stderr",
     "output_type": "stream",
     "text": [
      "Epoch [2/5]:  83%|████████▎ | 3224/3907 [04:28<00:46, 14.81it/s, loss=0.508, positive_reward=0.0552, negative_reward=0.0936, margin=-.0384] "
     ]
    },
    {
     "name": "stdout",
     "output_type": "stream",
     "text": [
      "[-138.3]\n"
     ]
    },
    {
     "name": "stderr",
     "output_type": "stream",
     "text": [
      "Epoch [2/5]:  83%|████████▎ | 3261/3907 [04:32<00:48, 13.26it/s, loss=0.524, positive_reward=-.104, negative_reward=0.0837, margin=-.188]    "
     ]
    },
    {
     "name": "stdout",
     "output_type": "stream",
     "text": [
      "[-110.]\n"
     ]
    },
    {
     "name": "stderr",
     "output_type": "stream",
     "text": [
      "Epoch [2/5]:  85%|████████▍ | 3311/3907 [04:35<00:39, 15.13it/s, loss=0.518, positive_reward=0.00775, negative_reward=0.106, margin=-.0984]   "
     ]
    },
    {
     "name": "stdout",
     "output_type": "stream",
     "text": [
      "[-103.7]\n"
     ]
    },
    {
     "name": "stderr",
     "output_type": "stream",
     "text": [
      "Epoch [2/5]:  86%|████████▌ | 3342/3907 [04:40<00:54, 10.34it/s, loss=0.515, positive_reward=-.019, negative_reward=0.0568, margin=-.0758]     "
     ]
    },
    {
     "name": "stdout",
     "output_type": "stream",
     "text": [
      "[-130.3]\n"
     ]
    },
    {
     "name": "stderr",
     "output_type": "stream",
     "text": [
      "Epoch [2/5]:  87%|████████▋ | 3380/3907 [04:43<00:41, 12.82it/s, loss=0.495, positive_reward=0.0202, negative_reward=-.00584, margin=0.026] "
     ]
    },
    {
     "name": "stdout",
     "output_type": "stream",
     "text": [
      "[-120.7]\n"
     ]
    },
    {
     "name": "stderr",
     "output_type": "stream",
     "text": [
      "Epoch [2/5]:  87%|████████▋ | 3417/3907 [04:46<00:34, 14.01it/s, loss=0.527, positive_reward=-.0163, negative_reward=0.117, margin=-.133]      "
     ]
    },
    {
     "name": "stdout",
     "output_type": "stream",
     "text": [
      "[-99.6]\n"
     ]
    },
    {
     "name": "stderr",
     "output_type": "stream",
     "text": [
      "Epoch [2/5]:  89%|████████▉ | 3470/3907 [04:51<00:36, 11.89it/s, loss=0.506, positive_reward=0.0328, negative_reward=0.0586, margin=-.0258]  "
     ]
    },
    {
     "name": "stdout",
     "output_type": "stream",
     "text": [
      "[-125.2]\n"
     ]
    },
    {
     "name": "stderr",
     "output_type": "stream",
     "text": [
      "Epoch [2/5]:  90%|████████▉ | 3501/3907 [04:54<00:33, 12.25it/s, loss=0.507, positive_reward=-.015, negative_reward=0.0257, margin=-.0407]    "
     ]
    },
    {
     "name": "stdout",
     "output_type": "stream",
     "text": [
      "[-117.3]\n"
     ]
    },
    {
     "name": "stderr",
     "output_type": "stream",
     "text": [
      "Epoch [2/5]:  91%|█████████ | 3536/3907 [04:57<00:27, 13.37it/s, loss=0.511, positive_reward=-.0128, negative_reward=0.0457, margin=-.0585]   "
     ]
    },
    {
     "name": "stdout",
     "output_type": "stream",
     "text": [
      "[-104.8]\n"
     ]
    },
    {
     "name": "stderr",
     "output_type": "stream",
     "text": [
      "Epoch [2/5]:  92%|█████████▏| 3575/3907 [05:00<00:23, 14.29it/s, loss=0.495, positive_reward=0.0123, negative_reward=-.0181, margin=0.0304]  "
     ]
    },
    {
     "name": "stdout",
     "output_type": "stream",
     "text": [
      "[-121.3]\n"
     ]
    },
    {
     "name": "stderr",
     "output_type": "stream",
     "text": [
      "Epoch [2/5]:  92%|█████████▏| 3613/3907 [05:02<00:18, 15.72it/s, loss=0.501, positive_reward=-.00991, negative_reward=0.000534, margin=-.0104]"
     ]
    },
    {
     "name": "stdout",
     "output_type": "stream",
     "text": [
      "[-103.]\n"
     ]
    },
    {
     "name": "stderr",
     "output_type": "stream",
     "text": [
      "Epoch [2/5]:  93%|█████████▎| 3653/3907 [05:05<00:16, 15.80it/s, loss=0.522, positive_reward=0.00895, negative_reward=0.105, margin=-.0962]   "
     ]
    },
    {
     "name": "stdout",
     "output_type": "stream",
     "text": [
      "[-114.2]\n"
     ]
    },
    {
     "name": "stderr",
     "output_type": "stream",
     "text": [
      "Epoch [2/5]:  95%|█████████▍| 3704/3907 [05:08<00:11, 17.55it/s, loss=0.499, positive_reward=0.0186, negative_reward=0.0152, margin=0.00338]  "
     ]
    },
    {
     "name": "stdout",
     "output_type": "stream",
     "text": [
      "[-109.3]\n"
     ]
    },
    {
     "name": "stderr",
     "output_type": "stream",
     "text": [
      "Epoch [2/5]:  96%|█████████▌| 3736/3907 [05:11<00:11, 14.44it/s, loss=0.554, positive_reward=-.049, negative_reward=0.252, margin=-.301]    "
     ]
    },
    {
     "name": "stdout",
     "output_type": "stream",
     "text": [
      "[-142.4]\n"
     ]
    },
    {
     "name": "stderr",
     "output_type": "stream",
     "text": [
      "Epoch [2/5]:  96%|█████████▋| 3769/3907 [05:15<00:10, 13.46it/s, loss=0.5, positive_reward=0.0405, negative_reward=0.0394, margin=0.00108]    "
     ]
    },
    {
     "name": "stdout",
     "output_type": "stream",
     "text": [
      "[-143.9]\n"
     ]
    },
    {
     "name": "stderr",
     "output_type": "stream",
     "text": [
      "Epoch [2/5]:  98%|█████████▊| 3821/3907 [05:18<00:05, 15.74it/s, loss=0.5, positive_reward=-.00123, negative_reward=0.00044, margin=-.00167]"
     ]
    },
    {
     "name": "stdout",
     "output_type": "stream",
     "text": [
      "[-115.8]\n"
     ]
    },
    {
     "name": "stderr",
     "output_type": "stream",
     "text": [
      "Epoch [2/5]:  99%|█████████▊| 3854/3907 [05:21<00:03, 14.51it/s, loss=0.504, positive_reward=-.00235, negative_reward=0.0159, margin=-.0182]"
     ]
    },
    {
     "name": "stdout",
     "output_type": "stream",
     "text": [
      "[-123.6]\n"
     ]
    },
    {
     "name": "stderr",
     "output_type": "stream",
     "text": [
      "Epoch [2/5]: 100%|█████████▉| 3888/3907 [05:24<00:01, 14.29it/s, loss=0.526, positive_reward=-.0484, negative_reward=0.102, margin=-.15]    "
     ]
    },
    {
     "name": "stdout",
     "output_type": "stream",
     "text": [
      "[-115.9]\n"
     ]
    },
    {
     "name": "stderr",
     "output_type": "stream",
     "text": [
      "Epoch [2/5]: 100%|██████████| 3907/3907 [05:29<00:00, 11.87it/s, loss=0.542, positive_reward=-.113, negative_reward=0.142, margin=-.255]  \n"
     ]
    },
    {
     "name": "stdout",
     "output_type": "stream",
     "text": [
      "[-111.]\n"
     ]
    },
    {
     "name": "stderr",
     "output_type": "stream",
     "text": [
      "Epoch [3/5]:   2%|▏         | 71/3907 [00:03<03:04, 20.76it/s, loss=0.498, positive_reward=0.0361, negative_reward=0.025, margin=0.0111]    "
     ]
    },
    {
     "name": "stdout",
     "output_type": "stream",
     "text": [
      "[-108.2]\n"
     ]
    },
    {
     "name": "stderr",
     "output_type": "stream",
     "text": [
      "Epoch [3/5]:   3%|▎         | 105/3907 [00:05<03:34, 17.72it/s, loss=0.531, positive_reward=-.0543, negative_reward=0.123, margin=-.177]     "
     ]
    },
    {
     "name": "stdout",
     "output_type": "stream",
     "text": [
      "[-108.9]\n"
     ]
    },
    {
     "name": "stderr",
     "output_type": "stream",
     "text": [
      "Epoch [3/5]:   4%|▎         | 138/3907 [00:09<04:15, 14.73it/s, loss=0.505, positive_reward=0.00895, negative_reward=0.0297, margin=-.0208]  "
     ]
    },
    {
     "name": "stdout",
     "output_type": "stream",
     "text": [
      "[-125.2]\n"
     ]
    },
    {
     "name": "stderr",
     "output_type": "stream",
     "text": [
      "Epoch [3/5]:   5%|▍         | 177/3907 [00:12<04:05, 15.17it/s, loss=0.508, positive_reward=0.0127, negative_reward=0.0472, margin=-.0345]   "
     ]
    },
    {
     "name": "stdout",
     "output_type": "stream",
     "text": [
      "[-103.1]\n"
     ]
    },
    {
     "name": "stderr",
     "output_type": "stream",
     "text": [
      "Epoch [3/5]:   6%|▌         | 215/3907 [00:15<04:11, 14.66it/s, loss=0.543, positive_reward=-.117, negative_reward=0.174, margin=-.291]       "
     ]
    },
    {
     "name": "stdout",
     "output_type": "stream",
     "text": [
      "[-114.5]\n"
     ]
    },
    {
     "name": "stderr",
     "output_type": "stream",
     "text": [
      "Epoch [3/5]:   7%|▋         | 267/3907 [00:20<05:00, 12.13it/s, loss=0.524, positive_reward=-.0159, negative_reward=0.0975, margin=-.113]     "
     ]
    },
    {
     "name": "stdout",
     "output_type": "stream",
     "text": [
      "[-131.9]\n"
     ]
    },
    {
     "name": "stderr",
     "output_type": "stream",
     "text": [
      "Epoch [3/5]:   8%|▊         | 299/3907 [00:23<04:49, 12.47it/s, loss=0.544, positive_reward=-.0698, negative_reward=0.194, margin=-.264]     "
     ]
    },
    {
     "name": "stdout",
     "output_type": "stream",
     "text": [
      "[-123.3]\n"
     ]
    },
    {
     "name": "stderr",
     "output_type": "stream",
     "text": [
      "Epoch [3/5]:   9%|▊         | 333/3907 [00:26<04:27, 13.35it/s, loss=0.52, positive_reward=-.00414, negative_reward=0.0852, margin=-.0893] "
     ]
    },
    {
     "name": "stdout",
     "output_type": "stream",
     "text": [
      "[-101.7]\n"
     ]
    },
    {
     "name": "stderr",
     "output_type": "stream",
     "text": [
      "Epoch [3/5]:   9%|▉         | 370/3907 [00:29<04:11, 14.04it/s, loss=0.5, positive_reward=0.0357, negative_reward=0.0342, margin=0.00149]   "
     ]
    },
    {
     "name": "stdout",
     "output_type": "stream",
     "text": [
      "[-100.5]\n"
     ]
    },
    {
     "name": "stderr",
     "output_type": "stream",
     "text": [
      "Epoch [3/5]:  11%|█         | 424/3907 [00:32<03:18, 17.58it/s, loss=0.491, positive_reward=0.0584, negative_reward=0.0173, margin=0.0411] "
     ]
    },
    {
     "name": "stdout",
     "output_type": "stream",
     "text": [
      "[-125.]\n"
     ]
    },
    {
     "name": "stderr",
     "output_type": "stream",
     "text": [
      "Epoch [3/5]:  12%|█▏        | 456/3907 [00:35<03:56, 14.61it/s, loss=0.513, positive_reward=-.000399, negative_reward=0.0547, margin=-.0551]"
     ]
    },
    {
     "name": "stdout",
     "output_type": "stream",
     "text": [
      "[-109.4]\n"
     ]
    },
    {
     "name": "stderr",
     "output_type": "stream",
     "text": [
      "Epoch [3/5]:  12%|█▏        | 488/3907 [00:38<04:13, 13.47it/s, loss=0.499, positive_reward=0.000866, negative_reward=-.00331, margin=0.00417]"
     ]
    },
    {
     "name": "stdout",
     "output_type": "stream",
     "text": [
      "[-124.5]\n"
     ]
    },
    {
     "name": "stderr",
     "output_type": "stream",
     "text": [
      "Epoch [3/5]:  14%|█▍        | 539/3907 [00:41<03:35, 15.66it/s, loss=0.516, positive_reward=-.0292, negative_reward=0.0565, margin=-.0857]    "
     ]
    },
    {
     "name": "stdout",
     "output_type": "stream",
     "text": [
      "[-99.6]\n"
     ]
    },
    {
     "name": "stderr",
     "output_type": "stream",
     "text": [
      "Epoch [3/5]:  15%|█▍        | 570/3907 [00:44<03:56, 14.11it/s, loss=0.55, positive_reward=-.0468, negative_reward=0.223, margin=-.27]      "
     ]
    },
    {
     "name": "stdout",
     "output_type": "stream",
     "text": [
      "[-102.2]\n"
     ]
    },
    {
     "name": "stderr",
     "output_type": "stream",
     "text": [
      "Epoch [3/5]:  15%|█▌        | 605/3907 [00:47<03:53, 14.13it/s, loss=0.517, positive_reward=-.00155, negative_reward=0.0775, margin=-.0791] "
     ]
    },
    {
     "name": "stdout",
     "output_type": "stream",
     "text": [
      "[-102.]\n"
     ]
    },
    {
     "name": "stderr",
     "output_type": "stream",
     "text": [
      "Epoch [3/5]:  17%|█▋        | 655/3907 [00:50<03:30, 15.48it/s, loss=0.5, positive_reward=0.0428, negative_reward=0.0442, margin=-.00138]   "
     ]
    },
    {
     "name": "stdout",
     "output_type": "stream",
     "text": [
      "[-122.1]\n"
     ]
    },
    {
     "name": "stderr",
     "output_type": "stream",
     "text": [
      "Epoch [3/5]:  17%|█▋        | 680/3907 [00:54<04:39, 11.55it/s, loss=0.51, positive_reward=0.00257, negative_reward=0.0465, margin=-.0439]   "
     ]
    },
    {
     "name": "stdout",
     "output_type": "stream",
     "text": [
      "[-101.9]\n"
     ]
    },
    {
     "name": "stderr",
     "output_type": "stream",
     "text": [
      "Epoch [3/5]:  19%|█▊        | 726/3907 [00:57<04:02, 13.10it/s, loss=0.507, positive_reward=0.0733, negative_reward=0.104, margin=-.0307]   "
     ]
    },
    {
     "name": "stdout",
     "output_type": "stream",
     "text": [
      "[-116.2]\n"
     ]
    },
    {
     "name": "stderr",
     "output_type": "stream",
     "text": [
      "Epoch [3/5]:  20%|█▉        | 762/3907 [01:00<03:58, 13.21it/s, loss=0.493, positive_reward=0.0229, negative_reward=-.0151, margin=0.038]   "
     ]
    },
    {
     "name": "stdout",
     "output_type": "stream",
     "text": [
      "[-107.5]\n"
     ]
    },
    {
     "name": "stderr",
     "output_type": "stream",
     "text": [
      "Epoch [3/5]:  21%|██        | 813/3907 [01:04<03:24, 15.14it/s, loss=0.511, positive_reward=-.006, negative_reward=0.0457, margin=-.0517]     "
     ]
    },
    {
     "name": "stdout",
     "output_type": "stream",
     "text": [
      "[-111.7]\n"
     ]
    },
    {
     "name": "stderr",
     "output_type": "stream",
     "text": [
      "Epoch [3/5]:  22%|██▏       | 843/3907 [01:07<03:51, 13.23it/s, loss=0.501, positive_reward=0.00279, negative_reward=0.00624, margin=-.00345]"
     ]
    },
    {
     "name": "stdout",
     "output_type": "stream",
     "text": [
      "[-105.4]\n"
     ]
    },
    {
     "name": "stderr",
     "output_type": "stream",
     "text": [
      "Epoch [3/5]:  22%|██▏       | 877/3907 [01:10<03:54, 12.91it/s, loss=0.519, positive_reward=-.0474, negative_reward=0.0575, margin=-.105]    "
     ]
    },
    {
     "name": "stdout",
     "output_type": "stream",
     "text": [
      "[-116.2]\n"
     ]
    },
    {
     "name": "stderr",
     "output_type": "stream",
     "text": [
      "Epoch [3/5]:  24%|██▎       | 926/3907 [01:13<03:23, 14.62it/s, loss=0.522, positive_reward=0.0717, negative_reward=0.17, margin=-.0983]     "
     ]
    },
    {
     "name": "stdout",
     "output_type": "stream",
     "text": [
      "[-119.4]\n"
     ]
    },
    {
     "name": "stderr",
     "output_type": "stream",
     "text": [
      "Epoch [3/5]:  25%|██▍       | 958/3907 [01:16<03:30, 13.98it/s, loss=0.521, positive_reward=-.00979, negative_reward=0.0913, margin=-.101]  "
     ]
    },
    {
     "name": "stdout",
     "output_type": "stream",
     "text": [
      "[-106.2]\n"
     ]
    },
    {
     "name": "stderr",
     "output_type": "stream",
     "text": [
      "Epoch [3/5]:  25%|██▌       | 996/3907 [01:19<03:09, 15.33it/s, loss=0.516, positive_reward=-.0106, negative_reward=0.0693, margin=-.08]    "
     ]
    },
    {
     "name": "stdout",
     "output_type": "stream",
     "text": [
      "[-101.6]\n"
     ]
    },
    {
     "name": "stderr",
     "output_type": "stream",
     "text": [
      "Epoch [3/5]:  27%|██▋       | 1048/3907 [01:22<02:52, 16.53it/s, loss=0.503, positive_reward=-.00994, negative_reward=0.0086, margin=-.0185]   "
     ]
    },
    {
     "name": "stdout",
     "output_type": "stream",
     "text": [
      "[-109.3]\n"
     ]
    },
    {
     "name": "stderr",
     "output_type": "stream",
     "text": [
      "Epoch [3/5]:  28%|██▊       | 1081/3907 [01:25<03:00, 15.70it/s, loss=0.521, positive_reward=-.0565, negative_reward=0.0708, margin=-.127]   "
     ]
    },
    {
     "name": "stdout",
     "output_type": "stream",
     "text": [
      "[-112.3]\n"
     ]
    },
    {
     "name": "stderr",
     "output_type": "stream",
     "text": [
      "Epoch [3/5]:  29%|██▊       | 1114/3907 [01:28<03:11, 14.62it/s, loss=0.501, positive_reward=-.00456, negative_reward=0.00293, margin=-.00749]"
     ]
    },
    {
     "name": "stdout",
     "output_type": "stream",
     "text": [
      "[-106.4]\n"
     ]
    },
    {
     "name": "stderr",
     "output_type": "stream",
     "text": [
      "Epoch [3/5]:  29%|██▉       | 1152/3907 [01:31<02:58, 15.43it/s, loss=0.519, positive_reward=-.07, negative_reward=0.049, margin=-.119]       "
     ]
    },
    {
     "name": "stdout",
     "output_type": "stream",
     "text": [
      "[-104.1]\n"
     ]
    },
    {
     "name": "stderr",
     "output_type": "stream",
     "text": [
      "Epoch [3/5]:  31%|███       | 1203/3907 [01:36<03:45, 11.99it/s, loss=0.501, positive_reward=-.0233, negative_reward=-.00253, margin=-.0208]"
     ]
    },
    {
     "name": "stdout",
     "output_type": "stream",
     "text": [
      "[-126.5]\n"
     ]
    },
    {
     "name": "stderr",
     "output_type": "stream",
     "text": [
      "Epoch [3/5]:  32%|███▏      | 1232/3907 [01:39<03:51, 11.54it/s, loss=0.511, positive_reward=0.0206, negative_reward=0.0675, margin=-.0469]   "
     ]
    },
    {
     "name": "stdout",
     "output_type": "stream",
     "text": [
      "[-108.9]\n"
     ]
    },
    {
     "name": "stderr",
     "output_type": "stream",
     "text": [
      "Epoch [3/5]:  33%|███▎      | 1279/3907 [01:42<02:56, 14.93it/s, loss=0.513, positive_reward=-.00461, negative_reward=0.0544, margin=-.059]    "
     ]
    },
    {
     "name": "stdout",
     "output_type": "stream",
     "text": [
      "[-99.2]\n"
     ]
    },
    {
     "name": "stderr",
     "output_type": "stream",
     "text": [
      "Epoch [3/5]:  34%|███▎      | 1310/3907 [01:45<03:11, 13.54it/s, loss=0.507, positive_reward=0.00865, negative_reward=0.0372, margin=-.0286]  "
     ]
    },
    {
     "name": "stdout",
     "output_type": "stream",
     "text": [
      "[-100.9]\n"
     ]
    },
    {
     "name": "stderr",
     "output_type": "stream",
     "text": [
      "Epoch [3/5]:  35%|███▍      | 1349/3907 [01:48<02:57, 14.43it/s, loss=0.506, positive_reward=-.0304, negative_reward=0.0132, margin=-.0436]   "
     ]
    },
    {
     "name": "stdout",
     "output_type": "stream",
     "text": [
      "[-107.1]\n"
     ]
    },
    {
     "name": "stderr",
     "output_type": "stream",
     "text": [
      "Epoch [3/5]:  36%|███▌      | 1387/3907 [01:51<02:51, 14.69it/s, loss=0.503, positive_reward=-.014, negative_reward=0.00516, margin=-.0192]   "
     ]
    },
    {
     "name": "stdout",
     "output_type": "stream",
     "text": [
      "[-106.7]\n"
     ]
    },
    {
     "name": "stderr",
     "output_type": "stream",
     "text": [
      "Epoch [3/5]:  36%|███▋      | 1426/3907 [01:56<03:29, 11.82it/s, loss=0.523, positive_reward=-.128, negative_reward=0.0483, margin=-.176]      "
     ]
    },
    {
     "name": "stdout",
     "output_type": "stream",
     "text": [
      "[-125.4]\n"
     ]
    },
    {
     "name": "stderr",
     "output_type": "stream",
     "text": [
      "Epoch [3/5]:  38%|███▊      | 1474/3907 [01:59<02:56, 13.75it/s, loss=0.55, positive_reward=-.138, negative_reward=0.183, margin=-.321]       "
     ]
    },
    {
     "name": "stdout",
     "output_type": "stream",
     "text": [
      "[-112.6]\n"
     ]
    },
    {
     "name": "stderr",
     "output_type": "stream",
     "text": [
      "Epoch [3/5]:  39%|███▊      | 1507/3907 [02:03<03:39, 10.91it/s, loss=0.509, positive_reward=-.00734, negative_reward=0.0368, margin=-.0441] "
     ]
    },
    {
     "name": "stdout",
     "output_type": "stream",
     "text": [
      "[-124.5]\n"
     ]
    },
    {
     "name": "stderr",
     "output_type": "stream",
     "text": [
      "Epoch [3/5]:  39%|███▉      | 1541/3907 [02:07<03:18, 11.95it/s, loss=0.524, positive_reward=-.0282, negative_reward=0.093, margin=-.121]    "
     ]
    },
    {
     "name": "stdout",
     "output_type": "stream",
     "text": [
      "[-106.]\n"
     ]
    },
    {
     "name": "stderr",
     "output_type": "stream",
     "text": [
      "Epoch [3/5]:  41%|████      | 1590/3907 [02:10<02:38, 14.57it/s, loss=0.522, positive_reward=-.0303, negative_reward=0.0848, margin=-.115]   "
     ]
    },
    {
     "name": "stdout",
     "output_type": "stream",
     "text": [
      "[-101.5]\n"
     ]
    },
    {
     "name": "stderr",
     "output_type": "stream",
     "text": [
      "Epoch [3/5]:  41%|████▏     | 1620/3907 [02:12<02:41, 14.13it/s, loss=0.518, positive_reward=-.0168, negative_reward=0.0669, margin=-.0837]    "
     ]
    },
    {
     "name": "stdout",
     "output_type": "stream",
     "text": [
      "[-111.6]\n"
     ]
    },
    {
     "name": "stderr",
     "output_type": "stream",
     "text": [
      "Epoch [3/5]:  43%|████▎     | 1668/3907 [02:15<02:25, 15.37it/s, loss=0.513, positive_reward=-.0115, negative_reward=0.0506, margin=-.062]   "
     ]
    },
    {
     "name": "stdout",
     "output_type": "stream",
     "text": [
      "[-105.1]\n"
     ]
    },
    {
     "name": "stderr",
     "output_type": "stream",
     "text": [
      "Epoch [3/5]:  43%|████▎     | 1698/3907 [02:18<02:31, 14.62it/s, loss=0.516, positive_reward=-.0731, negative_reward=0.0348, margin=-.108]   "
     ]
    },
    {
     "name": "stdout",
     "output_type": "stream",
     "text": [
      "[-101.9]\n"
     ]
    },
    {
     "name": "stderr",
     "output_type": "stream",
     "text": [
      "Epoch [3/5]:  45%|████▍     | 1750/3907 [02:23<03:02, 11.79it/s, loss=0.535, positive_reward=-.0957, negative_reward=0.121, margin=-.217]      "
     ]
    },
    {
     "name": "stdout",
     "output_type": "stream",
     "text": [
      "[-114.]\n"
     ]
    },
    {
     "name": "stderr",
     "output_type": "stream",
     "text": [
      "Epoch [3/5]:  46%|████▌     | 1782/3907 [02:26<02:48, 12.64it/s, loss=0.51, positive_reward=-.0482, negative_reward=0.019, margin=-.0672]   "
     ]
    },
    {
     "name": "stdout",
     "output_type": "stream",
     "text": [
      "[-99.]\n"
     ]
    },
    {
     "name": "stderr",
     "output_type": "stream",
     "text": [
      "Epoch [3/5]:  46%|████▋     | 1815/3907 [02:29<02:38, 13.20it/s, loss=0.512, positive_reward=-.00216, negative_reward=0.054, margin=-.0562]   "
     ]
    },
    {
     "name": "stdout",
     "output_type": "stream",
     "text": [
      "[-109.1]\n"
     ]
    },
    {
     "name": "stderr",
     "output_type": "stream",
     "text": [
      "Epoch [3/5]:  48%|████▊     | 1862/3907 [02:33<02:41, 12.63it/s, loss=0.499, positive_reward=0.00205, negative_reward=-.00428, margin=0.00633]"
     ]
    },
    {
     "name": "stdout",
     "output_type": "stream",
     "text": [
      "[-104.8]\n"
     ]
    },
    {
     "name": "stderr",
     "output_type": "stream",
     "text": [
      "Epoch [3/5]:  49%|████▊     | 1895/3907 [02:36<02:42, 12.40it/s, loss=0.499, positive_reward=0.00279, negative_reward=-.00254, margin=0.00533]"
     ]
    },
    {
     "name": "stdout",
     "output_type": "stream",
     "text": [
      "[-114.2]\n"
     ]
    },
    {
     "name": "stderr",
     "output_type": "stream",
     "text": [
      "Epoch [3/5]:  50%|████▉     | 1934/3907 [02:39<02:20, 14.04it/s, loss=0.513, positive_reward=-.0273, negative_reward=0.0414, margin=-.0687]    "
     ]
    },
    {
     "name": "stdout",
     "output_type": "stream",
     "text": [
      "[-104.3]\n"
     ]
    },
    {
     "name": "stderr",
     "output_type": "stream",
     "text": [
      "Epoch [3/5]:  51%|█████     | 1985/3907 [02:42<01:50, 17.37it/s, loss=0.507, positive_reward=-.0142, negative_reward=0.0211, margin=-.0352]   "
     ]
    },
    {
     "name": "stdout",
     "output_type": "stream",
     "text": [
      "[-100.3]\n"
     ]
    },
    {
     "name": "stderr",
     "output_type": "stream",
     "text": [
      "Epoch [3/5]:  52%|█████▏    | 2017/3907 [02:44<01:54, 16.50it/s, loss=0.508, positive_reward=-.032, negative_reward=0.0197, margin=-.0517]     "
     ]
    },
    {
     "name": "stdout",
     "output_type": "stream",
     "text": [
      "[-103.7]\n"
     ]
    },
    {
     "name": "stderr",
     "output_type": "stream",
     "text": [
      "Epoch [3/5]:  52%|█████▏    | 2051/3907 [02:47<02:03, 15.07it/s, loss=0.5, positive_reward=0.0286, negative_reward=0.0292, margin=-.00064]     "
     ]
    },
    {
     "name": "stdout",
     "output_type": "stream",
     "text": [
      "[-111.5]\n"
     ]
    },
    {
     "name": "stderr",
     "output_type": "stream",
     "text": [
      "Epoch [3/5]:  54%|█████▍    | 2103/3907 [02:50<01:46, 17.01it/s, loss=0.514, positive_reward=-.0625, negative_reward=0.0273, margin=-.0898]   "
     ]
    },
    {
     "name": "stdout",
     "output_type": "stream",
     "text": [
      "[-105.7]\n"
     ]
    },
    {
     "name": "stderr",
     "output_type": "stream",
     "text": [
      "Epoch [3/5]:  55%|█████▍    | 2135/3907 [02:53<02:02, 14.49it/s, loss=0.505, positive_reward=0.0157, negative_reward=0.0389, margin=-.0232]  "
     ]
    },
    {
     "name": "stdout",
     "output_type": "stream",
     "text": [
      "[-110.1]\n"
     ]
    },
    {
     "name": "stderr",
     "output_type": "stream",
     "text": [
      "Epoch [3/5]:  55%|█████▌    | 2168/3907 [02:56<02:02, 14.20it/s, loss=0.505, positive_reward=-.0161, negative_reward=0.0124, margin=-.0285]   "
     ]
    },
    {
     "name": "stdout",
     "output_type": "stream",
     "text": [
      "[-110.3]\n"
     ]
    },
    {
     "name": "stderr",
     "output_type": "stream",
     "text": [
      "Epoch [3/5]:  57%|█████▋    | 2218/3907 [02:59<01:39, 16.91it/s, loss=0.507, positive_reward=-.00442, negative_reward=0.0296, margin=-.034]   "
     ]
    },
    {
     "name": "stdout",
     "output_type": "stream",
     "text": [
      "[-99.1]\n"
     ]
    },
    {
     "name": "stderr",
     "output_type": "stream",
     "text": [
      "Epoch [3/5]:  58%|█████▊    | 2250/3907 [03:03<02:03, 13.45it/s, loss=0.507, positive_reward=-.00685, negative_reward=0.0288, margin=-.0357]   "
     ]
    },
    {
     "name": "stdout",
     "output_type": "stream",
     "text": [
      "[-120.4]\n"
     ]
    },
    {
     "name": "stderr",
     "output_type": "stream",
     "text": [
      "Epoch [3/5]:  58%|█████▊    | 2285/3907 [03:05<01:49, 14.75it/s, loss=0.5, positive_reward=0.000245, negative_reward=0.0037, margin=-.00346] "
     ]
    },
    {
     "name": "stdout",
     "output_type": "stream",
     "text": [
      "[-103.5]\n"
     ]
    },
    {
     "name": "stderr",
     "output_type": "stream",
     "text": [
      "Epoch [3/5]:  60%|█████▉    | 2325/3907 [03:08<01:42, 15.48it/s, loss=0.503, positive_reward=0.0193, negative_reward=0.0313, margin=-.012]    "
     ]
    },
    {
     "name": "stdout",
     "output_type": "stream",
     "text": [
      "[-103.7]\n"
     ]
    },
    {
     "name": "stderr",
     "output_type": "stream",
     "text": [
      "Epoch [3/5]:  61%|██████    | 2364/3907 [03:11<01:39, 15.44it/s, loss=0.499, positive_reward=0.0229, negative_reward=0.0191, margin=0.00376] "
     ]
    },
    {
     "name": "stdout",
     "output_type": "stream",
     "text": [
      "[-110.3]\n"
     ]
    },
    {
     "name": "stderr",
     "output_type": "stream",
     "text": [
      "Epoch [3/5]:  62%|██████▏   | 2403/3907 [03:14<01:35, 15.80it/s, loss=0.497, positive_reward=0.038, negative_reward=0.0272, margin=0.0108]     "
     ]
    },
    {
     "name": "stdout",
     "output_type": "stream",
     "text": [
      "[-99.7]\n"
     ]
    },
    {
     "name": "stderr",
     "output_type": "stream",
     "text": [
      "Epoch [3/5]:  62%|██████▏   | 2440/3907 [03:18<01:42, 14.34it/s, loss=0.52, positive_reward=-.0198, negative_reward=0.0812, margin=-.101]        "
     ]
    },
    {
     "name": "stdout",
     "output_type": "stream",
     "text": [
      "[-113.3]\n"
     ]
    },
    {
     "name": "stderr",
     "output_type": "stream",
     "text": [
      "Epoch [3/5]:  64%|██████▎   | 2490/3907 [03:21<01:32, 15.36it/s, loss=0.505, positive_reward=0.0116, negative_reward=0.0331, margin=-.0215]   "
     ]
    },
    {
     "name": "stdout",
     "output_type": "stream",
     "text": [
      "[-107.6]\n"
     ]
    },
    {
     "name": "stderr",
     "output_type": "stream",
     "text": [
      "Epoch [3/5]:  65%|██████▍   | 2522/3907 [03:23<01:30, 15.23it/s, loss=0.515, positive_reward=-.00423, negative_reward=0.0604, margin=-.0646] "
     ]
    },
    {
     "name": "stdout",
     "output_type": "stream",
     "text": [
      "[-117.4]\n"
     ]
    },
    {
     "name": "stderr",
     "output_type": "stream",
     "text": [
      "Epoch [3/5]:  66%|██████▌   | 2572/3907 [03:27<01:22, 16.22it/s, loss=0.523, positive_reward=-.113, negative_reward=0.0922, margin=-.205]    "
     ]
    },
    {
     "name": "stdout",
     "output_type": "stream",
     "text": [
      "[-103.]\n"
     ]
    },
    {
     "name": "stderr",
     "output_type": "stream",
     "text": [
      "Epoch [3/5]:  67%|██████▋   | 2605/3907 [03:30<01:27, 14.89it/s, loss=0.5, positive_reward=0.0216, negative_reward=0.0199, margin=0.00168]   "
     ]
    },
    {
     "name": "stdout",
     "output_type": "stream",
     "text": [
      "[-105.2]\n"
     ]
    },
    {
     "name": "stderr",
     "output_type": "stream",
     "text": [
      "Epoch [3/5]:  68%|██████▊   | 2638/3907 [03:33<01:30, 14.10it/s, loss=0.536, positive_reward=-.0783, negative_reward=0.128, margin=-.206]   "
     ]
    },
    {
     "name": "stdout",
     "output_type": "stream",
     "text": [
      "[-113.1]\n"
     ]
    },
    {
     "name": "stderr",
     "output_type": "stream",
     "text": [
      "Epoch [3/5]:  69%|██████▊   | 2677/3907 [03:36<01:23, 14.76it/s, loss=0.517, positive_reward=-.0228, negative_reward=0.0642, margin=-.087]    "
     ]
    },
    {
     "name": "stdout",
     "output_type": "stream",
     "text": [
      "[-111.4]\n"
     ]
    },
    {
     "name": "stderr",
     "output_type": "stream",
     "text": [
      "Epoch [3/5]:  70%|██████▉   | 2727/3907 [03:38<01:08, 17.15it/s, loss=0.503, positive_reward=0.0169, negative_reward=0.028, margin=-.0111]    "
     ]
    },
    {
     "name": "stdout",
     "output_type": "stream",
     "text": [
      "[-108.4]\n"
     ]
    },
    {
     "name": "stderr",
     "output_type": "stream",
     "text": [
      "Epoch [3/5]:  71%|███████   | 2760/3907 [03:41<01:15, 15.19it/s, loss=0.509, positive_reward=-.00482, negative_reward=0.0417, margin=-.0466]  "
     ]
    },
    {
     "name": "stdout",
     "output_type": "stream",
     "text": [
      "[-115.5]\n"
     ]
    },
    {
     "name": "stderr",
     "output_type": "stream",
     "text": [
      "Epoch [3/5]:  71%|███████▏  | 2793/3907 [03:46<01:42, 10.88it/s, loss=0.517, positive_reward=-.0757, negative_reward=0.0579, margin=-.134]     "
     ]
    },
    {
     "name": "stdout",
     "output_type": "stream",
     "text": [
      "[-113.9]\n"
     ]
    },
    {
     "name": "stderr",
     "output_type": "stream",
     "text": [
      "Epoch [3/5]:  73%|███████▎  | 2845/3907 [03:49<01:15, 14.15it/s, loss=0.499, positive_reward=-.00209, negative_reward=-.00525, margin=0.00316] "
     ]
    },
    {
     "name": "stdout",
     "output_type": "stream",
     "text": [
      "[-112.6]\n"
     ]
    },
    {
     "name": "stderr",
     "output_type": "stream",
     "text": [
      "Epoch [3/5]:  74%|███████▎  | 2878/3907 [03:52<01:11, 14.31it/s, loss=0.506, positive_reward=-.0245, negative_reward=0.0121, margin=-.0366]   "
     ]
    },
    {
     "name": "stdout",
     "output_type": "stream",
     "text": [
      "[-105.9]\n"
     ]
    },
    {
     "name": "stderr",
     "output_type": "stream",
     "text": [
      "Epoch [3/5]:  74%|███████▍  | 2909/3907 [03:55<01:13, 13.54it/s, loss=0.508, positive_reward=0.00145, negative_reward=0.0358, margin=-.0343]  "
     ]
    },
    {
     "name": "stdout",
     "output_type": "stream",
     "text": [
      "[-115.5]\n"
     ]
    },
    {
     "name": "stderr",
     "output_type": "stream",
     "text": [
      "Epoch [3/5]:  76%|███████▌  | 2960/3907 [03:58<01:01, 15.43it/s, loss=0.521, positive_reward=-.0775, negative_reward=0.0538, margin=-.131]   "
     ]
    },
    {
     "name": "stdout",
     "output_type": "stream",
     "text": [
      "[-107.3]\n"
     ]
    },
    {
     "name": "stderr",
     "output_type": "stream",
     "text": [
      "Epoch [3/5]:  77%|███████▋  | 2990/3907 [04:01<01:06, 13.83it/s, loss=0.498, positive_reward=0.0113, negative_reward=0.00133, margin=0.00996]  "
     ]
    },
    {
     "name": "stdout",
     "output_type": "stream",
     "text": [
      "[-105.]\n"
     ]
    },
    {
     "name": "stderr",
     "output_type": "stream",
     "text": [
      "Epoch [3/5]:  78%|███████▊  | 3036/3907 [04:05<01:00, 14.46it/s, loss=0.496, positive_reward=0.0315, negative_reward=0.0148, margin=0.0167]  "
     ]
    },
    {
     "name": "stdout",
     "output_type": "stream",
     "text": [
      "[-111.6]\n"
     ]
    },
    {
     "name": "stderr",
     "output_type": "stream",
     "text": [
      "Epoch [3/5]:  78%|███████▊  | 3066/3907 [04:08<01:03, 13.25it/s, loss=0.51, positive_reward=-.0164, negative_reward=0.0371, margin=-.0534]   "
     ]
    },
    {
     "name": "stdout",
     "output_type": "stream",
     "text": [
      "[-106.3]\n"
     ]
    },
    {
     "name": "stderr",
     "output_type": "stream",
     "text": [
      "Epoch [3/5]:  80%|███████▉  | 3111/3907 [04:11<00:55, 14.42it/s, loss=0.508, positive_reward=0.00408, negative_reward=0.0403, margin=-.0362] "
     ]
    },
    {
     "name": "stdout",
     "output_type": "stream",
     "text": [
      "[-104.3]\n"
     ]
    },
    {
     "name": "stderr",
     "output_type": "stream",
     "text": [
      "Epoch [3/5]:  80%|████████  | 3143/3907 [04:14<00:58, 13.17it/s, loss=0.505, positive_reward=0.0263, negative_reward=0.0476, margin=-.0213] "
     ]
    },
    {
     "name": "stdout",
     "output_type": "stream",
     "text": [
      "[-105.9]\n"
     ]
    },
    {
     "name": "stderr",
     "output_type": "stream",
     "text": [
      "Epoch [3/5]:  82%|████████▏ | 3190/3907 [04:17<00:48, 14.65it/s, loss=0.498, positive_reward=0.0376, negative_reward=0.029, margin=0.00863]   "
     ]
    },
    {
     "name": "stdout",
     "output_type": "stream",
     "text": [
      "[-100.5]\n"
     ]
    },
    {
     "name": "stderr",
     "output_type": "stream",
     "text": [
      "Epoch [3/5]:  82%|████████▏ | 3223/3907 [04:20<00:50, 13.49it/s, loss=0.498, positive_reward=0.0403, negative_reward=0.0321, margin=0.00815]  "
     ]
    },
    {
     "name": "stdout",
     "output_type": "stream",
     "text": [
      "[-113.1]\n"
     ]
    },
    {
     "name": "stderr",
     "output_type": "stream",
     "text": [
      "Epoch [3/5]:  84%|████████▎ | 3272/3907 [04:23<00:39, 16.02it/s, loss=0.513, positive_reward=0.00307, negative_reward=0.0616, margin=-.0585] "
     ]
    },
    {
     "name": "stdout",
     "output_type": "stream",
     "text": [
      "[-97.7]\n"
     ]
    },
    {
     "name": "stderr",
     "output_type": "stream",
     "text": [
      "Epoch [3/5]:  85%|████████▍ | 3304/3907 [04:26<00:39, 15.36it/s, loss=0.502, positive_reward=-.0112, negative_reward=0.00187, margin=-.0131]  "
     ]
    },
    {
     "name": "stdout",
     "output_type": "stream",
     "text": [
      "[-103.6]\n"
     ]
    },
    {
     "name": "stderr",
     "output_type": "stream",
     "text": [
      "Epoch [3/5]:  85%|████████▌ | 3340/3907 [04:29<00:39, 14.50it/s, loss=0.51, positive_reward=-.00201, negative_reward=0.0468, margin=-.0488]   "
     ]
    },
    {
     "name": "stdout",
     "output_type": "stream",
     "text": [
      "[-110.5]\n"
     ]
    },
    {
     "name": "stderr",
     "output_type": "stream",
     "text": [
      "Epoch [3/5]:  86%|████████▋ | 3379/3907 [04:32<00:34, 15.35it/s, loss=0.505, positive_reward=0.059, negative_reward=0.0842, margin=-.0252]    "
     ]
    },
    {
     "name": "stdout",
     "output_type": "stream",
     "text": [
      "[-135.8]\n"
     ]
    },
    {
     "name": "stderr",
     "output_type": "stream",
     "text": [
      "Epoch [3/5]:  88%|████████▊ | 3419/3907 [04:35<00:29, 16.49it/s, loss=0.521, positive_reward=0.0196, negative_reward=0.114, margin=-.0946]    "
     ]
    },
    {
     "name": "stdout",
     "output_type": "stream",
     "text": [
      "[-105.6]\n"
     ]
    },
    {
     "name": "stderr",
     "output_type": "stream",
     "text": [
      "Epoch [3/5]:  88%|████████▊ | 3454/3907 [04:37<00:28, 15.76it/s, loss=0.512, positive_reward=0.0317, negative_reward=0.0785, margin=-.0469]    "
     ]
    },
    {
     "name": "stdout",
     "output_type": "stream",
     "text": [
      "[-105.6]\n"
     ]
    },
    {
     "name": "stderr",
     "output_type": "stream",
     "text": [
      "Epoch [3/5]:  90%|████████▉ | 3506/3907 [04:41<00:24, 16.48it/s, loss=0.499, positive_reward=-.00408, negative_reward=-.0176, margin=0.0135]   "
     ]
    },
    {
     "name": "stdout",
     "output_type": "stream",
     "text": [
      "[-113.8]\n"
     ]
    },
    {
     "name": "stderr",
     "output_type": "stream",
     "text": [
      "Epoch [3/5]:  91%|█████████ | 3537/3907 [04:43<00:24, 15.08it/s, loss=0.527, positive_reward=0.012, negative_reward=0.15, margin=-.138]        "
     ]
    },
    {
     "name": "stdout",
     "output_type": "stream",
     "text": [
      "[-113.3]\n"
     ]
    },
    {
     "name": "stderr",
     "output_type": "stream",
     "text": [
      "Epoch [3/5]:  91%|█████████▏| 3572/3907 [04:47<00:24, 13.94it/s, loss=0.5, positive_reward=0.00686, negative_reward=0.00489, margin=0.00197]   "
     ]
    },
    {
     "name": "stdout",
     "output_type": "stream",
     "text": [
      "[-110.7]\n"
     ]
    },
    {
     "name": "stderr",
     "output_type": "stream",
     "text": [
      "Epoch [3/5]:  93%|█████████▎| 3624/3907 [04:50<00:17, 15.87it/s, loss=0.508, positive_reward=-.011, negative_reward=0.031, margin=-.042]       "
     ]
    },
    {
     "name": "stdout",
     "output_type": "stream",
     "text": [
      "[-114.7]\n"
     ]
    },
    {
     "name": "stderr",
     "output_type": "stream",
     "text": [
      "Epoch [3/5]:  94%|█████████▎| 3657/3907 [04:52<00:16, 15.53it/s, loss=0.557, positive_reward=-.148, negative_reward=0.243, margin=-.391]     "
     ]
    },
    {
     "name": "stdout",
     "output_type": "stream",
     "text": [
      "[-116.3]\n"
     ]
    },
    {
     "name": "stderr",
     "output_type": "stream",
     "text": [
      "Epoch [3/5]:  94%|█████████▍| 3692/3907 [04:56<00:14, 14.81it/s, loss=0.508, positive_reward=-.013, negative_reward=0.0252, margin=-.0382]    "
     ]
    },
    {
     "name": "stdout",
     "output_type": "stream",
     "text": [
      "[-137.6]\n"
     ]
    },
    {
     "name": "stderr",
     "output_type": "stream",
     "text": [
      "Epoch [3/5]:  95%|█████████▌| 3729/3907 [05:00<00:15, 11.43it/s, loss=0.512, positive_reward=-.000182, negative_reward=0.0504, margin=-.0506] "
     ]
    },
    {
     "name": "stdout",
     "output_type": "stream",
     "text": [
      "[-133.4]\n"
     ]
    },
    {
     "name": "stderr",
     "output_type": "stream",
     "text": [
      "Epoch [3/5]:  97%|█████████▋| 3778/3907 [05:03<00:09, 13.81it/s, loss=0.497, positive_reward=0.042, negative_reward=0.0276, margin=0.0144]    "
     ]
    },
    {
     "name": "stdout",
     "output_type": "stream",
     "text": [
      "[-108.6]\n"
     ]
    },
    {
     "name": "stderr",
     "output_type": "stream",
     "text": [
      "Epoch [3/5]:  97%|█████████▋| 3804/3907 [05:06<00:08, 12.69it/s, loss=0.534, positive_reward=-.102, negative_reward=0.105, margin=-.206]      "
     ]
    },
    {
     "name": "stdout",
     "output_type": "stream",
     "text": [
      "[-101.]\n"
     ]
    },
    {
     "name": "stderr",
     "output_type": "stream",
     "text": [
      "Epoch [3/5]:  98%|█████████▊| 3846/3907 [05:09<00:04, 13.30it/s, loss=0.502, positive_reward=0.0188, negative_reward=0.0214, margin=-.00264]  "
     ]
    },
    {
     "name": "stdout",
     "output_type": "stream",
     "text": [
      "[-122.3]\n"
     ]
    },
    {
     "name": "stderr",
     "output_type": "stream",
     "text": [
      "Epoch [3/5]: 100%|█████████▉| 3892/3907 [05:13<00:01, 13.86it/s, loss=0.509, positive_reward=-.0101, negative_reward=0.0287, margin=-.0388]   "
     ]
    },
    {
     "name": "stdout",
     "output_type": "stream",
     "text": [
      "[-107.1]\n"
     ]
    },
    {
     "name": "stderr",
     "output_type": "stream",
     "text": [
      "Epoch [3/5]: 100%|██████████| 3907/3907 [05:15<00:00, 12.37it/s, loss=0.513, positive_reward=-.047, negative_reward=0.0284, margin=-.0754]  \n"
     ]
    },
    {
     "name": "stdout",
     "output_type": "stream",
     "text": [
      "[-106.4]\n"
     ]
    },
    {
     "name": "stderr",
     "output_type": "stream",
     "text": [
      "Epoch [4/5]:   2%|▏         | 63/3907 [00:03<03:32, 18.09it/s, loss=0.511, positive_reward=0.0232, negative_reward=0.0709, margin=-.0477]   "
     ]
    },
    {
     "name": "stdout",
     "output_type": "stream",
     "text": [
      "[-109.8]\n"
     ]
    },
    {
     "name": "stderr",
     "output_type": "stream",
     "text": [
      "Epoch [4/5]:   3%|▎         | 99/3907 [00:06<04:02, 15.69it/s, loss=0.513, positive_reward=-.026, negative_reward=0.0438, margin=-.0698]    "
     ]
    },
    {
     "name": "stdout",
     "output_type": "stream",
     "text": [
      "[-112.6]\n"
     ]
    },
    {
     "name": "stderr",
     "output_type": "stream",
     "text": [
      "Epoch [4/5]:   4%|▎         | 137/3907 [00:09<03:58, 15.77it/s, loss=0.506, positive_reward=0.021, negative_reward=0.0469, margin=-.0259]   "
     ]
    },
    {
     "name": "stdout",
     "output_type": "stream",
     "text": [
      "[-99.6]\n"
     ]
    },
    {
     "name": "stderr",
     "output_type": "stream",
     "text": [
      "Epoch [4/5]:   5%|▍         | 177/3907 [00:12<03:57, 15.74it/s, loss=0.505, positive_reward=0.034, negative_reward=0.0529, margin=-.0189]   "
     ]
    },
    {
     "name": "stdout",
     "output_type": "stream",
     "text": [
      "[-104.5]\n"
     ]
    },
    {
     "name": "stderr",
     "output_type": "stream",
     "text": [
      "Epoch [4/5]:   5%|▌         | 214/3907 [00:15<04:10, 14.74it/s, loss=0.489, positive_reward=0.0444, negative_reward=-.0051, margin=0.0495]  "
     ]
    },
    {
     "name": "stdout",
     "output_type": "stream",
     "text": [
      "[-122.7]\n"
     ]
    },
    {
     "name": "stderr",
     "output_type": "stream",
     "text": [
      "Epoch [4/5]:   7%|▋         | 267/3907 [00:18<03:18, 18.32it/s, loss=0.51, positive_reward=0.0248, negative_reward=0.071, margin=-.0462]      "
     ]
    },
    {
     "name": "stdout",
     "output_type": "stream",
     "text": [
      "[-102.1]\n"
     ]
    },
    {
     "name": "stderr",
     "output_type": "stream",
     "text": [
      "Epoch [4/5]:   8%|▊         | 300/3907 [00:20<03:31, 17.07it/s, loss=0.516, positive_reward=0.0412, negative_reward=0.115, margin=-.0743]     "
     ]
    },
    {
     "name": "stdout",
     "output_type": "stream",
     "text": [
      "[-112.3]\n"
     ]
    },
    {
     "name": "stderr",
     "output_type": "stream",
     "text": [
      "Epoch [4/5]:   9%|▊         | 333/3907 [00:23<03:54, 15.25it/s, loss=0.501, positive_reward=0.00734, negative_reward=0.00985, margin=-.00251]"
     ]
    },
    {
     "name": "stdout",
     "output_type": "stream",
     "text": [
      "[-108.2]\n"
     ]
    },
    {
     "name": "stderr",
     "output_type": "stream",
     "text": [
      "Epoch [4/5]:   9%|▉         | 371/3907 [00:26<03:36, 16.33it/s, loss=0.505, positive_reward=0.0792, negative_reward=0.0888, margin=-.00959]  "
     ]
    },
    {
     "name": "stdout",
     "output_type": "stream",
     "text": [
      "[-102.5]\n"
     ]
    },
    {
     "name": "stderr",
     "output_type": "stream",
     "text": [
      "Epoch [4/5]:  11%|█         | 423/3907 [00:29<03:10, 18.30it/s, loss=0.527, positive_reward=0.0315, negative_reward=0.172, margin=-.14]      "
     ]
    },
    {
     "name": "stdout",
     "output_type": "stream",
     "text": [
      "[-102.9]\n"
     ]
    },
    {
     "name": "stderr",
     "output_type": "stream",
     "text": [
      "Epoch [4/5]:  12%|█▏        | 456/3907 [00:32<03:42, 15.53it/s, loss=0.502, positive_reward=-.00389, negative_reward=0.00506, margin=-.00895]"
     ]
    },
    {
     "name": "stdout",
     "output_type": "stream",
     "text": [
      "[-99.]\n"
     ]
    },
    {
     "name": "stderr",
     "output_type": "stream",
     "text": [
      "Epoch [4/5]:  12%|█▏        | 487/3907 [00:35<04:06, 13.86it/s, loss=0.497, positive_reward=0.0116, negative_reward=-.00294, margin=0.0145]  "
     ]
    },
    {
     "name": "stdout",
     "output_type": "stream",
     "text": [
      "[-104.5]\n"
     ]
    },
    {
     "name": "stderr",
     "output_type": "stream",
     "text": [
      "Epoch [4/5]:  14%|█▍        | 538/3907 [00:38<03:30, 15.97it/s, loss=0.51, positive_reward=-.0424, negative_reward=0.023, margin=-.0654]     "
     ]
    },
    {
     "name": "stdout",
     "output_type": "stream",
     "text": [
      "[-105.6]\n"
     ]
    },
    {
     "name": "stderr",
     "output_type": "stream",
     "text": [
      "Epoch [4/5]:  15%|█▍        | 568/3907 [00:41<03:53, 14.27it/s, loss=0.489, positive_reward=0.0379, negative_reward=-.0327, margin=0.0705]  "
     ]
    },
    {
     "name": "stdout",
     "output_type": "stream",
     "text": [
      "[-108.9]\n"
     ]
    },
    {
     "name": "stderr",
     "output_type": "stream",
     "text": [
      "Epoch [4/5]:  16%|█▌        | 616/3907 [00:43<03:11, 17.23it/s, loss=0.512, positive_reward=0.0133, negative_reward=0.0656, margin=-.0523]    "
     ]
    },
    {
     "name": "stdout",
     "output_type": "stream",
     "text": [
      "[-101.9]\n"
     ]
    },
    {
     "name": "stderr",
     "output_type": "stream",
     "text": [
      "Epoch [4/5]:  17%|█▋        | 646/3907 [00:46<03:34, 15.18it/s, loss=0.516, positive_reward=-.113, negative_reward=0.0225, margin=-.135]    "
     ]
    },
    {
     "name": "stdout",
     "output_type": "stream",
     "text": [
      "[-113.6]\n"
     ]
    },
    {
     "name": "stderr",
     "output_type": "stream",
     "text": [
      "Epoch [4/5]:  18%|█▊        | 694/3907 [00:49<03:28, 15.40it/s, loss=0.506, positive_reward=0.0206, negative_reward=0.0428, margin=-.0222]    "
     ]
    },
    {
     "name": "stdout",
     "output_type": "stream",
     "text": [
      "[-119.4]\n"
     ]
    },
    {
     "name": "stderr",
     "output_type": "stream",
     "text": [
      "Epoch [4/5]:  18%|█▊        | 719/3907 [00:53<05:05, 10.44it/s, loss=0.507, positive_reward=0.00448, negative_reward=0.0388, margin=-.0343]"
     ]
    },
    {
     "name": "stdout",
     "output_type": "stream",
     "text": [
      "[-106.1]\n"
     ]
    },
    {
     "name": "stderr",
     "output_type": "stream",
     "text": [
      "Epoch [4/5]:  20%|█▉        | 763/3907 [00:57<04:11, 12.50it/s, loss=0.493, positive_reward=0.0216, negative_reward=-.0238, margin=0.0454]   "
     ]
    },
    {
     "name": "stdout",
     "output_type": "stream",
     "text": [
      "[-102.6]\n"
     ]
    },
    {
     "name": "stderr",
     "output_type": "stream",
     "text": [
      "Epoch [4/5]:  21%|██        | 810/3907 [01:02<05:00, 10.31it/s, loss=0.505, positive_reward=-.000214, negative_reward=0.0187, margin=-.019] "
     ]
    },
    {
     "name": "stdout",
     "output_type": "stream",
     "text": [
      "[-116.8]\n"
     ]
    },
    {
     "name": "stderr",
     "output_type": "stream",
     "text": [
      "Epoch [4/5]:  21%|██▏       | 840/3907 [01:04<04:10, 12.23it/s, loss=0.514, positive_reward=-.00544, negative_reward=0.0641, margin=-.0695] "
     ]
    },
    {
     "name": "stdout",
     "output_type": "stream",
     "text": [
      "[-94.2]\n"
     ]
    },
    {
     "name": "stderr",
     "output_type": "stream",
     "text": [
      "Epoch [4/5]:  23%|██▎       | 890/3907 [01:08<03:31, 14.27it/s, loss=0.498, positive_reward=0.00635, negative_reward=0.00114, margin=0.00521]"
     ]
    },
    {
     "name": "stdout",
     "output_type": "stream",
     "text": [
      "[-106.7]\n"
     ]
    },
    {
     "name": "stderr",
     "output_type": "stream",
     "text": [
      "Epoch [4/5]:  24%|██▎       | 922/3907 [01:10<03:23, 14.66it/s, loss=0.5, positive_reward=0.00376, negative_reward=0.00601, margin=-.00226]  "
     ]
    },
    {
     "name": "stdout",
     "output_type": "stream",
     "text": [
      "[-103.6]\n"
     ]
    },
    {
     "name": "stderr",
     "output_type": "stream",
     "text": [
      "Epoch [4/5]:  24%|██▍       | 957/3907 [01:17<05:25,  9.06it/s, loss=0.5, positive_reward=0.0102, negative_reward=0.0109, margin=-.000668]  "
     ]
    },
    {
     "name": "stdout",
     "output_type": "stream",
     "text": [
      "[-115.7]\n"
     ]
    },
    {
     "name": "stderr",
     "output_type": "stream",
     "text": [
      "Epoch [4/5]:  26%|██▌       | 1010/3907 [01:20<03:35, 13.44it/s, loss=0.502, positive_reward=0.0117, negative_reward=0.022, margin=-.0103]   "
     ]
    },
    {
     "name": "stdout",
     "output_type": "stream",
     "text": [
      "[-106.7]\n"
     ]
    },
    {
     "name": "stderr",
     "output_type": "stream",
     "text": [
      "Epoch [4/5]:  27%|██▋       | 1038/3907 [01:23<03:56, 12.11it/s, loss=0.502, positive_reward=0.00361, negative_reward=0.0118, margin=-.00822]"
     ]
    },
    {
     "name": "stdout",
     "output_type": "stream",
     "text": [
      "[-114.9]\n"
     ]
    },
    {
     "name": "stderr",
     "output_type": "stream",
     "text": [
      "Epoch [4/5]:  28%|██▊       | 1084/3907 [01:28<04:18, 10.91it/s, loss=0.514, positive_reward=-.0481, negative_reward=0.0351, margin=-.0832]   "
     ]
    },
    {
     "name": "stdout",
     "output_type": "stream",
     "text": [
      "[-112.2]\n"
     ]
    },
    {
     "name": "stderr",
     "output_type": "stream",
     "text": [
      "Epoch [4/5]:  29%|██▊       | 1114/3907 [01:31<04:05, 11.40it/s, loss=0.516, positive_reward=-.0655, negative_reward=0.0345, margin=-.1]     "
     ]
    },
    {
     "name": "stdout",
     "output_type": "stream",
     "text": [
      "[-106.1]\n"
     ]
    },
    {
     "name": "stderr",
     "output_type": "stream",
     "text": [
      "Epoch [4/5]:  30%|██▉       | 1163/3907 [01:34<03:19, 13.77it/s, loss=0.503, positive_reward=0.00972, negative_reward=0.0207, margin=-.011]  "
     ]
    },
    {
     "name": "stdout",
     "output_type": "stream",
     "text": [
      "[-115.]\n"
     ]
    },
    {
     "name": "stderr",
     "output_type": "stream",
     "text": [
      "Epoch [4/5]:  30%|███       | 1191/3907 [01:37<03:42, 12.20it/s, loss=0.511, positive_reward=-.0073, negative_reward=0.0408, margin=-.0481]   "
     ]
    },
    {
     "name": "stdout",
     "output_type": "stream",
     "text": [
      "[-107.7]\n"
     ]
    },
    {
     "name": "stderr",
     "output_type": "stream",
     "text": [
      "Epoch [4/5]:  32%|███▏      | 1239/3907 [01:41<03:12, 13.89it/s, loss=0.507, positive_reward=-.0123, negative_reward=0.0229, margin=-.0352]   "
     ]
    },
    {
     "name": "stdout",
     "output_type": "stream",
     "text": [
      "[-102.1]\n"
     ]
    },
    {
     "name": "stderr",
     "output_type": "stream",
     "text": [
      "Epoch [4/5]:  32%|███▏      | 1268/3907 [01:44<03:39, 12.01it/s, loss=0.514, positive_reward=-.0109, negative_reward=0.0566, margin=-.0675]   "
     ]
    },
    {
     "name": "stdout",
     "output_type": "stream",
     "text": [
      "[-120.8]\n"
     ]
    },
    {
     "name": "stderr",
     "output_type": "stream",
     "text": [
      "Epoch [4/5]:  34%|███▎      | 1315/3907 [01:48<03:10, 13.57it/s, loss=0.523, positive_reward=-.0224, negative_reward=0.0923, margin=-.115]     "
     ]
    },
    {
     "name": "stdout",
     "output_type": "stream",
     "text": [
      "[-106.5]\n"
     ]
    },
    {
     "name": "stderr",
     "output_type": "stream",
     "text": [
      "Epoch [4/5]:  35%|███▍      | 1348/3907 [01:51<03:16, 13.01it/s, loss=0.505, positive_reward=0.00657, negative_reward=0.0263, margin=-.0197]  "
     ]
    },
    {
     "name": "stdout",
     "output_type": "stream",
     "text": [
      "[-108.6]\n"
     ]
    },
    {
     "name": "stderr",
     "output_type": "stream",
     "text": [
      "Epoch [4/5]:  36%|███▌      | 1397/3907 [01:54<02:53, 14.46it/s, loss=0.509, positive_reward=-.00507, negative_reward=0.0367, margin=-.0418]   "
     ]
    },
    {
     "name": "stdout",
     "output_type": "stream",
     "text": [
      "[-108.7]\n"
     ]
    },
    {
     "name": "stderr",
     "output_type": "stream",
     "text": [
      "Epoch [4/5]:  37%|███▋      | 1428/3907 [01:57<03:12, 12.86it/s, loss=0.5, positive_reward=0.0172, negative_reward=0.0181, margin=-.000937]   "
     ]
    },
    {
     "name": "stdout",
     "output_type": "stream",
     "text": [
      "[-106.4]\n"
     ]
    },
    {
     "name": "stderr",
     "output_type": "stream",
     "text": [
      "Epoch [4/5]:  38%|███▊      | 1475/3907 [02:02<03:42, 10.92it/s, loss=0.531, positive_reward=-.046, negative_reward=0.134, margin=-.18]      "
     ]
    },
    {
     "name": "stdout",
     "output_type": "stream",
     "text": [
      "[-119.3]\n"
     ]
    },
    {
     "name": "stderr",
     "output_type": "stream",
     "text": [
      "Epoch [4/5]:  38%|███▊      | 1504/3907 [02:05<03:33, 11.24it/s, loss=0.5, positive_reward=-.0138, negative_reward=-.00998, margin=-.00387]   "
     ]
    },
    {
     "name": "stdout",
     "output_type": "stream",
     "text": [
      "[-96.1]\n"
     ]
    },
    {
     "name": "stderr",
     "output_type": "stream",
     "text": [
      "Epoch [4/5]:  40%|███▉      | 1552/3907 [02:09<02:51, 13.76it/s, loss=0.516, positive_reward=-.0172, negative_reward=0.0651, margin=-.0823]  "
     ]
    },
    {
     "name": "stdout",
     "output_type": "stream",
     "text": [
      "[-100.6]\n"
     ]
    },
    {
     "name": "stderr",
     "output_type": "stream",
     "text": [
      "Epoch [4/5]:  40%|████      | 1582/3907 [02:12<03:01, 12.80it/s, loss=0.526, positive_reward=-.052, negative_reward=0.0984, margin=-.15]     "
     ]
    },
    {
     "name": "stdout",
     "output_type": "stream",
     "text": [
      "[-109.1]\n"
     ]
    },
    {
     "name": "stderr",
     "output_type": "stream",
     "text": [
      "Epoch [4/5]:  42%|████▏     | 1627/3907 [02:15<02:52, 13.20it/s, loss=0.504, positive_reward=-.0633, negative_reward=-.0128, margin=-.0504]    "
     ]
    },
    {
     "name": "stdout",
     "output_type": "stream",
     "text": [
      "[-122.8]\n"
     ]
    },
    {
     "name": "stderr",
     "output_type": "stream",
     "text": [
      "Epoch [4/5]:  42%|████▏     | 1657/3907 [02:18<03:03, 12.29it/s, loss=0.512, positive_reward=-.00721, negative_reward=0.0491, margin=-.0563] "
     ]
    },
    {
     "name": "stdout",
     "output_type": "stream",
     "text": [
      "[-105.1]\n"
     ]
    },
    {
     "name": "stderr",
     "output_type": "stream",
     "text": [
      "Epoch [4/5]:  44%|████▎     | 1702/3907 [02:22<02:49, 13.02it/s, loss=0.512, positive_reward=-.0118, negative_reward=0.0473, margin=-.0592]   "
     ]
    },
    {
     "name": "stdout",
     "output_type": "stream",
     "text": [
      "[-112.6]\n"
     ]
    },
    {
     "name": "stderr",
     "output_type": "stream",
     "text": [
      "Epoch [4/5]:  44%|████▍     | 1734/3907 [02:25<02:57, 12.22it/s, loss=0.496, positive_reward=0.00639, negative_reward=-.0163, margin=0.0227]  "
     ]
    },
    {
     "name": "stdout",
     "output_type": "stream",
     "text": [
      "[-114.5]\n"
     ]
    },
    {
     "name": "stderr",
     "output_type": "stream",
     "text": [
      "Epoch [4/5]:  45%|████▌     | 1775/3907 [02:28<02:47, 12.72it/s, loss=0.512, positive_reward=-.00896, negative_reward=0.0465, margin=-.0555]  "
     ]
    },
    {
     "name": "stdout",
     "output_type": "stream",
     "text": [
      "[-104.]\n"
     ]
    },
    {
     "name": "stderr",
     "output_type": "stream",
     "text": [
      "Epoch [4/5]:  47%|████▋     | 1819/3907 [02:32<02:35, 13.45it/s, loss=0.507, positive_reward=-.0332, negative_reward=0.0149, margin=-.0481]  "
     ]
    },
    {
     "name": "stdout",
     "output_type": "stream",
     "text": [
      "[-112.4]\n"
     ]
    },
    {
     "name": "stderr",
     "output_type": "stream",
     "text": [
      "Epoch [4/5]:  48%|████▊     | 1862/3907 [02:35<02:34, 13.22it/s, loss=0.507, positive_reward=0.0233, negative_reward=0.0566, margin=-.0332]   "
     ]
    },
    {
     "name": "stdout",
     "output_type": "stream",
     "text": [
      "[-103.5]\n"
     ]
    },
    {
     "name": "stderr",
     "output_type": "stream",
     "text": [
      "Epoch [4/5]:  48%|████▊     | 1890/3907 [02:38<02:52, 11.69it/s, loss=0.533, positive_reward=-.0739, negative_reward=0.129, margin=-.202]     "
     ]
    },
    {
     "name": "stdout",
     "output_type": "stream",
     "text": [
      "[-99.]\n"
     ]
    },
    {
     "name": "stderr",
     "output_type": "stream",
     "text": [
      "Epoch [4/5]:  50%|████▉     | 1936/3907 [02:42<02:26, 13.50it/s, loss=0.501, positive_reward=0.00627, negative_reward=0.0108, margin=-.00454]  "
     ]
    },
    {
     "name": "stdout",
     "output_type": "stream",
     "text": [
      "[-122.3]\n"
     ]
    },
    {
     "name": "stderr",
     "output_type": "stream",
     "text": [
      "Epoch [4/5]:  51%|█████     | 1984/3907 [02:45<02:10, 14.70it/s, loss=0.508, positive_reward=-.00901, negative_reward=0.0299, margin=-.0389]  "
     ]
    },
    {
     "name": "stdout",
     "output_type": "stream",
     "text": [
      "[-103.5]\n"
     ]
    },
    {
     "name": "stderr",
     "output_type": "stream",
     "text": [
      "Epoch [4/5]:  52%|█████▏    | 2014/3907 [02:48<02:32, 12.38it/s, loss=0.498, positive_reward=0.0124, negative_reward=0.00282, margin=0.00956]  "
     ]
    },
    {
     "name": "stdout",
     "output_type": "stream",
     "text": [
      "[-102.3]\n"
     ]
    },
    {
     "name": "stderr",
     "output_type": "stream",
     "text": [
      "Epoch [4/5]:  52%|█████▏    | 2049/3907 [02:52<02:26, 12.69it/s, loss=0.523, positive_reward=-.0505, negative_reward=0.0869, margin=-.137]     "
     ]
    },
    {
     "name": "stdout",
     "output_type": "stream",
     "text": [
      "[-105.8]\n"
     ]
    },
    {
     "name": "stderr",
     "output_type": "stream",
     "text": [
      "Epoch [4/5]:  54%|█████▎    | 2100/3907 [02:54<01:48, 16.70it/s, loss=0.499, positive_reward=0.0126, negative_reward=0.00707, margin=0.00552]"
     ]
    },
    {
     "name": "stdout",
     "output_type": "stream",
     "text": [
      "[-100.3]\n"
     ]
    },
    {
     "name": "stderr",
     "output_type": "stream",
     "text": [
      "Epoch [4/5]:  55%|█████▍    | 2133/3907 [02:57<01:59, 14.79it/s, loss=0.539, positive_reward=-.0392, negative_reward=0.188, margin=-.227]    "
     ]
    },
    {
     "name": "stdout",
     "output_type": "stream",
     "text": [
      "[-109.3]\n"
     ]
    },
    {
     "name": "stderr",
     "output_type": "stream",
     "text": [
      "Epoch [4/5]:  55%|█████▌    | 2168/3907 [03:00<02:02, 14.15it/s, loss=0.508, positive_reward=0.012, negative_reward=0.0495, margin=-.0375]   "
     ]
    },
    {
     "name": "stdout",
     "output_type": "stream",
     "text": [
      "[-122.1]\n"
     ]
    },
    {
     "name": "stderr",
     "output_type": "stream",
     "text": [
      "Epoch [4/5]:  57%|█████▋    | 2220/3907 [03:04<01:46, 15.81it/s, loss=0.507, positive_reward=0.0246, negative_reward=0.0546, margin=-.03]      "
     ]
    },
    {
     "name": "stdout",
     "output_type": "stream",
     "text": [
      "[-108.]\n"
     ]
    },
    {
     "name": "stderr",
     "output_type": "stream",
     "text": [
      "Epoch [4/5]:  58%|█████▊    | 2251/3907 [03:07<01:56, 14.27it/s, loss=0.505, positive_reward=0.0303, negative_reward=0.0547, margin=-.0244]  "
     ]
    },
    {
     "name": "stdout",
     "output_type": "stream",
     "text": [
      "[-113.4]\n"
     ]
    },
    {
     "name": "stderr",
     "output_type": "stream",
     "text": [
      "Epoch [4/5]:  59%|█████▊    | 2286/3907 [03:10<02:06, 12.79it/s, loss=0.516, positive_reward=-.0585, negative_reward=0.0479, margin=-.106]   "
     ]
    },
    {
     "name": "stdout",
     "output_type": "stream",
     "text": [
      "[-126.3]\n"
     ]
    },
    {
     "name": "stderr",
     "output_type": "stream",
     "text": [
      "Epoch [4/5]:  59%|█████▉    | 2322/3907 [03:13<01:52, 14.11it/s, loss=0.5, positive_reward=0.0191, negative_reward=0.0176, margin=0.00143]    "
     ]
    },
    {
     "name": "stdout",
     "output_type": "stream",
     "text": [
      "[-98.9]\n"
     ]
    },
    {
     "name": "stderr",
     "output_type": "stream",
     "text": [
      "Epoch [4/5]:  61%|██████    | 2369/3907 [03:16<01:47, 14.29it/s, loss=0.514, positive_reward=0.00651, negative_reward=0.0721, margin=-.0656] "
     ]
    },
    {
     "name": "stdout",
     "output_type": "stream",
     "text": [
      "[-113.5]\n"
     ]
    },
    {
     "name": "stderr",
     "output_type": "stream",
     "text": [
      "Epoch [4/5]:  61%|██████▏   | 2402/3907 [03:19<01:41, 14.86it/s, loss=0.502, positive_reward=0.0344, negative_reward=0.0452, margin=-.0108]  "
     ]
    },
    {
     "name": "stdout",
     "output_type": "stream",
     "text": [
      "[-103.1]\n"
     ]
    },
    {
     "name": "stderr",
     "output_type": "stream",
     "text": [
      "Epoch [4/5]:  63%|██████▎   | 2452/3907 [03:22<01:20, 18.03it/s, loss=0.509, positive_reward=0.0135, negative_reward=0.0544, margin=-.0409]  "
     ]
    },
    {
     "name": "stdout",
     "output_type": "stream",
     "text": [
      "[-99.3]\n"
     ]
    },
    {
     "name": "stderr",
     "output_type": "stream",
     "text": [
      "Epoch [4/5]:  64%|██████▎   | 2485/3907 [03:25<01:32, 15.45it/s, loss=0.506, positive_reward=-5.49e-5, negative_reward=0.0323, margin=-.0323]"
     ]
    },
    {
     "name": "stdout",
     "output_type": "stream",
     "text": [
      "[-98.6]\n"
     ]
    },
    {
     "name": "stderr",
     "output_type": "stream",
     "text": [
      "Epoch [4/5]:  64%|██████▍   | 2520/3907 [03:28<01:33, 14.78it/s, loss=0.527, positive_reward=-.000135, negative_reward=0.126, margin=-.126]   "
     ]
    },
    {
     "name": "stdout",
     "output_type": "stream",
     "text": [
      "[-103.6]\n"
     ]
    },
    {
     "name": "stderr",
     "output_type": "stream",
     "text": [
      "Epoch [4/5]:  66%|██████▌   | 2573/3907 [03:31<01:19, 16.82it/s, loss=0.499, positive_reward=0.0473, negative_reward=0.0438, margin=0.00351] "
     ]
    },
    {
     "name": "stdout",
     "output_type": "stream",
     "text": [
      "[-113.2]\n"
     ]
    },
    {
     "name": "stderr",
     "output_type": "stream",
     "text": [
      "Epoch [4/5]:  67%|██████▋   | 2607/3907 [03:34<01:22, 15.74it/s, loss=0.513, positive_reward=0.000565, negative_reward=0.064, margin=-.0634] "
     ]
    },
    {
     "name": "stdout",
     "output_type": "stream",
     "text": [
      "[-114.6]\n"
     ]
    },
    {
     "name": "stderr",
     "output_type": "stream",
     "text": [
      "Epoch [4/5]:  68%|██████▊   | 2638/3907 [03:36<01:28, 14.41it/s, loss=0.502, positive_reward=0.0285, negative_reward=0.0379, margin=-.00936]  "
     ]
    },
    {
     "name": "stdout",
     "output_type": "stream",
     "text": [
      "[-101.6]\n"
     ]
    },
    {
     "name": "stderr",
     "output_type": "stream",
     "text": [
      "Epoch [4/5]:  69%|██████▉   | 2689/3907 [03:40<01:20, 15.04it/s, loss=0.5, positive_reward=0.0396, negative_reward=0.0393, margin=0.000373]   "
     ]
    },
    {
     "name": "stdout",
     "output_type": "stream",
     "text": [
      "[-114.9]\n"
     ]
    },
    {
     "name": "stderr",
     "output_type": "stream",
     "text": [
      "Epoch [4/5]:  70%|██████▉   | 2722/3907 [03:43<01:22, 14.30it/s, loss=0.508, positive_reward=-.0137, negative_reward=0.0342, margin=-.0479]   "
     ]
    },
    {
     "name": "stdout",
     "output_type": "stream",
     "text": [
      "[-117.8]\n"
     ]
    },
    {
     "name": "stderr",
     "output_type": "stream",
     "text": [
      "Epoch [4/5]:  70%|███████   | 2752/3907 [03:46<01:19, 14.47it/s, loss=0.552, positive_reward=-.0316, negative_reward=0.227, margin=-.259]   "
     ]
    },
    {
     "name": "stdout",
     "output_type": "stream",
     "text": [
      "[-105.]\n"
     ]
    },
    {
     "name": "stderr",
     "output_type": "stream",
     "text": [
      "Epoch [4/5]:  72%|███████▏  | 2804/3907 [03:49<01:05, 16.75it/s, loss=0.512, positive_reward=-.00347, negative_reward=0.0629, margin=-.0664]  "
     ]
    },
    {
     "name": "stdout",
     "output_type": "stream",
     "text": [
      "[-104.3]\n"
     ]
    },
    {
     "name": "stderr",
     "output_type": "stream",
     "text": [
      "Epoch [4/5]:  73%|███████▎  | 2837/3907 [03:52<01:12, 14.73it/s, loss=0.511, positive_reward=-.00298, negative_reward=0.0417, margin=-.0447]"
     ]
    },
    {
     "name": "stdout",
     "output_type": "stream",
     "text": [
      "[-105.4]\n"
     ]
    },
    {
     "name": "stderr",
     "output_type": "stream",
     "text": [
      "Epoch [4/5]:  74%|███████▎  | 2872/3907 [03:54<01:05, 15.84it/s, loss=0.524, positive_reward=-.0484, negative_reward=0.0874, margin=-.136]  "
     ]
    },
    {
     "name": "stdout",
     "output_type": "stream",
     "text": [
      "[-104.6]\n"
     ]
    },
    {
     "name": "stderr",
     "output_type": "stream",
     "text": [
      "Epoch [4/5]:  74%|███████▍  | 2909/3907 [03:59<01:24, 11.80it/s, loss=0.507, positive_reward=-.0313, negative_reward=0.0144, margin=-.0457] "
     ]
    },
    {
     "name": "stdout",
     "output_type": "stream",
     "text": [
      "[-116.1]\n"
     ]
    },
    {
     "name": "stderr",
     "output_type": "stream",
     "text": [
      "Epoch [4/5]:  76%|███████▌  | 2956/3907 [04:02<01:12, 13.20it/s, loss=0.525, positive_reward=0.0153, negative_reward=0.142, margin=-.127]   "
     ]
    },
    {
     "name": "stdout",
     "output_type": "stream",
     "text": [
      "[-109.]\n"
     ]
    },
    {
     "name": "stderr",
     "output_type": "stream",
     "text": [
      "Epoch [4/5]:  77%|███████▋  | 2990/3907 [04:05<01:09, 13.13it/s, loss=0.493, positive_reward=0.0468, negative_reward=0.0177, margin=0.0291]  "
     ]
    },
    {
     "name": "stdout",
     "output_type": "stream",
     "text": [
      "[-143.9]\n"
     ]
    },
    {
     "name": "stderr",
     "output_type": "stream",
     "text": [
      "Epoch [4/5]:  78%|███████▊  | 3028/3907 [04:09<01:05, 13.39it/s, loss=0.509, positive_reward=-.0101, negative_reward=0.0389, margin=-.0489]   "
     ]
    },
    {
     "name": "stdout",
     "output_type": "stream",
     "text": [
      "[-104.7]\n"
     ]
    },
    {
     "name": "stderr",
     "output_type": "stream",
     "text": [
      "Epoch [4/5]:  79%|███████▊  | 3068/3907 [04:12<00:58, 14.46it/s, loss=0.509, positive_reward=0.00975, negative_reward=0.0453, margin=-.0356]  "
     ]
    },
    {
     "name": "stdout",
     "output_type": "stream",
     "text": [
      "[-113.9]\n"
     ]
    },
    {
     "name": "stderr",
     "output_type": "stream",
     "text": [
      "Epoch [4/5]:  79%|███████▉  | 3106/3907 [04:15<00:53, 15.08it/s, loss=0.499, positive_reward=0.0189, negative_reward=0.0149, margin=0.00404] "
     ]
    },
    {
     "name": "stdout",
     "output_type": "stream",
     "text": [
      "[-103.6]\n"
     ]
    },
    {
     "name": "stderr",
     "output_type": "stream",
     "text": [
      "Epoch [4/5]:  80%|████████  | 3145/3907 [04:18<00:48, 15.57it/s, loss=0.505, positive_reward=0.0125, negative_reward=0.0408, margin=-.0283]  "
     ]
    },
    {
     "name": "stdout",
     "output_type": "stream",
     "text": [
      "[-103.4]\n"
     ]
    },
    {
     "name": "stderr",
     "output_type": "stream",
     "text": [
      "Epoch [4/5]:  82%|████████▏ | 3199/3907 [04:20<00:38, 18.17it/s, loss=0.514, positive_reward=-.00284, negative_reward=0.0619, margin=-.0647] "
     ]
    },
    {
     "name": "stdout",
     "output_type": "stream",
     "text": [
      "[-115.3]\n"
     ]
    },
    {
     "name": "stderr",
     "output_type": "stream",
     "text": [
      "Epoch [4/5]:  83%|████████▎ | 3232/3907 [04:23<00:40, 16.80it/s, loss=0.505, positive_reward=0.0468, negative_reward=0.0692, margin=-.0224]  "
     ]
    },
    {
     "name": "stdout",
     "output_type": "stream",
     "text": [
      "[-110.9]\n"
     ]
    },
    {
     "name": "stderr",
     "output_type": "stream",
     "text": [
      "Epoch [4/5]:  84%|████████▎ | 3266/3907 [04:26<00:40, 15.84it/s, loss=0.506, positive_reward=0.0111, negative_reward=0.0364, margin=-.0254]    "
     ]
    },
    {
     "name": "stdout",
     "output_type": "stream",
     "text": [
      "[-100.9]\n"
     ]
    },
    {
     "name": "stderr",
     "output_type": "stream",
     "text": [
      "Epoch [4/5]:  85%|████████▍ | 3303/3907 [04:29<00:37, 15.96it/s, loss=0.501, positive_reward=0.00258, negative_reward=0.00622, margin=-.00364]"
     ]
    },
    {
     "name": "stdout",
     "output_type": "stream",
     "text": [
      "[-102.6]\n"
     ]
    },
    {
     "name": "stderr",
     "output_type": "stream",
     "text": [
      "Epoch [4/5]:  86%|████████▌ | 3341/3907 [04:32<00:34, 16.18it/s, loss=0.491, positive_reward=0.0394, negative_reward=0.000828, margin=0.0385] "
     ]
    },
    {
     "name": "stdout",
     "output_type": "stream",
     "text": [
      "[-103.8]\n"
     ]
    },
    {
     "name": "stderr",
     "output_type": "stream",
     "text": [
      "Epoch [4/5]:  87%|████████▋ | 3380/3907 [04:34<00:32, 16.37it/s, loss=0.512, positive_reward=0.0204, negative_reward=0.0766, margin=-.0562]  "
     ]
    },
    {
     "name": "stdout",
     "output_type": "stream",
     "text": [
      "[-101.8]\n"
     ]
    },
    {
     "name": "stderr",
     "output_type": "stream",
     "text": [
      "Epoch [4/5]:  88%|████████▊ | 3419/3907 [04:37<00:29, 16.62it/s, loss=0.506, positive_reward=-.0414, negative_reward=0.00858, margin=-.05]    "
     ]
    },
    {
     "name": "stdout",
     "output_type": "stream",
     "text": [
      "[-99.2]\n"
     ]
    },
    {
     "name": "stderr",
     "output_type": "stream",
     "text": [
      "Epoch [4/5]:  89%|████████▊ | 3458/3907 [04:40<00:28, 15.51it/s, loss=0.502, positive_reward=0.058, negative_reward=0.0641, margin=-.00609] "
     ]
    },
    {
     "name": "stdout",
     "output_type": "stream",
     "text": [
      "[-137.6]\n"
     ]
    },
    {
     "name": "stderr",
     "output_type": "stream",
     "text": [
      "Epoch [4/5]:  90%|████████▉ | 3497/3907 [04:43<00:26, 15.75it/s, loss=0.512, positive_reward=0.0333, negative_reward=0.0895, margin=-.0563] "
     ]
    },
    {
     "name": "stdout",
     "output_type": "stream",
     "text": [
      "[-104.2]\n"
     ]
    },
    {
     "name": "stderr",
     "output_type": "stream",
     "text": [
      "Epoch [4/5]:  91%|█████████ | 3536/3907 [04:46<00:23, 16.10it/s, loss=0.513, positive_reward=0.0153, negative_reward=0.0691, margin=-.0538]  "
     ]
    },
    {
     "name": "stdout",
     "output_type": "stream",
     "text": [
      "[-111.4]\n"
     ]
    },
    {
     "name": "stderr",
     "output_type": "stream",
     "text": [
      "Epoch [4/5]:  92%|█████████▏| 3575/3907 [04:49<00:20, 16.19it/s, loss=0.477, positive_reward=0.09, negative_reward=-.0172, margin=0.107]      "
     ]
    },
    {
     "name": "stdout",
     "output_type": "stream",
     "text": [
      "[-105.1]\n"
     ]
    },
    {
     "name": "stderr",
     "output_type": "stream",
     "text": [
      "Epoch [4/5]:  93%|█████████▎| 3626/3907 [04:52<00:16, 16.61it/s, loss=0.49, positive_reward=0.0498, negative_reward=0.00861, margin=0.0412] "
     ]
    },
    {
     "name": "stdout",
     "output_type": "stream",
     "text": [
      "[-123.9]\n"
     ]
    },
    {
     "name": "stderr",
     "output_type": "stream",
     "text": [
      "Epoch [4/5]:  94%|█████████▎| 3659/3907 [04:55<00:16, 15.48it/s, loss=0.505, positive_reward=0.0129, negative_reward=0.0338, margin=-.0208]  "
     ]
    },
    {
     "name": "stdout",
     "output_type": "stream",
     "text": [
      "[-103.3]\n"
     ]
    },
    {
     "name": "stderr",
     "output_type": "stream",
     "text": [
      "Epoch [4/5]:  95%|█████████▍| 3693/3907 [04:58<00:14, 15.09it/s, loss=0.495, positive_reward=0.0516, negative_reward=0.029, margin=0.0225]  "
     ]
    },
    {
     "name": "stdout",
     "output_type": "stream",
     "text": [
      "[-107.2]\n"
     ]
    },
    {
     "name": "stderr",
     "output_type": "stream",
     "text": [
      "Epoch [4/5]:  96%|█████████▌| 3732/3907 [05:01<00:10, 16.80it/s, loss=0.505, positive_reward=0.00287, negative_reward=0.0247, margin=-.0218] "
     ]
    },
    {
     "name": "stdout",
     "output_type": "stream",
     "text": [
      "[-99.4]\n"
     ]
    },
    {
     "name": "stderr",
     "output_type": "stream",
     "text": [
      "Epoch [4/5]:  96%|█████████▋| 3770/3907 [05:03<00:08, 16.18it/s, loss=0.501, positive_reward=0.0309, negative_reward=0.0359, margin=-.00496]   "
     ]
    },
    {
     "name": "stdout",
     "output_type": "stream",
     "text": [
      "[-101.5]\n"
     ]
    },
    {
     "name": "stderr",
     "output_type": "stream",
     "text": [
      "Epoch [4/5]:  98%|█████████▊| 3811/3907 [05:07<00:06, 13.81it/s, loss=0.526, positive_reward=0.00035, negative_reward=0.132, margin=-.131]   "
     ]
    },
    {
     "name": "stdout",
     "output_type": "stream",
     "text": [
      "[-110.6]\n"
     ]
    },
    {
     "name": "stderr",
     "output_type": "stream",
     "text": [
      "Epoch [4/5]:  99%|█████████▊| 3849/3907 [05:10<00:03, 15.83it/s, loss=0.5, positive_reward=0.0228, negative_reward=0.0251, margin=-.00228]  "
     ]
    },
    {
     "name": "stdout",
     "output_type": "stream",
     "text": [
      "[-107.1]\n"
     ]
    },
    {
     "name": "stderr",
     "output_type": "stream",
     "text": [
      "Epoch [4/5]: 100%|█████████▉| 3888/3907 [05:13<00:01, 16.13it/s, loss=0.501, positive_reward=0.0295, negative_reward=0.0329, margin=-.00344]  "
     ]
    },
    {
     "name": "stdout",
     "output_type": "stream",
     "text": [
      "[-104.7]\n"
     ]
    },
    {
     "name": "stderr",
     "output_type": "stream",
     "text": [
      "Epoch [4/5]: 100%|██████████| 3907/3907 [05:16<00:00, 12.36it/s, loss=0.491, positive_reward=0.0318, negative_reward=-.00802, margin=0.0398]\n"
     ]
    },
    {
     "name": "stdout",
     "output_type": "stream",
     "text": [
      "[-105.5]\n"
     ]
    },
    {
     "name": "stderr",
     "output_type": "stream",
     "text": [
      "Epoch [5/5]:   2%|▏         | 63/3907 [00:03<03:27, 18.51it/s, loss=0.505, positive_reward=0.00451, negative_reward=0.0255, margin=-.021]  "
     ]
    },
    {
     "name": "stdout",
     "output_type": "stream",
     "text": [
      "[-103.3]\n"
     ]
    },
    {
     "name": "stderr",
     "output_type": "stream",
     "text": [
      "Epoch [5/5]:   3%|▎         | 99/3907 [00:06<03:58, 15.99it/s, loss=0.506, positive_reward=0.0263, negative_reward=0.0538, margin=-.0275]   "
     ]
    },
    {
     "name": "stdout",
     "output_type": "stream",
     "text": [
      "[-101.7]\n"
     ]
    },
    {
     "name": "stderr",
     "output_type": "stream",
     "text": [
      "Epoch [5/5]:   4%|▎         | 138/3907 [00:09<03:56, 15.96it/s, loss=0.511, positive_reward=-.0374, negative_reward=0.0298, margin=-.0672]  "
     ]
    },
    {
     "name": "stdout",
     "output_type": "stream",
     "text": [
      "[-113.2]\n"
     ]
    },
    {
     "name": "stderr",
     "output_type": "stream",
     "text": [
      "Epoch [5/5]:   5%|▍         | 177/3907 [00:12<03:45, 16.57it/s, loss=0.519, positive_reward=-.0263, negative_reward=0.0859, margin=-.112]   "
     ]
    },
    {
     "name": "stdout",
     "output_type": "stream",
     "text": [
      "[-110.9]\n"
     ]
    },
    {
     "name": "stderr",
     "output_type": "stream",
     "text": [
      "Epoch [5/5]:   6%|▌         | 216/3907 [00:16<05:00, 12.26it/s, loss=0.516, positive_reward=-.0101, negative_reward=0.0618, margin=-.0719]  "
     ]
    },
    {
     "name": "stdout",
     "output_type": "stream",
     "text": [
      "[-138.4]\n"
     ]
    },
    {
     "name": "stderr",
     "output_type": "stream",
     "text": [
      "Epoch [5/5]:   7%|▋         | 255/3907 [00:19<04:18, 14.11it/s, loss=0.491, positive_reward=0.0424, negative_reward=0.00348, margin=0.0389] "
     ]
    },
    {
     "name": "stdout",
     "output_type": "stream",
     "text": [
      "[-101.7]\n"
     ]
    },
    {
     "name": "stderr",
     "output_type": "stream",
     "text": [
      "Epoch [5/5]:   8%|▊         | 294/3907 [00:22<03:59, 15.10it/s, loss=0.512, positive_reward=-.0318, negative_reward=0.0411, margin=-.0729]  "
     ]
    },
    {
     "name": "stdout",
     "output_type": "stream",
     "text": [
      "[-104.9]\n"
     ]
    },
    {
     "name": "stderr",
     "output_type": "stream",
     "text": [
      "Epoch [5/5]:   8%|▊         | 332/3907 [00:25<03:38, 16.37it/s, loss=0.503, positive_reward=0.0223, negative_reward=0.0365, margin=-.0142]  "
     ]
    },
    {
     "name": "stdout",
     "output_type": "stream",
     "text": [
      "[-100.7]\n"
     ]
    },
    {
     "name": "stderr",
     "output_type": "stream",
     "text": [
      "Epoch [5/5]:  10%|▉         | 372/3907 [00:27<03:19, 17.75it/s, loss=0.51, positive_reward=0.0322, negative_reward=0.0787, margin=-.0465]   "
     ]
    },
    {
     "name": "stdout",
     "output_type": "stream",
     "text": [
      "[-102.4]\n"
     ]
    },
    {
     "name": "stderr",
     "output_type": "stream",
     "text": [
      "Epoch [5/5]:  11%|█         | 411/3907 [00:30<03:28, 16.79it/s, loss=0.508, positive_reward=0.000403, negative_reward=0.0366, margin=-.0362]"
     ]
    },
    {
     "name": "stdout",
     "output_type": "stream",
     "text": [
      "[-114.7]\n"
     ]
    },
    {
     "name": "stderr",
     "output_type": "stream",
     "text": [
      "Epoch [5/5]:  11%|█▏        | 449/3907 [00:33<03:24, 16.95it/s, loss=0.507, positive_reward=0.0328, negative_reward=0.0609, margin=-.0281]  "
     ]
    },
    {
     "name": "stdout",
     "output_type": "stream",
     "text": [
      "[-102.9]\n"
     ]
    },
    {
     "name": "stderr",
     "output_type": "stream",
     "text": [
      "Epoch [5/5]:  13%|█▎        | 489/3907 [00:36<03:28, 16.39it/s, loss=0.498, positive_reward=0.0338, negative_reward=0.0233, margin=0.0105]   "
     ]
    },
    {
     "name": "stdout",
     "output_type": "stream",
     "text": [
      "[-105.6]\n"
     ]
    },
    {
     "name": "stderr",
     "output_type": "stream",
     "text": [
      "Epoch [5/5]:  14%|█▎        | 528/3907 [00:39<03:25, 16.46it/s, loss=0.524, positive_reward=-.0455, negative_reward=0.0932, margin=-.139]  "
     ]
    },
    {
     "name": "stdout",
     "output_type": "stream",
     "text": [
      "[-99.8]\n"
     ]
    },
    {
     "name": "stderr",
     "output_type": "stream",
     "text": [
      "Epoch [5/5]:  15%|█▍        | 567/3907 [00:41<03:17, 16.94it/s, loss=0.495, positive_reward=0.0235, negative_reward=0.00418, margin=0.0193]  "
     ]
    },
    {
     "name": "stdout",
     "output_type": "stream",
     "text": [
      "[-102.1]\n"
     ]
    },
    {
     "name": "stderr",
     "output_type": "stream",
     "text": [
      "Epoch [5/5]:  16%|█▌        | 606/3907 [00:44<03:09, 17.41it/s, loss=0.534, positive_reward=-.107, negative_reward=0.139, margin=-.246]    "
     ]
    },
    {
     "name": "stdout",
     "output_type": "stream",
     "text": [
      "[-108.]\n"
     ]
    },
    {
     "name": "stderr",
     "output_type": "stream",
     "text": [
      "Epoch [5/5]:  17%|█▋        | 646/3907 [00:47<03:15, 16.70it/s, loss=0.529, positive_reward=-.0369, negative_reward=0.117, margin=-.154]   "
     ]
    },
    {
     "name": "stdout",
     "output_type": "stream",
     "text": [
      "[-128.9]\n"
     ]
    },
    {
     "name": "stderr",
     "output_type": "stream",
     "text": [
      "Epoch [5/5]:  18%|█▊        | 685/3907 [00:49<03:01, 17.73it/s, loss=0.5, positive_reward=0.0289, negative_reward=0.0298, margin=-.000859] "
     ]
    },
    {
     "name": "stdout",
     "output_type": "stream",
     "text": [
      "[-100.1]\n"
     ]
    },
    {
     "name": "stderr",
     "output_type": "stream",
     "text": [
      "Epoch [5/5]:  19%|█▊        | 724/3907 [00:52<03:06, 17.03it/s, loss=0.507, positive_reward=-.00966, negative_reward=0.0271, margin=-.0367]"
     ]
    },
    {
     "name": "stdout",
     "output_type": "stream",
     "text": [
      "[-98.6]\n"
     ]
    },
    {
     "name": "stderr",
     "output_type": "stream",
     "text": [
      "Epoch [5/5]:  20%|█▉        | 772/3907 [00:55<03:00, 17.34it/s, loss=0.507, positive_reward=0.0188, negative_reward=0.0483, margin=-.0295]  "
     ]
    },
    {
     "name": "stdout",
     "output_type": "stream",
     "text": [
      "[-98.6]\n"
     ]
    },
    {
     "name": "stderr",
     "output_type": "stream",
     "text": [
      "Epoch [5/5]:  21%|██        | 805/3907 [00:58<03:23, 15.27it/s, loss=0.526, positive_reward=-.0016, negative_reward=0.116, margin=-.118]    "
     ]
    },
    {
     "name": "stdout",
     "output_type": "stream",
     "text": [
      "[-107.2]\n"
     ]
    },
    {
     "name": "stderr",
     "output_type": "stream",
     "text": [
      "Epoch [5/5]:  22%|██▏       | 841/3907 [01:01<03:15, 15.72it/s, loss=0.517, positive_reward=-.000789, negative_reward=0.079, margin=-.0798] "
     ]
    },
    {
     "name": "stdout",
     "output_type": "stream",
     "text": [
      "[-99.6]\n"
     ]
    },
    {
     "name": "stderr",
     "output_type": "stream",
     "text": [
      "Epoch [5/5]:  23%|██▎       | 893/3907 [01:04<02:53, 17.38it/s, loss=0.505, positive_reward=0.0234, negative_reward=0.0464, margin=-.023]   "
     ]
    },
    {
     "name": "stdout",
     "output_type": "stream",
     "text": [
      "[-115.9]\n"
     ]
    },
    {
     "name": "stderr",
     "output_type": "stream",
     "text": [
      "Epoch [5/5]:  24%|██▎       | 926/3907 [01:07<03:19, 14.93it/s, loss=0.507, positive_reward=-.0336, negative_reward=0.012, margin=-.0456]   "
     ]
    },
    {
     "name": "stdout",
     "output_type": "stream",
     "text": [
      "[-125.9]\n"
     ]
    },
    {
     "name": "stderr",
     "output_type": "stream",
     "text": [
      "Epoch [5/5]:  25%|██▍       | 960/3907 [01:10<03:17, 14.96it/s, loss=0.505, positive_reward=0.0258, negative_reward=0.0439, margin=-.0181]   "
     ]
    },
    {
     "name": "stdout",
     "output_type": "stream",
     "text": [
      "[-98.8]\n"
     ]
    },
    {
     "name": "stderr",
     "output_type": "stream",
     "text": [
      "Epoch [5/5]:  26%|██▌       | 998/3907 [01:13<03:04, 15.74it/s, loss=0.501, positive_reward=0.0154, negative_reward=0.0214, margin=-.006]    "
     ]
    },
    {
     "name": "stdout",
     "output_type": "stream",
     "text": [
      "[-99.6]\n"
     ]
    },
    {
     "name": "stderr",
     "output_type": "stream",
     "text": [
      "Epoch [5/5]:  27%|██▋       | 1036/3907 [01:17<03:58, 12.03it/s, loss=0.507, positive_reward=0.00441, negative_reward=0.0442, margin=-.0398] "
     ]
    },
    {
     "name": "stdout",
     "output_type": "stream",
     "text": [
      "[-112.1]\n"
     ]
    },
    {
     "name": "stderr",
     "output_type": "stream",
     "text": [
      "Epoch [5/5]:  28%|██▊       | 1075/3907 [01:20<03:21, 14.04it/s, loss=0.501, positive_reward=0.0133, negative_reward=0.0161, margin=-.00278]  "
     ]
    },
    {
     "name": "stdout",
     "output_type": "stream",
     "text": [
      "[-98.3]\n"
     ]
    },
    {
     "name": "stderr",
     "output_type": "stream",
     "text": [
      "Epoch [5/5]:  28%|██▊       | 1113/3907 [01:23<02:59, 15.60it/s, loss=0.526, positive_reward=-.0408, negative_reward=0.122, margin=-.163]   "
     ]
    },
    {
     "name": "stdout",
     "output_type": "stream",
     "text": [
      "[-100.2]\n"
     ]
    },
    {
     "name": "stderr",
     "output_type": "stream",
     "text": [
      "Epoch [5/5]:  29%|██▉       | 1151/3907 [01:25<02:49, 16.25it/s, loss=0.501, positive_reward=0.00787, negative_reward=0.0103, margin=-.00244]  "
     ]
    },
    {
     "name": "stdout",
     "output_type": "stream",
     "text": [
      "[-105.4]\n"
     ]
    },
    {
     "name": "stderr",
     "output_type": "stream",
     "text": [
      "Epoch [5/5]:  31%|███       | 1201/3907 [01:28<02:38, 17.10it/s, loss=0.509, positive_reward=0.000821, negative_reward=0.0401, margin=-.0392]  "
     ]
    },
    {
     "name": "stdout",
     "output_type": "stream",
     "text": [
      "[-106.5]\n"
     ]
    },
    {
     "name": "stderr",
     "output_type": "stream",
     "text": [
      "Epoch [5/5]:  32%|███▏      | 1234/3907 [01:31<02:50, 15.65it/s, loss=0.513, positive_reward=-.0178, negative_reward=0.0504, margin=-.0682]  "
     ]
    },
    {
     "name": "stdout",
     "output_type": "stream",
     "text": [
      "[-98.2]\n"
     ]
    },
    {
     "name": "stderr",
     "output_type": "stream",
     "text": [
      "Epoch [5/5]:  32%|███▏      | 1269/3907 [01:35<03:18, 13.31it/s, loss=0.497, positive_reward=0.00669, negative_reward=-.0108, margin=0.0175]  "
     ]
    },
    {
     "name": "stdout",
     "output_type": "stream",
     "text": [
      "[-112.]\n"
     ]
    },
    {
     "name": "stderr",
     "output_type": "stream",
     "text": [
      "Epoch [5/5]:  34%|███▍      | 1319/3907 [01:38<02:52, 14.98it/s, loss=0.514, positive_reward=-.0559, negative_reward=0.0374, margin=-.0933] "
     ]
    },
    {
     "name": "stdout",
     "output_type": "stream",
     "text": [
      "[-105.2]\n"
     ]
    },
    {
     "name": "stderr",
     "output_type": "stream",
     "text": [
      "Epoch [5/5]:  35%|███▍      | 1351/3907 [01:41<02:46, 15.39it/s, loss=0.51, positive_reward=-.0131, negative_reward=0.034, margin=-.0472]     "
     ]
    },
    {
     "name": "stdout",
     "output_type": "stream",
     "text": [
      "[-102.3]\n"
     ]
    },
    {
     "name": "stderr",
     "output_type": "stream",
     "text": [
      "Epoch [5/5]:  35%|███▌      | 1386/3907 [01:44<02:53, 14.56it/s, loss=0.51, positive_reward=0.00323, negative_reward=0.0474, margin=-.0442]  "
     ]
    },
    {
     "name": "stdout",
     "output_type": "stream",
     "text": [
      "[-102.9]\n"
     ]
    },
    {
     "name": "stderr",
     "output_type": "stream",
     "text": [
      "Epoch [5/5]:  37%|███▋      | 1429/3907 [01:47<02:54, 14.23it/s, loss=0.511, positive_reward=-.00891, negative_reward=0.0439, margin=-.0528]  "
     ]
    },
    {
     "name": "stdout",
     "output_type": "stream",
     "text": [
      "[-123.4]\n"
     ]
    },
    {
     "name": "stderr",
     "output_type": "stream",
     "text": [
      "Epoch [5/5]:  38%|███▊      | 1473/3907 [01:50<02:34, 15.74it/s, loss=0.52, positive_reward=-.0217, negative_reward=0.075, margin=-.0967]     "
     ]
    },
    {
     "name": "stdout",
     "output_type": "stream",
     "text": [
      "[-114.9]\n"
     ]
    },
    {
     "name": "stderr",
     "output_type": "stream",
     "text": [
      "Epoch [5/5]:  38%|███▊      | 1503/3907 [01:53<02:53, 13.87it/s, loss=0.5, positive_reward=0.0113, negative_reward=0.0124, margin=-.00114]   "
     ]
    },
    {
     "name": "stdout",
     "output_type": "stream",
     "text": [
      "[-98.6]\n"
     ]
    },
    {
     "name": "stderr",
     "output_type": "stream",
     "text": [
      "Epoch [5/5]:  40%|███▉      | 1552/3907 [01:56<02:35, 15.17it/s, loss=0.5, positive_reward=0.0129, negative_reward=0.013, margin=-.000133]   "
     ]
    },
    {
     "name": "stdout",
     "output_type": "stream",
     "text": [
      "[-104.]\n"
     ]
    },
    {
     "name": "stderr",
     "output_type": "stream",
     "text": [
      "Epoch [5/5]:  40%|████      | 1582/3907 [01:59<02:51, 13.53it/s, loss=0.513, positive_reward=0.0113, negative_reward=0.0665, margin=-.0551]    "
     ]
    },
    {
     "name": "stdout",
     "output_type": "stream",
     "text": [
      "[-104.4]\n"
     ]
    },
    {
     "name": "stderr",
     "output_type": "stream",
     "text": [
      "Epoch [5/5]:  42%|████▏     | 1631/3907 [02:02<02:20, 16.25it/s, loss=0.505, positive_reward=-.0106, negative_reward=0.0163, margin=-.0269]    "
     ]
    },
    {
     "name": "stdout",
     "output_type": "stream",
     "text": [
      "[-104.4]\n"
     ]
    },
    {
     "name": "stderr",
     "output_type": "stream",
     "text": [
      "Epoch [5/5]:  42%|████▏     | 1660/3907 [02:05<02:47, 13.44it/s, loss=0.508, positive_reward=0.0118, negative_reward=0.0492, margin=-.0375]    "
     ]
    },
    {
     "name": "stdout",
     "output_type": "stream",
     "text": [
      "[-100.5]\n"
     ]
    },
    {
     "name": "stderr",
     "output_type": "stream",
     "text": [
      "Epoch [5/5]:  44%|████▎     | 1708/3907 [02:08<02:18, 15.83it/s, loss=0.513, positive_reward=-.035, negative_reward=0.0397, margin=-.0746]  "
     ]
    },
    {
     "name": "stdout",
     "output_type": "stream",
     "text": [
      "[-100.4]\n"
     ]
    },
    {
     "name": "stderr",
     "output_type": "stream",
     "text": [
      "Epoch [5/5]:  44%|████▍     | 1736/3907 [02:11<02:35, 14.00it/s, loss=0.507, positive_reward=-.0111, negative_reward=0.0246, margin=-.0357]  "
     ]
    },
    {
     "name": "stdout",
     "output_type": "stream",
     "text": [
      "[-101.5]\n"
     ]
    },
    {
     "name": "stderr",
     "output_type": "stream",
     "text": [
      "Epoch [5/5]:  46%|████▌     | 1785/3907 [02:13<02:06, 16.81it/s, loss=0.515, positive_reward=0.00554, negative_reward=0.0772, margin=-.0716]  "
     ]
    },
    {
     "name": "stdout",
     "output_type": "stream",
     "text": [
      "[-95.4]\n"
     ]
    },
    {
     "name": "stderr",
     "output_type": "stream",
     "text": [
      "Epoch [5/5]:  46%|████▋     | 1814/3907 [02:16<02:30, 13.92it/s, loss=0.517, positive_reward=-.0259, negative_reward=0.0577, margin=-.0836]    "
     ]
    },
    {
     "name": "stdout",
     "output_type": "stream",
     "text": [
      "[-100.4]\n"
     ]
    },
    {
     "name": "stderr",
     "output_type": "stream",
     "text": [
      "Epoch [5/5]:  48%|████▊     | 1864/3907 [02:19<02:12, 15.43it/s, loss=0.5, positive_reward=0.0106, negative_reward=0.00878, margin=0.00178]    "
     ]
    },
    {
     "name": "stdout",
     "output_type": "stream",
     "text": [
      "[-102.6]\n"
     ]
    },
    {
     "name": "stderr",
     "output_type": "stream",
     "text": [
      "Epoch [5/5]:  48%|████▊     | 1893/3907 [02:24<03:19, 10.07it/s, loss=0.512, positive_reward=-.000116, negative_reward=0.0554, margin=-.0555] "
     ]
    },
    {
     "name": "stdout",
     "output_type": "stream",
     "text": [
      "[-119.9]\n"
     ]
    },
    {
     "name": "stderr",
     "output_type": "stream",
     "text": [
      "Epoch [5/5]:  50%|████▉     | 1938/3907 [02:27<02:32, 12.89it/s, loss=0.506, positive_reward=0.00363, negative_reward=0.0276, margin=-.0239]  "
     ]
    },
    {
     "name": "stdout",
     "output_type": "stream",
     "text": [
      "[-103.]\n"
     ]
    },
    {
     "name": "stderr",
     "output_type": "stream",
     "text": [
      "Epoch [5/5]:  50%|█████     | 1973/3907 [02:30<02:21, 13.67it/s, loss=0.509, positive_reward=-.00115, negative_reward=0.0403, margin=-.0415] "
     ]
    },
    {
     "name": "stdout",
     "output_type": "stream",
     "text": [
      "[-113.4]\n"
     ]
    },
    {
     "name": "stderr",
     "output_type": "stream",
     "text": [
      "Epoch [5/5]:  52%|█████▏    | 2024/3907 [02:33<01:55, 16.29it/s, loss=0.502, positive_reward=-.00382, negative_reward=0.0065, margin=-.0103]  "
     ]
    },
    {
     "name": "stdout",
     "output_type": "stream",
     "text": [
      "[-110.6]\n"
     ]
    },
    {
     "name": "stderr",
     "output_type": "stream",
     "text": [
      "Epoch [5/5]:  53%|█████▎    | 2054/3907 [02:36<02:13, 13.85it/s, loss=0.516, positive_reward=-.0336, negative_reward=0.0599, margin=-.0934]  "
     ]
    },
    {
     "name": "stdout",
     "output_type": "stream",
     "text": [
      "[-99.2]\n"
     ]
    },
    {
     "name": "stderr",
     "output_type": "stream",
     "text": [
      "Epoch [5/5]:  53%|█████▎    | 2090/3907 [02:40<02:09, 13.99it/s, loss=0.556, positive_reward=-.155, negative_reward=0.227, margin=-.382]     "
     ]
    },
    {
     "name": "stdout",
     "output_type": "stream",
     "text": [
      "[-109.2]\n"
     ]
    },
    {
     "name": "stderr",
     "output_type": "stream",
     "text": [
      "Epoch [5/5]:  55%|█████▍    | 2142/3907 [02:43<01:52, 15.65it/s, loss=0.52, positive_reward=-.0537, negative_reward=0.0699, margin=-.124]      "
     ]
    },
    {
     "name": "stdout",
     "output_type": "stream",
     "text": [
      "[-105.1]\n"
     ]
    },
    {
     "name": "stderr",
     "output_type": "stream",
     "text": [
      "Epoch [5/5]:  56%|█████▌    | 2174/3907 [02:46<01:57, 14.70it/s, loss=0.513, positive_reward=-.0367, negative_reward=0.0369, margin=-.0736]  "
     ]
    },
    {
     "name": "stdout",
     "output_type": "stream",
     "text": [
      "[-100.9]\n"
     ]
    },
    {
     "name": "stderr",
     "output_type": "stream",
     "text": [
      "Epoch [5/5]:  56%|█████▋    | 2204/3907 [02:49<02:09, 13.17it/s, loss=0.489, positive_reward=0.049, negative_reward=-.00217, margin=0.0512]  "
     ]
    },
    {
     "name": "stdout",
     "output_type": "stream",
     "text": [
      "[-110.5]\n"
     ]
    },
    {
     "name": "stderr",
     "output_type": "stream",
     "text": [
      "Epoch [5/5]:  58%|█████▊    | 2252/3907 [02:52<01:51, 14.79it/s, loss=0.518, positive_reward=-.00734, negative_reward=0.08, margin=-.0873]   "
     ]
    },
    {
     "name": "stdout",
     "output_type": "stream",
     "text": [
      "[-104.4]\n"
     ]
    },
    {
     "name": "stderr",
     "output_type": "stream",
     "text": [
      "Epoch [5/5]:  58%|█████▊    | 2285/3907 [02:56<02:26, 11.05it/s, loss=0.513, positive_reward=-.0348, negative_reward=0.0375, margin=-.0723]   "
     ]
    },
    {
     "name": "stdout",
     "output_type": "stream",
     "text": [
      "[-115.9]\n"
     ]
    },
    {
     "name": "stderr",
     "output_type": "stream",
     "text": [
      "Epoch [5/5]:  60%|█████▉    | 2336/3907 [03:00<01:50, 14.21it/s, loss=0.509, positive_reward=0.0159, negative_reward=0.0541, margin=-.0381]    "
     ]
    },
    {
     "name": "stdout",
     "output_type": "stream",
     "text": [
      "[-101.1]\n"
     ]
    },
    {
     "name": "stderr",
     "output_type": "stream",
     "text": [
      "Epoch [5/5]:  61%|██████    | 2366/3907 [03:03<01:57, 13.17it/s, loss=0.528, positive_reward=-.0691, negative_reward=0.122, margin=-.191]    "
     ]
    },
    {
     "name": "stdout",
     "output_type": "stream",
     "text": [
      "[-102.7]\n"
     ]
    },
    {
     "name": "stderr",
     "output_type": "stream",
     "text": [
      "Epoch [5/5]:  61%|██████▏   | 2401/3907 [03:06<01:53, 13.21it/s, loss=0.495, positive_reward=0.0142, negative_reward=-.00755, margin=0.0218]  "
     ]
    },
    {
     "name": "stdout",
     "output_type": "stream",
     "text": [
      "[-106.1]\n"
     ]
    },
    {
     "name": "stderr",
     "output_type": "stream",
     "text": [
      "Epoch [5/5]:  63%|██████▎   | 2449/3907 [03:09<01:38, 14.80it/s, loss=0.511, positive_reward=0.0294, negative_reward=0.0755, margin=-.0462]  "
     ]
    },
    {
     "name": "stdout",
     "output_type": "stream",
     "text": [
      "[-105.8]\n"
     ]
    },
    {
     "name": "stderr",
     "output_type": "stream",
     "text": [
      "Epoch [5/5]:  63%|██████▎   | 2480/3907 [03:12<01:44, 13.66it/s, loss=0.517, positive_reward=-.0378, negative_reward=0.0652, margin=-.103]  "
     ]
    },
    {
     "name": "stdout",
     "output_type": "stream",
     "text": [
      "[-106.2]\n"
     ]
    },
    {
     "name": "stderr",
     "output_type": "stream",
     "text": [
      "Epoch [5/5]:  65%|██████▍   | 2530/3907 [03:15<01:29, 15.32it/s, loss=0.507, positive_reward=-.0141, negative_reward=0.0259, margin=-.04]      "
     ]
    },
    {
     "name": "stdout",
     "output_type": "stream",
     "text": [
      "[-110.6]\n"
     ]
    },
    {
     "name": "stderr",
     "output_type": "stream",
     "text": [
      "Epoch [5/5]:  66%|██████▌   | 2560/3907 [03:18<01:41, 13.29it/s, loss=0.523, positive_reward=-.123, negative_reward=0.0601, margin=-.183]    "
     ]
    },
    {
     "name": "stdout",
     "output_type": "stream",
     "text": [
      "[-104.8]\n"
     ]
    },
    {
     "name": "stderr",
     "output_type": "stream",
     "text": [
      "Epoch [5/5]:  67%|██████▋   | 2607/3907 [03:21<01:22, 15.73it/s, loss=0.511, positive_reward=0.00829, negative_reward=0.0599, margin=-.0516] "
     ]
    },
    {
     "name": "stdout",
     "output_type": "stream",
     "text": [
      "[-102.3]\n"
     ]
    },
    {
     "name": "stderr",
     "output_type": "stream",
     "text": [
      "Epoch [5/5]:  67%|██████▋   | 2630/3907 [03:25<01:55, 11.02it/s, loss=0.516, positive_reward=-.00548, negative_reward=0.0681, margin=-.0736]   "
     ]
    },
    {
     "name": "stdout",
     "output_type": "stream",
     "text": [
      "[-110.7]\n"
     ]
    },
    {
     "name": "stderr",
     "output_type": "stream",
     "text": [
      "Epoch [5/5]:  69%|██████▊   | 2680/3907 [03:29<01:45, 11.62it/s, loss=0.505, positive_reward=-.00832, negative_reward=0.0171, margin=-.0254] "
     ]
    },
    {
     "name": "stdout",
     "output_type": "stream",
     "text": [
      "[-104.6]\n"
     ]
    },
    {
     "name": "stderr",
     "output_type": "stream",
     "text": [
      "Epoch [5/5]:  69%|██████▉   | 2715/3907 [03:32<01:32, 12.88it/s, loss=0.508, positive_reward=0.0157, negative_reward=0.0492, margin=-.0335]  "
     ]
    },
    {
     "name": "stdout",
     "output_type": "stream",
     "text": [
      "[-109.1]\n"
     ]
    },
    {
     "name": "stderr",
     "output_type": "stream",
     "text": [
      "Epoch [5/5]:  71%|███████   | 2764/3907 [03:35<01:15, 15.17it/s, loss=0.516, positive_reward=-.043, negative_reward=0.0557, margin=-.0987]    "
     ]
    },
    {
     "name": "stdout",
     "output_type": "stream",
     "text": [
      "[-104.5]\n"
     ]
    },
    {
     "name": "stderr",
     "output_type": "stream",
     "text": [
      "Epoch [5/5]:  72%|███████▏  | 2794/3907 [03:38<01:21, 13.66it/s, loss=0.538, positive_reward=-.101, negative_reward=0.144, margin=-.245]     "
     ]
    },
    {
     "name": "stdout",
     "output_type": "stream",
     "text": [
      "[-97.]\n"
     ]
    },
    {
     "name": "stderr",
     "output_type": "stream",
     "text": [
      "Epoch [5/5]:  73%|███████▎  | 2844/3907 [03:41<01:10, 14.97it/s, loss=0.5, positive_reward=0.00458, negative_reward=0.00677, margin=-.00219] "
     ]
    },
    {
     "name": "stdout",
     "output_type": "stream",
     "text": [
      "[-114.]\n"
     ]
    },
    {
     "name": "stderr",
     "output_type": "stream",
     "text": [
      "Epoch [5/5]:  74%|███████▎  | 2874/3907 [03:44<01:16, 13.55it/s, loss=0.512, positive_reward=0.0147, negative_reward=0.0644, margin=-.0497]  "
     ]
    },
    {
     "name": "stdout",
     "output_type": "stream",
     "text": [
      "[-102.2]\n"
     ]
    },
    {
     "name": "stderr",
     "output_type": "stream",
     "text": [
      "Epoch [5/5]:  74%|███████▍  | 2910/3907 [03:48<01:12, 13.76it/s, loss=0.486, positive_reward=0.0546, negative_reward=-.0179, margin=0.0724]  "
     ]
    },
    {
     "name": "stdout",
     "output_type": "stream",
     "text": [
      "[-105.6]\n"
     ]
    },
    {
     "name": "stderr",
     "output_type": "stream",
     "text": [
      "Epoch [5/5]:  76%|███████▌  | 2960/3907 [03:50<00:55, 16.95it/s, loss=0.52, positive_reward=-.00126, negative_reward=0.0822, margin=-.0835]  "
     ]
    },
    {
     "name": "stdout",
     "output_type": "stream",
     "text": [
      "[-99.3]\n"
     ]
    },
    {
     "name": "stderr",
     "output_type": "stream",
     "text": [
      "Epoch [5/5]:  76%|███████▋  | 2988/3907 [03:53<01:01, 14.82it/s, loss=0.52, positive_reward=-.0243, negative_reward=0.0778, margin=-.102]     "
     ]
    },
    {
     "name": "stdout",
     "output_type": "stream",
     "text": [
      "[-98.]\n"
     ]
    },
    {
     "name": "stderr",
     "output_type": "stream",
     "text": [
      "Epoch [5/5]:  78%|███████▊  | 3034/3907 [03:56<00:59, 14.76it/s, loss=0.512, positive_reward=0.0144, negative_reward=0.0637, margin=-.0493]    "
     ]
    },
    {
     "name": "stdout",
     "output_type": "stream",
     "text": [
      "[-107.4]\n"
     ]
    },
    {
     "name": "stderr",
     "output_type": "stream",
     "text": [
      "Epoch [5/5]:  78%|███████▊  | 3065/3907 [03:59<01:03, 13.32it/s, loss=0.501, positive_reward=0.0187, negative_reward=0.0222, margin=-.00352] "
     ]
    },
    {
     "name": "stdout",
     "output_type": "stream",
     "text": [
      "[-112.5]\n"
     ]
    },
    {
     "name": "stderr",
     "output_type": "stream",
     "text": [
      "Epoch [5/5]:  80%|███████▉  | 3110/3907 [04:03<01:09, 11.50it/s, loss=0.501, positive_reward=0.0221, negative_reward=0.0256, margin=-.00353]  "
     ]
    },
    {
     "name": "stdout",
     "output_type": "stream",
     "text": [
      "[-101.6]\n"
     ]
    },
    {
     "name": "stderr",
     "output_type": "stream",
     "text": [
      "Epoch [5/5]:  81%|████████  | 3151/3907 [04:06<00:56, 13.41it/s, loss=0.516, positive_reward=-.0351, negative_reward=0.0574, margin=-.0926]   "
     ]
    },
    {
     "name": "stdout",
     "output_type": "stream",
     "text": [
      "[-101.6]\n"
     ]
    },
    {
     "name": "stderr",
     "output_type": "stream",
     "text": [
      "Epoch [5/5]:  81%|████████▏ | 3183/3907 [04:10<00:56, 12.85it/s, loss=0.532, positive_reward=-.0741, negative_reward=0.109, margin=-.183]   "
     ]
    },
    {
     "name": "stdout",
     "output_type": "stream",
     "text": [
      "[-101.5]\n"
     ]
    },
    {
     "name": "stderr",
     "output_type": "stream",
     "text": [
      "Epoch [5/5]:  83%|████████▎ | 3232/3907 [04:13<00:45, 14.88it/s, loss=0.508, positive_reward=-.00864, negative_reward=0.0378, margin=-.0464]"
     ]
    },
    {
     "name": "stdout",
     "output_type": "stream",
     "text": [
      "[-114.6]\n"
     ]
    },
    {
     "name": "stderr",
     "output_type": "stream",
     "text": [
      "Epoch [5/5]:  83%|████████▎ | 3259/3907 [04:15<00:47, 13.76it/s, loss=0.512, positive_reward=-.0169, negative_reward=0.0422, margin=-.0591] "
     ]
    },
    {
     "name": "stdout",
     "output_type": "stream",
     "text": [
      "[-101.5]\n"
     ]
    },
    {
     "name": "stderr",
     "output_type": "stream",
     "text": [
      "Epoch [5/5]:  85%|████████▍ | 3306/3907 [04:19<00:39, 15.16it/s, loss=0.528, positive_reward=0.0021, negative_reward=0.129, margin=-.127]     "
     ]
    },
    {
     "name": "stdout",
     "output_type": "stream",
     "text": [
      "[-104.]\n"
     ]
    },
    {
     "name": "stderr",
     "output_type": "stream",
     "text": [
      "Epoch [5/5]:  85%|████████▌ | 3339/3907 [04:22<00:40, 13.86it/s, loss=0.523, positive_reward=-.0248, negative_reward=0.0918, margin=-.117]   "
     ]
    },
    {
     "name": "stdout",
     "output_type": "stream",
     "text": [
      "[-103.4]\n"
     ]
    },
    {
     "name": "stderr",
     "output_type": "stream",
     "text": [
      "Epoch [5/5]:  87%|████████▋ | 3389/3907 [04:25<00:36, 14.32it/s, loss=0.496, positive_reward=0.0109, negative_reward=-.00814, margin=0.0191]   "
     ]
    },
    {
     "name": "stdout",
     "output_type": "stream",
     "text": [
      "[-128.5]\n"
     ]
    },
    {
     "name": "stderr",
     "output_type": "stream",
     "text": [
      "Epoch [5/5]:  88%|████████▊ | 3420/3907 [04:28<00:34, 14.06it/s, loss=0.499, positive_reward=0.0193, negative_reward=0.0145, margin=0.00486] "
     ]
    },
    {
     "name": "stdout",
     "output_type": "stream",
     "text": [
      "[-100.8]\n"
     ]
    },
    {
     "name": "stderr",
     "output_type": "stream",
     "text": [
      "Epoch [5/5]:  88%|████████▊ | 3456/3907 [04:31<00:32, 13.69it/s, loss=0.511, positive_reward=-.0387, negative_reward=0.029, margin=-.0677]     "
     ]
    },
    {
     "name": "stdout",
     "output_type": "stream",
     "text": [
      "[-107.]\n"
     ]
    },
    {
     "name": "stderr",
     "output_type": "stream",
     "text": [
      "Epoch [5/5]:  90%|████████▉ | 3503/3907 [04:34<00:27, 14.63it/s, loss=0.523, positive_reward=-.0424, negative_reward=0.082, margin=-.124]    "
     ]
    },
    {
     "name": "stdout",
     "output_type": "stream",
     "text": [
      "[-106.7]\n"
     ]
    },
    {
     "name": "stderr",
     "output_type": "stream",
     "text": [
      "Epoch [5/5]:  90%|█████████ | 3532/3907 [04:37<00:27, 13.42it/s, loss=0.503, positive_reward=-.00362, negative_reward=0.0106, margin=-.0142] "
     ]
    },
    {
     "name": "stdout",
     "output_type": "stream",
     "text": [
      "[-108.8]\n"
     ]
    },
    {
     "name": "stderr",
     "output_type": "stream",
     "text": [
      "Epoch [5/5]:  92%|█████████▏| 3581/3907 [04:41<00:21, 14.98it/s, loss=0.506, positive_reward=0.0119, negative_reward=0.0406, margin=-.0287]   "
     ]
    },
    {
     "name": "stdout",
     "output_type": "stream",
     "text": [
      "[-102.6]\n"
     ]
    },
    {
     "name": "stderr",
     "output_type": "stream",
     "text": [
      "Epoch [5/5]:  92%|█████████▏| 3612/3907 [04:44<00:22, 13.10it/s, loss=0.513, positive_reward=-.0487, negative_reward=0.0346, margin=-.0834]    "
     ]
    },
    {
     "name": "stdout",
     "output_type": "stream",
     "text": [
      "[-114.7]\n"
     ]
    },
    {
     "name": "stderr",
     "output_type": "stream",
     "text": [
      "Epoch [5/5]:  94%|█████████▎| 3659/3907 [04:47<00:18, 13.74it/s, loss=0.529, positive_reward=-.0635, negative_reward=0.103, margin=-.166]    "
     ]
    },
    {
     "name": "stdout",
     "output_type": "stream",
     "text": [
      "[-124.1]\n"
     ]
    },
    {
     "name": "stderr",
     "output_type": "stream",
     "text": [
      "Epoch [5/5]:  94%|█████████▍| 3690/3907 [04:51<00:16, 12.90it/s, loss=0.509, positive_reward=-.00823, negative_reward=0.0362, margin=-.0444]  "
     ]
    },
    {
     "name": "stdout",
     "output_type": "stream",
     "text": [
      "[-108.6]\n"
     ]
    },
    {
     "name": "stderr",
     "output_type": "stream",
     "text": [
      "Epoch [5/5]:  96%|█████████▌| 3740/3907 [04:53<00:10, 16.56it/s, loss=0.51, positive_reward=-.0156, negative_reward=0.0373, margin=-.0529]  "
     ]
    },
    {
     "name": "stdout",
     "output_type": "stream",
     "text": [
      "[-95.7]\n"
     ]
    },
    {
     "name": "stderr",
     "output_type": "stream",
     "text": [
      "Epoch [5/5]:  97%|█████████▋| 3771/3907 [04:57<00:10, 13.55it/s, loss=0.52, positive_reward=-.023, negative_reward=0.0782, margin=-.101]    "
     ]
    },
    {
     "name": "stdout",
     "output_type": "stream",
     "text": [
      "[-106.7]\n"
     ]
    },
    {
     "name": "stderr",
     "output_type": "stream",
     "text": [
      "Epoch [5/5]:  97%|█████████▋| 3807/3907 [05:00<00:07, 13.93it/s, loss=0.488, positive_reward=0.0404, negative_reward=-.0308, margin=0.0712]  "
     ]
    },
    {
     "name": "stdout",
     "output_type": "stream",
     "text": [
      "[-102.2]\n"
     ]
    },
    {
     "name": "stderr",
     "output_type": "stream",
     "text": [
      "Epoch [5/5]:  99%|█████████▊| 3857/3907 [05:03<00:03, 15.65it/s, loss=0.491, positive_reward=0.0444, negative_reward=0.00348, margin=0.041]  "
     ]
    },
    {
     "name": "stdout",
     "output_type": "stream",
     "text": [
      "[-109.9]\n"
     ]
    },
    {
     "name": "stderr",
     "output_type": "stream",
     "text": [
      "Epoch [5/5]: 100%|█████████▉| 3889/3907 [05:05<00:01, 15.59it/s, loss=0.497, positive_reward=0.00707, negative_reward=-.00358, margin=0.0106] "
     ]
    },
    {
     "name": "stdout",
     "output_type": "stream",
     "text": [
      "[-102.3]\n"
     ]
    },
    {
     "name": "stderr",
     "output_type": "stream",
     "text": [
      "Epoch [5/5]: 100%|██████████| 3907/3907 [05:08<00:00, 12.66it/s, loss=0.486, positive_reward=0.091, negative_reward=0.0221, margin=0.0689]   "
     ]
    },
    {
     "name": "stdout",
     "output_type": "stream",
     "text": [
      "[-105.6]\n"
     ]
    },
    {
     "name": "stderr",
     "output_type": "stream",
     "text": [
      "\n"
     ]
    }
   ],
   "source": [
    "policy_network = PolicyNetwork(\n",
    "    env.observation_space.shape[0],env.action_space.n ).to(device)\n",
    "\n",
    "nn.init.kaiming_normal_(policy_network.fc1.weight)\n",
    "nn.init.kaiming_normal_(policy_network.fc2.weight)\n",
    "nn.init.kaiming_normal_(policy_network.fc3.weight)\n",
    "prev = PolicyNetwork(\n",
    "    env.observation_space.shape[0],env.action_space.n ).to(device)\n",
    "prev.load_state_dict(policy_network.state_dict())\n",
    "prev.eval()\n",
    "\n",
    "optimizer = torch.optim.Adam(policy_network.parameters(), lr=1e-3,weight_decay=1e-4)\n",
    "env=make_vec_env_sb3(env_id, n_envs=1)\n",
    "\n",
    "# Training loop\n",
    "num_epochs = 5\n",
    "batch_size = 128\n",
    "\n",
    "dataset = mydataset(observations=observations, actions=actions)\n",
    "dataloader = DataLoader(dataset, batch_size=batch_size, shuffle=True)\n",
    "loss_graph=[]\n",
    "eval_rewards=[]\n",
    "margin_graph=[]\n",
    "positive_reward_graph=[]\n",
    "negative_reward_graph=[]\n",
    "log_interval = len(observations)//100\n",
    "now_log=0\n",
    "now_pos=0\n",
    "prev_load_freq = 1000\n",
    "for epoch in range(num_epochs):\n",
    "    policy_network.train()\n",
    "\n",
    "    # Compute the log probabilities of the actions\n",
    "    pbar=tqdm(dataloader,position=0,leave=True)\n",
    "    now_log=0\n",
    "\n",
    "    for step, (obs_batch,act_batch) in enumerate(pbar):\n",
    "        # obs_batch = torch.tensor(np.array(obs_batch), dtype=torch.float32).to(device)\n",
    "        # act_batch = torch.tensor(np.array(act_batch), dtype=torch.float32).to(device)\n",
    "\n",
    "        now_log+=obs_batch.shape[0]\n",
    "        now_pos+=obs_batch.shape[0]\n",
    "        \n",
    "        logits = policy_network(obs_batch)\n",
    "        model_dist = Categorical(logits=logits)\n",
    "        model_act_sample = model_dist.sample()\n",
    "        policy_chosen_logps = model_dist.log_prob(act_batch)\n",
    "        policy_rejected_logps = model_dist.log_prob(model_act_sample)\n",
    "        with torch.no_grad():\n",
    "            prev_logits = prev(obs_batch)\n",
    "            prev_dist = Categorical(logits=prev_logits)\n",
    "            reference_chosen_logps = prev_dist.log_prob(act_batch)\n",
    "            reference_rejected_logps = prev_dist.log_prob(model_act_sample)\n",
    "        \n",
    "        \n",
    "        beta = 1\n",
    "\n",
    "\n",
    "        # simple version KTO\n",
    "        chosen_KL = (policy_chosen_logps - reference_chosen_logps).mean().clamp(min=0)\n",
    "        rejected_KL = (policy_rejected_logps - reference_rejected_logps).mean().clamp(min=0)\n",
    "\n",
    "        chosen_logratios = (policy_chosen_logps - reference_chosen_logps)\n",
    "        rejected_logratios = (policy_rejected_logps - reference_rejected_logps)\n",
    "\n",
    "        losses = torch.cat((1 - F.sigmoid(beta * (chosen_logratios - rejected_KL)), 1 - F.sigmoid(beta * (chosen_KL - rejected_logratios))), 0)\n",
    "\n",
    "        chosen_rewards = beta * (policy_chosen_logps - reference_chosen_logps).detach()\n",
    "        rejected_rewards = beta * (policy_rejected_logps - reference_rejected_logps).detach()\n",
    "        loss=losses.mean()\n",
    "\n",
    " \n",
    "        # Optimize the policy\n",
    "        \n",
    "        optimizer.zero_grad()\n",
    "        if (step+1) % prev_load_freq == 0:\n",
    "            prev.load_state_dict(policy_network.state_dict())\n",
    "            prev.eval()\n",
    "\n",
    "        loss.backward()\n",
    "\n",
    "        optimizer.step()\n",
    "        pbar.set_description((f\"Epoch [{epoch+1}/{num_epochs}]\"))\n",
    "        positive_reward = chosen_rewards.mean().item()\n",
    "        negative_reward = rejected_rewards.mean().item()\n",
    "        margin = positive_reward - negative_reward\n",
    "        loss_graph.append(loss.detach().item())\n",
    "        margin_graph.append(margin)\n",
    "        positive_reward_graph.append(positive_reward)\n",
    "        negative_reward_graph.append(negative_reward)\n",
    "        pbar.set_postfix({\"loss\":loss.detach().item(), \"positive_reward\": positive_reward, \"negative_reward\": negative_reward, \"margin\": positive_reward - negative_reward})\n",
    "\n",
    "\n",
    "        total_reward=0\n",
    "        num_test=10\n",
    "        if now_log>=log_interval:\n",
    "            now_log-=log_interval\n",
    "            \n",
    "            policy_network.eval()  # 切换到评估模式\n",
    "\n",
    "            \n",
    "\n",
    "            total_reward=0\n",
    "            # test the policy and save as the first test as gif\n",
    "            frames = []\n",
    "            saved_frame = False\n",
    "            for _ in range(num_test):\n",
    "                state = env.reset()\n",
    "                done = False\n",
    "                while not done:\n",
    "                    state_tensor = torch.tensor([state], dtype=torch.float32).to(device)\n",
    "                    with torch.no_grad():\n",
    "                        action = Categorical(logits=(policy_network(state_tensor))).sample().cpu().numpy()[0]\n",
    "                        \n",
    "                    state, reward, done, _ = env.step(action)  # 执行动作\n",
    "                    total_reward += reward\n",
    "                    if not saved_frame:\n",
    "                        frame = env.render(mode=\"rgb_array\")\n",
    "                        frames.append(frame)  # 添加到帧列表中\n",
    "                # 保存为GIF\n",
    "                if not saved_frame:\n",
    "                    saved_frame = True\n",
    "                    image_path = f\"epoch_{epoch+1}_iteration_{now_pos}.gif\"\n",
    "                    imageio.mimsave(\"./Simple_KTO_gif/\"+image_path, frames)\n",
    "            print(total_reward/num_test)\n",
    "            eval_rewards.append(total_reward/num_test)\n",
    "            policy_network.train()  # 切换回训练模式\n",
    "\n",
    "\n",
    "         \n",
    "\n",
    "env.close()"
   ]
  },
  {
   "cell_type": "code",
   "execution_count": 18,
   "metadata": {},
   "outputs": [
    {
     "data": {
      "image/png": "[encoded data removed]",
      "text/plain": [
       "<Figure size 640x480 with 1 Axes>"
      ]
     },
     "metadata": {},
     "output_type": "display_data"
    },
    {
     "data": {
      "image/png": "[encoded data removed]",
      "text/plain": [
       "<Figure size 640x480 with 1 Axes>"
      ]
     },
     "metadata": {},
     "output_type": "display_data"
    },
    {
     "data": {
      "image/png": "[encoded data removed]",
      "text/plain": [
       "<Figure size 640x480 with 1 Axes>"
      ]
     },
     "metadata": {},
     "output_type": "display_data"
    },
    {
     "data": {
      "image/png": "[encoded data removed]",
      "text/plain": [
       "<Figure size 640x480 with 1 Axes>"
      ]
     },
     "metadata": {},
     "output_type": "display_data"
    },
    {
     "data": {
      "image/png": "[encoded data removed]",
      "text/plain": [
       "<Figure size 640x480 with 1 Axes>"
      ]
     },
     "metadata": {},
     "output_type": "display_data"
    }
   ],
   "source": [
    "# save all png to /mnt/nfs/work/c98181/RL/CartPole-v1/Offline_KTO\n",
    "\n",
    "# draw the loss graph\n",
    "import matplotlib.pyplot as plt\n",
    "plt.plot(loss_graph)\n",
    "plt.xlabel(\"Iteration\")\n",
    "plt.ylabel(\"Loss\")\n",
    "plt.title(\"Loss vs Iteration\")\n",
    "plt.savefig(\"./Simple_loss.png\")\n",
    "plt.show()\n",
    "\n",
    "\n",
    "\n",
    "\n",
    "# draw the reward graph\n",
    "\n",
    "plt.plot(eval_rewards)\n",
    "plt.xlabel(\"Iteration\")\n",
    "plt.ylabel(\"Reward\")\n",
    "plt.title(\"Reward vs Iteration\")\n",
    "plt.savefig(\"./Simple_reward.png\")\n",
    "plt.show()\n",
    "\n",
    "# drqw the margin graph\n",
    "plt.plot(margin_graph)\n",
    "plt.xlabel(\"Iteration\")\n",
    "plt.ylabel(\"Margin\")\n",
    "plt.title(\"Margin vs Iteration\")\n",
    "plt.savefig(\"./Simple_margin.png\")\n",
    "plt.show()\n",
    "\n",
    "# draw the positive reward graph\n",
    "plt.plot(positive_reward_graph)\n",
    "plt.xlabel(\"Iteration\")\n",
    "plt.ylabel(\"Positive Reward\")\n",
    "plt.title(\"Positive Reward vs Iteration\")\n",
    "plt.savefig(\"./Simple_positive_reward.png\")\n",
    "plt.show()\n",
    "\n",
    "# draw the negative reward graph\n",
    "plt.plot(negative_reward_graph)\n",
    "plt.xlabel(\"Iteration\")\n",
    "plt.ylabel(\"Negative Reward\")\n",
    "plt.title(\"Negative Reward vs Iteration\")\n",
    "plt.savefig(\"./Simple_negative_reward.png\")\n",
    "plt.show()\n"
   ]
  },
  {
   "cell_type": "markdown",
   "metadata": {},
   "source": [
    "# Complex KTO"
   ]
  },
  {
   "cell_type": "code",
   "execution_count": 15,
   "metadata": {},
   "outputs": [
    {
     "name": "stderr",
     "output_type": "stream",
     "text": [
      "Epoch [1/5]:   0%|          | 14/3907 [00:00<00:28, 138.11it/s, loss=0.49, positive_reward=0.372, negative_reward=0.279, margin=0.0931] "
     ]
    },
    {
     "name": "stderr",
     "output_type": "stream",
     "text": [
      "Epoch [1/5]:   1%|          | 39/3907 [00:01<02:22, 27.24it/s, loss=0.492, positive_reward=0.423, negative_reward=0.347, margin=0.076]  \n"
     ]
    },
    {
     "ename": "KeyboardInterrupt",
     "evalue": "",
     "output_type": "error",
     "traceback": [
      "\u001b[0;31m---------------------------------------------------------------------------\u001b[0m",
      "\u001b[0;31mKeyboardInterrupt\u001b[0m                         Traceback (most recent call last)",
      "Cell \u001b[0;32mIn[15], line 128\u001b[0m\n\u001b[1;32m    126\u001b[0m         saved_frame \u001b[38;5;241m=\u001b[39m \u001b[38;5;28;01mTrue\u001b[39;00m\n\u001b[1;32m    127\u001b[0m         image_path \u001b[38;5;241m=\u001b[39m \u001b[38;5;124mf\u001b[39m\u001b[38;5;124m\"\u001b[39m\u001b[38;5;124mepoch_\u001b[39m\u001b[38;5;132;01m{\u001b[39;00mepoch\u001b[38;5;241m+\u001b[39m\u001b[38;5;241m1\u001b[39m\u001b[38;5;132;01m}\u001b[39;00m\u001b[38;5;124m_iteration_\u001b[39m\u001b[38;5;132;01m{\u001b[39;00mnow_pos\u001b[38;5;132;01m}\u001b[39;00m\u001b[38;5;124m.gif\u001b[39m\u001b[38;5;124m\"\u001b[39m\n\u001b[0;32m--> 128\u001b[0m         \u001b[43mimageio\u001b[49m\u001b[38;5;241;43m.\u001b[39;49m\u001b[43mmimsave\u001b[49m\u001b[43m(\u001b[49m\u001b[38;5;124;43m\"\u001b[39;49m\u001b[38;5;124;43m./KTO_gif/\u001b[39;49m\u001b[38;5;124;43m\"\u001b[39;49m\u001b[38;5;241;43m+\u001b[39;49m\u001b[43mimage_path\u001b[49m\u001b[43m,\u001b[49m\u001b[43m \u001b[49m\u001b[43mframes\u001b[49m\u001b[43m)\u001b[49m\n\u001b[1;32m    130\u001b[0m \u001b[38;5;28mprint\u001b[39m(total_reward\u001b[38;5;241m/\u001b[39mnum_test)\n\u001b[1;32m    131\u001b[0m eval_rewards\u001b[38;5;241m.\u001b[39mappend(total_reward\u001b[38;5;241m/\u001b[39mnum_test)\n",
      "File \u001b[0;32m~/miniconda3/envs/atari/lib/python3.9/site-packages/imageio/v2.py:495\u001b[0m, in \u001b[0;36mmimwrite\u001b[0;34m(uri, ims, format, **kwargs)\u001b[0m\n\u001b[1;32m    493\u001b[0m imopen_args[\u001b[38;5;124m\"\u001b[39m\u001b[38;5;124mlegacy_mode\u001b[39m\u001b[38;5;124m\"\u001b[39m] \u001b[38;5;241m=\u001b[39m \u001b[38;5;28;01mTrue\u001b[39;00m\n\u001b[1;32m    494\u001b[0m \u001b[38;5;28;01mwith\u001b[39;00m imopen(uri, \u001b[38;5;124m\"\u001b[39m\u001b[38;5;124mwI\u001b[39m\u001b[38;5;124m\"\u001b[39m, \u001b[38;5;241m*\u001b[39m\u001b[38;5;241m*\u001b[39mimopen_args) \u001b[38;5;28;01mas\u001b[39;00m file:\n\u001b[0;32m--> 495\u001b[0m     \u001b[38;5;28;01mreturn\u001b[39;00m file\u001b[38;5;241m.\u001b[39mwrite(ims, is_batch\u001b[38;5;241m=\u001b[39m\u001b[38;5;28;01mTrue\u001b[39;00m, \u001b[38;5;241m*\u001b[39m\u001b[38;5;241m*\u001b[39mkwargs)\n",
      "File \u001b[0;32m~/miniconda3/envs/atari/lib/python3.9/site-packages/imageio/core/v3_plugin_api.py:367\u001b[0m, in \u001b[0;36mPluginV3.__exit__\u001b[0;34m(self, type, value, traceback)\u001b[0m\n\u001b[1;32m    366\u001b[0m \u001b[38;5;28;01mdef\u001b[39;00m \u001b[38;5;21m__exit__\u001b[39m(\u001b[38;5;28mself\u001b[39m, \u001b[38;5;28mtype\u001b[39m, value, traceback) \u001b[38;5;241m-\u001b[39m\u001b[38;5;241m>\u001b[39m \u001b[38;5;28;01mNone\u001b[39;00m:\n\u001b[0;32m--> 367\u001b[0m     \u001b[38;5;28;43mself\u001b[39;49m\u001b[38;5;241;43m.\u001b[39;49m\u001b[43mclose\u001b[49m\u001b[43m(\u001b[49m\u001b[43m)\u001b[49m\n",
      "File \u001b[0;32m~/miniconda3/envs/atari/lib/python3.9/site-packages/imageio/plugins/pillow.py:144\u001b[0m, in \u001b[0;36mPillowPlugin.close\u001b[0;34m(self)\u001b[0m\n\u001b[1;32m    143\u001b[0m \u001b[38;5;28;01mdef\u001b[39;00m \u001b[38;5;21mclose\u001b[39m(\u001b[38;5;28mself\u001b[39m) \u001b[38;5;241m-\u001b[39m\u001b[38;5;241m>\u001b[39m \u001b[38;5;28;01mNone\u001b[39;00m:\n\u001b[0;32m--> 144\u001b[0m     \u001b[38;5;28;43mself\u001b[39;49m\u001b[38;5;241;43m.\u001b[39;49m\u001b[43m_flush_writer\u001b[49m\u001b[43m(\u001b[49m\u001b[43m)\u001b[49m\n\u001b[1;32m    146\u001b[0m     \u001b[38;5;28;01mif\u001b[39;00m \u001b[38;5;28mself\u001b[39m\u001b[38;5;241m.\u001b[39m_image:\n\u001b[1;32m    147\u001b[0m         \u001b[38;5;28mself\u001b[39m\u001b[38;5;241m.\u001b[39m_image\u001b[38;5;241m.\u001b[39mclose()\n",
      "File \u001b[0;32m~/miniconda3/envs/atari/lib/python3.9/site-packages/imageio/plugins/pillow.py:485\u001b[0m, in \u001b[0;36mPillowPlugin._flush_writer\u001b[0;34m(self)\u001b[0m\n\u001b[1;32m    482\u001b[0m     \u001b[38;5;28mself\u001b[39m\u001b[38;5;241m.\u001b[39msave_args[\u001b[38;5;124m\"\u001b[39m\u001b[38;5;124msave_all\u001b[39m\u001b[38;5;124m\"\u001b[39m] \u001b[38;5;241m=\u001b[39m \u001b[38;5;28;01mTrue\u001b[39;00m\n\u001b[1;32m    483\u001b[0m     \u001b[38;5;28mself\u001b[39m\u001b[38;5;241m.\u001b[39msave_args[\u001b[38;5;124m\"\u001b[39m\u001b[38;5;124mappend_images\u001b[39m\u001b[38;5;124m\"\u001b[39m] \u001b[38;5;241m=\u001b[39m \u001b[38;5;28mself\u001b[39m\u001b[38;5;241m.\u001b[39mimages_to_write\n\u001b[0;32m--> 485\u001b[0m \u001b[43mprimary_image\u001b[49m\u001b[38;5;241;43m.\u001b[39;49m\u001b[43msave\u001b[49m\u001b[43m(\u001b[49m\u001b[38;5;28;43mself\u001b[39;49m\u001b[38;5;241;43m.\u001b[39;49m\u001b[43m_request\u001b[49m\u001b[38;5;241;43m.\u001b[39;49m\u001b[43mget_file\u001b[49m\u001b[43m(\u001b[49m\u001b[43m)\u001b[49m\u001b[43m,\u001b[49m\u001b[43m \u001b[49m\u001b[38;5;241;43m*\u001b[39;49m\u001b[38;5;241;43m*\u001b[39;49m\u001b[38;5;28;43mself\u001b[39;49m\u001b[38;5;241;43m.\u001b[39;49m\u001b[43msave_args\u001b[49m\u001b[43m)\u001b[49m\n\u001b[1;32m    486\u001b[0m \u001b[38;5;28mself\u001b[39m\u001b[38;5;241m.\u001b[39mimages_to_write\u001b[38;5;241m.\u001b[39mclear()\n\u001b[1;32m    487\u001b[0m \u001b[38;5;28mself\u001b[39m\u001b[38;5;241m.\u001b[39msave_args\u001b[38;5;241m.\u001b[39mclear()\n",
      "File \u001b[0;32m~/miniconda3/envs/atari/lib/python3.9/site-packages/PIL/Image.py:2439\u001b[0m, in \u001b[0;36mImage.save\u001b[0;34m(self, fp, format, **params)\u001b[0m\n\u001b[1;32m   2436\u001b[0m         fp \u001b[38;5;241m=\u001b[39m builtins\u001b[38;5;241m.\u001b[39mopen(filename, \u001b[38;5;124m\"\u001b[39m\u001b[38;5;124mw+b\u001b[39m\u001b[38;5;124m\"\u001b[39m)\n\u001b[1;32m   2438\u001b[0m \u001b[38;5;28;01mtry\u001b[39;00m:\n\u001b[0;32m-> 2439\u001b[0m     \u001b[43msave_handler\u001b[49m\u001b[43m(\u001b[49m\u001b[38;5;28;43mself\u001b[39;49m\u001b[43m,\u001b[49m\u001b[43m \u001b[49m\u001b[43mfp\u001b[49m\u001b[43m,\u001b[49m\u001b[43m \u001b[49m\u001b[43mfilename\u001b[49m\u001b[43m)\u001b[49m\n\u001b[1;32m   2440\u001b[0m \u001b[38;5;28;01mexcept\u001b[39;00m \u001b[38;5;167;01mException\u001b[39;00m:\n\u001b[1;32m   2441\u001b[0m     \u001b[38;5;28;01mif\u001b[39;00m open_fp:\n",
      "File \u001b[0;32m~/miniconda3/envs/atari/lib/python3.9/site-packages/PIL/GifImagePlugin.py:704\u001b[0m, in \u001b[0;36m_save_all\u001b[0;34m(im, fp, filename)\u001b[0m\n\u001b[1;32m    703\u001b[0m \u001b[38;5;28;01mdef\u001b[39;00m \u001b[38;5;21m_save_all\u001b[39m(im, fp, filename):\n\u001b[0;32m--> 704\u001b[0m     \u001b[43m_save\u001b[49m\u001b[43m(\u001b[49m\u001b[43mim\u001b[49m\u001b[43m,\u001b[49m\u001b[43m \u001b[49m\u001b[43mfp\u001b[49m\u001b[43m,\u001b[49m\u001b[43m \u001b[49m\u001b[43mfilename\u001b[49m\u001b[43m,\u001b[49m\u001b[43m \u001b[49m\u001b[43msave_all\u001b[49m\u001b[38;5;241;43m=\u001b[39;49m\u001b[38;5;28;43;01mTrue\u001b[39;49;00m\u001b[43m)\u001b[49m\n",
      "File \u001b[0;32m~/miniconda3/envs/atari/lib/python3.9/site-packages/PIL/GifImagePlugin.py:715\u001b[0m, in \u001b[0;36m_save\u001b[0;34m(im, fp, filename, save_all)\u001b[0m\n\u001b[1;32m    712\u001b[0m     palette \u001b[38;5;241m=\u001b[39m \u001b[38;5;28;01mNone\u001b[39;00m\n\u001b[1;32m    713\u001b[0m     im\u001b[38;5;241m.\u001b[39mencoderinfo\u001b[38;5;241m.\u001b[39msetdefault(\u001b[38;5;124m\"\u001b[39m\u001b[38;5;124moptimize\u001b[39m\u001b[38;5;124m\"\u001b[39m, \u001b[38;5;28;01mTrue\u001b[39;00m)\n\u001b[0;32m--> 715\u001b[0m \u001b[38;5;28;01mif\u001b[39;00m \u001b[38;5;129;01mnot\u001b[39;00m save_all \u001b[38;5;129;01mor\u001b[39;00m \u001b[38;5;129;01mnot\u001b[39;00m \u001b[43m_write_multiple_frames\u001b[49m\u001b[43m(\u001b[49m\u001b[43mim\u001b[49m\u001b[43m,\u001b[49m\u001b[43m \u001b[49m\u001b[43mfp\u001b[49m\u001b[43m,\u001b[49m\u001b[43m \u001b[49m\u001b[43mpalette\u001b[49m\u001b[43m)\u001b[49m:\n\u001b[1;32m    716\u001b[0m     _write_single_frame(im, fp, palette)\n\u001b[1;32m    718\u001b[0m fp\u001b[38;5;241m.\u001b[39mwrite(\u001b[38;5;124mb\u001b[39m\u001b[38;5;124m\"\u001b[39m\u001b[38;5;124m;\u001b[39m\u001b[38;5;124m\"\u001b[39m)  \u001b[38;5;66;03m# end of file\u001b[39;00m\n",
      "File \u001b[0;32m~/miniconda3/envs/atari/lib/python3.9/site-packages/PIL/GifImagePlugin.py:602\u001b[0m, in \u001b[0;36m_write_multiple_frames\u001b[0;34m(im, fp, palette)\u001b[0m\n\u001b[1;32m    599\u001b[0m \u001b[38;5;28;01mfor\u001b[39;00m imSequence \u001b[38;5;129;01min\u001b[39;00m itertools\u001b[38;5;241m.\u001b[39mchain([im], im\u001b[38;5;241m.\u001b[39mencoderinfo\u001b[38;5;241m.\u001b[39mget(\u001b[38;5;124m\"\u001b[39m\u001b[38;5;124mappend_images\u001b[39m\u001b[38;5;124m\"\u001b[39m, [])):\n\u001b[1;32m    600\u001b[0m     \u001b[38;5;28;01mfor\u001b[39;00m im_frame \u001b[38;5;129;01min\u001b[39;00m ImageSequence\u001b[38;5;241m.\u001b[39mIterator(imSequence):\n\u001b[1;32m    601\u001b[0m         \u001b[38;5;66;03m# a copy is required here since seek can still mutate the image\u001b[39;00m\n\u001b[0;32m--> 602\u001b[0m         im_frame \u001b[38;5;241m=\u001b[39m \u001b[43m_normalize_mode\u001b[49m\u001b[43m(\u001b[49m\u001b[43mim_frame\u001b[49m\u001b[38;5;241;43m.\u001b[39;49m\u001b[43mcopy\u001b[49m\u001b[43m(\u001b[49m\u001b[43m)\u001b[49m\u001b[43m)\u001b[49m\n\u001b[1;32m    603\u001b[0m         \u001b[38;5;28;01mif\u001b[39;00m frame_count \u001b[38;5;241m==\u001b[39m \u001b[38;5;241m0\u001b[39m:\n\u001b[1;32m    604\u001b[0m             \u001b[38;5;28;01mfor\u001b[39;00m k, v \u001b[38;5;129;01min\u001b[39;00m im_frame\u001b[38;5;241m.\u001b[39minfo\u001b[38;5;241m.\u001b[39mitems():\n",
      "File \u001b[0;32m~/miniconda3/envs/atari/lib/python3.9/site-packages/PIL/GifImagePlugin.py:492\u001b[0m, in \u001b[0;36m_normalize_mode\u001b[0;34m(im)\u001b[0m\n\u001b[1;32m    490\u001b[0m     \u001b[38;5;28;01mreturn\u001b[39;00m im\n\u001b[1;32m    491\u001b[0m \u001b[38;5;28;01mif\u001b[39;00m Image\u001b[38;5;241m.\u001b[39mgetmodebase(im\u001b[38;5;241m.\u001b[39mmode) \u001b[38;5;241m==\u001b[39m \u001b[38;5;124m\"\u001b[39m\u001b[38;5;124mRGB\u001b[39m\u001b[38;5;124m\"\u001b[39m:\n\u001b[0;32m--> 492\u001b[0m     im \u001b[38;5;241m=\u001b[39m \u001b[43mim\u001b[49m\u001b[38;5;241;43m.\u001b[39;49m\u001b[43mconvert\u001b[49m\u001b[43m(\u001b[49m\u001b[38;5;124;43m\"\u001b[39;49m\u001b[38;5;124;43mP\u001b[39;49m\u001b[38;5;124;43m\"\u001b[39;49m\u001b[43m,\u001b[49m\u001b[43m \u001b[49m\u001b[43mpalette\u001b[49m\u001b[38;5;241;43m=\u001b[39;49m\u001b[43mImage\u001b[49m\u001b[38;5;241;43m.\u001b[39;49m\u001b[43mPalette\u001b[49m\u001b[38;5;241;43m.\u001b[39;49m\u001b[43mADAPTIVE\u001b[49m\u001b[43m)\u001b[49m\n\u001b[1;32m    493\u001b[0m     \u001b[38;5;28;01mif\u001b[39;00m im\u001b[38;5;241m.\u001b[39mpalette\u001b[38;5;241m.\u001b[39mmode \u001b[38;5;241m==\u001b[39m \u001b[38;5;124m\"\u001b[39m\u001b[38;5;124mRGBA\u001b[39m\u001b[38;5;124m\"\u001b[39m:\n\u001b[1;32m    494\u001b[0m         \u001b[38;5;28;01mfor\u001b[39;00m rgba \u001b[38;5;129;01min\u001b[39;00m im\u001b[38;5;241m.\u001b[39mpalette\u001b[38;5;241m.\u001b[39mcolors:\n",
      "File \u001b[0;32m~/miniconda3/envs/atari/lib/python3.9/site-packages/PIL/Image.py:1029\u001b[0m, in \u001b[0;36mImage.convert\u001b[0;34m(self, mode, matrix, dither, palette, colors)\u001b[0m\n\u001b[1;32m   1026\u001b[0m             \u001b[38;5;28;01mraise\u001b[39;00m \u001b[38;5;167;01mValueError\u001b[39;00m(msg)\n\u001b[1;32m   1028\u001b[0m \u001b[38;5;28;01mif\u001b[39;00m mode \u001b[38;5;241m==\u001b[39m \u001b[38;5;124m\"\u001b[39m\u001b[38;5;124mP\u001b[39m\u001b[38;5;124m\"\u001b[39m \u001b[38;5;129;01mand\u001b[39;00m palette \u001b[38;5;241m==\u001b[39m Palette\u001b[38;5;241m.\u001b[39mADAPTIVE:\n\u001b[0;32m-> 1029\u001b[0m     im \u001b[38;5;241m=\u001b[39m \u001b[38;5;28;43mself\u001b[39;49m\u001b[38;5;241;43m.\u001b[39;49m\u001b[43mim\u001b[49m\u001b[38;5;241;43m.\u001b[39;49m\u001b[43mquantize\u001b[49m\u001b[43m(\u001b[49m\u001b[43mcolors\u001b[49m\u001b[43m)\u001b[49m\n\u001b[1;32m   1030\u001b[0m     new_im \u001b[38;5;241m=\u001b[39m \u001b[38;5;28mself\u001b[39m\u001b[38;5;241m.\u001b[39m_new(im)\n\u001b[1;32m   1031\u001b[0m     \u001b[38;5;28;01mfrom\u001b[39;00m \u001b[38;5;21;01m.\u001b[39;00m \u001b[38;5;28;01mimport\u001b[39;00m ImagePalette\n",
      "\u001b[0;31mKeyboardInterrupt\u001b[0m: "
     ]
    }
   ],
   "source": [
    "policy_network = PolicyNetwork(\n",
    "    env.observation_space.shape[0],env.action_space.n ).to(device)\n",
    "\n",
    "nn.init.kaiming_normal_(policy_network.fc1.weight)\n",
    "nn.init.kaiming_normal_(policy_network.fc2.weight)\n",
    "nn.init.kaiming_normal_(policy_network.fc3.weight)\n",
    "prev = PolicyNetwork(\n",
    "    env.observation_space.shape[0],env.action_space.n ).to(device)\n",
    "prev.load_state_dict(policy_network.state_dict())\n",
    "prev.eval()\n",
    "\n",
    "optimizer = torch.optim.Adam(policy_network.parameters(), lr=1e-3,weight_decay=1e-4)\n",
    "env=make_vec_env_sb3(env_id, n_envs=1)\n",
    "\n",
    "# Training loop\n",
    "num_epochs = 5\n",
    "batch_size = 128\n",
    "\n",
    "dataset = mydataset(observations=observations, actions=actions)\n",
    "dataloader = DataLoader(dataset, batch_size=batch_size, shuffle=True)\n",
    "loss_graph=[]\n",
    "eval_rewards=[]\n",
    "margin_graph=[]\n",
    "positive_reward_graph=[]\n",
    "negative_reward_graph=[]\n",
    "log_interval = len(observations)//100\n",
    "now_log=0\n",
    "now_pos=0\n",
    "prev_load_freq = 1000\n",
    "for epoch in range(num_epochs):\n",
    "    policy_network.train()\n",
    "\n",
    "    # Compute the log probabilities of the actions\n",
    "    pbar=tqdm(dataloader,position=0,leave=True)\n",
    "    now_log=0\n",
    "\n",
    "    for step, (obs_batch,act_batch) in enumerate(pbar):\n",
    "        # obs_batch = torch.tensor(np.array(obs_batch), dtype=torch.float32).to(device)\n",
    "        # act_batch = torch.tensor(np.array(act_batch), dtype=torch.float32).to(device)\n",
    "\n",
    "        now_log+=obs_batch.shape[0]\n",
    "        now_pos+=obs_batch.shape[0]\n",
    "        \n",
    "        logits = policy_network(obs_batch)\n",
    "        model_dist = Categorical(logits=logits)\n",
    "        model_act_sample = model_dist.sample()\n",
    "        policy_chosen_logps = model_dist.log_prob(act_batch)\n",
    "        policy_rejected_logps = model_dist.log_prob(model_act_sample)\n",
    "        with torch.no_grad():\n",
    "            prev_logits = prev(obs_batch)\n",
    "            prev_dist = Categorical(logits=prev_logits)\n",
    "            reference_chosen_logps = prev_dist.log_prob(act_batch)\n",
    "            reference_rejected_logps = prev_dist.log_prob(model_act_sample)\n",
    "        \n",
    "        \n",
    "        beta = 1\n",
    "        desirable_weight = 1\n",
    "        undesirable_weight = 1\n",
    "\n",
    "        # complex version KTO\n",
    "\n",
    "        KL = kl_divergence(model_dist, prev_dist).mean()\n",
    "        chosen_logratios = (policy_chosen_logps - reference_chosen_logps)\n",
    "        chosen_losses = 1 - F.sigmoid(beta * (chosen_logratios - KL))\n",
    "        chosen_rewards = beta * chosen_logratios.detach()\n",
    "        rejected_logratios = (policy_rejected_logps - reference_rejected_logps)\n",
    "        rejected_losses = 1 - F.sigmoid(beta * (KL - rejected_logratios))\n",
    "        rejected_rewards = beta * rejected_logratios.detach()\n",
    "\n",
    "        losses = torch.cat((desirable_weight * chosen_losses, undesirable_weight * rejected_losses), 0)\n",
    "\n",
    "        loss=losses.mean()\n",
    "\n",
    " \n",
    "        # Optimize the policy\n",
    "        \n",
    "        optimizer.zero_grad()\n",
    "\n",
    "        if (step+1) % prev_load_freq == 0:\n",
    "            \n",
    "            prev.load_state_dict(policy_network.state_dict())\n",
    "            prev.eval()\n",
    "\n",
    "        loss.backward()\n",
    "\n",
    "        optimizer.step()\n",
    "        pbar.set_description((f\"Epoch [{epoch+1}/{num_epochs}]\"))\n",
    "        positive_reward = chosen_rewards.mean().item()\n",
    "        negative_reward = rejected_rewards.mean().item()\n",
    "        margin = positive_reward - negative_reward\n",
    "        loss_graph.append(loss.detach().item())\n",
    "        margin_graph.append(margin)\n",
    "        positive_reward_graph.append(positive_reward)\n",
    "        negative_reward_graph.append(negative_reward)\n",
    "        pbar.set_postfix({\"loss\":loss.detach().item(), \"positive_reward\": positive_reward, \"negative_reward\": negative_reward, \"margin\": positive_reward - negative_reward})\n",
    "\n",
    "\n",
    "        total_reward=0\n",
    "        num_test=10\n",
    "        if now_log>=log_interval:\n",
    "            now_log-=log_interval\n",
    "            \n",
    "            policy_network.eval()  # 切换到评估模式\n",
    "\n",
    "            \n",
    "\n",
    "            total_reward=0\n",
    "            # test the policy and save as the first test as gif\n",
    "            frames = []\n",
    "            saved_frame = False\n",
    "            for _ in range(num_test):\n",
    "                state = env.reset()\n",
    "                done = False\n",
    "                while not done:\n",
    "                    state_tensor = torch.tensor([state], dtype=torch.float32).to(device)\n",
    "                    with torch.no_grad():\n",
    "                        action = Categorical(logits=(policy_network(state_tensor))).sample().cpu().numpy()[0]\n",
    "                        \n",
    "                    state, reward, done, _ = env.step(action)  # 执行动作\n",
    "                    total_reward += reward\n",
    "                    if not saved_frame:\n",
    "                        frame = env.render(mode=\"rgb_array\")\n",
    "                        frames.append(frame)  # 添加到帧列表中\n",
    "                # 保存为GIF\n",
    "                if not saved_frame:\n",
    "                    saved_frame = True\n",
    "                    image_path = f\"epoch_{epoch+1}_iteration_{now_pos}.gif\"\n",
    "                    imageio.mimsave(\"./KTO_gif/\"+image_path, frames)\n",
    "\n",
    "            print(total_reward/num_test)\n",
    "            eval_rewards.append(total_reward/num_test)\n",
    "            policy_network.train()  # 切换回训练模式\n",
    "\n",
    "\n",
    "         \n",
    "\n",
    "env.close()"
   ]
  },
  {
   "cell_type": "code",
   "execution_count": null,
   "metadata": {},
   "outputs": [
    {
     "data": {
      "image/png": "[encoded data removed]",
      "text/plain": [
       "<Figure size 640x480 with 1 Axes>"
      ]
     },
     "metadata": {},
     "output_type": "display_data"
    },
    {
     "data": {
      "image/png": "[encoded data removed]",
      "text/plain": [
       "<Figure size 640x480 with 1 Axes>"
      ]
     },
     "metadata": {},
     "output_type": "display_data"
    },
    {
     "data": {
      "image/png": "[encoded data removed]",
      "text/plain": [
       "<Figure size 640x480 with 1 Axes>"
      ]
     },
     "metadata": {},
     "output_type": "display_data"
    },
    {
     "data": {
      "image/png": "[encoded data removed]",
      "text/plain": [
       "<Figure size 640x480 with 1 Axes>"
      ]
     },
     "metadata": {},
     "output_type": "display_data"
    },
    {
     "data": {
      "image/png": "[encoded data removed]",
      "text/plain": [
       "<Figure size 640x480 with 1 Axes>"
      ]
     },
     "metadata": {},
     "output_type": "display_data"
    },
    {
     "data": {
      "text/plain": [
       "<Figure size 640x480 with 0 Axes>"
      ]
     },
     "metadata": {},
     "output_type": "display_data"
    }
   ],
   "source": [
    "# save all png to /mnt/nfs/work/c98181/RL/CartPole-v1/Offline_KTO\n",
    "\n",
    "# draw the loss graph\n",
    "import matplotlib.pyplot as plt\n",
    "plt.plot(loss_graph)\n",
    "plt.xlabel(\"Iteration\")\n",
    "plt.ylabel(\"Loss\")\n",
    "plt.title(\"Loss vs Iteration\")\n",
    "plt.savefig(\"./loss.png\")\n",
    "plt.show()\n",
    "\n",
    "\n",
    "\n",
    "\n",
    "# draw the reward graph\n",
    "\n",
    "plt.plot(eval_rewards)\n",
    "plt.xlabel(\"Iteration\")\n",
    "plt.ylabel(\"Reward\")\n",
    "plt.title(\"Reward vs Iteration\")\n",
    "plt.savefig(\"./reward.png\")\n",
    "plt.show()\n",
    "\n",
    "# drqw the margin graph\n",
    "plt.plot(margin_graph)\n",
    "plt.xlabel(\"Iteration\")\n",
    "plt.ylabel(\"Margin\")\n",
    "plt.title(\"Margin vs Iteration\")\n",
    "plt.savefig(\"./margin.png\")\n",
    "plt.show()\n",
    "\n",
    "# draw the positive reward graph\n",
    "plt.plot(positive_reward_graph)\n",
    "plt.xlabel(\"Iteration\")\n",
    "plt.ylabel(\"Positive Reward\")\n",
    "plt.title(\"Positive Reward vs Iteration\")\n",
    "plt.savefig(\"./positive_reward.png\")\n",
    "plt.show()\n",
    "\n",
    "# draw the negative reward graph\n",
    "plt.plot(negative_reward_graph)\n",
    "plt.xlabel(\"Iteration\")\n",
    "plt.ylabel(\"Negative Reward\")\n",
    "plt.title(\"Negative Reward vs Iteration\")\n",
    "plt.savefig(\"./negative_reward.png\")\n",
    "plt.show()\n"
   ]
  }
 ],
 "metadata": {
  "kernelspec": {
   "display_name": "atari",
   "language": "python",
   "name": "python3"
  },
  "language_info": {
   "codemirror_mode": {
    "name": "ipython",
    "version": 3
   },
   "file_extension": ".py",
   "mimetype": "text/x-python",
   "name": "python",
   "nbconvert_exporter": "python",
   "pygments_lexer": "ipython3",
   "version": "3.9.19"
  }
 },
 "nbformat": 4,
 "nbformat_minor": 2
}
