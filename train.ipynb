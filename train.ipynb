{
 "cells": [
  {
   "cell_type": "code",
   "execution_count": 1,
   "metadata": {},
   "outputs": [],
   "source": [
    "import gymnasium as gym\n",
    "import numpy as np\n",
    "from stable_baselines3.common.env_util import make_vec_env\n",
    "from copy import deepcopy\n",
    "import torch\n",
    "from torch.distributions import Normal\n",
    "import numpy as np\n",
    "import torch.nn as nn\n",
    "import torch.nn.functional as F\n",
    "from torch.distributions import Categorical\n",
    "from torch.utils.data import Dataset, DataLoader\n",
    "from stable_baselines3.common.vec_env import VecVideoRecorder, DummyVecEnv\n",
    "import imageio\n",
    "import pandas as pd\n",
    "from tqdm import tqdm\n",
    "from PIL import Image\n"
   ]
  },
  {
   "cell_type": "code",
   "execution_count": 2,
   "metadata": {},
   "outputs": [
    {
     "name": "stdout",
     "output_type": "stream",
     "text": [
      "Mon Apr  1 09:21:35 2024       \n",
      "+---------------------------------------------------------------------------------------+\n",
      "| NVIDIA-SMI 545.23.06              Driver Version: 545.23.06    CUDA Version: 12.3     |\n",
      "|-----------------------------------------+----------------------+----------------------+\n",
      "| GPU  Name                 Persistence-M | Bus-Id        Disp.A | Volatile Uncorr. ECC |\n",
      "| Fan  Temp   Perf          Pwr:Usage/Cap |         Memory-Usage | GPU-Util  Compute M. |\n",
      "|                                         |                      |               MIG M. |\n",
      "|=========================================+======================+======================|\n",
      "|   0  NVIDIA GeForce GTX 1080 Ti     On  | 00000000:01:00.0 Off |                  N/A |\n",
      "|  0%   31C    P8              15W / 250W |    480MiB / 11264MiB |      0%      Default |\n",
      "|                                         |                      |                  N/A |\n",
      "+-----------------------------------------+----------------------+----------------------+\n",
      "                                                                                         \n",
      "+---------------------------------------------------------------------------------------+\n",
      "| Processes:                                                                            |\n",
      "|  GPU   GI   CI        PID   Type   Process name                            GPU Memory |\n",
      "|        ID   ID                                                             Usage      |\n",
      "|=======================================================================================|\n",
      "|    0   N/A  N/A    497392      C   ...81/miniconda3/envs/atari/bin/python      246MiB |\n",
      "|    0   N/A  N/A    581837      C   ...81/miniconda3/envs/atari/bin/python      230MiB |\n",
      "+---------------------------------------------------------------------------------------+\n"
     ]
    }
   ],
   "source": [
    "!nvidia-smi"
   ]
  },
  {
   "cell_type": "code",
   "execution_count": 29,
   "metadata": {},
   "outputs": [
    {
     "name": "stdout",
     "output_type": "stream",
     "text": [
      "Using device: cuda\n"
     ]
    }
   ],
   "source": [
    "\n",
    "device = torch.device(\"cuda\" if torch.cuda.is_available() else \"cpu\")\n",
    "print(f\"Using device: {device}\")\n",
    "class CustomDataset(Dataset):\n",
    "    def __init__(self, observations, actions):\n",
    "        self.observations = torch.tensor(observations, dtype=torch.float32,device=device)\n",
    "        self.actions = torch.tensor(actions, dtype=torch.float32,device=device)\n",
    "\n",
    "    def __len__(self):\n",
    "        return len(self.observations)\n",
    "\n",
    "    def __getitem__(self, idx):\n",
    "        observation = self.observations[idx]\n",
    "        action = self.actions[idx]\n",
    "        return observation, action\n",
    "\n",
    "class PolicyNetwork(nn.Module):\n",
    "    def __init__(self, input_dim, output_dim):\n",
    "        super(PolicyNetwork, self).__init__()\n",
    "        self.fc1 = nn.Linear(input_dim, 100)\n",
    "        self.fc2 = nn.Linear(100, 100)\n",
    "        self.fc3 = nn.Linear(100, output_dim)\n",
    "\n",
    "    def forward(self, x):\n",
    "        x = F.relu(self.fc1(x))\n",
    "        x = F.relu(self.fc2(x))\n",
    "        x = self.fc3(x)\n",
    "        return x\n",
    "\n",
    "    "
   ]
  },
  {
   "cell_type": "code",
   "execution_count": 22,
   "metadata": {},
   "outputs": [
    {
     "name": "stdout",
     "output_type": "stream",
     "text": [
      "(1000000, 4) (1000000,)\n",
      "[-0.03013654  0.21001437 -0.04612853 -0.34675622] 1\n"
     ]
    }
   ],
   "source": [
    "env_id = \"CartPole-v1\"\n",
    "# env = make_vec_env(env_id, n_envs=1)\n",
    "# read /mnt/nfs/work/c98181/RL/dataset/CartPole-v1...npy\n",
    "observations= np.load(\"/mnt/nfs/work/c98181/RL/dataset/CartPole-v1_1M_obs.npy\", allow_pickle=True)\n",
    "actions = np.load(\"/mnt/nfs/work/c98181/RL/dataset/CartPole-v1_1M_actions.npy\", allow_pickle=True)\n",
    "observations=observations.squeeze()\n",
    "actions=actions.squeeze()\n",
    "# observations = observations[:1000]\n",
    "# actions = actions[:1000]\n",
    "print(observations.shape, actions.shape)\n",
    "print(observations[0], actions[0])\n",
    "\n",
    "# print(actions)"
   ]
  },
  {
   "cell_type": "code",
   "execution_count": 16,
   "metadata": {},
   "outputs": [],
   "source": [
    "class mydataset(Dataset):\n",
    "    def __init__(self, observations, actions):\n",
    "        self.observations = torch.tensor(observations, dtype=torch.float32).to(device)\n",
    "        self.actions = torch.tensor(actions, dtype=torch.float32).to(device)\n",
    "\n",
    "    def __len__(self):\n",
    "        return len(self.observations)\n",
    "\n",
    "    def __getitem__(self, idx):\n",
    "        observation = self.observations[idx]\n",
    "        action = self.actions[idx]\n",
    "        return observation, action"
   ]
  },
  {
   "cell_type": "code",
   "execution_count": 7,
   "metadata": {},
   "outputs": [
    {
     "name": "stderr",
     "output_type": "stream",
     "text": [
      "  0%|          | 0/1954 [00:00<?, ?it/s]/tmp/ipykernel_497392/3279370013.py:26: UserWarning: Implicit dimension choice for softmax has been deprecated. Change the call to include dim=X as an argument.\n",
      "  x = F.softmax(self.fc3(x))\n",
      "Epoch [1/300]: 100%|██████████| 1954/1954 [00:14<00:00, 139.57it/s, loss=0.0752, positive_reward=-.00505, negative_reward=0.0153, margin=-.0204]    \n"
     ]
    },
    {
     "name": "stdout",
     "output_type": "stream",
     "text": [
      "[43.]\n"
     ]
    },
    {
     "name": "stderr",
     "output_type": "stream",
     "text": [
      "Epoch [2/300]: 100%|██████████| 1954/1954 [00:14<00:00, 139.40it/s, loss=0.096, positive_reward=0.0228, negative_reward=0.025, margin=-.00223]      \n"
     ]
    },
    {
     "name": "stdout",
     "output_type": "stream",
     "text": [
      "[12.]\n"
     ]
    },
    {
     "name": "stderr",
     "output_type": "stream",
     "text": [
      "Epoch [3/300]: 100%|██████████| 1954/1954 [00:14<00:00, 139.30it/s, loss=0.0925, positive_reward=-.00274, negative_reward=-.00559, margin=0.00285]  \n"
     ]
    },
    {
     "name": "stdout",
     "output_type": "stream",
     "text": [
      "[11.]\n"
     ]
    },
    {
     "name": "stderr",
     "output_type": "stream",
     "text": [
      "Epoch [4/300]: 100%|██████████| 1954/1954 [00:14<00:00, 139.13it/s, loss=0.223, positive_reward=0.00562, negative_reward=0.0605, margin=-.0549]      \n"
     ]
    },
    {
     "name": "stdout",
     "output_type": "stream",
     "text": [
      "[14.]\n"
     ]
    },
    {
     "name": "stderr",
     "output_type": "stream",
     "text": [
      "Epoch [5/300]: 100%|██████████| 1954/1954 [00:13<00:00, 139.60it/s, loss=0.07, positive_reward=0.00644, negative_reward=0.005, margin=0.00143]       \n"
     ]
    },
    {
     "name": "stdout",
     "output_type": "stream",
     "text": [
      "[15.]\n"
     ]
    },
    {
     "name": "stderr",
     "output_type": "stream",
     "text": [
      "Epoch [6/300]: 100%|██████████| 1954/1954 [00:14<00:00, 137.85it/s, loss=0.106, positive_reward=0.00264, negative_reward=-.00127, margin=0.00391]   \n"
     ]
    },
    {
     "name": "stdout",
     "output_type": "stream",
     "text": [
      "[12.]\n"
     ]
    },
    {
     "name": "stderr",
     "output_type": "stream",
     "text": [
      "Epoch [7/300]: 100%|██████████| 1954/1954 [00:14<00:00, 139.46it/s, loss=0.0794, positive_reward=0.00988, negative_reward=-.00395, margin=0.0138]    \n"
     ]
    },
    {
     "name": "stdout",
     "output_type": "stream",
     "text": [
      "[18.]\n"
     ]
    },
    {
     "name": "stderr",
     "output_type": "stream",
     "text": [
      "Epoch [8/300]: 100%|██████████| 1954/1954 [00:14<00:00, 138.16it/s, loss=0.119, positive_reward=-.00363, negative_reward=0.00147, margin=-.0051]    \n"
     ]
    },
    {
     "name": "stdout",
     "output_type": "stream",
     "text": [
      "[13.]\n"
     ]
    },
    {
     "name": "stderr",
     "output_type": "stream",
     "text": [
      "Epoch [9/300]: 100%|██████████| 1954/1954 [00:14<00:00, 139.23it/s, loss=0.191, positive_reward=-.0275, negative_reward=0.00574, margin=-.0332]      \n"
     ]
    },
    {
     "name": "stdout",
     "output_type": "stream",
     "text": [
      "[17.]\n"
     ]
    },
    {
     "name": "stderr",
     "output_type": "stream",
     "text": [
      "Epoch [10/300]: 100%|██████████| 1954/1954 [00:14<00:00, 139.40it/s, loss=0.192, positive_reward=0.0298, negative_reward=-.0226, margin=0.0524]       \n"
     ]
    },
    {
     "name": "stdout",
     "output_type": "stream",
     "text": [
      "[15.]\n"
     ]
    },
    {
     "name": "stderr",
     "output_type": "stream",
     "text": [
      "Epoch [11/300]: 100%|██████████| 1954/1954 [00:14<00:00, 138.31it/s, loss=0.146, positive_reward=-.0179, negative_reward=0.0408, margin=-.0587]       \n"
     ]
    },
    {
     "name": "stdout",
     "output_type": "stream",
     "text": [
      "[27.]\n"
     ]
    },
    {
     "name": "stderr",
     "output_type": "stream",
     "text": [
      "Epoch [12/300]: 100%|██████████| 1954/1954 [00:14<00:00, 133.22it/s, loss=0.724, positive_reward=-.0202, negative_reward=0.0286, margin=-.0488]      \n"
     ]
    },
    {
     "name": "stdout",
     "output_type": "stream",
     "text": [
      "[27.]\n"
     ]
    },
    {
     "name": "stderr",
     "output_type": "stream",
     "text": [
      "Epoch [13/300]: 100%|██████████| 1954/1954 [00:14<00:00, 134.30it/s, loss=0.712, positive_reward=0.002, negative_reward=0.0297, margin=-.0277]       \n"
     ]
    },
    {
     "name": "stdout",
     "output_type": "stream",
     "text": [
      "[49.]\n"
     ]
    },
    {
     "name": "stderr",
     "output_type": "stream",
     "text": [
      "Epoch [14/300]: 100%|██████████| 1954/1954 [00:14<00:00, 134.37it/s, loss=0.69, positive_reward=0.00581, negative_reward=-.00196, margin=0.00777]    \n"
     ]
    },
    {
     "name": "stdout",
     "output_type": "stream",
     "text": [
      "[23.]\n"
     ]
    },
    {
     "name": "stderr",
     "output_type": "stream",
     "text": [
      "Epoch [15/300]: 100%|██████████| 1954/1954 [00:14<00:00, 134.74it/s, loss=0.699, positive_reward=-.00859, negative_reward=0.00138, margin=-.00997]   \n"
     ]
    },
    {
     "name": "stdout",
     "output_type": "stream",
     "text": [
      "[18.]\n"
     ]
    },
    {
     "name": "stderr",
     "output_type": "stream",
     "text": [
      "Epoch [16/300]: 100%|██████████| 1954/1954 [00:14<00:00, 133.53it/s, loss=0.691, positive_reward=0.00777, negative_reward=0.00251, margin=0.00527]   \n"
     ]
    },
    {
     "name": "stdout",
     "output_type": "stream",
     "text": [
      "[11.]\n"
     ]
    },
    {
     "name": "stderr",
     "output_type": "stream",
     "text": [
      "Epoch [17/300]: 100%|██████████| 1954/1954 [00:14<00:00, 134.25it/s, loss=0.694, positive_reward=0.00137, negative_reward=0.00362, margin=-.00225]   \n"
     ]
    },
    {
     "name": "stdout",
     "output_type": "stream",
     "text": [
      "[13.]\n"
     ]
    },
    {
     "name": "stderr",
     "output_type": "stream",
     "text": [
      "Epoch [18/300]: 100%|██████████| 1954/1954 [00:14<00:00, 134.81it/s, loss=0.706, positive_reward=-.00857, negative_reward=0.0131, margin=-.0216]     \n"
     ]
    },
    {
     "name": "stdout",
     "output_type": "stream",
     "text": [
      "[39.]\n"
     ]
    },
    {
     "name": "stderr",
     "output_type": "stream",
     "text": [
      "Epoch [19/300]: 100%|██████████| 1954/1954 [00:14<00:00, 133.85it/s, loss=0.69, positive_reward=0.00949, negative_reward=0.00274, margin=0.00674]    \n"
     ]
    },
    {
     "name": "stdout",
     "output_type": "stream",
     "text": [
      "[22.]\n"
     ]
    },
    {
     "name": "stderr",
     "output_type": "stream",
     "text": [
      "Epoch [20/300]: 100%|██████████| 1954/1954 [00:14<00:00, 134.16it/s, loss=0.692, positive_reward=0.0114, negative_reward=0.00843, margin=0.00299]    \n"
     ]
    },
    {
     "name": "stdout",
     "output_type": "stream",
     "text": [
      "[19.]\n"
     ]
    },
    {
     "name": "stderr",
     "output_type": "stream",
     "text": [
      "Epoch [21/300]: 100%|██████████| 1954/1954 [00:14<00:00, 134.58it/s, loss=0.692, positive_reward=0.00513, negative_reward=0.00153, margin=0.0036]    \n"
     ]
    },
    {
     "name": "stdout",
     "output_type": "stream",
     "text": [
      "[19.]\n"
     ]
    },
    {
     "name": "stderr",
     "output_type": "stream",
     "text": [
      "Epoch [22/300]: 100%|██████████| 1954/1954 [00:14<00:00, 134.36it/s, loss=0.701, positive_reward=-.0175, negative_reward=-.00331, margin=-.0142]     \n"
     ]
    },
    {
     "name": "stdout",
     "output_type": "stream",
     "text": [
      "[14.]\n"
     ]
    },
    {
     "name": "stderr",
     "output_type": "stream",
     "text": [
      "Epoch [23/300]: 100%|██████████| 1954/1954 [00:14<00:00, 135.24it/s, loss=0.702, positive_reward=-.00337, negative_reward=0.0113, margin=-.0147]     \n"
     ]
    },
    {
     "name": "stdout",
     "output_type": "stream",
     "text": [
      "[19.]\n"
     ]
    },
    {
     "name": "stderr",
     "output_type": "stream",
     "text": [
      "Epoch [24/300]: 100%|██████████| 1954/1954 [00:14<00:00, 134.22it/s, loss=0.695, positive_reward=-.01, negative_reward=-.0145, margin=0.00449]       \n"
     ]
    },
    {
     "name": "stdout",
     "output_type": "stream",
     "text": [
      "[21.]\n"
     ]
    },
    {
     "name": "stderr",
     "output_type": "stream",
     "text": [
      "Epoch [25/300]: 100%|██████████| 1954/1954 [00:14<00:00, 135.11it/s, loss=0.701, positive_reward=-.0091, negative_reward=0.00375, margin=-.0129]     \n"
     ]
    },
    {
     "name": "stdout",
     "output_type": "stream",
     "text": [
      "[12.]\n"
     ]
    },
    {
     "name": "stderr",
     "output_type": "stream",
     "text": [
      "Epoch [26/300]: 100%|██████████| 1954/1954 [00:14<00:00, 134.08it/s, loss=0.71, positive_reward=0.00248, negative_reward=0.0281, margin=-.0256]      \n"
     ]
    },
    {
     "name": "stdout",
     "output_type": "stream",
     "text": [
      "[18.]\n"
     ]
    },
    {
     "name": "stderr",
     "output_type": "stream",
     "text": [
      "Epoch [27/300]: 100%|██████████| 1954/1954 [00:14<00:00, 134.73it/s, loss=0.702, positive_reward=-.00743, negative_reward=0.00721, margin=-.0146]    \n"
     ]
    },
    {
     "name": "stdout",
     "output_type": "stream",
     "text": [
      "[27.]\n"
     ]
    },
    {
     "name": "stderr",
     "output_type": "stream",
     "text": [
      "Epoch [28/300]: 100%|██████████| 1954/1954 [00:14<00:00, 134.39it/s, loss=0.71, positive_reward=-.00995, negative_reward=0.0156, margin=-.0255]      \n"
     ]
    },
    {
     "name": "stdout",
     "output_type": "stream",
     "text": [
      "[49.]\n"
     ]
    },
    {
     "name": "stderr",
     "output_type": "stream",
     "text": [
      "Epoch [29/300]: 100%|██████████| 1954/1954 [00:14<00:00, 134.76it/s, loss=0.683, positive_reward=0.00889, negative_reward=-.0145, margin=0.0234]     \n"
     ]
    },
    {
     "name": "stdout",
     "output_type": "stream",
     "text": [
      "[16.]\n"
     ]
    },
    {
     "name": "stderr",
     "output_type": "stream",
     "text": [
      "Epoch [30/300]: 100%|██████████| 1954/1954 [00:14<00:00, 133.31it/s, loss=0.698, positive_reward=-.00488, negative_reward=0.00248, margin=-.00736]   \n"
     ]
    },
    {
     "name": "stdout",
     "output_type": "stream",
     "text": [
      "[27.]\n"
     ]
    },
    {
     "name": "stderr",
     "output_type": "stream",
     "text": [
      "Epoch [31/300]: 100%|██████████| 1954/1954 [00:14<00:00, 132.08it/s, loss=0.696, positive_reward=-.00594, negative_reward=-.000581, margin=-.00536]  \n"
     ]
    },
    {
     "name": "stdout",
     "output_type": "stream",
     "text": [
      "[16.]\n"
     ]
    },
    {
     "name": "stderr",
     "output_type": "stream",
     "text": [
      "Epoch [32/300]: 100%|██████████| 1954/1954 [00:14<00:00, 134.00it/s, loss=0.709, positive_reward=-.0224, negative_reward=-.00765, margin=-.0147]     \n"
     ]
    },
    {
     "name": "stdout",
     "output_type": "stream",
     "text": [
      "[24.]\n"
     ]
    },
    {
     "name": "stderr",
     "output_type": "stream",
     "text": [
      "Epoch [33/300]: 100%|██████████| 1954/1954 [00:14<00:00, 131.33it/s, loss=0.697, positive_reward=-.00669, negative_reward=-.00412, margin=-.00257]   \n"
     ]
    },
    {
     "name": "stdout",
     "output_type": "stream",
     "text": [
      "[12.]\n"
     ]
    },
    {
     "name": "stderr",
     "output_type": "stream",
     "text": [
      "Epoch [34/300]: 100%|██████████| 1954/1954 [00:14<00:00, 130.82it/s, loss=0.7, positive_reward=0.00677, negative_reward=0.0175, margin=-.0108]       \n"
     ]
    },
    {
     "name": "stdout",
     "output_type": "stream",
     "text": [
      "[32.]\n"
     ]
    },
    {
     "name": "stderr",
     "output_type": "stream",
     "text": [
      "Epoch [35/300]: 100%|██████████| 1954/1954 [00:14<00:00, 133.19it/s, loss=0.691, positive_reward=0.0035, negative_reward=-.00181, margin=0.0053]     \n"
     ]
    },
    {
     "name": "stdout",
     "output_type": "stream",
     "text": [
      "[21.]\n"
     ]
    },
    {
     "name": "stderr",
     "output_type": "stream",
     "text": [
      "Epoch [36/300]: 100%|██████████| 1954/1954 [00:14<00:00, 133.82it/s, loss=0.696, positive_reward=0.0113, negative_reward=0.0171, margin=-.00578]     \n"
     ]
    },
    {
     "name": "stdout",
     "output_type": "stream",
     "text": [
      "[15.]\n"
     ]
    },
    {
     "name": "stderr",
     "output_type": "stream",
     "text": [
      "Epoch [37/300]: 100%|██████████| 1954/1954 [00:14<00:00, 134.19it/s, loss=0.695, positive_reward=0.00217, negative_reward=0.00649, margin=-.00432]   \n"
     ]
    },
    {
     "name": "stdout",
     "output_type": "stream",
     "text": [
      "[11.]\n"
     ]
    },
    {
     "name": "stderr",
     "output_type": "stream",
     "text": [
      "Epoch [38/300]: 100%|██████████| 1954/1954 [00:14<00:00, 133.04it/s, loss=0.687, positive_reward=0.0133, negative_reward=-.00495, margin=0.0183]     \n"
     ]
    },
    {
     "name": "stdout",
     "output_type": "stream",
     "text": [
      "[31.]\n"
     ]
    },
    {
     "name": "stderr",
     "output_type": "stream",
     "text": [
      "Epoch [39/300]: 100%|██████████| 1954/1954 [00:14<00:00, 134.06it/s, loss=0.702, positive_reward=0.0084, negative_reward=0.0246, margin=-.0162]      \n"
     ]
    },
    {
     "name": "stdout",
     "output_type": "stream",
     "text": [
      "[20.]\n"
     ]
    },
    {
     "name": "stderr",
     "output_type": "stream",
     "text": [
      "Epoch [40/300]: 100%|██████████| 1954/1954 [00:14<00:00, 134.28it/s, loss=0.703, positive_reward=-.00766, negative_reward=0.0108, margin=-.0184]     \n"
     ]
    },
    {
     "name": "stdout",
     "output_type": "stream",
     "text": [
      "[23.]\n"
     ]
    },
    {
     "name": "stderr",
     "output_type": "stream",
     "text": [
      "Epoch [41/300]: 100%|██████████| 1954/1954 [00:14<00:00, 134.46it/s, loss=0.705, positive_reward=-.0096, negative_reward=0.00745, margin=-.017]      \n"
     ]
    },
    {
     "name": "stdout",
     "output_type": "stream",
     "text": [
      "[33.]\n"
     ]
    },
    {
     "name": "stderr",
     "output_type": "stream",
     "text": [
      "Epoch [42/300]: 100%|██████████| 1954/1954 [00:14<00:00, 133.84it/s, loss=0.695, positive_reward=0.0122, negative_reward=0.012, margin=0.00018]      \n"
     ]
    },
    {
     "name": "stdout",
     "output_type": "stream",
     "text": [
      "[13.]\n"
     ]
    },
    {
     "name": "stderr",
     "output_type": "stream",
     "text": [
      "Epoch [43/300]: 100%|██████████| 1954/1954 [00:14<00:00, 132.86it/s, loss=0.698, positive_reward=0.011, negative_reward=0.0173, margin=-.00631]      \n"
     ]
    },
    {
     "name": "stdout",
     "output_type": "stream",
     "text": [
      "[29.]\n"
     ]
    },
    {
     "name": "stderr",
     "output_type": "stream",
     "text": [
      "Epoch [44/300]: 100%|██████████| 1954/1954 [00:14<00:00, 134.10it/s, loss=0.686, positive_reward=0.0173, negative_reward=0.00117, margin=0.0161]     \n"
     ]
    },
    {
     "name": "stdout",
     "output_type": "stream",
     "text": [
      "[10.]\n"
     ]
    },
    {
     "name": "stderr",
     "output_type": "stream",
     "text": [
      "Epoch [45/300]: 100%|██████████| 1954/1954 [00:14<00:00, 133.70it/s, loss=0.696, positive_reward=0.0104, negative_reward=0.0131, margin=-.00263]     \n"
     ]
    },
    {
     "name": "stdout",
     "output_type": "stream",
     "text": [
      "[35.]\n"
     ]
    },
    {
     "name": "stderr",
     "output_type": "stream",
     "text": [
      "Epoch [46/300]: 100%|██████████| 1954/1954 [00:14<00:00, 134.19it/s, loss=0.695, positive_reward=0.00866, negative_reward=0.00814, margin=0.000519]  \n"
     ]
    },
    {
     "name": "stdout",
     "output_type": "stream",
     "text": [
      "[13.]\n"
     ]
    },
    {
     "name": "stderr",
     "output_type": "stream",
     "text": [
      "Epoch [47/300]: 100%|██████████| 1954/1954 [00:14<00:00, 134.75it/s, loss=0.691, positive_reward=0.00416, negative_reward=-.000397, margin=0.00456]  \n"
     ]
    },
    {
     "name": "stdout",
     "output_type": "stream",
     "text": [
      "[9.]\n"
     ]
    },
    {
     "name": "stderr",
     "output_type": "stream",
     "text": [
      "Epoch [48/300]: 100%|██████████| 1954/1954 [00:14<00:00, 134.35it/s, loss=0.714, positive_reward=-.00924, negative_reward=0.00365, margin=-.0129]    \n"
     ]
    },
    {
     "name": "stdout",
     "output_type": "stream",
     "text": [
      "[13.]\n"
     ]
    },
    {
     "name": "stderr",
     "output_type": "stream",
     "text": [
      "Epoch [49/300]: 100%|██████████| 1954/1954 [00:14<00:00, 133.99it/s, loss=0.693, positive_reward=0.00697, negative_reward=0.00475, margin=0.00222]   \n"
     ]
    },
    {
     "name": "stdout",
     "output_type": "stream",
     "text": [
      "[18.]\n"
     ]
    },
    {
     "name": "stderr",
     "output_type": "stream",
     "text": [
      "Epoch [50/300]: 100%|██████████| 1954/1954 [00:14<00:00, 133.86it/s, loss=0.689, positive_reward=0.00594, negative_reward=-.00373, margin=0.00966]   \n"
     ]
    },
    {
     "name": "stdout",
     "output_type": "stream",
     "text": [
      "[13.]\n"
     ]
    },
    {
     "name": "stderr",
     "output_type": "stream",
     "text": [
      "Epoch [51/300]: 100%|██████████| 1954/1954 [00:14<00:00, 133.28it/s, loss=0.687, positive_reward=0.00256, negative_reward=-.0135, margin=0.0161]     \n"
     ]
    },
    {
     "name": "stdout",
     "output_type": "stream",
     "text": [
      "[19.]\n"
     ]
    },
    {
     "name": "stderr",
     "output_type": "stream",
     "text": [
      "Epoch [52/300]: 100%|██████████| 1954/1954 [00:14<00:00, 134.14it/s, loss=0.701, positive_reward=-.0047, negative_reward=0.00869, margin=-.0134]     \n"
     ]
    },
    {
     "name": "stdout",
     "output_type": "stream",
     "text": [
      "[11.]\n"
     ]
    },
    {
     "name": "stderr",
     "output_type": "stream",
     "text": [
      "Epoch [53/300]: 100%|██████████| 1954/1954 [00:14<00:00, 134.13it/s, loss=0.694, positive_reward=0.00619, negative_reward=0.0081, margin=-.00191]    \n"
     ]
    },
    {
     "name": "stdout",
     "output_type": "stream",
     "text": [
      "[26.]\n"
     ]
    },
    {
     "name": "stderr",
     "output_type": "stream",
     "text": [
      "Epoch [54/300]: 100%|██████████| 1954/1954 [00:14<00:00, 134.70it/s, loss=0.711, positive_reward=-.00634, negative_reward=0.0196, margin=-.0259]     \n"
     ]
    },
    {
     "name": "stdout",
     "output_type": "stream",
     "text": [
      "[9.]\n"
     ]
    },
    {
     "name": "stderr",
     "output_type": "stream",
     "text": [
      "Epoch [55/300]: 100%|██████████| 1954/1954 [00:14<00:00, 132.81it/s, loss=0.691, positive_reward=0.0019, negative_reward=-.00366, margin=0.00556]    \n"
     ]
    },
    {
     "name": "stdout",
     "output_type": "stream",
     "text": [
      "[17.]\n"
     ]
    },
    {
     "name": "stderr",
     "output_type": "stream",
     "text": [
      "Epoch [56/300]: 100%|██████████| 1954/1954 [00:14<00:00, 134.09it/s, loss=0.693, positive_reward=0.00549, negative_reward=0.00448, margin=0.00102]   \n"
     ]
    },
    {
     "name": "stdout",
     "output_type": "stream",
     "text": [
      "[12.]\n"
     ]
    },
    {
     "name": "stderr",
     "output_type": "stream",
     "text": [
      "Epoch [57/300]: 100%|██████████| 1954/1954 [00:14<00:00, 133.28it/s, loss=0.695, positive_reward=0.00178, negative_reward=0.00505, margin=-.00327]   \n"
     ]
    },
    {
     "name": "stdout",
     "output_type": "stream",
     "text": [
      "[15.]\n"
     ]
    },
    {
     "name": "stderr",
     "output_type": "stream",
     "text": [
      "Epoch [58/300]: 100%|██████████| 1954/1954 [00:14<00:00, 133.52it/s, loss=0.693, positive_reward=-.00351, negative_reward=-.00351, margin=0]         \n"
     ]
    },
    {
     "name": "stdout",
     "output_type": "stream",
     "text": [
      "[16.]\n"
     ]
    },
    {
     "name": "stderr",
     "output_type": "stream",
     "text": [
      "Epoch [59/300]: 100%|██████████| 1954/1954 [00:14<00:00, 133.78it/s, loss=0.688, positive_reward=0.0168, negative_reward=-.00307, margin=0.0198]     \n"
     ]
    },
    {
     "name": "stdout",
     "output_type": "stream",
     "text": [
      "[35.]\n"
     ]
    },
    {
     "name": "stderr",
     "output_type": "stream",
     "text": [
      "Epoch [60/300]: 100%|██████████| 1954/1954 [00:14<00:00, 133.98it/s, loss=0.699, positive_reward=-.00508, negative_reward=0.00649, margin=-.0116]    \n"
     ]
    },
    {
     "name": "stdout",
     "output_type": "stream",
     "text": [
      "[20.]\n"
     ]
    },
    {
     "name": "stderr",
     "output_type": "stream",
     "text": [
      "Epoch [61/300]: 100%|██████████| 1954/1954 [00:14<00:00, 133.01it/s, loss=0.709, positive_reward=-.0125, negative_reward=0.0127, margin=-.0252]      \n"
     ]
    },
    {
     "name": "stdout",
     "output_type": "stream",
     "text": [
      "[38.]\n"
     ]
    },
    {
     "name": "stderr",
     "output_type": "stream",
     "text": [
      "Epoch [62/300]: 100%|██████████| 1954/1954 [00:14<00:00, 133.31it/s, loss=0.699, positive_reward=-.00937, negative_reward=0.000801, margin=-.0102]   \n"
     ]
    },
    {
     "name": "stdout",
     "output_type": "stream",
     "text": [
      "[22.]\n"
     ]
    },
    {
     "name": "stderr",
     "output_type": "stream",
     "text": [
      "Epoch [63/300]: 100%|██████████| 1954/1954 [00:14<00:00, 133.90it/s, loss=0.692, positive_reward=-7.91e-5, negative_reward=-.00335, margin=0.00327]  \n"
     ]
    },
    {
     "name": "stdout",
     "output_type": "stream",
     "text": [
      "[13.]\n"
     ]
    },
    {
     "name": "stderr",
     "output_type": "stream",
     "text": [
      "Epoch [64/300]: 100%|██████████| 1954/1954 [00:14<00:00, 133.99it/s, loss=0.706, positive_reward=0.00133, negative_reward=0.0228, margin=-.0215]     \n"
     ]
    },
    {
     "name": "stdout",
     "output_type": "stream",
     "text": [
      "[20.]\n"
     ]
    },
    {
     "name": "stderr",
     "output_type": "stream",
     "text": [
      "Epoch [65/300]: 100%|██████████| 1954/1954 [00:14<00:00, 134.12it/s, loss=0.711, positive_reward=-.0208, negative_reward=0.00945, margin=-.0302]     \n"
     ]
    },
    {
     "name": "stdout",
     "output_type": "stream",
     "text": [
      "[43.]\n"
     ]
    },
    {
     "name": "stderr",
     "output_type": "stream",
     "text": [
      "Epoch [66/300]: 100%|██████████| 1954/1954 [00:14<00:00, 133.09it/s, loss=0.698, positive_reward=-.00591, negative_reward=0.00233, margin=-.00825]   \n"
     ]
    },
    {
     "name": "stdout",
     "output_type": "stream",
     "text": [
      "[22.]\n"
     ]
    },
    {
     "name": "stderr",
     "output_type": "stream",
     "text": [
      "Epoch [67/300]: 100%|██████████| 1954/1954 [00:14<00:00, 132.91it/s, loss=0.685, positive_reward=0.00939, negative_reward=-.00802, margin=0.0174]    \n"
     ]
    },
    {
     "name": "stdout",
     "output_type": "stream",
     "text": [
      "[21.]\n"
     ]
    },
    {
     "name": "stderr",
     "output_type": "stream",
     "text": [
      "Epoch [68/300]: 100%|██████████| 1954/1954 [00:14<00:00, 134.03it/s, loss=0.687, positive_reward=0.00313, negative_reward=-.00927, margin=0.0124]    \n"
     ]
    },
    {
     "name": "stdout",
     "output_type": "stream",
     "text": [
      "[20.]\n"
     ]
    },
    {
     "name": "stderr",
     "output_type": "stream",
     "text": [
      "Epoch [69/300]: 100%|██████████| 1954/1954 [00:14<00:00, 133.86it/s, loss=0.69, positive_reward=0.0101, negative_reward=0.00316, margin=0.00698]     \n"
     ]
    },
    {
     "name": "stdout",
     "output_type": "stream",
     "text": [
      "[13.]\n"
     ]
    },
    {
     "name": "stderr",
     "output_type": "stream",
     "text": [
      "Epoch [70/300]: 100%|██████████| 1954/1954 [00:14<00:00, 133.82it/s, loss=0.685, positive_reward=0.0119, negative_reward=-.00605, margin=0.0179]     \n"
     ]
    },
    {
     "name": "stdout",
     "output_type": "stream",
     "text": [
      "[25.]\n"
     ]
    },
    {
     "name": "stderr",
     "output_type": "stream",
     "text": [
      "Epoch [71/300]: 100%|██████████| 1954/1954 [00:14<00:00, 134.27it/s, loss=0.703, positive_reward=0.00577, negative_reward=0.0221, margin=-.0163]     \n"
     ]
    },
    {
     "name": "stdout",
     "output_type": "stream",
     "text": [
      "[14.]\n"
     ]
    },
    {
     "name": "stderr",
     "output_type": "stream",
     "text": [
      "Epoch [72/300]: 100%|██████████| 1954/1954 [00:14<00:00, 133.83it/s, loss=0.692, positive_reward=0.00576, negative_reward=0.00124, margin=0.00452]   \n"
     ]
    },
    {
     "name": "stdout",
     "output_type": "stream",
     "text": [
      "[20.]\n"
     ]
    },
    {
     "name": "stderr",
     "output_type": "stream",
     "text": [
      "Epoch [73/300]: 100%|██████████| 1954/1954 [00:14<00:00, 134.02it/s, loss=0.711, positive_reward=-.0205, negative_reward=0.00928, margin=-.0298]     \n"
     ]
    },
    {
     "name": "stdout",
     "output_type": "stream",
     "text": [
      "[32.]\n"
     ]
    },
    {
     "name": "stderr",
     "output_type": "stream",
     "text": [
      "Epoch [74/300]: 100%|██████████| 1954/1954 [00:14<00:00, 133.72it/s, loss=0.696, positive_reward=-.00379, negative_reward=0.00256, margin=-.00635]   \n"
     ]
    },
    {
     "name": "stdout",
     "output_type": "stream",
     "text": [
      "[26.]\n"
     ]
    },
    {
     "name": "stderr",
     "output_type": "stream",
     "text": [
      "Epoch [75/300]: 100%|██████████| 1954/1954 [00:14<00:00, 133.92it/s, loss=0.693, positive_reward=-.00246, negative_reward=-.00712, margin=0.00466]   \n"
     ]
    },
    {
     "name": "stdout",
     "output_type": "stream",
     "text": [
      "[26.]\n"
     ]
    },
    {
     "name": "stderr",
     "output_type": "stream",
     "text": [
      "Epoch [76/300]: 100%|██████████| 1954/1954 [00:14<00:00, 133.33it/s, loss=0.691, positive_reward=7.06e-5, negative_reward=-.00837, margin=0.00844]   \n"
     ]
    },
    {
     "name": "stdout",
     "output_type": "stream",
     "text": [
      "[14.]\n"
     ]
    },
    {
     "name": "stderr",
     "output_type": "stream",
     "text": [
      "Epoch [77/300]: 100%|██████████| 1954/1954 [00:14<00:00, 132.79it/s, loss=0.695, positive_reward=0.0119, negative_reward=0.0136, margin=-.0017]      \n"
     ]
    },
    {
     "name": "stdout",
     "output_type": "stream",
     "text": [
      "[26.]\n"
     ]
    },
    {
     "name": "stderr",
     "output_type": "stream",
     "text": [
      "Epoch [78/300]: 100%|██████████| 1954/1954 [00:14<00:00, 133.76it/s, loss=0.701, positive_reward=-.00909, negative_reward=0.00538, margin=-.0145]    \n"
     ]
    },
    {
     "name": "stdout",
     "output_type": "stream",
     "text": [
      "[17.]\n"
     ]
    },
    {
     "name": "stderr",
     "output_type": "stream",
     "text": [
      "Epoch [79/300]: 100%|██████████| 1954/1954 [00:14<00:00, 132.54it/s, loss=0.676, positive_reward=0.0272, negative_reward=-.0226, margin=0.0498]      \n"
     ]
    },
    {
     "name": "stdout",
     "output_type": "stream",
     "text": [
      "[29.]\n"
     ]
    },
    {
     "name": "stderr",
     "output_type": "stream",
     "text": [
      "Epoch [80/300]: 100%|██████████| 1954/1954 [00:14<00:00, 133.57it/s, loss=0.687, positive_reward=0.0139, negative_reward=0.000471, margin=0.0134]    \n"
     ]
    },
    {
     "name": "stdout",
     "output_type": "stream",
     "text": [
      "[13.]\n"
     ]
    },
    {
     "name": "stderr",
     "output_type": "stream",
     "text": [
      "Epoch [81/300]: 100%|██████████| 1954/1954 [00:14<00:00, 133.74it/s, loss=0.7, positive_reward=-.0111, negative_reward=0.00232, margin=-.0134]       \n"
     ]
    },
    {
     "name": "stdout",
     "output_type": "stream",
     "text": [
      "[13.]\n"
     ]
    },
    {
     "name": "stderr",
     "output_type": "stream",
     "text": [
      "Epoch [82/300]: 100%|██████████| 1954/1954 [00:14<00:00, 134.03it/s, loss=0.683, positive_reward=0.0248, negative_reward=-.000339, margin=0.0252]    \n"
     ]
    },
    {
     "name": "stdout",
     "output_type": "stream",
     "text": [
      "[14.]\n"
     ]
    },
    {
     "name": "stderr",
     "output_type": "stream",
     "text": [
      "Epoch [83/300]: 100%|██████████| 1954/1954 [00:14<00:00, 133.92it/s, loss=0.693, positive_reward=-.00461, negative_reward=-.00461, margin=0]         \n"
     ]
    },
    {
     "name": "stdout",
     "output_type": "stream",
     "text": [
      "[22.]\n"
     ]
    },
    {
     "name": "stderr",
     "output_type": "stream",
     "text": [
      "Epoch [84/300]: 100%|██████████| 1954/1954 [00:14<00:00, 132.01it/s, loss=0.69, positive_reward=0.00059, negative_reward=-.0149, margin=0.0155]      \n"
     ]
    },
    {
     "name": "stdout",
     "output_type": "stream",
     "text": [
      "[11.]\n"
     ]
    },
    {
     "name": "stderr",
     "output_type": "stream",
     "text": [
      "Epoch [85/300]: 100%|██████████| 1954/1954 [00:14<00:00, 133.68it/s, loss=0.703, positive_reward=0.00407, negative_reward=0.0184, margin=-.0143]     \n"
     ]
    },
    {
     "name": "stdout",
     "output_type": "stream",
     "text": [
      "[10.]\n"
     ]
    },
    {
     "name": "stderr",
     "output_type": "stream",
     "text": [
      "Epoch [86/300]: 100%|██████████| 1954/1954 [00:14<00:00, 133.82it/s, loss=0.699, positive_reward=0.0039, negative_reward=0.0116, margin=-.00767]     \n"
     ]
    },
    {
     "name": "stdout",
     "output_type": "stream",
     "text": [
      "[19.]\n"
     ]
    },
    {
     "name": "stderr",
     "output_type": "stream",
     "text": [
      "Epoch [87/300]: 100%|██████████| 1954/1954 [00:14<00:00, 133.36it/s, loss=0.693, positive_reward=0.00312, negative_reward=-.0077, margin=0.0108]     \n"
     ]
    },
    {
     "name": "stdout",
     "output_type": "stream",
     "text": [
      "[46.]\n"
     ]
    },
    {
     "name": "stderr",
     "output_type": "stream",
     "text": [
      "Epoch [88/300]: 100%|██████████| 1954/1954 [00:14<00:00, 133.61it/s, loss=0.693, positive_reward=-.00123, negative_reward=-.00786, margin=0.00663]   \n"
     ]
    },
    {
     "name": "stdout",
     "output_type": "stream",
     "text": [
      "[12.]\n"
     ]
    },
    {
     "name": "stderr",
     "output_type": "stream",
     "text": [
      "Epoch [89/300]: 100%|██████████| 1954/1954 [00:14<00:00, 133.07it/s, loss=0.689, positive_reward=0.0362, negative_reward=0.0203, margin=0.016]       \n"
     ]
    },
    {
     "name": "stdout",
     "output_type": "stream",
     "text": [
      "[14.]\n"
     ]
    },
    {
     "name": "stderr",
     "output_type": "stream",
     "text": [
      "Epoch [90/300]: 100%|██████████| 1954/1954 [00:14<00:00, 133.73it/s, loss=0.7, positive_reward=0.00454, negative_reward=0.0163, margin=-.0118]       \n"
     ]
    },
    {
     "name": "stdout",
     "output_type": "stream",
     "text": [
      "[12.]\n"
     ]
    },
    {
     "name": "stderr",
     "output_type": "stream",
     "text": [
      "Epoch [91/300]: 100%|██████████| 1954/1954 [00:14<00:00, 131.34it/s, loss=0.697, positive_reward=-.0174, negative_reward=-.0107, margin=-.00677]     \n"
     ]
    },
    {
     "name": "stdout",
     "output_type": "stream",
     "text": [
      "[62.]\n"
     ]
    },
    {
     "name": "stderr",
     "output_type": "stream",
     "text": [
      "Epoch [92/300]: 100%|██████████| 1954/1954 [00:14<00:00, 133.27it/s, loss=0.705, positive_reward=-.00287, negative_reward=0.018, margin=-.0209]      \n"
     ]
    },
    {
     "name": "stdout",
     "output_type": "stream",
     "text": [
      "[24.]\n"
     ]
    },
    {
     "name": "stderr",
     "output_type": "stream",
     "text": [
      "Epoch [93/300]: 100%|██████████| 1954/1954 [00:14<00:00, 134.12it/s, loss=0.715, positive_reward=-.00393, negative_reward=0.0266, margin=-.0305]     \n"
     ]
    },
    {
     "name": "stdout",
     "output_type": "stream",
     "text": [
      "[33.]\n"
     ]
    },
    {
     "name": "stderr",
     "output_type": "stream",
     "text": [
      "Epoch [94/300]: 100%|██████████| 1954/1954 [00:14<00:00, 134.12it/s, loss=0.707, positive_reward=-.00501, negative_reward=0.0179, margin=-.023]      \n"
     ]
    },
    {
     "name": "stdout",
     "output_type": "stream",
     "text": [
      "[16.]\n"
     ]
    },
    {
     "name": "stderr",
     "output_type": "stream",
     "text": [
      "Epoch [95/300]: 100%|██████████| 1954/1954 [00:14<00:00, 133.66it/s, loss=0.696, positive_reward=-.00591, negative_reward=-.000861, margin=-.00505]  \n"
     ]
    },
    {
     "name": "stdout",
     "output_type": "stream",
     "text": [
      "[15.]\n"
     ]
    },
    {
     "name": "stderr",
     "output_type": "stream",
     "text": [
      "Epoch [96/300]: 100%|██████████| 1954/1954 [00:14<00:00, 134.47it/s, loss=0.693, positive_reward=0.00603, negative_reward=0.00572, margin=0.000312]  \n"
     ]
    },
    {
     "name": "stdout",
     "output_type": "stream",
     "text": [
      "[47.]\n"
     ]
    },
    {
     "name": "stderr",
     "output_type": "stream",
     "text": [
      "Epoch [97/300]: 100%|██████████| 1954/1954 [00:14<00:00, 134.15it/s, loss=0.7, positive_reward=0.0118, negative_reward=0.0174, margin=-.00557]       \n"
     ]
    },
    {
     "name": "stdout",
     "output_type": "stream",
     "text": [
      "[21.]\n"
     ]
    },
    {
     "name": "stderr",
     "output_type": "stream",
     "text": [
      "Epoch [98/300]: 100%|██████████| 1954/1954 [00:14<00:00, 133.09it/s, loss=0.694, positive_reward=0.00518, negative_reward=0.00582, margin=-.000646]  \n"
     ]
    },
    {
     "name": "stdout",
     "output_type": "stream",
     "text": [
      "[15.]\n"
     ]
    },
    {
     "name": "stderr",
     "output_type": "stream",
     "text": [
      "Epoch [99/300]: 100%|██████████| 1954/1954 [00:14<00:00, 133.29it/s, loss=0.718, positive_reward=-.00316, negative_reward=0.0327, margin=-.0359]     \n"
     ]
    },
    {
     "name": "stdout",
     "output_type": "stream",
     "text": [
      "[10.]\n"
     ]
    },
    {
     "name": "stderr",
     "output_type": "stream",
     "text": [
      "Epoch [100/300]: 100%|██████████| 1954/1954 [00:14<00:00, 133.50it/s, loss=0.695, positive_reward=0.00295, negative_reward=0.00734, margin=-.00439]   \n"
     ]
    },
    {
     "name": "stdout",
     "output_type": "stream",
     "text": [
      "[15.]\n"
     ]
    },
    {
     "name": "stderr",
     "output_type": "stream",
     "text": [
      "Epoch [101/300]: 100%|██████████| 1954/1954 [00:14<00:00, 133.35it/s, loss=0.686, positive_reward=0.0137, negative_reward=-.00949, margin=0.0232]     \n"
     ]
    },
    {
     "name": "stdout",
     "output_type": "stream",
     "text": [
      "[16.]\n"
     ]
    },
    {
     "name": "stderr",
     "output_type": "stream",
     "text": [
      "Epoch [102/300]: 100%|██████████| 1954/1954 [00:14<00:00, 133.26it/s, loss=0.717, positive_reward=0.00319, negative_reward=0.0376, margin=-.0344]     \n"
     ]
    },
    {
     "name": "stdout",
     "output_type": "stream",
     "text": [
      "[20.]\n"
     ]
    },
    {
     "name": "stderr",
     "output_type": "stream",
     "text": [
      "Epoch [103/300]: 100%|██████████| 1954/1954 [00:14<00:00, 132.59it/s, loss=0.693, positive_reward=-.00319, negative_reward=-.00319, margin=0]         \n"
     ]
    },
    {
     "name": "stdout",
     "output_type": "stream",
     "text": [
      "[16.]\n"
     ]
    },
    {
     "name": "stderr",
     "output_type": "stream",
     "text": [
      "Epoch [104/300]: 100%|██████████| 1954/1954 [00:14<00:00, 133.68it/s, loss=0.701, positive_reward=-.00939, negative_reward=3.33e-5, margin=-.00942]   \n"
     ]
    },
    {
     "name": "stdout",
     "output_type": "stream",
     "text": [
      "[18.]\n"
     ]
    },
    {
     "name": "stderr",
     "output_type": "stream",
     "text": [
      "Epoch [105/300]: 100%|██████████| 1954/1954 [00:14<00:00, 133.71it/s, loss=0.669, positive_reward=0.0541, negative_reward=-.0104, margin=0.0645]      \n"
     ]
    },
    {
     "name": "stdout",
     "output_type": "stream",
     "text": [
      "[22.]\n"
     ]
    },
    {
     "name": "stderr",
     "output_type": "stream",
     "text": [
      "Epoch [106/300]: 100%|██████████| 1954/1954 [00:14<00:00, 133.96it/s, loss=0.694, positive_reward=-.000658, negative_reward=0.000257, margin=-.000915]\n"
     ]
    },
    {
     "name": "stdout",
     "output_type": "stream",
     "text": [
      "[10.]\n"
     ]
    },
    {
     "name": "stderr",
     "output_type": "stream",
     "text": [
      "Epoch [107/300]: 100%|██████████| 1954/1954 [00:14<00:00, 133.40it/s, loss=0.697, positive_reward=-.0144, negative_reward=-.0115, margin=-.00298]     \n"
     ]
    },
    {
     "name": "stdout",
     "output_type": "stream",
     "text": [
      "[36.]\n"
     ]
    },
    {
     "name": "stderr",
     "output_type": "stream",
     "text": [
      "Epoch [108/300]: 100%|██████████| 1954/1954 [00:14<00:00, 133.08it/s, loss=0.694, positive_reward=-.000418, negative_reward=0.000203, margin=-.00062] \n"
     ]
    },
    {
     "name": "stdout",
     "output_type": "stream",
     "text": [
      "[46.]\n"
     ]
    },
    {
     "name": "stderr",
     "output_type": "stream",
     "text": [
      "Epoch [109/300]: 100%|██████████| 1954/1954 [00:14<00:00, 133.89it/s, loss=0.691, positive_reward=0.0115, negative_reward=0.00612, margin=0.00542]    \n"
     ]
    },
    {
     "name": "stdout",
     "output_type": "stream",
     "text": [
      "[22.]\n"
     ]
    },
    {
     "name": "stderr",
     "output_type": "stream",
     "text": [
      "Epoch [110/300]: 100%|██████████| 1954/1954 [00:14<00:00, 133.72it/s, loss=0.699, positive_reward=-.0152, negative_reward=-.00402, margin=-.0111]     \n"
     ]
    },
    {
     "name": "stdout",
     "output_type": "stream",
     "text": [
      "[20.]\n"
     ]
    },
    {
     "name": "stderr",
     "output_type": "stream",
     "text": [
      "Epoch [111/300]: 100%|██████████| 1954/1954 [00:14<00:00, 134.16it/s, loss=0.69, positive_reward=-.00428, negative_reward=-.0119, margin=0.00766]     \n"
     ]
    },
    {
     "name": "stdout",
     "output_type": "stream",
     "text": [
      "[21.]\n"
     ]
    },
    {
     "name": "stderr",
     "output_type": "stream",
     "text": [
      "Epoch [112/300]: 100%|██████████| 1954/1954 [00:14<00:00, 133.99it/s, loss=0.703, positive_reward=-.0115, negative_reward=0.00275, margin=-.0143]     \n"
     ]
    },
    {
     "name": "stdout",
     "output_type": "stream",
     "text": [
      "[29.]\n"
     ]
    },
    {
     "name": "stderr",
     "output_type": "stream",
     "text": [
      "Epoch [113/300]: 100%|██████████| 1954/1954 [00:14<00:00, 133.62it/s, loss=0.72, positive_reward=-.0257, negative_reward=0.0108, margin=-.0365]       \n"
     ]
    },
    {
     "name": "stdout",
     "output_type": "stream",
     "text": [
      "[37.]\n"
     ]
    },
    {
     "name": "stderr",
     "output_type": "stream",
     "text": [
      "Epoch [114/300]: 100%|██████████| 1954/1954 [00:14<00:00, 132.78it/s, loss=0.715, positive_reward=-.00756, negative_reward=0.0255, margin=-.0331]     \n"
     ]
    },
    {
     "name": "stdout",
     "output_type": "stream",
     "text": [
      "[13.]\n"
     ]
    },
    {
     "name": "stderr",
     "output_type": "stream",
     "text": [
      "Epoch [115/300]: 100%|██████████| 1954/1954 [00:14<00:00, 133.83it/s, loss=0.693, positive_reward=0.00507, negative_reward=0.00493, margin=0.000136]  \n"
     ]
    },
    {
     "name": "stdout",
     "output_type": "stream",
     "text": [
      "[43.]\n"
     ]
    },
    {
     "name": "stderr",
     "output_type": "stream",
     "text": [
      "Epoch [116/300]: 100%|██████████| 1954/1954 [00:14<00:00, 133.86it/s, loss=0.7, positive_reward=-.000517, negative_reward=0.00635, margin=-.00686]    \n"
     ]
    },
    {
     "name": "stdout",
     "output_type": "stream",
     "text": [
      "[16.]\n"
     ]
    },
    {
     "name": "stderr",
     "output_type": "stream",
     "text": [
      "Epoch [117/300]: 100%|██████████| 1954/1954 [00:14<00:00, 133.70it/s, loss=0.715, positive_reward=-.0222, negative_reward=0.0152, margin=-.0374]      \n"
     ]
    },
    {
     "name": "stdout",
     "output_type": "stream",
     "text": [
      "[21.]\n"
     ]
    },
    {
     "name": "stderr",
     "output_type": "stream",
     "text": [
      "Epoch [118/300]: 100%|██████████| 1954/1954 [00:14<00:00, 132.15it/s, loss=0.69, positive_reward=0.00659, negative_reward=-.00244, margin=0.00903]    \n"
     ]
    },
    {
     "name": "stdout",
     "output_type": "stream",
     "text": [
      "[33.]\n"
     ]
    },
    {
     "name": "stderr",
     "output_type": "stream",
     "text": [
      "Epoch [119/300]: 100%|██████████| 1954/1954 [00:14<00:00, 134.32it/s, loss=0.717, positive_reward=-.0168, negative_reward=0.017, margin=-.0338]       \n"
     ]
    },
    {
     "name": "stdout",
     "output_type": "stream",
     "text": [
      "[15.]\n"
     ]
    },
    {
     "name": "stderr",
     "output_type": "stream",
     "text": [
      "Epoch [120/300]: 100%|██████████| 1954/1954 [00:14<00:00, 134.31it/s, loss=0.688, positive_reward=-.000565, negative_reward=-.0131, margin=0.0125]    \n"
     ]
    },
    {
     "name": "stdout",
     "output_type": "stream",
     "text": [
      "[16.]\n"
     ]
    },
    {
     "name": "stderr",
     "output_type": "stream",
     "text": [
      "Epoch [121/300]: 100%|██████████| 1954/1954 [00:14<00:00, 133.63it/s, loss=0.697, positive_reward=0.0085, negative_reward=0.0151, margin=-.00658]     \n"
     ]
    },
    {
     "name": "stdout",
     "output_type": "stream",
     "text": [
      "[30.]\n"
     ]
    },
    {
     "name": "stderr",
     "output_type": "stream",
     "text": [
      "Epoch [122/300]: 100%|██████████| 1954/1954 [00:14<00:00, 133.79it/s, loss=0.681, positive_reward=0.0274, negative_reward=-.00176, margin=0.0292]     \n"
     ]
    },
    {
     "name": "stdout",
     "output_type": "stream",
     "text": [
      "[48.]\n"
     ]
    },
    {
     "name": "stderr",
     "output_type": "stream",
     "text": [
      "Epoch [123/300]: 100%|██████████| 1954/1954 [00:14<00:00, 134.39it/s, loss=0.689, positive_reward=0.016, negative_reward=0.00555, margin=0.0104]      \n"
     ]
    },
    {
     "name": "stdout",
     "output_type": "stream",
     "text": [
      "[18.]\n"
     ]
    },
    {
     "name": "stderr",
     "output_type": "stream",
     "text": [
      "Epoch [124/300]: 100%|██████████| 1954/1954 [00:14<00:00, 133.59it/s, loss=0.689, positive_reward=0.0109, negative_reward=-.00312, margin=0.014]      \n"
     ]
    },
    {
     "name": "stdout",
     "output_type": "stream",
     "text": [
      "[14.]\n"
     ]
    },
    {
     "name": "stderr",
     "output_type": "stream",
     "text": [
      "Epoch [125/300]: 100%|██████████| 1954/1954 [00:14<00:00, 133.28it/s, loss=0.697, positive_reward=-.00818, negative_reward=-.000708, margin=-.00747]  \n"
     ]
    },
    {
     "name": "stdout",
     "output_type": "stream",
     "text": [
      "[14.]\n"
     ]
    },
    {
     "name": "stderr",
     "output_type": "stream",
     "text": [
      "Epoch [126/300]: 100%|██████████| 1954/1954 [00:14<00:00, 131.99it/s, loss=0.699, positive_reward=-.0129, negative_reward=-.00334, margin=-.00951]    \n"
     ]
    },
    {
     "name": "stdout",
     "output_type": "stream",
     "text": [
      "[18.]\n"
     ]
    },
    {
     "name": "stderr",
     "output_type": "stream",
     "text": [
      "Epoch [127/300]: 100%|██████████| 1954/1954 [00:14<00:00, 133.84it/s, loss=0.696, positive_reward=-.0043, negative_reward=0.00127, margin=-.00557]    \n"
     ]
    },
    {
     "name": "stdout",
     "output_type": "stream",
     "text": [
      "[14.]\n"
     ]
    },
    {
     "name": "stderr",
     "output_type": "stream",
     "text": [
      "Epoch [128/300]: 100%|██████████| 1954/1954 [00:14<00:00, 134.17it/s, loss=0.704, positive_reward=-.00714, negative_reward=0.0117, margin=-.0189]     \n"
     ]
    },
    {
     "name": "stdout",
     "output_type": "stream",
     "text": [
      "[10.]\n"
     ]
    },
    {
     "name": "stderr",
     "output_type": "stream",
     "text": [
      "Epoch [129/300]: 100%|██████████| 1954/1954 [00:14<00:00, 133.53it/s, loss=0.695, positive_reward=-.00134, negative_reward=0.00218, margin=-.00352]   \n"
     ]
    },
    {
     "name": "stdout",
     "output_type": "stream",
     "text": [
      "[25.]\n"
     ]
    },
    {
     "name": "stderr",
     "output_type": "stream",
     "text": [
      "Epoch [130/300]: 100%|██████████| 1954/1954 [00:14<00:00, 134.06it/s, loss=0.693, positive_reward=0.00337, negative_reward=0.00337, margin=0]         \n"
     ]
    },
    {
     "name": "stdout",
     "output_type": "stream",
     "text": [
      "[9.]\n"
     ]
    },
    {
     "name": "stderr",
     "output_type": "stream",
     "text": [
      "Epoch [131/300]: 100%|██████████| 1954/1954 [00:14<00:00, 134.21it/s, loss=0.693, positive_reward=-8.06e-5, negative_reward=-.00054, margin=0.000459] \n"
     ]
    },
    {
     "name": "stdout",
     "output_type": "stream",
     "text": [
      "[16.]\n"
     ]
    },
    {
     "name": "stderr",
     "output_type": "stream",
     "text": [
      "Epoch [132/300]: 100%|██████████| 1954/1954 [00:14<00:00, 133.65it/s, loss=0.707, positive_reward=0.000284, negative_reward=0.0243, margin=-.024]     \n"
     ]
    },
    {
     "name": "stdout",
     "output_type": "stream",
     "text": [
      "[20.]\n"
     ]
    },
    {
     "name": "stderr",
     "output_type": "stream",
     "text": [
      "Epoch [133/300]: 100%|██████████| 1954/1954 [00:14<00:00, 132.97it/s, loss=0.71, positive_reward=-.0105, negative_reward=0.0147, margin=-.0251]       \n"
     ]
    },
    {
     "name": "stdout",
     "output_type": "stream",
     "text": [
      "[31.]\n"
     ]
    },
    {
     "name": "stderr",
     "output_type": "stream",
     "text": [
      "Epoch [134/300]: 100%|██████████| 1954/1954 [00:14<00:00, 133.60it/s, loss=0.696, positive_reward=-.00148, negative_reward=0.00335, margin=-.00483]   \n"
     ]
    },
    {
     "name": "stdout",
     "output_type": "stream",
     "text": [
      "[17.]\n"
     ]
    },
    {
     "name": "stderr",
     "output_type": "stream",
     "text": [
      "Epoch [135/300]: 100%|██████████| 1954/1954 [00:14<00:00, 133.38it/s, loss=0.712, positive_reward=0.0218, negative_reward=0.0508, margin=-.0291]      \n"
     ]
    },
    {
     "name": "stdout",
     "output_type": "stream",
     "text": [
      "[25.]\n"
     ]
    },
    {
     "name": "stderr",
     "output_type": "stream",
     "text": [
      "Epoch [136/300]: 100%|██████████| 1954/1954 [00:14<00:00, 133.26it/s, loss=0.694, positive_reward=0.00621, negative_reward=0.0073, margin=-.00109]    \n"
     ]
    },
    {
     "name": "stdout",
     "output_type": "stream",
     "text": [
      "[23.]\n"
     ]
    },
    {
     "name": "stderr",
     "output_type": "stream",
     "text": [
      "Epoch [137/300]: 100%|██████████| 1954/1954 [00:14<00:00, 133.59it/s, loss=0.704, positive_reward=-.00907, negative_reward=0.00977, margin=-.0188]    \n"
     ]
    },
    {
     "name": "stdout",
     "output_type": "stream",
     "text": [
      "[28.]\n"
     ]
    },
    {
     "name": "stderr",
     "output_type": "stream",
     "text": [
      "Epoch [138/300]: 100%|██████████| 1954/1954 [00:14<00:00, 131.80it/s, loss=0.693, positive_reward=0.00681, negative_reward=0.00681, margin=0]         \n"
     ]
    },
    {
     "name": "stdout",
     "output_type": "stream",
     "text": [
      "[52.]\n"
     ]
    },
    {
     "name": "stderr",
     "output_type": "stream",
     "text": [
      "Epoch [139/300]: 100%|██████████| 1954/1954 [00:14<00:00, 133.44it/s, loss=0.693, positive_reward=-.00344, negative_reward=-.00344, margin=0]         \n"
     ]
    },
    {
     "name": "stdout",
     "output_type": "stream",
     "text": [
      "[16.]\n"
     ]
    },
    {
     "name": "stderr",
     "output_type": "stream",
     "text": [
      "Epoch [140/300]: 100%|██████████| 1954/1954 [00:14<00:00, 133.48it/s, loss=0.714, positive_reward=-.00649, negative_reward=0.0259, margin=-.0324]     \n"
     ]
    },
    {
     "name": "stdout",
     "output_type": "stream",
     "text": [
      "[23.]\n"
     ]
    },
    {
     "name": "stderr",
     "output_type": "stream",
     "text": [
      "Epoch [141/300]: 100%|██████████| 1954/1954 [00:14<00:00, 133.98it/s, loss=0.712, positive_reward=-.00542, negative_reward=0.0272, margin=-.0326]     \n"
     ]
    },
    {
     "name": "stdout",
     "output_type": "stream",
     "text": [
      "[27.]\n"
     ]
    },
    {
     "name": "stderr",
     "output_type": "stream",
     "text": [
      "Epoch [142/300]: 100%|██████████| 1954/1954 [00:14<00:00, 132.07it/s, loss=0.704, positive_reward=-.00394, negative_reward=0.00743, margin=-.0114]    \n"
     ]
    },
    {
     "name": "stdout",
     "output_type": "stream",
     "text": [
      "[23.]\n"
     ]
    },
    {
     "name": "stderr",
     "output_type": "stream",
     "text": [
      "Epoch [143/300]: 100%|██████████| 1954/1954 [00:14<00:00, 132.92it/s, loss=0.713, positive_reward=-.0163, negative_reward=0.0188, margin=-.0351]      \n"
     ]
    },
    {
     "name": "stdout",
     "output_type": "stream",
     "text": [
      "[27.]\n"
     ]
    },
    {
     "name": "stderr",
     "output_type": "stream",
     "text": [
      "Epoch [144/300]: 100%|██████████| 1954/1954 [00:14<00:00, 132.74it/s, loss=0.692, positive_reward=-.000933, negative_reward=-.00261, margin=0.00167]  \n"
     ]
    },
    {
     "name": "stdout",
     "output_type": "stream",
     "text": [
      "[31.]\n"
     ]
    },
    {
     "name": "stderr",
     "output_type": "stream",
     "text": [
      "Epoch [145/300]: 100%|██████████| 1954/1954 [00:14<00:00, 133.40it/s, loss=0.702, positive_reward=-.0229, negative_reward=-.0102, margin=-.0127]      \n"
     ]
    },
    {
     "name": "stdout",
     "output_type": "stream",
     "text": [
      "[20.]\n"
     ]
    },
    {
     "name": "stderr",
     "output_type": "stream",
     "text": [
      "Epoch [146/300]: 100%|██████████| 1954/1954 [00:14<00:00, 134.31it/s, loss=0.693, positive_reward=0.00145, negative_reward=-.000446, margin=0.00189]  \n"
     ]
    },
    {
     "name": "stdout",
     "output_type": "stream",
     "text": [
      "[31.]\n"
     ]
    },
    {
     "name": "stderr",
     "output_type": "stream",
     "text": [
      "Epoch [147/300]: 100%|██████████| 1954/1954 [00:14<00:00, 133.87it/s, loss=0.695, positive_reward=0.00388, negative_reward=0.00463, margin=-.00075]   \n"
     ]
    },
    {
     "name": "stdout",
     "output_type": "stream",
     "text": [
      "[31.]\n"
     ]
    },
    {
     "name": "stderr",
     "output_type": "stream",
     "text": [
      "Epoch [148/300]: 100%|██████████| 1954/1954 [00:14<00:00, 133.59it/s, loss=0.704, positive_reward=9.54e-5, negative_reward=0.0161, margin=-.016]      \n"
     ]
    },
    {
     "name": "stdout",
     "output_type": "stream",
     "text": [
      "[16.]\n"
     ]
    },
    {
     "name": "stderr",
     "output_type": "stream",
     "text": [
      "Epoch [149/300]: 100%|██████████| 1954/1954 [00:14<00:00, 133.14it/s, loss=0.692, positive_reward=0.0038, negative_reward=5.03e-6, margin=0.00379]    \n"
     ]
    },
    {
     "name": "stdout",
     "output_type": "stream",
     "text": [
      "[15.]\n"
     ]
    },
    {
     "name": "stderr",
     "output_type": "stream",
     "text": [
      "Epoch [150/300]: 100%|██████████| 1954/1954 [00:14<00:00, 132.31it/s, loss=0.699, positive_reward=-.00852, negative_reward=0.000441, margin=-.00896]  \n"
     ]
    },
    {
     "name": "stdout",
     "output_type": "stream",
     "text": [
      "[24.]\n"
     ]
    },
    {
     "name": "stderr",
     "output_type": "stream",
     "text": [
      "Epoch [151/300]: 100%|██████████| 1954/1954 [00:14<00:00, 133.20it/s, loss=0.696, positive_reward=0.00177, negative_reward=0.00554, margin=-.00376]   \n"
     ]
    },
    {
     "name": "stdout",
     "output_type": "stream",
     "text": [
      "[29.]\n"
     ]
    },
    {
     "name": "stderr",
     "output_type": "stream",
     "text": [
      "Epoch [152/300]: 100%|██████████| 1954/1954 [00:14<00:00, 134.11it/s, loss=0.712, positive_reward=-.0301, negative_reward=0.000429, margin=-.0305]    \n"
     ]
    },
    {
     "name": "stdout",
     "output_type": "stream",
     "text": [
      "[31.]\n"
     ]
    },
    {
     "name": "stderr",
     "output_type": "stream",
     "text": [
      "Epoch [153/300]: 100%|██████████| 1954/1954 [00:14<00:00, 133.78it/s, loss=0.704, positive_reward=-.0067, negative_reward=0.0105, margin=-.0172]      \n"
     ]
    },
    {
     "name": "stdout",
     "output_type": "stream",
     "text": [
      "[10.]\n"
     ]
    },
    {
     "name": "stderr",
     "output_type": "stream",
     "text": [
      "Epoch [154/300]: 100%|██████████| 1954/1954 [00:14<00:00, 133.02it/s, loss=0.709, positive_reward=-.00336, negative_reward=-.00369, margin=0.000334]  \n"
     ]
    },
    {
     "name": "stdout",
     "output_type": "stream",
     "text": [
      "[16.]\n"
     ]
    },
    {
     "name": "stderr",
     "output_type": "stream",
     "text": [
      "Epoch [155/300]: 100%|██████████| 1954/1954 [00:14<00:00, 133.69it/s, loss=0.689, positive_reward=0.0014, negative_reward=-.00937, margin=0.0108]     \n"
     ]
    },
    {
     "name": "stdout",
     "output_type": "stream",
     "text": [
      "[29.]\n"
     ]
    },
    {
     "name": "stderr",
     "output_type": "stream",
     "text": [
      "Epoch [156/300]: 100%|██████████| 1954/1954 [00:14<00:00, 132.76it/s, loss=0.695, positive_reward=0.0073, negative_reward=0.00272, margin=0.00458]    \n"
     ]
    },
    {
     "name": "stdout",
     "output_type": "stream",
     "text": [
      "[16.]\n"
     ]
    },
    {
     "name": "stderr",
     "output_type": "stream",
     "text": [
      "Epoch [157/300]: 100%|██████████| 1954/1954 [00:14<00:00, 132.96it/s, loss=0.696, positive_reward=-.0032, negative_reward=0.00241, margin=-.00561]    \n"
     ]
    },
    {
     "name": "stdout",
     "output_type": "stream",
     "text": [
      "[20.]\n"
     ]
    },
    {
     "name": "stderr",
     "output_type": "stream",
     "text": [
      "Epoch [158/300]: 100%|██████████| 1954/1954 [00:14<00:00, 133.63it/s, loss=0.69, positive_reward=0.00203, negative_reward=-.00569, margin=0.00772]    \n"
     ]
    },
    {
     "name": "stdout",
     "output_type": "stream",
     "text": [
      "[18.]\n"
     ]
    },
    {
     "name": "stderr",
     "output_type": "stream",
     "text": [
      "Epoch [159/300]: 100%|██████████| 1954/1954 [00:14<00:00, 133.47it/s, loss=0.693, positive_reward=0.000162, negative_reward=0.000162, margin=0]       \n"
     ]
    },
    {
     "name": "stdout",
     "output_type": "stream",
     "text": [
      "[27.]\n"
     ]
    },
    {
     "name": "stderr",
     "output_type": "stream",
     "text": [
      "Epoch [160/300]: 100%|██████████| 1954/1954 [00:14<00:00, 133.75it/s, loss=0.695, positive_reward=-.0157, negative_reward=-.0117, margin=-.00398]     \n"
     ]
    },
    {
     "name": "stdout",
     "output_type": "stream",
     "text": [
      "[29.]\n"
     ]
    },
    {
     "name": "stderr",
     "output_type": "stream",
     "text": [
      "Epoch [161/300]: 100%|██████████| 1954/1954 [00:14<00:00, 133.33it/s, loss=0.699, positive_reward=-.0082, negative_reward=-.00253, margin=-.00567]    \n"
     ]
    },
    {
     "name": "stdout",
     "output_type": "stream",
     "text": [
      "[17.]\n"
     ]
    },
    {
     "name": "stderr",
     "output_type": "stream",
     "text": [
      "Epoch [162/300]: 100%|██████████| 1954/1954 [00:14<00:00, 132.28it/s, loss=0.689, positive_reward=-.00481, negative_reward=-.0135, margin=0.0087]     \n"
     ]
    },
    {
     "name": "stdout",
     "output_type": "stream",
     "text": [
      "[13.]\n"
     ]
    },
    {
     "name": "stderr",
     "output_type": "stream",
     "text": [
      "Epoch [163/300]: 100%|██████████| 1954/1954 [00:14<00:00, 133.52it/s, loss=0.699, positive_reward=0.00473, negative_reward=0.0127, margin=-.008]      \n"
     ]
    },
    {
     "name": "stdout",
     "output_type": "stream",
     "text": [
      "[33.]\n"
     ]
    },
    {
     "name": "stderr",
     "output_type": "stream",
     "text": [
      "Epoch [164/300]: 100%|██████████| 1954/1954 [00:14<00:00, 133.63it/s, loss=0.69, positive_reward=0.00429, negative_reward=-.00234, margin=0.00663]    \n"
     ]
    },
    {
     "name": "stdout",
     "output_type": "stream",
     "text": [
      "[10.]\n"
     ]
    },
    {
     "name": "stderr",
     "output_type": "stream",
     "text": [
      "Epoch [165/300]: 100%|██████████| 1954/1954 [00:14<00:00, 133.32it/s, loss=0.693, positive_reward=0.00512, negative_reward=0.00512, margin=0]         \n"
     ]
    },
    {
     "name": "stdout",
     "output_type": "stream",
     "text": [
      "[23.]\n"
     ]
    },
    {
     "name": "stderr",
     "output_type": "stream",
     "text": [
      "Epoch [166/300]: 100%|██████████| 1954/1954 [00:14<00:00, 133.64it/s, loss=0.684, positive_reward=0.0154, negative_reward=-.00659, margin=0.022]      \n"
     ]
    },
    {
     "name": "stdout",
     "output_type": "stream",
     "text": [
      "[26.]\n"
     ]
    },
    {
     "name": "stderr",
     "output_type": "stream",
     "text": [
      "Epoch [167/300]: 100%|██████████| 1954/1954 [00:14<00:00, 132.66it/s, loss=0.733, positive_reward=0.000563, negative_reward=0.049, margin=-.0484]     \n"
     ]
    },
    {
     "name": "stdout",
     "output_type": "stream",
     "text": [
      "[19.]\n"
     ]
    },
    {
     "name": "stderr",
     "output_type": "stream",
     "text": [
      "Epoch [168/300]: 100%|██████████| 1954/1954 [00:14<00:00, 133.28it/s, loss=0.696, positive_reward=-.000762, negative_reward=0.00388, margin=-.00464]  \n"
     ]
    },
    {
     "name": "stdout",
     "output_type": "stream",
     "text": [
      "[25.]\n"
     ]
    },
    {
     "name": "stderr",
     "output_type": "stream",
     "text": [
      "Epoch [169/300]: 100%|██████████| 1954/1954 [00:14<00:00, 133.05it/s, loss=0.705, positive_reward=-.00634, negative_reward=0.0103, margin=-.0167]     \n"
     ]
    },
    {
     "name": "stdout",
     "output_type": "stream",
     "text": [
      "[26.]\n"
     ]
    },
    {
     "name": "stderr",
     "output_type": "stream",
     "text": [
      "Epoch [170/300]: 100%|██████████| 1954/1954 [00:14<00:00, 133.60it/s, loss=0.696, positive_reward=-.00301, negative_reward=-.000253, margin=-.00276]  \n"
     ]
    },
    {
     "name": "stdout",
     "output_type": "stream",
     "text": [
      "[13.]\n"
     ]
    },
    {
     "name": "stderr",
     "output_type": "stream",
     "text": [
      "Epoch [171/300]: 100%|██████████| 1954/1954 [00:14<00:00, 133.45it/s, loss=0.689, positive_reward=0.00783, negative_reward=-.00395, margin=0.0118]    \n"
     ]
    },
    {
     "name": "stdout",
     "output_type": "stream",
     "text": [
      "[13.]\n"
     ]
    },
    {
     "name": "stderr",
     "output_type": "stream",
     "text": [
      "Epoch [172/300]: 100%|██████████| 1954/1954 [00:14<00:00, 133.14it/s, loss=0.692, positive_reward=0.0195, negative_reward=0.0155, margin=0.00394]     \n"
     ]
    },
    {
     "name": "stdout",
     "output_type": "stream",
     "text": [
      "[28.]\n"
     ]
    },
    {
     "name": "stderr",
     "output_type": "stream",
     "text": [
      "Epoch [173/300]: 100%|██████████| 1954/1954 [00:14<00:00, 133.84it/s, loss=0.693, positive_reward=0.00825, negative_reward=0.00816, margin=9.47e-5]   \n"
     ]
    },
    {
     "name": "stdout",
     "output_type": "stream",
     "text": [
      "[12.]\n"
     ]
    },
    {
     "name": "stderr",
     "output_type": "stream",
     "text": [
      "Epoch [174/300]: 100%|██████████| 1954/1954 [00:14<00:00, 131.97it/s, loss=0.684, positive_reward=0.0249, negative_reward=0.00164, margin=0.0233]     \n"
     ]
    },
    {
     "name": "stdout",
     "output_type": "stream",
     "text": [
      "[13.]\n"
     ]
    },
    {
     "name": "stderr",
     "output_type": "stream",
     "text": [
      "Epoch [175/300]: 100%|██████████| 1954/1954 [00:14<00:00, 132.59it/s, loss=0.682, positive_reward=0.0337, negative_reward=0.00451, margin=0.0292]     \n"
     ]
    },
    {
     "name": "stdout",
     "output_type": "stream",
     "text": [
      "[11.]\n"
     ]
    },
    {
     "name": "stderr",
     "output_type": "stream",
     "text": [
      "Epoch [176/300]: 100%|██████████| 1954/1954 [00:14<00:00, 133.90it/s, loss=0.701, positive_reward=-.0119, negative_reward=0.00179, margin=-.0137]     \n"
     ]
    },
    {
     "name": "stdout",
     "output_type": "stream",
     "text": [
      "[12.]\n"
     ]
    },
    {
     "name": "stderr",
     "output_type": "stream",
     "text": [
      "Epoch [177/300]: 100%|██████████| 1954/1954 [00:14<00:00, 133.25it/s, loss=0.699, positive_reward=-.0144, negative_reward=-.00364, margin=-.0107]     \n"
     ]
    },
    {
     "name": "stdout",
     "output_type": "stream",
     "text": [
      "[11.]\n"
     ]
    },
    {
     "name": "stderr",
     "output_type": "stream",
     "text": [
      "Epoch [178/300]: 100%|██████████| 1954/1954 [00:14<00:00, 133.29it/s, loss=0.707, positive_reward=-.019, negative_reward=0.00275, margin=-.0217]      \n"
     ]
    },
    {
     "name": "stdout",
     "output_type": "stream",
     "text": [
      "[30.]\n"
     ]
    },
    {
     "name": "stderr",
     "output_type": "stream",
     "text": [
      "Epoch [179/300]: 100%|██████████| 1954/1954 [00:14<00:00, 132.50it/s, loss=0.703, positive_reward=-.0207, negative_reward=-.00285, margin=-.0179]     \n"
     ]
    },
    {
     "name": "stdout",
     "output_type": "stream",
     "text": [
      "[17.]\n"
     ]
    },
    {
     "name": "stderr",
     "output_type": "stream",
     "text": [
      "Epoch [180/300]: 100%|██████████| 1954/1954 [00:14<00:00, 133.37it/s, loss=0.691, positive_reward=0.00368, negative_reward=-.00146, margin=0.00514]   \n"
     ]
    },
    {
     "name": "stdout",
     "output_type": "stream",
     "text": [
      "[19.]\n"
     ]
    },
    {
     "name": "stderr",
     "output_type": "stream",
     "text": [
      "Epoch [181/300]: 100%|██████████| 1954/1954 [00:14<00:00, 133.67it/s, loss=0.692, positive_reward=-.0142, negative_reward=-.0173, margin=0.00315]     \n"
     ]
    },
    {
     "name": "stdout",
     "output_type": "stream",
     "text": [
      "[20.]\n"
     ]
    },
    {
     "name": "stderr",
     "output_type": "stream",
     "text": [
      "Epoch [182/300]: 100%|██████████| 1954/1954 [00:14<00:00, 133.76it/s, loss=0.718, positive_reward=0.0238, negative_reward=0.0573, margin=-.0335]      \n"
     ]
    },
    {
     "name": "stdout",
     "output_type": "stream",
     "text": [
      "[28.]\n"
     ]
    },
    {
     "name": "stderr",
     "output_type": "stream",
     "text": [
      "Epoch [183/300]: 100%|██████████| 1954/1954 [00:14<00:00, 133.87it/s, loss=0.709, positive_reward=-.0036, negative_reward=0.0124, margin=-.016]       \n"
     ]
    },
    {
     "name": "stdout",
     "output_type": "stream",
     "text": [
      "[46.]\n"
     ]
    },
    {
     "name": "stderr",
     "output_type": "stream",
     "text": [
      "Epoch [184/300]: 100%|██████████| 1954/1954 [00:14<00:00, 133.37it/s, loss=0.702, positive_reward=-.00382, negative_reward=0.0104, margin=-.0142]     \n"
     ]
    },
    {
     "name": "stdout",
     "output_type": "stream",
     "text": [
      "[13.]\n"
     ]
    },
    {
     "name": "stderr",
     "output_type": "stream",
     "text": [
      "Epoch [185/300]: 100%|██████████| 1954/1954 [00:14<00:00, 134.15it/s, loss=0.68, positive_reward=0.00343, negative_reward=-.0293, margin=0.0327]      \n"
     ]
    },
    {
     "name": "stdout",
     "output_type": "stream",
     "text": [
      "[34.]\n"
     ]
    },
    {
     "name": "stderr",
     "output_type": "stream",
     "text": [
      "Epoch [186/300]: 100%|██████████| 1954/1954 [00:14<00:00, 132.28it/s, loss=0.697, positive_reward=-.00292, negative_reward=0.00467, margin=-.00759]   \n"
     ]
    },
    {
     "name": "stdout",
     "output_type": "stream",
     "text": [
      "[23.]\n"
     ]
    },
    {
     "name": "stderr",
     "output_type": "stream",
     "text": [
      "Epoch [187/300]: 100%|██████████| 1954/1954 [00:14<00:00, 135.05it/s, loss=0.702, positive_reward=0.0134, negative_reward=0.0298, margin=-.0164]      \n"
     ]
    },
    {
     "name": "stdout",
     "output_type": "stream",
     "text": [
      "[42.]\n"
     ]
    },
    {
     "name": "stderr",
     "output_type": "stream",
     "text": [
      "Epoch [188/300]: 100%|██████████| 1954/1954 [00:14<00:00, 133.25it/s, loss=0.697, positive_reward=0.00113, negative_reward=0.00833, margin=-.0072]    \n"
     ]
    },
    {
     "name": "stdout",
     "output_type": "stream",
     "text": [
      "[18.]\n"
     ]
    },
    {
     "name": "stderr",
     "output_type": "stream",
     "text": [
      "Epoch [189/300]: 100%|██████████| 1954/1954 [00:14<00:00, 132.94it/s, loss=0.705, positive_reward=-.0244, negative_reward=-.00978, margin=-.0146]     \n"
     ]
    },
    {
     "name": "stdout",
     "output_type": "stream",
     "text": [
      "[15.]\n"
     ]
    },
    {
     "name": "stderr",
     "output_type": "stream",
     "text": [
      "Epoch [190/300]: 100%|██████████| 1954/1954 [00:14<00:00, 133.55it/s, loss=0.691, positive_reward=0.00144, negative_reward=-.00426, margin=0.0057]    \n"
     ]
    },
    {
     "name": "stdout",
     "output_type": "stream",
     "text": [
      "[10.]\n"
     ]
    },
    {
     "name": "stderr",
     "output_type": "stream",
     "text": [
      "Epoch [191/300]: 100%|██████████| 1954/1954 [00:14<00:00, 133.01it/s, loss=0.692, positive_reward=0.0184, negative_reward=0.0165, margin=0.00196]     \n"
     ]
    },
    {
     "name": "stdout",
     "output_type": "stream",
     "text": [
      "[14.]\n"
     ]
    },
    {
     "name": "stderr",
     "output_type": "stream",
     "text": [
      "Epoch [192/300]: 100%|██████████| 1954/1954 [00:14<00:00, 133.18it/s, loss=0.692, positive_reward=0.00362, negative_reward=0.000786, margin=0.00283]  \n"
     ]
    },
    {
     "name": "stdout",
     "output_type": "stream",
     "text": [
      "[11.]\n"
     ]
    },
    {
     "name": "stderr",
     "output_type": "stream",
     "text": [
      "Epoch [193/300]: 100%|██████████| 1954/1954 [00:14<00:00, 133.56it/s, loss=0.69, positive_reward=-.00143, negative_reward=-.0088, margin=0.00737]     \n"
     ]
    },
    {
     "name": "stdout",
     "output_type": "stream",
     "text": [
      "[39.]\n"
     ]
    },
    {
     "name": "stderr",
     "output_type": "stream",
     "text": [
      "Epoch [194/300]: 100%|██████████| 1954/1954 [00:14<00:00, 132.78it/s, loss=0.702, positive_reward=0.00295, negative_reward=0.0176, margin=-.0147]     \n"
     ]
    },
    {
     "name": "stdout",
     "output_type": "stream",
     "text": [
      "[16.]\n"
     ]
    },
    {
     "name": "stderr",
     "output_type": "stream",
     "text": [
      "Epoch [195/300]: 100%|██████████| 1954/1954 [00:14<00:00, 132.98it/s, loss=0.701, positive_reward=0.0161, negative_reward=0.0249, margin=-.00873]     \n"
     ]
    },
    {
     "name": "stdout",
     "output_type": "stream",
     "text": [
      "[17.]\n"
     ]
    },
    {
     "name": "stderr",
     "output_type": "stream",
     "text": [
      "Epoch [196/300]: 100%|██████████| 1954/1954 [00:14<00:00, 132.48it/s, loss=0.693, positive_reward=-.00707, negative_reward=-.00707, margin=0]         \n"
     ]
    },
    {
     "name": "stdout",
     "output_type": "stream",
     "text": [
      "[22.]\n"
     ]
    },
    {
     "name": "stderr",
     "output_type": "stream",
     "text": [
      "Epoch [197/300]: 100%|██████████| 1954/1954 [00:14<00:00, 133.56it/s, loss=0.698, positive_reward=0.0029, negative_reward=0.0127, margin=-.00984]     \n"
     ]
    },
    {
     "name": "stdout",
     "output_type": "stream",
     "text": [
      "[28.]\n"
     ]
    },
    {
     "name": "stderr",
     "output_type": "stream",
     "text": [
      "Epoch [198/300]: 100%|██████████| 1954/1954 [00:14<00:00, 131.90it/s, loss=0.693, positive_reward=-.00441, negative_reward=-.00441, margin=0]         \n"
     ]
    },
    {
     "name": "stdout",
     "output_type": "stream",
     "text": [
      "[28.]\n"
     ]
    },
    {
     "name": "stderr",
     "output_type": "stream",
     "text": [
      "Epoch [199/300]: 100%|██████████| 1954/1954 [00:14<00:00, 133.49it/s, loss=0.712, positive_reward=-.00234, negative_reward=0.025, margin=-.0274]      \n"
     ]
    },
    {
     "name": "stdout",
     "output_type": "stream",
     "text": [
      "[17.]\n"
     ]
    },
    {
     "name": "stderr",
     "output_type": "stream",
     "text": [
      "Epoch [200/300]: 100%|██████████| 1954/1954 [00:14<00:00, 133.48it/s, loss=0.697, positive_reward=-.000324, negative_reward=0.00566, margin=-.00599]  \n"
     ]
    },
    {
     "name": "stdout",
     "output_type": "stream",
     "text": [
      "[10.]\n"
     ]
    },
    {
     "name": "stderr",
     "output_type": "stream",
     "text": [
      "Epoch [201/300]: 100%|██████████| 1954/1954 [00:14<00:00, 133.65it/s, loss=0.694, positive_reward=-.00356, negative_reward=-.00369, margin=0.000135]  \n"
     ]
    },
    {
     "name": "stdout",
     "output_type": "stream",
     "text": [
      "[21.]\n"
     ]
    },
    {
     "name": "stderr",
     "output_type": "stream",
     "text": [
      "Epoch [202/300]: 100%|██████████| 1954/1954 [00:14<00:00, 131.57it/s, loss=0.693, positive_reward=-.00136, negative_reward=-.00136, margin=0]         \n"
     ]
    },
    {
     "name": "stdout",
     "output_type": "stream",
     "text": [
      "[16.]\n"
     ]
    },
    {
     "name": "stderr",
     "output_type": "stream",
     "text": [
      "Epoch [203/300]: 100%|██████████| 1954/1954 [00:15<00:00, 129.02it/s, loss=0.691, positive_reward=0.00291, negative_reward=-.000837, margin=0.00375]  \n"
     ]
    },
    {
     "name": "stdout",
     "output_type": "stream",
     "text": [
      "[14.]\n"
     ]
    },
    {
     "name": "stderr",
     "output_type": "stream",
     "text": [
      "Epoch [204/300]: 100%|██████████| 1954/1954 [00:14<00:00, 133.27it/s, loss=0.705, positive_reward=-.0109, negative_reward=0.0106, margin=-.0215]      \n"
     ]
    },
    {
     "name": "stdout",
     "output_type": "stream",
     "text": [
      "[17.]\n"
     ]
    },
    {
     "name": "stderr",
     "output_type": "stream",
     "text": [
      "Epoch [205/300]: 100%|██████████| 1954/1954 [00:14<00:00, 133.03it/s, loss=0.686, positive_reward=0.0046, negative_reward=-.0171, margin=0.0217]      \n"
     ]
    },
    {
     "name": "stdout",
     "output_type": "stream",
     "text": [
      "[23.]\n"
     ]
    },
    {
     "name": "stderr",
     "output_type": "stream",
     "text": [
      "Epoch [206/300]: 100%|██████████| 1954/1954 [00:14<00:00, 133.13it/s, loss=0.698, positive_reward=0.000813, negative_reward=0.00884, margin=-.00803]  \n"
     ]
    },
    {
     "name": "stdout",
     "output_type": "stream",
     "text": [
      "[28.]\n"
     ]
    },
    {
     "name": "stderr",
     "output_type": "stream",
     "text": [
      "Epoch [207/300]: 100%|██████████| 1954/1954 [00:14<00:00, 133.30it/s, loss=0.703, positive_reward=-.0113, negative_reward=0.0029, margin=-.0142]      \n"
     ]
    },
    {
     "name": "stdout",
     "output_type": "stream",
     "text": [
      "[11.]\n"
     ]
    },
    {
     "name": "stderr",
     "output_type": "stream",
     "text": [
      "Epoch [208/300]: 100%|██████████| 1954/1954 [00:14<00:00, 133.63it/s, loss=0.695, positive_reward=-.0132, negative_reward=-.0103, margin=-.00289]     \n"
     ]
    },
    {
     "name": "stdout",
     "output_type": "stream",
     "text": [
      "[30.]\n"
     ]
    },
    {
     "name": "stderr",
     "output_type": "stream",
     "text": [
      "Epoch [209/300]: 100%|██████████| 1954/1954 [00:14<00:00, 132.91it/s, loss=0.689, positive_reward=0.011, negative_reward=0.00125, margin=0.00979]     \n"
     ]
    },
    {
     "name": "stdout",
     "output_type": "stream",
     "text": [
      "[12.]\n"
     ]
    },
    {
     "name": "stderr",
     "output_type": "stream",
     "text": [
      "Epoch [210/300]: 100%|██████████| 1954/1954 [00:14<00:00, 131.50it/s, loss=0.7, positive_reward=-.00372, negative_reward=0.00873, margin=-.0124]      \n"
     ]
    },
    {
     "name": "stdout",
     "output_type": "stream",
     "text": [
      "[15.]\n"
     ]
    },
    {
     "name": "stderr",
     "output_type": "stream",
     "text": [
      "Epoch [211/300]: 100%|██████████| 1954/1954 [00:14<00:00, 133.42it/s, loss=0.706, positive_reward=-.00678, negative_reward=0.0139, margin=-.0207]     \n"
     ]
    },
    {
     "name": "stdout",
     "output_type": "stream",
     "text": [
      "[14.]\n"
     ]
    },
    {
     "name": "stderr",
     "output_type": "stream",
     "text": [
      "Epoch [212/300]: 100%|██████████| 1954/1954 [00:14<00:00, 133.80it/s, loss=0.69, positive_reward=0.0117, negative_reward=0.00349, margin=0.00826]     \n"
     ]
    },
    {
     "name": "stdout",
     "output_type": "stream",
     "text": [
      "[11.]\n"
     ]
    },
    {
     "name": "stderr",
     "output_type": "stream",
     "text": [
      "Epoch [213/300]: 100%|██████████| 1954/1954 [00:14<00:00, 132.48it/s, loss=0.69, positive_reward=0.00791, negative_reward=0.00119, margin=0.00672]    \n"
     ]
    },
    {
     "name": "stdout",
     "output_type": "stream",
     "text": [
      "[33.]\n"
     ]
    },
    {
     "name": "stderr",
     "output_type": "stream",
     "text": [
      "Epoch [214/300]: 100%|██████████| 1954/1954 [00:14<00:00, 133.45it/s, loss=0.714, positive_reward=-.0145, negative_reward=0.0177, margin=-.0322]      \n"
     ]
    },
    {
     "name": "stdout",
     "output_type": "stream",
     "text": [
      "[16.]\n"
     ]
    },
    {
     "name": "stderr",
     "output_type": "stream",
     "text": [
      "Epoch [215/300]: 100%|██████████| 1954/1954 [00:14<00:00, 133.51it/s, loss=0.696, positive_reward=0.000104, negative_reward=0.000829, margin=-.000725]\n"
     ]
    },
    {
     "name": "stdout",
     "output_type": "stream",
     "text": [
      "[73.]\n"
     ]
    },
    {
     "name": "stderr",
     "output_type": "stream",
     "text": [
      "Epoch [216/300]: 100%|██████████| 1954/1954 [00:14<00:00, 133.90it/s, loss=0.687, positive_reward=0.0017, negative_reward=-.0193, margin=0.021]       \n"
     ]
    },
    {
     "name": "stdout",
     "output_type": "stream",
     "text": [
      "[17.]\n"
     ]
    },
    {
     "name": "stderr",
     "output_type": "stream",
     "text": [
      "Epoch [217/300]: 100%|██████████| 1954/1954 [00:14<00:00, 133.33it/s, loss=0.697, positive_reward=-.00245, negative_reward=0.00419, margin=-.00664]   \n"
     ]
    },
    {
     "name": "stdout",
     "output_type": "stream",
     "text": [
      "[21.]\n"
     ]
    },
    {
     "name": "stderr",
     "output_type": "stream",
     "text": [
      "Epoch [218/300]: 100%|██████████| 1954/1954 [00:14<00:00, 133.37it/s, loss=0.693, positive_reward=-.000866, negative_reward=-.000941, margin=7.48e-5] \n"
     ]
    },
    {
     "name": "stdout",
     "output_type": "stream",
     "text": [
      "[32.]\n"
     ]
    },
    {
     "name": "stderr",
     "output_type": "stream",
     "text": [
      "Epoch [219/300]: 100%|██████████| 1954/1954 [00:14<00:00, 133.24it/s, loss=0.706, positive_reward=-.0102, negative_reward=0.0124, margin=-.0226]      \n"
     ]
    },
    {
     "name": "stdout",
     "output_type": "stream",
     "text": [
      "[17.]\n"
     ]
    },
    {
     "name": "stderr",
     "output_type": "stream",
     "text": [
      "Epoch [220/300]: 100%|██████████| 1954/1954 [00:14<00:00, 132.67it/s, loss=0.694, positive_reward=0.0096, negative_reward=0.00532, margin=0.00428]    \n"
     ]
    },
    {
     "name": "stdout",
     "output_type": "stream",
     "text": [
      "[28.]\n"
     ]
    },
    {
     "name": "stderr",
     "output_type": "stream",
     "text": [
      "Epoch [221/300]: 100%|██████████| 1954/1954 [00:14<00:00, 133.21it/s, loss=0.702, positive_reward=-.00372, negative_reward=0.00439, margin=-.00811]   \n"
     ]
    },
    {
     "name": "stdout",
     "output_type": "stream",
     "text": [
      "[33.]\n"
     ]
    },
    {
     "name": "stderr",
     "output_type": "stream",
     "text": [
      "Epoch [222/300]: 100%|██████████| 1954/1954 [00:14<00:00, 131.42it/s, loss=0.702, positive_reward=0.00215, negative_reward=0.0135, margin=-.0114]     \n"
     ]
    },
    {
     "name": "stdout",
     "output_type": "stream",
     "text": [
      "[31.]\n"
     ]
    },
    {
     "name": "stderr",
     "output_type": "stream",
     "text": [
      "Epoch [223/300]: 100%|██████████| 1954/1954 [00:14<00:00, 132.76it/s, loss=0.71, positive_reward=-.00852, negative_reward=0.02, margin=-.0286]        \n"
     ]
    },
    {
     "name": "stdout",
     "output_type": "stream",
     "text": [
      "[18.]\n"
     ]
    },
    {
     "name": "stderr",
     "output_type": "stream",
     "text": [
      "Epoch [224/300]: 100%|██████████| 1954/1954 [00:14<00:00, 133.17it/s, loss=0.692, positive_reward=0.00744, negative_reward=0.00405, margin=0.00338]   \n"
     ]
    },
    {
     "name": "stdout",
     "output_type": "stream",
     "text": [
      "[36.]\n"
     ]
    },
    {
     "name": "stderr",
     "output_type": "stream",
     "text": [
      "Epoch [225/300]: 100%|██████████| 1954/1954 [00:14<00:00, 132.85it/s, loss=0.696, positive_reward=0.00457, negative_reward=0.00995, margin=-.00539]   \n"
     ]
    },
    {
     "name": "stdout",
     "output_type": "stream",
     "text": [
      "[43.]\n"
     ]
    },
    {
     "name": "stderr",
     "output_type": "stream",
     "text": [
      "Epoch [226/300]: 100%|██████████| 1954/1954 [00:14<00:00, 132.76it/s, loss=0.705, positive_reward=-.0032, negative_reward=0.0157, margin=-.0189]      \n"
     ]
    },
    {
     "name": "stdout",
     "output_type": "stream",
     "text": [
      "[17.]\n"
     ]
    },
    {
     "name": "stderr",
     "output_type": "stream",
     "text": [
      "Epoch [227/300]: 100%|██████████| 1954/1954 [00:14<00:00, 133.38it/s, loss=0.693, positive_reward=0.00909, negative_reward=0.00909, margin=0]         \n"
     ]
    },
    {
     "name": "stdout",
     "output_type": "stream",
     "text": [
      "[11.]\n"
     ]
    },
    {
     "name": "stderr",
     "output_type": "stream",
     "text": [
      "Epoch [228/300]: 100%|██████████| 1954/1954 [00:14<00:00, 132.16it/s, loss=0.685, positive_reward=0.0268, negative_reward=-.0019, margin=0.0287]      \n"
     ]
    },
    {
     "name": "stdout",
     "output_type": "stream",
     "text": [
      "[15.]\n"
     ]
    },
    {
     "name": "stderr",
     "output_type": "stream",
     "text": [
      "Epoch [229/300]: 100%|██████████| 1954/1954 [00:14<00:00, 132.99it/s, loss=0.691, positive_reward=5.16e-5, negative_reward=-.00533, margin=0.00538]   \n"
     ]
    },
    {
     "name": "stdout",
     "output_type": "stream",
     "text": [
      "[26.]\n"
     ]
    },
    {
     "name": "stderr",
     "output_type": "stream",
     "text": [
      "Epoch [230/300]: 100%|██████████| 1954/1954 [00:14<00:00, 133.72it/s, loss=0.685, positive_reward=0.0219, negative_reward=-.000408, margin=0.0223]    \n"
     ]
    },
    {
     "name": "stdout",
     "output_type": "stream",
     "text": [
      "[33.]\n"
     ]
    },
    {
     "name": "stderr",
     "output_type": "stream",
     "text": [
      "Epoch [231/300]: 100%|██████████| 1954/1954 [00:14<00:00, 132.93it/s, loss=0.696, positive_reward=-.00279, negative_reward=0.00214, margin=-.00493]   \n"
     ]
    },
    {
     "name": "stdout",
     "output_type": "stream",
     "text": [
      "[14.]\n"
     ]
    },
    {
     "name": "stderr",
     "output_type": "stream",
     "text": [
      "Epoch [232/300]: 100%|██████████| 1954/1954 [00:14<00:00, 132.55it/s, loss=0.687, positive_reward=-.0128, negative_reward=-.0318, margin=0.019]       \n"
     ]
    },
    {
     "name": "stdout",
     "output_type": "stream",
     "text": [
      "[8.]\n"
     ]
    },
    {
     "name": "stderr",
     "output_type": "stream",
     "text": [
      "Epoch [233/300]: 100%|██████████| 1954/1954 [00:14<00:00, 132.44it/s, loss=0.719, positive_reward=-.0361, negative_reward=0.00667, margin=-.0428]     \n"
     ]
    },
    {
     "name": "stdout",
     "output_type": "stream",
     "text": [
      "[12.]\n"
     ]
    },
    {
     "name": "stderr",
     "output_type": "stream",
     "text": [
      "Epoch [234/300]: 100%|██████████| 1954/1954 [00:14<00:00, 131.70it/s, loss=0.684, positive_reward=0.0159, negative_reward=-.00608, margin=0.022]      \n"
     ]
    },
    {
     "name": "stdout",
     "output_type": "stream",
     "text": [
      "[16.]\n"
     ]
    },
    {
     "name": "stderr",
     "output_type": "stream",
     "text": [
      "Epoch [235/300]: 100%|██████████| 1954/1954 [00:14<00:00, 133.91it/s, loss=0.687, positive_reward=0.0153, negative_reward=-.00117, margin=0.0165]     \n"
     ]
    },
    {
     "name": "stdout",
     "output_type": "stream",
     "text": [
      "[16.]\n"
     ]
    },
    {
     "name": "stderr",
     "output_type": "stream",
     "text": [
      "Epoch [236/300]: 100%|██████████| 1954/1954 [00:14<00:00, 132.92it/s, loss=0.689, positive_reward=0.00834, negative_reward=-.00273, margin=0.0111]    \n"
     ]
    },
    {
     "name": "stdout",
     "output_type": "stream",
     "text": [
      "[30.]\n"
     ]
    },
    {
     "name": "stderr",
     "output_type": "stream",
     "text": [
      "Epoch [237/300]: 100%|██████████| 1954/1954 [00:14<00:00, 132.63it/s, loss=0.698, positive_reward=-.00233, negative_reward=0.00637, margin=-.0087]    \n"
     ]
    },
    {
     "name": "stdout",
     "output_type": "stream",
     "text": [
      "[13.]\n"
     ]
    },
    {
     "name": "stderr",
     "output_type": "stream",
     "text": [
      "Epoch [238/300]: 100%|██████████| 1954/1954 [00:14<00:00, 132.70it/s, loss=0.692, positive_reward=0.00297, negative_reward=-7.97e-5, margin=0.00305]  \n"
     ]
    },
    {
     "name": "stdout",
     "output_type": "stream",
     "text": [
      "[26.]\n"
     ]
    },
    {
     "name": "stderr",
     "output_type": "stream",
     "text": [
      "Epoch [239/300]: 100%|██████████| 1954/1954 [00:14<00:00, 133.12it/s, loss=0.694, positive_reward=0.000936, negative_reward=0.00284, margin=-.0019]   \n"
     ]
    },
    {
     "name": "stdout",
     "output_type": "stream",
     "text": [
      "[10.]\n"
     ]
    },
    {
     "name": "stderr",
     "output_type": "stream",
     "text": [
      "Epoch [240/300]: 100%|██████████| 1954/1954 [00:14<00:00, 132.73it/s, loss=0.684, positive_reward=0.0313, negative_reward=0.0011, margin=0.0302]      \n"
     ]
    },
    {
     "name": "stdout",
     "output_type": "stream",
     "text": [
      "[11.]\n"
     ]
    },
    {
     "name": "stderr",
     "output_type": "stream",
     "text": [
      "Epoch [241/300]: 100%|██████████| 1954/1954 [00:14<00:00, 132.22it/s, loss=0.706, positive_reward=-.013, negative_reward=0.00857, margin=-.0216]      \n"
     ]
    },
    {
     "name": "stdout",
     "output_type": "stream",
     "text": [
      "[11.]\n"
     ]
    },
    {
     "name": "stderr",
     "output_type": "stream",
     "text": [
      "Epoch [242/300]: 100%|██████████| 1954/1954 [00:14<00:00, 133.51it/s, loss=0.686, positive_reward=-.0056, negative_reward=-.0225, margin=0.0169]      \n"
     ]
    },
    {
     "name": "stdout",
     "output_type": "stream",
     "text": [
      "[14.]\n"
     ]
    },
    {
     "name": "stderr",
     "output_type": "stream",
     "text": [
      "Epoch [243/300]: 100%|██████████| 1954/1954 [00:14<00:00, 133.38it/s, loss=0.69, positive_reward=0.006, negative_reward=-.00665, margin=0.0126]       \n"
     ]
    },
    {
     "name": "stdout",
     "output_type": "stream",
     "text": [
      "[13.]\n"
     ]
    },
    {
     "name": "stderr",
     "output_type": "stream",
     "text": [
      "Epoch [244/300]: 100%|██████████| 1954/1954 [00:14<00:00, 132.93it/s, loss=0.696, positive_reward=-.000616, negative_reward=0.00397, margin=-.00459]  \n"
     ]
    },
    {
     "name": "stdout",
     "output_type": "stream",
     "text": [
      "[10.]\n"
     ]
    },
    {
     "name": "stderr",
     "output_type": "stream",
     "text": [
      "Epoch [245/300]: 100%|██████████| 1954/1954 [00:14<00:00, 133.30it/s, loss=0.693, positive_reward=-.0045, negative_reward=-.0045, margin=0]           \n"
     ]
    },
    {
     "name": "stdout",
     "output_type": "stream",
     "text": [
      "[18.]\n"
     ]
    },
    {
     "name": "stderr",
     "output_type": "stream",
     "text": [
      "Epoch [246/300]: 100%|██████████| 1954/1954 [00:14<00:00, 131.43it/s, loss=0.698, positive_reward=-.00582, negative_reward=0.00415, margin=-.00997]   \n"
     ]
    },
    {
     "name": "stdout",
     "output_type": "stream",
     "text": [
      "[18.]\n"
     ]
    },
    {
     "name": "stderr",
     "output_type": "stream",
     "text": [
      "Epoch [247/300]: 100%|██████████| 1954/1954 [00:14<00:00, 133.14it/s, loss=0.696, positive_reward=-.0138, negative_reward=-.0105, margin=-.00325]     \n"
     ]
    },
    {
     "name": "stdout",
     "output_type": "stream",
     "text": [
      "[12.]\n"
     ]
    },
    {
     "name": "stderr",
     "output_type": "stream",
     "text": [
      "Epoch [248/300]: 100%|██████████| 1954/1954 [00:14<00:00, 132.61it/s, loss=0.69, positive_reward=-.00116, negative_reward=-.0126, margin=0.0114]      \n"
     ]
    },
    {
     "name": "stdout",
     "output_type": "stream",
     "text": [
      "[15.]\n"
     ]
    },
    {
     "name": "stderr",
     "output_type": "stream",
     "text": [
      "Epoch [249/300]: 100%|██████████| 1954/1954 [00:14<00:00, 133.07it/s, loss=0.697, positive_reward=-.0101, negative_reward=-.00548, margin=-.00462]    \n"
     ]
    },
    {
     "name": "stdout",
     "output_type": "stream",
     "text": [
      "[28.]\n"
     ]
    },
    {
     "name": "stderr",
     "output_type": "stream",
     "text": [
      "Epoch [250/300]: 100%|██████████| 1954/1954 [00:14<00:00, 133.05it/s, loss=0.703, positive_reward=-.00948, negative_reward=0.00741, margin=-.0169]    \n"
     ]
    },
    {
     "name": "stdout",
     "output_type": "stream",
     "text": [
      "[14.]\n"
     ]
    },
    {
     "name": "stderr",
     "output_type": "stream",
     "text": [
      "Epoch [251/300]: 100%|██████████| 1954/1954 [00:14<00:00, 133.37it/s, loss=0.686, positive_reward=0.0242, negative_reward=0.00831, margin=0.0159]     \n"
     ]
    },
    {
     "name": "stdout",
     "output_type": "stream",
     "text": [
      "[24.]\n"
     ]
    },
    {
     "name": "stderr",
     "output_type": "stream",
     "text": [
      "Epoch [252/300]: 100%|██████████| 1954/1954 [00:14<00:00, 133.01it/s, loss=0.692, positive_reward=0.00563, negative_reward=0.00274, margin=0.00289]   \n"
     ]
    },
    {
     "name": "stdout",
     "output_type": "stream",
     "text": [
      "[16.]\n"
     ]
    },
    {
     "name": "stderr",
     "output_type": "stream",
     "text": [
      "Epoch [253/300]: 100%|██████████| 1954/1954 [00:15<00:00, 128.32it/s, loss=0.706, positive_reward=-.00703, negative_reward=0.0135, margin=-.0205]     \n"
     ]
    },
    {
     "name": "stdout",
     "output_type": "stream",
     "text": [
      "[12.]\n"
     ]
    },
    {
     "name": "stderr",
     "output_type": "stream",
     "text": [
      "Epoch [254/300]: 100%|██████████| 1954/1954 [00:14<00:00, 132.46it/s, loss=0.691, positive_reward=0.00237, negative_reward=-.00412, margin=0.00649]   \n"
     ]
    },
    {
     "name": "stdout",
     "output_type": "stream",
     "text": [
      "[15.]\n"
     ]
    },
    {
     "name": "stderr",
     "output_type": "stream",
     "text": [
      "Epoch [255/300]: 100%|██████████| 1954/1954 [00:14<00:00, 131.93it/s, loss=0.701, positive_reward=-.00852, negative_reward=0.00491, margin=-.0134]    \n"
     ]
    },
    {
     "name": "stdout",
     "output_type": "stream",
     "text": [
      "[12.]\n"
     ]
    },
    {
     "name": "stderr",
     "output_type": "stream",
     "text": [
      "Epoch [256/300]: 100%|██████████| 1954/1954 [00:15<00:00, 128.79it/s, loss=0.693, positive_reward=-.00651, negative_reward=-.00651, margin=0]         \n"
     ]
    },
    {
     "name": "stdout",
     "output_type": "stream",
     "text": [
      "[25.]\n"
     ]
    },
    {
     "name": "stderr",
     "output_type": "stream",
     "text": [
      "Epoch [257/300]: 100%|██████████| 1954/1954 [00:14<00:00, 131.47it/s, loss=0.706, positive_reward=-.00552, negative_reward=0.0142, margin=-.0197]     \n"
     ]
    },
    {
     "name": "stdout",
     "output_type": "stream",
     "text": [
      "[15.]\n"
     ]
    },
    {
     "name": "stderr",
     "output_type": "stream",
     "text": [
      "Epoch [258/300]: 100%|██████████| 1954/1954 [00:15<00:00, 126.25it/s, loss=0.702, positive_reward=-.0133, negative_reward=0.00251, margin=-.0158]     \n"
     ]
    },
    {
     "name": "stdout",
     "output_type": "stream",
     "text": [
      "[10.]\n"
     ]
    },
    {
     "name": "stderr",
     "output_type": "stream",
     "text": [
      "Epoch [259/300]: 100%|██████████| 1954/1954 [00:15<00:00, 128.80it/s, loss=0.687, positive_reward=0.00726, negative_reward=-.00752, margin=0.0148]    \n"
     ]
    },
    {
     "name": "stdout",
     "output_type": "stream",
     "text": [
      "[14.]\n"
     ]
    },
    {
     "name": "stderr",
     "output_type": "stream",
     "text": [
      "Epoch [260/300]: 100%|██████████| 1954/1954 [00:15<00:00, 124.00it/s, loss=0.709, positive_reward=-.00909, negative_reward=0.00758, margin=-.0167]    \n"
     ]
    },
    {
     "name": "stdout",
     "output_type": "stream",
     "text": [
      "[29.]\n"
     ]
    },
    {
     "name": "stderr",
     "output_type": "stream",
     "text": [
      "Epoch [261/300]: 100%|██████████| 1954/1954 [00:16<00:00, 120.94it/s, loss=0.697, positive_reward=-.0113, negative_reward=-.00332, margin=-.00795]    \n"
     ]
    },
    {
     "name": "stdout",
     "output_type": "stream",
     "text": [
      "[12.]\n"
     ]
    },
    {
     "name": "stderr",
     "output_type": "stream",
     "text": [
      "Epoch [262/300]:  29%|██▉       | 576/1954 [00:04<00:10, 135.48it/s, loss=0.696, positive_reward=0.00136, negative_reward=0.0045, margin=-.00314]    "
     ]
    }
   ],
   "source": [
    "policy_network = PolicyNetwork(\n",
    "    4, 2).to(device)\n",
    "\n",
    "\n",
    "prev = PolicyNetwork(\n",
    "    4, 2).to(device)\n",
    "\n",
    "\n",
    "optimizer = torch.optim.Adam(policy_network.parameters(), lr=(1e-3))\n",
    "scheduler = torch.optim.lr_scheduler.StepLR(optimizer, step_size=10, gamma=1)\n",
    "\n",
    "\n",
    "# Training loop\n",
    "num_epochs = 300\n",
    "batch_size = 512\n",
    "\n",
    "dataset = mydataset(observations=observations, actions=actions)\n",
    "dataloader = DataLoader(dataset, batch_size=batch_size, shuffle=True)\n",
    "\n",
    "graph=[]\n",
    "eval_rewards=[]\n",
    "for epoch in range(num_epochs):\n",
    "    policy_network.train()\n",
    "\n",
    "    # Compute the log probabilities of the actions\n",
    "    pbar=tqdm(dataloader,position=0,leave=True)\n",
    "    loss_record=[]\n",
    "    # step=0\n",
    "    for step, (obs_batch,act_batch) in enumerate(pbar):\n",
    "        # obs_batch = torch.tensor(np.array(obs_batch), dtype=torch.float32).to(device)\n",
    "        # act_batch = torch.tensor(np.array(act_batch), dtype=torch.float32).to(device)\n",
    "        if step % 100 == 0:\n",
    "          prev.load_state_dict(policy_network.state_dict())\n",
    "          prev.eval()\n",
    "        # Get the log probabilities of the actions\n",
    "        \n",
    "        softmax = policy_network(obs_batch)\n",
    "        # print(softmax.shape, act_batch.shape)\n",
    "        model_act_sample = Categorical(softmax).sample()\n",
    "        policy_chosen_logps = Categorical(softmax).log_prob(act_batch)\n",
    "        policy_rejected_logps = Categorical(softmax).log_prob(model_act_sample)\n",
    "        with torch.no_grad():\n",
    "            reference_chosen_logps = Categorical(prev(obs_batch)).log_prob(act_batch)\n",
    "            reference_rejected_logps = Categorical(prev(obs_batch)).log_prob(model_act_sample)\n",
    "          \n",
    "\n",
    "        pi_logratios = policy_chosen_logps - policy_rejected_logps\n",
    "        ref_logratios = reference_chosen_logps - reference_rejected_logps\n",
    "\n",
    "        # chosen_KL = (policy_chosen_logps - reference_chosen_logps).mean().clamp(min=0)\n",
    "        # reject_KL = (policy_rejected_logps - reference_rejected_logps).mean().clamp(min=0)\n",
    "\n",
    "        logits = pi_logratios - ref_logratios\n",
    "\n",
    "        chosen_logratios = policy_chosen_logps - reference_chosen_logps\n",
    "        reject_logratios = policy_rejected_logps - reference_rejected_logps\n",
    "\n",
    "        # logits = chosen_logratios - reject_logratios\n",
    "\n",
    "        if epoch <= 10:\n",
    "          loss = - (policy_chosen_logps).mean()\n",
    "        else:\n",
    "          beta = 1\n",
    "          losses = (\n",
    "                  -F.logsigmoid(beta * logits)\n",
    "              )\n",
    "          # loss = losses.mean()\n",
    "        #   losses = torch.cat((1 - F.logsigmoid(beta * (chosen_logratios - reject_KL)), 1 - F.logsigmoid(beta * (chosen_KL - reject_logratios))), 0)\n",
    "          loss = losses.mean()\n",
    "        # Optimize the policy\n",
    "        optimizer.zero_grad()\n",
    "\n",
    "        loss.backward()\n",
    "        optimizer.step()\n",
    "        pbar.set_description((f\"Epoch [{epoch+1}/{num_epochs}]\"))\n",
    "        positive_reward = chosen_logratios.detach().mean().item()\n",
    "        negative_reward = reject_logratios.detach().mean().item()\n",
    "        pbar.set_postfix({\"loss\":loss.detach().item(), \"positive_reward\": positive_reward, \"negative_reward\": negative_reward, \"margin\": positive_reward - negative_reward})\n",
    "\n",
    "\n",
    "        #scheduler\n",
    "\n",
    "        loss_record.append(loss.detach().item())\n",
    "    scheduler.step()\n",
    "    graph.append(sum(loss_record)/len(loss_record))\n",
    "\n",
    "    policy_network.eval()  # 切换到评估模式\n",
    "\n",
    "    env = make_vec_env(env_id, n_envs=1)\n",
    "\n",
    "    state = env.reset()\n",
    "    done = False\n",
    "    total_reward=0\n",
    "    # test the policy and save as gif\n",
    "    frames = []\n",
    "    while not done:\n",
    "        state_tensor = torch.tensor([state], dtype=torch.float32).to(device)\n",
    "        with torch.no_grad():\n",
    "            action = Categorical(policy_network(state_tensor)).sample().cpu().numpy()[0]\n",
    "            \n",
    "        state, reward, done, _ = env.step(action)  # 执行动作\n",
    "        total_reward += reward\n",
    "        frame = env.render(mode=\"rgb_array\")  # 获取当前环境的图像\n",
    "        frames.append(frame)  # 添加到帧列表中\n",
    "\n",
    "    # 保存为GIF\n",
    "    image_path = f\"cartpole_epoch_{epoch+1}.gif\"\n",
    "    imageio.mimsave(\"/mnt/nfs/work/c98181/RL/result/\"+env_id+\"/\"+image_path, frames, duration=0.04)  # duration控制帧切换的速度\n",
    "\n",
    "\n",
    "    env.close()\n",
    "    print(total_reward)\n",
    "    eval_rewards.append(total_reward)"
   ]
  },
  {
   "cell_type": "code",
   "execution_count": 1,
   "metadata": {},
   "outputs": [
    {
     "ename": "NameError",
     "evalue": "name 'graph' is not defined",
     "output_type": "error",
     "traceback": [
      "\u001b[0;31m---------------------------------------------------------------------------\u001b[0m",
      "\u001b[0;31mNameError\u001b[0m                                 Traceback (most recent call last)",
      "Cell \u001b[0;32mIn[1], line 3\u001b[0m\n\u001b[1;32m      1\u001b[0m \u001b[38;5;66;03m# draw the loss graph\u001b[39;00m\n\u001b[1;32m      2\u001b[0m \u001b[38;5;28;01mimport\u001b[39;00m \u001b[38;5;21;01mmatplotlib\u001b[39;00m\u001b[38;5;21;01m.\u001b[39;00m\u001b[38;5;21;01mpyplot\u001b[39;00m \u001b[38;5;28;01mas\u001b[39;00m \u001b[38;5;21;01mplt\u001b[39;00m\n\u001b[0;32m----> 3\u001b[0m plt\u001b[38;5;241m.\u001b[39mplot(\u001b[43mgraph\u001b[49m)\n\u001b[1;32m      4\u001b[0m plt\u001b[38;5;241m.\u001b[39mxlabel(\u001b[38;5;124m\"\u001b[39m\u001b[38;5;124mEpoch\u001b[39m\u001b[38;5;124m\"\u001b[39m)\n\u001b[1;32m      5\u001b[0m plt\u001b[38;5;241m.\u001b[39mylabel(\u001b[38;5;124m\"\u001b[39m\u001b[38;5;124mLoss\u001b[39m\u001b[38;5;124m\"\u001b[39m)\n",
      "\u001b[0;31mNameError\u001b[0m: name 'graph' is not defined"
     ]
    }
   ],
   "source": [
    "# draw the loss graph\n",
    "import matplotlib.pyplot as plt\n",
    "plt.plot(graph)\n",
    "plt.xlabel(\"Epoch\")\n",
    "plt.ylabel(\"Loss\")\n",
    "plt.title(\"Loss vs Epoch\")\n",
    "plt.show()\n",
    "\n",
    "# draw the reward graph\n",
    "plt.plot(eval_rewards)\n",
    "plt.xlabel(\"Epoch\")\n",
    "plt.ylabel(\"Reward\")\n",
    "plt.title(\"Reward vs Epoch\")\n",
    "plt.show()\n",
    "\n"
   ]
  },
  {
   "cell_type": "code",
   "execution_count": 38,
   "metadata": {},
   "outputs": [
    {
     "name": "stderr",
     "output_type": "stream",
     "text": [
      "  0%|          | 0/3907 [00:00<?, ?it/s]"
     ]
    },
    {
     "name": "stderr",
     "output_type": "stream",
     "text": [
      "100%|██████████| 3907/3907 [00:08<00:00, 461.95it/s]\n"
     ]
    },
    {
     "name": "stdout",
     "output_type": "stream",
     "text": [
      "[10.]\n"
     ]
    },
    {
     "name": "stderr",
     "output_type": "stream",
     "text": [
      "100%|██████████| 3907/3907 [00:08<00:00, 461.21it/s]\n"
     ]
    },
    {
     "name": "stdout",
     "output_type": "stream",
     "text": [
      "[9.]\n"
     ]
    },
    {
     "name": "stderr",
     "output_type": "stream",
     "text": [
      "100%|██████████| 3907/3907 [00:08<00:00, 467.81it/s]\n"
     ]
    },
    {
     "name": "stdout",
     "output_type": "stream",
     "text": [
      "[10.]\n"
     ]
    },
    {
     "name": "stderr",
     "output_type": "stream",
     "text": [
      "100%|██████████| 3907/3907 [00:08<00:00, 463.27it/s]\n"
     ]
    },
    {
     "name": "stdout",
     "output_type": "stream",
     "text": [
      "[10.]\n"
     ]
    },
    {
     "name": "stderr",
     "output_type": "stream",
     "text": [
      "100%|██████████| 3907/3907 [00:08<00:00, 458.48it/s]\n"
     ]
    },
    {
     "name": "stdout",
     "output_type": "stream",
     "text": [
      "[9.]\n"
     ]
    },
    {
     "name": "stderr",
     "output_type": "stream",
     "text": [
      "100%|██████████| 3907/3907 [00:08<00:00, 463.94it/s]\n"
     ]
    },
    {
     "name": "stdout",
     "output_type": "stream",
     "text": [
      "[10.]\n"
     ]
    },
    {
     "name": "stderr",
     "output_type": "stream",
     "text": [
      "100%|██████████| 3907/3907 [00:08<00:00, 456.80it/s]\n"
     ]
    },
    {
     "name": "stdout",
     "output_type": "stream",
     "text": [
      "[22.]\n"
     ]
    },
    {
     "name": "stderr",
     "output_type": "stream",
     "text": [
      "100%|██████████| 3907/3907 [00:08<00:00, 472.28it/s]\n"
     ]
    },
    {
     "name": "stdout",
     "output_type": "stream",
     "text": [
      "[10.]\n"
     ]
    },
    {
     "name": "stderr",
     "output_type": "stream",
     "text": [
      "100%|██████████| 3907/3907 [00:08<00:00, 461.63it/s]\n"
     ]
    },
    {
     "name": "stdout",
     "output_type": "stream",
     "text": [
      "[19.]\n"
     ]
    },
    {
     "name": "stderr",
     "output_type": "stream",
     "text": [
      "100%|██████████| 3907/3907 [00:08<00:00, 473.17it/s]\n"
     ]
    },
    {
     "name": "stdout",
     "output_type": "stream",
     "text": [
      "[10.]\n"
     ]
    },
    {
     "name": "stderr",
     "output_type": "stream",
     "text": [
      "100%|██████████| 3907/3907 [00:08<00:00, 459.33it/s]\n"
     ]
    },
    {
     "name": "stdout",
     "output_type": "stream",
     "text": [
      "[10.]\n"
     ]
    },
    {
     "name": "stderr",
     "output_type": "stream",
     "text": [
      "100%|██████████| 3907/3907 [00:08<00:00, 461.08it/s]\n"
     ]
    },
    {
     "name": "stdout",
     "output_type": "stream",
     "text": [
      "[60.]\n"
     ]
    },
    {
     "name": "stderr",
     "output_type": "stream",
     "text": [
      "100%|██████████| 3907/3907 [00:08<00:00, 455.33it/s]\n"
     ]
    },
    {
     "name": "stdout",
     "output_type": "stream",
     "text": [
      "[58.]\n"
     ]
    },
    {
     "name": "stderr",
     "output_type": "stream",
     "text": [
      "100%|██████████| 3907/3907 [00:08<00:00, 463.51it/s]\n"
     ]
    },
    {
     "name": "stdout",
     "output_type": "stream",
     "text": [
      "[20.]\n"
     ]
    },
    {
     "name": "stderr",
     "output_type": "stream",
     "text": [
      "100%|██████████| 3907/3907 [00:08<00:00, 462.54it/s]\n"
     ]
    },
    {
     "name": "stdout",
     "output_type": "stream",
     "text": [
      "[17.]\n"
     ]
    },
    {
     "name": "stderr",
     "output_type": "stream",
     "text": [
      "100%|██████████| 3907/3907 [00:08<00:00, 461.26it/s]\n"
     ]
    },
    {
     "name": "stdout",
     "output_type": "stream",
     "text": [
      "[55.]\n"
     ]
    },
    {
     "name": "stderr",
     "output_type": "stream",
     "text": [
      "100%|██████████| 3907/3907 [00:08<00:00, 459.41it/s]\n"
     ]
    },
    {
     "name": "stdout",
     "output_type": "stream",
     "text": [
      "[16.]\n"
     ]
    },
    {
     "name": "stderr",
     "output_type": "stream",
     "text": [
      "100%|██████████| 3907/3907 [00:08<00:00, 459.66it/s]\n"
     ]
    },
    {
     "name": "stdout",
     "output_type": "stream",
     "text": [
      "[10.]\n"
     ]
    },
    {
     "name": "stderr",
     "output_type": "stream",
     "text": [
      "100%|██████████| 3907/3907 [00:08<00:00, 460.29it/s]\n"
     ]
    },
    {
     "name": "stdout",
     "output_type": "stream",
     "text": [
      "[27.]\n"
     ]
    },
    {
     "name": "stderr",
     "output_type": "stream",
     "text": [
      "100%|██████████| 3907/3907 [00:08<00:00, 454.38it/s]\n"
     ]
    },
    {
     "name": "stdout",
     "output_type": "stream",
     "text": [
      "[13.]\n"
     ]
    },
    {
     "name": "stderr",
     "output_type": "stream",
     "text": [
      "100%|██████████| 3907/3907 [00:08<00:00, 460.24it/s]\n"
     ]
    },
    {
     "name": "stdout",
     "output_type": "stream",
     "text": [
      "[55.]\n"
     ]
    },
    {
     "name": "stderr",
     "output_type": "stream",
     "text": [
      "100%|██████████| 3907/3907 [00:08<00:00, 468.68it/s]\n"
     ]
    },
    {
     "name": "stdout",
     "output_type": "stream",
     "text": [
      "[43.]\n"
     ]
    },
    {
     "name": "stderr",
     "output_type": "stream",
     "text": [
      "100%|██████████| 3907/3907 [00:08<00:00, 458.46it/s]\n"
     ]
    },
    {
     "name": "stdout",
     "output_type": "stream",
     "text": [
      "[18.]\n"
     ]
    },
    {
     "name": "stderr",
     "output_type": "stream",
     "text": [
      "100%|██████████| 3907/3907 [00:08<00:00, 460.32it/s]\n"
     ]
    },
    {
     "name": "stdout",
     "output_type": "stream",
     "text": [
      "[24.]\n"
     ]
    },
    {
     "name": "stderr",
     "output_type": "stream",
     "text": [
      "100%|██████████| 3907/3907 [00:08<00:00, 471.33it/s]\n"
     ]
    },
    {
     "name": "stdout",
     "output_type": "stream",
     "text": [
      "[41.]\n"
     ]
    },
    {
     "name": "stderr",
     "output_type": "stream",
     "text": [
      "100%|██████████| 3907/3907 [00:08<00:00, 462.61it/s]\n"
     ]
    },
    {
     "name": "stdout",
     "output_type": "stream",
     "text": [
      "[9.]\n"
     ]
    },
    {
     "name": "stderr",
     "output_type": "stream",
     "text": [
      "100%|██████████| 3907/3907 [00:08<00:00, 483.10it/s]\n"
     ]
    },
    {
     "name": "stdout",
     "output_type": "stream",
     "text": [
      "[9.]\n"
     ]
    },
    {
     "name": "stderr",
     "output_type": "stream",
     "text": [
      "100%|██████████| 3907/3907 [00:08<00:00, 460.04it/s]\n"
     ]
    },
    {
     "name": "stdout",
     "output_type": "stream",
     "text": [
      "[39.]\n"
     ]
    },
    {
     "name": "stderr",
     "output_type": "stream",
     "text": [
      "100%|██████████| 3907/3907 [00:08<00:00, 457.31it/s]\n"
     ]
    },
    {
     "name": "stdout",
     "output_type": "stream",
     "text": [
      "[9.]\n"
     ]
    },
    {
     "name": "stderr",
     "output_type": "stream",
     "text": [
      "100%|██████████| 3907/3907 [00:08<00:00, 458.88it/s]\n"
     ]
    },
    {
     "name": "stdout",
     "output_type": "stream",
     "text": [
      "[43.]\n"
     ]
    },
    {
     "name": "stderr",
     "output_type": "stream",
     "text": [
      "100%|██████████| 3907/3907 [00:08<00:00, 459.04it/s]\n"
     ]
    },
    {
     "name": "stdout",
     "output_type": "stream",
     "text": [
      "[38.]\n"
     ]
    },
    {
     "name": "stderr",
     "output_type": "stream",
     "text": [
      "100%|██████████| 3907/3907 [00:08<00:00, 459.88it/s]\n"
     ]
    },
    {
     "name": "stdout",
     "output_type": "stream",
     "text": [
      "[20.]\n"
     ]
    },
    {
     "name": "stderr",
     "output_type": "stream",
     "text": [
      "100%|██████████| 3907/3907 [00:08<00:00, 454.10it/s]\n"
     ]
    },
    {
     "name": "stdout",
     "output_type": "stream",
     "text": [
      "[18.]\n"
     ]
    },
    {
     "name": "stderr",
     "output_type": "stream",
     "text": [
      "100%|██████████| 3907/3907 [00:08<00:00, 459.92it/s]\n"
     ]
    },
    {
     "name": "stdout",
     "output_type": "stream",
     "text": [
      "[8.]\n"
     ]
    },
    {
     "name": "stderr",
     "output_type": "stream",
     "text": [
      "100%|██████████| 3907/3907 [00:08<00:00, 461.16it/s]\n"
     ]
    },
    {
     "name": "stdout",
     "output_type": "stream",
     "text": [
      "[20.]\n"
     ]
    },
    {
     "name": "stderr",
     "output_type": "stream",
     "text": [
      "100%|██████████| 3907/3907 [00:08<00:00, 463.70it/s]\n"
     ]
    },
    {
     "name": "stdout",
     "output_type": "stream",
     "text": [
      "[10.]\n"
     ]
    },
    {
     "name": "stderr",
     "output_type": "stream",
     "text": [
      "100%|██████████| 3907/3907 [00:08<00:00, 459.16it/s]\n"
     ]
    },
    {
     "name": "stdout",
     "output_type": "stream",
     "text": [
      "[10.]\n"
     ]
    },
    {
     "name": "stderr",
     "output_type": "stream",
     "text": [
      "100%|██████████| 3907/3907 [00:08<00:00, 459.56it/s]\n"
     ]
    },
    {
     "name": "stdout",
     "output_type": "stream",
     "text": [
      "[11.]\n"
     ]
    },
    {
     "name": "stderr",
     "output_type": "stream",
     "text": [
      "100%|██████████| 3907/3907 [00:08<00:00, 453.34it/s]\n"
     ]
    },
    {
     "name": "stdout",
     "output_type": "stream",
     "text": [
      "[43.]\n"
     ]
    },
    {
     "name": "stderr",
     "output_type": "stream",
     "text": [
      "100%|██████████| 3907/3907 [00:08<00:00, 460.28it/s]\n"
     ]
    },
    {
     "name": "stdout",
     "output_type": "stream",
     "text": [
      "[20.]\n"
     ]
    },
    {
     "name": "stderr",
     "output_type": "stream",
     "text": [
      "100%|██████████| 3907/3907 [00:08<00:00, 462.71it/s]\n"
     ]
    },
    {
     "name": "stdout",
     "output_type": "stream",
     "text": [
      "[14.]\n"
     ]
    },
    {
     "name": "stderr",
     "output_type": "stream",
     "text": [
      "100%|██████████| 3907/3907 [00:08<00:00, 469.86it/s]\n"
     ]
    },
    {
     "name": "stdout",
     "output_type": "stream",
     "text": [
      "[10.]\n"
     ]
    },
    {
     "name": "stderr",
     "output_type": "stream",
     "text": [
      "100%|██████████| 3907/3907 [00:08<00:00, 458.09it/s]\n"
     ]
    },
    {
     "name": "stdout",
     "output_type": "stream",
     "text": [
      "[33.]\n"
     ]
    },
    {
     "name": "stderr",
     "output_type": "stream",
     "text": [
      "100%|██████████| 3907/3907 [00:08<00:00, 459.87it/s]\n"
     ]
    },
    {
     "name": "stdout",
     "output_type": "stream",
     "text": [
      "[10.]\n"
     ]
    },
    {
     "name": "stderr",
     "output_type": "stream",
     "text": [
      "100%|██████████| 3907/3907 [00:08<00:00, 459.27it/s]\n"
     ]
    },
    {
     "name": "stdout",
     "output_type": "stream",
     "text": [
      "[10.]\n"
     ]
    },
    {
     "name": "stderr",
     "output_type": "stream",
     "text": [
      "100%|██████████| 3907/3907 [00:09<00:00, 426.29it/s]\n"
     ]
    },
    {
     "name": "stdout",
     "output_type": "stream",
     "text": [
      "[14.]\n"
     ]
    },
    {
     "name": "stderr",
     "output_type": "stream",
     "text": [
      "100%|██████████| 3907/3907 [00:08<00:00, 462.32it/s]\n"
     ]
    },
    {
     "name": "stdout",
     "output_type": "stream",
     "text": [
      "[9.]\n"
     ]
    },
    {
     "name": "stderr",
     "output_type": "stream",
     "text": [
      "100%|██████████| 3907/3907 [00:08<00:00, 462.68it/s]\n"
     ]
    },
    {
     "name": "stdout",
     "output_type": "stream",
     "text": [
      "[9.]\n"
     ]
    },
    {
     "name": "stderr",
     "output_type": "stream",
     "text": [
      "100%|██████████| 3907/3907 [00:08<00:00, 480.54it/s]\n"
     ]
    },
    {
     "name": "stdout",
     "output_type": "stream",
     "text": [
      "[18.]\n"
     ]
    },
    {
     "name": "stderr",
     "output_type": "stream",
     "text": [
      "100%|██████████| 3907/3907 [00:08<00:00, 460.16it/s]\n"
     ]
    },
    {
     "name": "stdout",
     "output_type": "stream",
     "text": [
      "[11.]\n"
     ]
    },
    {
     "name": "stderr",
     "output_type": "stream",
     "text": [
      "100%|██████████| 3907/3907 [00:08<00:00, 459.18it/s]\n"
     ]
    },
    {
     "name": "stdout",
     "output_type": "stream",
     "text": [
      "[10.]\n"
     ]
    },
    {
     "name": "stderr",
     "output_type": "stream",
     "text": [
      "100%|██████████| 3907/3907 [00:08<00:00, 459.44it/s]\n"
     ]
    },
    {
     "name": "stdout",
     "output_type": "stream",
     "text": [
      "[28.]\n"
     ]
    },
    {
     "name": "stderr",
     "output_type": "stream",
     "text": [
      "100%|██████████| 3907/3907 [00:08<00:00, 454.52it/s]\n"
     ]
    },
    {
     "name": "stdout",
     "output_type": "stream",
     "text": [
      "[9.]\n"
     ]
    },
    {
     "name": "stderr",
     "output_type": "stream",
     "text": [
      "100%|██████████| 3907/3907 [00:08<00:00, 460.00it/s]\n"
     ]
    },
    {
     "name": "stdout",
     "output_type": "stream",
     "text": [
      "[10.]\n"
     ]
    },
    {
     "name": "stderr",
     "output_type": "stream",
     "text": [
      "100%|██████████| 3907/3907 [00:08<00:00, 461.12it/s]\n"
     ]
    },
    {
     "name": "stdout",
     "output_type": "stream",
     "text": [
      "[10.]\n"
     ]
    },
    {
     "name": "stderr",
     "output_type": "stream",
     "text": [
      "100%|██████████| 3907/3907 [00:08<00:00, 460.90it/s]\n"
     ]
    },
    {
     "name": "stdout",
     "output_type": "stream",
     "text": [
      "[35.]\n"
     ]
    },
    {
     "name": "stderr",
     "output_type": "stream",
     "text": [
      "100%|██████████| 3907/3907 [00:08<00:00, 459.30it/s]\n"
     ]
    },
    {
     "name": "stdout",
     "output_type": "stream",
     "text": [
      "[9.]\n"
     ]
    },
    {
     "name": "stderr",
     "output_type": "stream",
     "text": [
      "100%|██████████| 3907/3907 [00:08<00:00, 461.32it/s]\n"
     ]
    },
    {
     "name": "stdout",
     "output_type": "stream",
     "text": [
      "[43.]\n"
     ]
    },
    {
     "name": "stderr",
     "output_type": "stream",
     "text": [
      "100%|██████████| 3907/3907 [00:08<00:00, 456.69it/s]\n"
     ]
    },
    {
     "name": "stdout",
     "output_type": "stream",
     "text": [
      "[27.]\n"
     ]
    },
    {
     "name": "stderr",
     "output_type": "stream",
     "text": [
      "100%|██████████| 3907/3907 [00:08<00:00, 474.91it/s]\n"
     ]
    },
    {
     "name": "stdout",
     "output_type": "stream",
     "text": [
      "[8.]\n"
     ]
    },
    {
     "name": "stderr",
     "output_type": "stream",
     "text": [
      "100%|██████████| 3907/3907 [00:08<00:00, 450.34it/s]\n"
     ]
    },
    {
     "name": "stdout",
     "output_type": "stream",
     "text": [
      "[9.]\n"
     ]
    },
    {
     "name": "stderr",
     "output_type": "stream",
     "text": [
      "100%|██████████| 3907/3907 [00:08<00:00, 454.22it/s]\n"
     ]
    },
    {
     "name": "stdout",
     "output_type": "stream",
     "text": [
      "[10.]\n"
     ]
    },
    {
     "name": "stderr",
     "output_type": "stream",
     "text": [
      "100%|██████████| 3907/3907 [00:08<00:00, 463.33it/s]\n"
     ]
    },
    {
     "name": "stdout",
     "output_type": "stream",
     "text": [
      "[8.]\n"
     ]
    },
    {
     "name": "stderr",
     "output_type": "stream",
     "text": [
      "100%|██████████| 3907/3907 [00:08<00:00, 461.82it/s]\n"
     ]
    },
    {
     "name": "stdout",
     "output_type": "stream",
     "text": [
      "[64.]\n"
     ]
    },
    {
     "name": "stderr",
     "output_type": "stream",
     "text": [
      "100%|██████████| 3907/3907 [00:08<00:00, 460.42it/s]\n"
     ]
    },
    {
     "name": "stdout",
     "output_type": "stream",
     "text": [
      "[50.]\n"
     ]
    },
    {
     "name": "stderr",
     "output_type": "stream",
     "text": [
      " 34%|███▎      | 1309/3907 [00:02<00:05, 460.49it/s]\n"
     ]
    },
    {
     "ename": "KeyboardInterrupt",
     "evalue": "",
     "output_type": "error",
     "traceback": [
      "\u001b[0;31m---------------------------------------------------------------------------\u001b[0m",
      "\u001b[0;31mKeyboardInterrupt\u001b[0m                         Traceback (most recent call last)",
      "Cell \u001b[0;32mIn[38], line 30\u001b[0m\n\u001b[1;32m     27\u001b[0m loss_record\u001b[38;5;241m=\u001b[39m[]\n\u001b[1;32m     28\u001b[0m \u001b[38;5;66;03m# step=0\u001b[39;00m\n\u001b[0;32m---> 30\u001b[0m \u001b[38;5;28;01mfor\u001b[39;00m step, (obs_batch,act_batch) \u001b[38;5;129;01min\u001b[39;00m \u001b[38;5;28menumerate\u001b[39m(pbar):\n\u001b[1;32m     31\u001b[0m     \u001b[38;5;66;03m# obs_batch = torch.tensor(np.array(obs_batch), dtype=torch.float32).to(device)\u001b[39;00m\n\u001b[1;32m     32\u001b[0m     \u001b[38;5;66;03m# act_batch = torch.tensor(np.array(act_batch), dtype=torch.float32).to(device)\u001b[39;00m\n\u001b[1;32m     33\u001b[0m     \u001b[38;5;66;03m# if step % 300 == 0:\u001b[39;00m\n\u001b[1;32m     34\u001b[0m     \u001b[38;5;66;03m#   prev.load_state_dict(policy_network.state_dict())\u001b[39;00m\n\u001b[1;32m     35\u001b[0m     \u001b[38;5;66;03m#   prev.eval()\u001b[39;00m\n\u001b[1;32m     36\u001b[0m     \u001b[38;5;66;03m# Get the log probabilities of the actions\u001b[39;00m\n\u001b[1;32m     38\u001b[0m     softmax \u001b[38;5;241m=\u001b[39m policy_network(obs_batch)\n\u001b[1;32m     39\u001b[0m     \u001b[38;5;66;03m# cross entropy\u001b[39;00m\n",
      "File \u001b[0;32m~/miniconda3/envs/atari/lib/python3.9/site-packages/tqdm/std.py:1178\u001b[0m, in \u001b[0;36mtqdm.__iter__\u001b[0;34m(self)\u001b[0m\n\u001b[1;32m   1175\u001b[0m time \u001b[38;5;241m=\u001b[39m \u001b[38;5;28mself\u001b[39m\u001b[38;5;241m.\u001b[39m_time\n\u001b[1;32m   1177\u001b[0m \u001b[38;5;28;01mtry\u001b[39;00m:\n\u001b[0;32m-> 1178\u001b[0m     \u001b[38;5;28;01mfor\u001b[39;00m obj \u001b[38;5;129;01min\u001b[39;00m iterable:\n\u001b[1;32m   1179\u001b[0m         \u001b[38;5;28;01myield\u001b[39;00m obj\n\u001b[1;32m   1180\u001b[0m         \u001b[38;5;66;03m# Update and possibly print the progressbar.\u001b[39;00m\n\u001b[1;32m   1181\u001b[0m         \u001b[38;5;66;03m# Note: does not call self.update(1) for speed optimisation.\u001b[39;00m\n",
      "File \u001b[0;32m~/miniconda3/envs/atari/lib/python3.9/site-packages/torch/utils/data/dataloader.py:631\u001b[0m, in \u001b[0;36m_BaseDataLoaderIter.__next__\u001b[0;34m(self)\u001b[0m\n\u001b[1;32m    628\u001b[0m \u001b[38;5;28;01mif\u001b[39;00m \u001b[38;5;28mself\u001b[39m\u001b[38;5;241m.\u001b[39m_sampler_iter \u001b[38;5;129;01mis\u001b[39;00m \u001b[38;5;28;01mNone\u001b[39;00m:\n\u001b[1;32m    629\u001b[0m     \u001b[38;5;66;03m# TODO(https://github.com/pytorch/pytorch/issues/76750)\u001b[39;00m\n\u001b[1;32m    630\u001b[0m     \u001b[38;5;28mself\u001b[39m\u001b[38;5;241m.\u001b[39m_reset()  \u001b[38;5;66;03m# type: ignore[call-arg]\u001b[39;00m\n\u001b[0;32m--> 631\u001b[0m data \u001b[38;5;241m=\u001b[39m \u001b[38;5;28;43mself\u001b[39;49m\u001b[38;5;241;43m.\u001b[39;49m\u001b[43m_next_data\u001b[49m\u001b[43m(\u001b[49m\u001b[43m)\u001b[49m\n\u001b[1;32m    632\u001b[0m \u001b[38;5;28mself\u001b[39m\u001b[38;5;241m.\u001b[39m_num_yielded \u001b[38;5;241m+\u001b[39m\u001b[38;5;241m=\u001b[39m \u001b[38;5;241m1\u001b[39m\n\u001b[1;32m    633\u001b[0m \u001b[38;5;28;01mif\u001b[39;00m \u001b[38;5;28mself\u001b[39m\u001b[38;5;241m.\u001b[39m_dataset_kind \u001b[38;5;241m==\u001b[39m _DatasetKind\u001b[38;5;241m.\u001b[39mIterable \u001b[38;5;129;01mand\u001b[39;00m \\\n\u001b[1;32m    634\u001b[0m         \u001b[38;5;28mself\u001b[39m\u001b[38;5;241m.\u001b[39m_IterableDataset_len_called \u001b[38;5;129;01mis\u001b[39;00m \u001b[38;5;129;01mnot\u001b[39;00m \u001b[38;5;28;01mNone\u001b[39;00m \u001b[38;5;129;01mand\u001b[39;00m \\\n\u001b[1;32m    635\u001b[0m         \u001b[38;5;28mself\u001b[39m\u001b[38;5;241m.\u001b[39m_num_yielded \u001b[38;5;241m>\u001b[39m \u001b[38;5;28mself\u001b[39m\u001b[38;5;241m.\u001b[39m_IterableDataset_len_called:\n",
      "File \u001b[0;32m~/miniconda3/envs/atari/lib/python3.9/site-packages/torch/utils/data/dataloader.py:675\u001b[0m, in \u001b[0;36m_SingleProcessDataLoaderIter._next_data\u001b[0;34m(self)\u001b[0m\n\u001b[1;32m    673\u001b[0m \u001b[38;5;28;01mdef\u001b[39;00m \u001b[38;5;21m_next_data\u001b[39m(\u001b[38;5;28mself\u001b[39m):\n\u001b[1;32m    674\u001b[0m     index \u001b[38;5;241m=\u001b[39m \u001b[38;5;28mself\u001b[39m\u001b[38;5;241m.\u001b[39m_next_index()  \u001b[38;5;66;03m# may raise StopIteration\u001b[39;00m\n\u001b[0;32m--> 675\u001b[0m     data \u001b[38;5;241m=\u001b[39m \u001b[38;5;28;43mself\u001b[39;49m\u001b[38;5;241;43m.\u001b[39;49m\u001b[43m_dataset_fetcher\u001b[49m\u001b[38;5;241;43m.\u001b[39;49m\u001b[43mfetch\u001b[49m\u001b[43m(\u001b[49m\u001b[43mindex\u001b[49m\u001b[43m)\u001b[49m  \u001b[38;5;66;03m# may raise StopIteration\u001b[39;00m\n\u001b[1;32m    676\u001b[0m     \u001b[38;5;28;01mif\u001b[39;00m \u001b[38;5;28mself\u001b[39m\u001b[38;5;241m.\u001b[39m_pin_memory:\n\u001b[1;32m    677\u001b[0m         data \u001b[38;5;241m=\u001b[39m _utils\u001b[38;5;241m.\u001b[39mpin_memory\u001b[38;5;241m.\u001b[39mpin_memory(data, \u001b[38;5;28mself\u001b[39m\u001b[38;5;241m.\u001b[39m_pin_memory_device)\n",
      "File \u001b[0;32m~/miniconda3/envs/atari/lib/python3.9/site-packages/torch/utils/data/_utils/fetch.py:54\u001b[0m, in \u001b[0;36m_MapDatasetFetcher.fetch\u001b[0;34m(self, possibly_batched_index)\u001b[0m\n\u001b[1;32m     52\u001b[0m \u001b[38;5;28;01melse\u001b[39;00m:\n\u001b[1;32m     53\u001b[0m     data \u001b[38;5;241m=\u001b[39m \u001b[38;5;28mself\u001b[39m\u001b[38;5;241m.\u001b[39mdataset[possibly_batched_index]\n\u001b[0;32m---> 54\u001b[0m \u001b[38;5;28;01mreturn\u001b[39;00m \u001b[38;5;28;43mself\u001b[39;49m\u001b[38;5;241;43m.\u001b[39;49m\u001b[43mcollate_fn\u001b[49m\u001b[43m(\u001b[49m\u001b[43mdata\u001b[49m\u001b[43m)\u001b[49m\n",
      "File \u001b[0;32m~/miniconda3/envs/atari/lib/python3.9/site-packages/torch/utils/data/_utils/collate.py:277\u001b[0m, in \u001b[0;36mdefault_collate\u001b[0;34m(batch)\u001b[0m\n\u001b[1;32m    216\u001b[0m \u001b[38;5;28;01mdef\u001b[39;00m \u001b[38;5;21mdefault_collate\u001b[39m(batch):\n\u001b[1;32m    217\u001b[0m \u001b[38;5;250m    \u001b[39m\u001b[38;5;124mr\u001b[39m\u001b[38;5;124;03m\"\"\"\u001b[39;00m\n\u001b[1;32m    218\u001b[0m \u001b[38;5;124;03m    Take in a batch of data and put the elements within the batch into a tensor with an additional outer dimension - batch size.\u001b[39;00m\n\u001b[1;32m    219\u001b[0m \n\u001b[0;32m   (...)\u001b[0m\n\u001b[1;32m    275\u001b[0m \u001b[38;5;124;03m        >>> default_collate(batch)  # Handle `CustomType` automatically\u001b[39;00m\n\u001b[1;32m    276\u001b[0m \u001b[38;5;124;03m    \"\"\"\u001b[39;00m\n\u001b[0;32m--> 277\u001b[0m     \u001b[38;5;28;01mreturn\u001b[39;00m \u001b[43mcollate\u001b[49m\u001b[43m(\u001b[49m\u001b[43mbatch\u001b[49m\u001b[43m,\u001b[49m\u001b[43m \u001b[49m\u001b[43mcollate_fn_map\u001b[49m\u001b[38;5;241;43m=\u001b[39;49m\u001b[43mdefault_collate_fn_map\u001b[49m\u001b[43m)\u001b[49m\n",
      "File \u001b[0;32m~/miniconda3/envs/atari/lib/python3.9/site-packages/torch/utils/data/_utils/collate.py:144\u001b[0m, in \u001b[0;36mcollate\u001b[0;34m(batch, collate_fn_map)\u001b[0m\n\u001b[1;32m    141\u001b[0m transposed \u001b[38;5;241m=\u001b[39m \u001b[38;5;28mlist\u001b[39m(\u001b[38;5;28mzip\u001b[39m(\u001b[38;5;241m*\u001b[39mbatch))  \u001b[38;5;66;03m# It may be accessed twice, so we use a list.\u001b[39;00m\n\u001b[1;32m    143\u001b[0m \u001b[38;5;28;01mif\u001b[39;00m \u001b[38;5;28misinstance\u001b[39m(elem, \u001b[38;5;28mtuple\u001b[39m):\n\u001b[0;32m--> 144\u001b[0m     \u001b[38;5;28;01mreturn\u001b[39;00m [collate(samples, collate_fn_map\u001b[38;5;241m=\u001b[39mcollate_fn_map) \u001b[38;5;28;01mfor\u001b[39;00m samples \u001b[38;5;129;01min\u001b[39;00m transposed]  \u001b[38;5;66;03m# Backwards compatibility.\u001b[39;00m\n\u001b[1;32m    145\u001b[0m \u001b[38;5;28;01melse\u001b[39;00m:\n\u001b[1;32m    146\u001b[0m     \u001b[38;5;28;01mtry\u001b[39;00m:\n",
      "File \u001b[0;32m~/miniconda3/envs/atari/lib/python3.9/site-packages/torch/utils/data/_utils/collate.py:144\u001b[0m, in \u001b[0;36m<listcomp>\u001b[0;34m(.0)\u001b[0m\n\u001b[1;32m    141\u001b[0m transposed \u001b[38;5;241m=\u001b[39m \u001b[38;5;28mlist\u001b[39m(\u001b[38;5;28mzip\u001b[39m(\u001b[38;5;241m*\u001b[39mbatch))  \u001b[38;5;66;03m# It may be accessed twice, so we use a list.\u001b[39;00m\n\u001b[1;32m    143\u001b[0m \u001b[38;5;28;01mif\u001b[39;00m \u001b[38;5;28misinstance\u001b[39m(elem, \u001b[38;5;28mtuple\u001b[39m):\n\u001b[0;32m--> 144\u001b[0m     \u001b[38;5;28;01mreturn\u001b[39;00m [\u001b[43mcollate\u001b[49m\u001b[43m(\u001b[49m\u001b[43msamples\u001b[49m\u001b[43m,\u001b[49m\u001b[43m \u001b[49m\u001b[43mcollate_fn_map\u001b[49m\u001b[38;5;241;43m=\u001b[39;49m\u001b[43mcollate_fn_map\u001b[49m\u001b[43m)\u001b[49m \u001b[38;5;28;01mfor\u001b[39;00m samples \u001b[38;5;129;01min\u001b[39;00m transposed]  \u001b[38;5;66;03m# Backwards compatibility.\u001b[39;00m\n\u001b[1;32m    145\u001b[0m \u001b[38;5;28;01melse\u001b[39;00m:\n\u001b[1;32m    146\u001b[0m     \u001b[38;5;28;01mtry\u001b[39;00m:\n",
      "File \u001b[0;32m~/miniconda3/envs/atari/lib/python3.9/site-packages/torch/utils/data/_utils/collate.py:121\u001b[0m, in \u001b[0;36mcollate\u001b[0;34m(batch, collate_fn_map)\u001b[0m\n\u001b[1;32m    119\u001b[0m \u001b[38;5;28;01mif\u001b[39;00m collate_fn_map \u001b[38;5;129;01mis\u001b[39;00m \u001b[38;5;129;01mnot\u001b[39;00m \u001b[38;5;28;01mNone\u001b[39;00m:\n\u001b[1;32m    120\u001b[0m     \u001b[38;5;28;01mif\u001b[39;00m elem_type \u001b[38;5;129;01min\u001b[39;00m collate_fn_map:\n\u001b[0;32m--> 121\u001b[0m         \u001b[38;5;28;01mreturn\u001b[39;00m \u001b[43mcollate_fn_map\u001b[49m\u001b[43m[\u001b[49m\u001b[43melem_type\u001b[49m\u001b[43m]\u001b[49m\u001b[43m(\u001b[49m\u001b[43mbatch\u001b[49m\u001b[43m,\u001b[49m\u001b[43m \u001b[49m\u001b[43mcollate_fn_map\u001b[49m\u001b[38;5;241;43m=\u001b[39;49m\u001b[43mcollate_fn_map\u001b[49m\u001b[43m)\u001b[49m\n\u001b[1;32m    123\u001b[0m     \u001b[38;5;28;01mfor\u001b[39;00m collate_type \u001b[38;5;129;01min\u001b[39;00m collate_fn_map:\n\u001b[1;32m    124\u001b[0m         \u001b[38;5;28;01mif\u001b[39;00m \u001b[38;5;28misinstance\u001b[39m(elem, collate_type):\n",
      "File \u001b[0;32m~/miniconda3/envs/atari/lib/python3.9/site-packages/torch/utils/data/_utils/collate.py:174\u001b[0m, in \u001b[0;36mcollate_tensor_fn\u001b[0;34m(batch, collate_fn_map)\u001b[0m\n\u001b[1;32m    172\u001b[0m     storage \u001b[38;5;241m=\u001b[39m elem\u001b[38;5;241m.\u001b[39m_typed_storage()\u001b[38;5;241m.\u001b[39m_new_shared(numel, device\u001b[38;5;241m=\u001b[39melem\u001b[38;5;241m.\u001b[39mdevice)\n\u001b[1;32m    173\u001b[0m     out \u001b[38;5;241m=\u001b[39m elem\u001b[38;5;241m.\u001b[39mnew(storage)\u001b[38;5;241m.\u001b[39mresize_(\u001b[38;5;28mlen\u001b[39m(batch), \u001b[38;5;241m*\u001b[39m\u001b[38;5;28mlist\u001b[39m(elem\u001b[38;5;241m.\u001b[39msize()))\n\u001b[0;32m--> 174\u001b[0m \u001b[38;5;28;01mreturn\u001b[39;00m \u001b[43mtorch\u001b[49m\u001b[38;5;241;43m.\u001b[39;49m\u001b[43mstack\u001b[49m\u001b[43m(\u001b[49m\u001b[43mbatch\u001b[49m\u001b[43m,\u001b[49m\u001b[43m \u001b[49m\u001b[38;5;241;43m0\u001b[39;49m\u001b[43m,\u001b[49m\u001b[43m \u001b[49m\u001b[43mout\u001b[49m\u001b[38;5;241;43m=\u001b[39;49m\u001b[43mout\u001b[49m\u001b[43m)\u001b[49m\n",
      "\u001b[0;31mKeyboardInterrupt\u001b[0m: "
     ]
    }
   ],
   "source": [
    "policy_network = PolicyNetwork(\n",
    "    4, 2).to(device)\n",
    "\n",
    "\n",
    "prev = PolicyNetwork(\n",
    "    4, 2).to(device)\n",
    "\n",
    "\n",
    "optimizer = torch.optim.Adam(policy_network.parameters(), lr=(5e-4))\n",
    "scheduler = torch.optim.lr_scheduler.StepLR(optimizer, step_size=10, gamma=1)\n",
    "\n",
    "\n",
    "# Training loop\n",
    "num_epochs = 300\n",
    "batch_size = 256\n",
    "\n",
    "dataset = mydataset(observations=observations, actions=actions)\n",
    "dataloader = DataLoader(dataset, batch_size=batch_size, shuffle=True)\n",
    "\n",
    "graph=[]\n",
    "eval_rewards=[]\n",
    "for epoch in range(num_epochs):\n",
    "    policy_network.train()\n",
    "\n",
    "    # Compute the log probabilities of the actions\n",
    "    pbar=tqdm(dataloader,position=0,leave=True)\n",
    "    loss_record=[]\n",
    "    # step=0\n",
    "\n",
    "    for step, (obs_batch,act_batch) in enumerate(pbar):\n",
    "        # obs_batch = torch.tensor(np.array(obs_batch), dtype=torch.float32).to(device)\n",
    "        # act_batch = torch.tensor(np.array(act_batch), dtype=torch.float32).to(device)\n",
    "        # if step % 300 == 0:\n",
    "        #   prev.load_state_dict(policy_network.state_dict())\n",
    "        #   prev.eval()\n",
    "        # Get the log probabilities of the actions\n",
    "        \n",
    "        softmax = policy_network(obs_batch)\n",
    "        # cross entropy\n",
    "        loss = F.cross_entropy(softmax, act_batch.long())\n",
    "        \n",
    "        # # print(softmax.shape, act_batch.shape)\n",
    "        # model_act_sample = Categorical(softmax).sample()\n",
    "        # policy_chosen_logps = Categorical(softmax).log_prob(act_batch)\n",
    "        # policy_rejected_logps = Categorical(softmax).log_prob(model_act_sample)\n",
    "        # with torch.no_grad():\n",
    "        #     reference_chosen_logps = Categorical(prev(obs_batch)).log_prob(act_batch)\n",
    "        #     reference_rejected_logps = Categorical(prev(obs_batch)).log_prob(model_act_sample)\n",
    "          \n",
    "\n",
    "        # pi_logratios = policy_chosen_logps - policy_rejected_logps\n",
    "        # ref_logratios = reference_chosen_logps - reference_rejected_logps\n",
    "\n",
    "        # chosen_KL = (policy_chosen_logps - reference_chosen_logps).mean().clamp(min=0)\n",
    "        # reject_KL = (policy_rejected_logps - reference_rejected_logps).mean().clamp(min=0)\n",
    "\n",
    "        \n",
    "\n",
    "        # chosen_logratios = policy_chosen_logps - reference_chosen_logps\n",
    "        # reject_logratios = policy_rejected_logps - reference_rejected_logps\n",
    "\n",
    "        logits = chosen_logratios - reject_logratios\n",
    "        \n",
    "        # if epoch <= -1:\n",
    "        #   loss = - (policy_chosen_logps).mean()\n",
    "        # else:\n",
    "        #   beta = 1\n",
    "        #   losses = (\n",
    "        #           -F.logsigmoid(beta * logits)\n",
    "        #       )\n",
    "        #   # loss = losses.mean()\n",
    "        #   # losses = torch.cat((1 - F.logsigmoid(beta * (chosen_logratios - reject_KL)), 1 - F.logsigmoid(beta * (chosen_KL - reject_logratios))), 0)\n",
    "        #   loss = losses.mean()\n",
    "        # # Optimize the policy\n",
    "        optimizer.zero_grad()\n",
    "\n",
    "        loss.backward()\n",
    "        optimizer.step()\n",
    "        # pbar.set_description((f\"Epoch [{epoch+1}/{num_epochs}]\"))\n",
    "        # positive_reward = chosen_logratios.detach().mean().item()\n",
    "        # negative_reward = reject_logratios.detach().mean().item()\n",
    "        # pbar.set_postfix({\"loss\":loss.detach().item(), \"positive_reward\": positive_reward, \"negative_reward\": negative_reward, \"margin\": positive_reward - negative_reward})\n",
    "\n",
    "\n",
    "        #scheduler\n",
    "\n",
    "        loss_record.append(loss.detach().item())\n",
    "    scheduler.step()\n",
    "    graph.append(sum(loss_record)/len(loss_record))\n",
    "\n",
    "    prev.load_state_dict(policy_network.state_dict())\n",
    "    prev.eval()\n",
    "    \n",
    "    policy_network.eval()  # 切换到评估模式\n",
    "\n",
    "    env = make_vec_env(env_id, n_envs=1)\n",
    "\n",
    "    state = env.reset()\n",
    "    done = False\n",
    "    total_reward=0\n",
    "    # test the policy and save as gif\n",
    "    frames = []\n",
    "    while not done:\n",
    "        state_tensor = torch.tensor([state], dtype=torch.float32).to(device)\n",
    "        with torch.no_grad():\n",
    "            pred= policy_network(state_tensor)\n",
    "            action = torch.argmax(pred).cpu().numpy()\n",
    "            # print(action)\n",
    "            \n",
    "        state, reward, done, _ = env.step([action])  # 执行动作\n",
    "        total_reward += reward\n",
    "        frame = env.render(mode=\"rgb_array\")  # 获取当前环境的图像\n",
    "        frames.append(frame)  # 添加到帧列表中\n",
    "\n",
    "    # 保存为GIF\n",
    "    image_path = f\"cartpole_epoch_{epoch+1}.gif\"\n",
    "    imageio.mimsave(\"/mnt/nfs/work/c98181/RL/result/\"+env_id+\"/\"+image_path, frames, duration=0.04)  # duration控制帧切换的速度\n",
    "\n",
    "\n",
    "    env.close()\n",
    "    print(total_reward)\n",
    "    eval_rewards.append(total_reward)\n"
   ]
  },
  {
   "cell_type": "code",
   "execution_count": 21,
   "metadata": {},
   "outputs": [
    {
     "data": {
      "image/png": "[encoded data removed]",
      "text/plain": [
       "<Figure size 640x480 with 1 Axes>"
      ]
     },
     "metadata": {},
     "output_type": "display_data"
    },
    {
     "data": {
      "image/png": "[encoded data removed]",
      "text/plain": [
       "<Figure size 640x480 with 1 Axes>"
      ]
     },
     "metadata": {},
     "output_type": "display_data"
    }
   ],
   "source": [
    "# draw the loss graph\n",
    "import matplotlib.pyplot as plt\n",
    "plt.plot(graph)\n",
    "plt.xlabel(\"Epoch\")\n",
    "plt.ylabel(\"Loss\")\n",
    "plt.title(\"Loss vs Epoch\")\n",
    "plt.show()\n",
    "\n",
    "# draw the reward graph\n",
    "plt.plot(eval_rewards)\n",
    "plt.xlabel(\"Epoch\")\n",
    "plt.ylabel(\"Reward\")\n",
    "plt.title(\"Reward vs Epoch\")\n",
    "plt.show()\n",
    "\n"
   ]
  }
 ],
 "metadata": {
  "kernelspec": {
   "display_name": "atari",
   "language": "python",
   "name": "python3"
  },
  "language_info": {
   "codemirror_mode": {
    "name": "ipython",
    "version": 3
   },
   "file_extension": ".py",
   "mimetype": "text/x-python",
   "name": "python",
   "nbconvert_exporter": "python",
   "pygments_lexer": "ipython3",
   "version": "3.9.19"
  }
 },
 "nbformat": 4,
 "nbformat_minor": 2
}
