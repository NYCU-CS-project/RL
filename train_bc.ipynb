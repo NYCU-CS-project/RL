{
 "cells": [
  {
   "cell_type": "code",
   "execution_count": 1,
   "metadata": {},
   "outputs": [],
   "source": [
    "import gymnasium as gym\n",
    "import numpy as np\n",
    "from copy import deepcopy\n",
    "import torch\n",
    "from torch.distributions import Normal\n",
    "import numpy as np\n",
    "import torch.nn as nn\n",
    "import torch.nn.functional as F\n",
    "from torch.distributions import Categorical\n",
    "from torch.utils.data import Dataset, DataLoader\n",
    "from stable_baselines3.common.vec_env import VecVideoRecorder, DummyVecEnv\n",
    "import imageio\n",
    "import pandas as pd\n",
    "from tqdm import tqdm\n",
    "from PIL import Image\n",
    "from stable_baselines3.dqn.policies import MlpPolicy\n",
    "import matplotlib.pyplot as plt\n"
   ]
  },
  {
   "cell_type": "code",
   "execution_count": 2,
   "metadata": {},
   "outputs": [
    {
     "data": {
      "text/plain": [
       "0"
      ]
     },
     "execution_count": 2,
     "metadata": {},
     "output_type": "execute_result"
    }
   ],
   "source": [
    "import gc\n",
    "gc.collect()"
   ]
  },
  {
   "cell_type": "code",
   "execution_count": 3,
   "metadata": {},
   "outputs": [
    {
     "name": "stdout",
     "output_type": "stream",
     "text": [
      "Sat Apr 13 16:19:07 2024       \n",
      "+---------------------------------------------------------------------------------------+\n",
      "| NVIDIA-SMI 545.23.06              Driver Version: 545.23.06    CUDA Version: 12.3     |\n",
      "|-----------------------------------------+----------------------+----------------------+\n",
      "| GPU  Name                 Persistence-M | Bus-Id        Disp.A | Volatile Uncorr. ECC |\n",
      "| Fan  Temp   Perf          Pwr:Usage/Cap |         Memory-Usage | GPU-Util  Compute M. |\n",
      "|                                         |                      |               MIG M. |\n",
      "|=========================================+======================+======================|\n",
      "|   0  NVIDIA GeForce GTX 1080 Ti     On  | 00000000:01:00.0 Off |                  N/A |\n",
      "|  0%   39C    P8              16W / 250W |    776MiB / 11264MiB |      0%      Default |\n",
      "|                                         |                      |                  N/A |\n",
      "+-----------------------------------------+----------------------+----------------------+\n",
      "                                                                                         \n",
      "+---------------------------------------------------------------------------------------+\n",
      "| Processes:                                                                            |\n",
      "|  GPU   GI   CI        PID   Type   Process name                            GPU Memory |\n",
      "|        ID   ID                                                             Usage      |\n",
      "|=======================================================================================|\n",
      "|    0   N/A  N/A    147318      C   ...iu/miniconda3/envs/myenv/bin/python      194MiB |\n",
      "|    0   N/A  N/A    663739      C   ...iu/miniconda3/envs/myenv/bin/python      192MiB |\n",
      "|    0   N/A  N/A   1370793      C   ...81/miniconda3/envs/atari/bin/python      192MiB |\n",
      "|    0   N/A  N/A   1378106      C   ...81/miniconda3/envs/atari/bin/python      194MiB |\n",
      "+---------------------------------------------------------------------------------------+\n"
     ]
    },
    {
     "data": {
      "text/plain": [
       "device(type='cuda')"
      ]
     },
     "execution_count": 3,
     "metadata": {},
     "output_type": "execute_result"
    }
   ],
   "source": [
    "!nvidia-smi\n",
    "\n",
    "# clean up memory forcefully\n",
    "torch.cuda.empty_cache()\n",
    "torch.cuda.memory_summary(device=None, abbreviated=False)\n",
    "\n",
    "device = torch.device(\"cuda\" if torch.cuda.is_available() else \"cpu\")\n",
    "device\n",
    "\n",
    "\n",
    "\n"
   ]
  },
  {
   "cell_type": "code",
   "execution_count": 4,
   "metadata": {},
   "outputs": [
    {
     "name": "stdout",
     "output_type": "stream",
     "text": [
      "Using device: cuda\n"
     ]
    }
   ],
   "source": [
    "\n",
    "device = torch.device(\"cuda\" if torch.cuda.is_available() else \"cpu\")\n",
    "print(f\"Using device: {device}\")\n",
    "class CustomDataset(Dataset):\n",
    "    def __init__(self, observations, actions):\n",
    "        self.observations = torch.tensor(observations, dtype=torch.float32,device=device)\n",
    "        self.actions = torch.tensor(actions, dtype=torch.float32,device=device)\n",
    "\n",
    "    def __len__(self):\n",
    "        return len(self.observations)\n",
    "\n",
    "    def __getitem__(self, idx):\n",
    "        observation = self.observations[idx]\n",
    "        action = self.actions[idx]\n",
    "        return observation, action\n",
    "\n",
    "class PolicyNetwork(nn.Module):\n",
    "    def __init__(self, input_dim, output_dim):\n",
    "        super(PolicyNetwork, self).__init__()\n",
    "        self.fc1 = nn.Linear(input_dim, 32)\n",
    "        self.norm1 = nn.LayerNorm(32)\n",
    "        self.fc2 = nn.Linear(32, 32)\n",
    "        self.norm2 = nn.LayerNorm(32)\n",
    "        self.fc3 = nn.Linear(32, output_dim)\n",
    "\n",
    "    def forward(self, x):\n",
    "        x = F.relu(self.norm1(self.fc1(x)))\n",
    "        x = F.relu(self.norm2(self.fc2(x)))\n",
    "        # x = F.relu(self.fc1(x))\n",
    "        # x = F.relu(self.fc2(x))\n",
    "        x = self.fc3(x)\n",
    "        return x\n",
    "\n",
    "    "
   ]
  },
  {
   "cell_type": "code",
   "execution_count": 5,
   "metadata": {},
   "outputs": [
    {
     "name": "stdout",
     "output_type": "stream",
     "text": [
      "(28000, 2) (28000,) (28000,) (28000,) (28000,) (28000, 2)\n",
      "[-0.43945786  0.        ] 0 -1.0 False {'TimeLimit.truncated': False} [-0.44108224 -0.00162438]\n"
     ]
    }
   ],
   "source": [
    "#env_id = \"CartPole-v1\"\n",
    "env_id=\"MountainCar-v0\"\n",
    "#env = make_vec_env_sb3(env_id, n_envs=1)\n",
    "observations= np.load(\"/mnt/nfs/work/albertliu/RL/CartPole-v1/dataset/MountainCar-v0_28000_obs.npy\", allow_pickle=True)\n",
    "actions = np.load(\"/mnt/nfs/work/albertliu/RL/CartPole-v1/dataset/MountainCar-v0_28000_actions.npy\", allow_pickle=True)\n",
    "rewards = np.load(\"/mnt/nfs/work/albertliu/RL/CartPole-v1/dataset/MountainCar-v0_28000_rewards.npy\", allow_pickle=True)\n",
    "dones = np.load(\"/mnt/nfs/work/albertliu/RL/CartPole-v1/dataset/MountainCar-v0_28000_dones.npy\", allow_pickle=True)\n",
    "info = np.load(\"/mnt/nfs/work/albertliu/RL/CartPole-v1/dataset/MountainCar-v0_28000_info.npy\", allow_pickle=True)\n",
    "next_obs = np.load(\"/mnt/nfs/work/albertliu/RL/CartPole-v1/dataset/MountainCar-v0_28000_next_obs.npy\", allow_pickle=True)\n",
    "observations=observations.squeeze()\n",
    "actions=actions.squeeze()\n",
    "rewards=rewards.squeeze()\n",
    "dones=dones.squeeze()\n",
    "info=info.squeeze()\n",
    "next_obs=next_obs.squeeze()\n",
    "\n",
    "# observations = observations[:1000]\n",
    "# actions = actions[:1000]\n",
    "print(observations.shape, actions.shape, rewards.shape, dones.shape, info.shape, next_obs.shape)\n",
    "print(observations[0], actions[0], rewards[0], dones[0], info[0], next_obs[0])\n",
    "\n",
    "# print(actions)"
   ]
  },
  {
   "cell_type": "code",
   "execution_count": 6,
   "metadata": {},
   "outputs": [],
   "source": [
    "class mydataset(Dataset):\n",
    "    def __init__(self, observations, actions):\n",
    "        self.observations = torch.tensor(observations, dtype=torch.float32).to(device)\n",
    "        self.actions = torch.tensor(actions, dtype=torch.float32).to(device)\n",
    "\n",
    "    def __len__(self):\n",
    "        return len(self.observations)\n",
    "\n",
    "    def __getitem__(self, idx):\n",
    "        observation = self.observations[idx]\n",
    "        action = self.actions[idx]\n",
    "        return observation, action"
   ]
  },
  {
   "cell_type": "code",
   "execution_count": null,
   "metadata": {},
   "outputs": [],
   "source": []
  },
  {
   "cell_type": "code",
   "execution_count": 8,
   "metadata": {},
   "outputs": [
    {
     "name": "stdout",
     "output_type": "stream",
     "text": [
      "Collecting imitation\n",
      "  Using cached imitation-1.0.0-py3-none-any.whl.metadata (14 kB)\n",
      "Requirement already satisfied: gymnasium~=0.29 in /mnt/nfs/work/albertliu/miniconda3/envs/myenv/lib/python3.8/site-packages (from gymnasium[classic-control]~=0.29->imitation) (0.29.1)\n",
      "Requirement already satisfied: matplotlib in /mnt/nfs/work/albertliu/miniconda3/envs/myenv/lib/python3.8/site-packages (from imitation) (3.7.5)\n",
      "Requirement already satisfied: numpy>=1.15 in /mnt/nfs/work/albertliu/miniconda3/envs/myenv/lib/python3.8/site-packages (from imitation) (1.24.4)\n",
      "Requirement already satisfied: torch>=1.4.0 in /mnt/nfs/work/albertliu/miniconda3/envs/myenv/lib/python3.8/site-packages (from imitation) (2.2.2)\n",
      "Requirement already satisfied: tqdm in /mnt/nfs/work/albertliu/miniconda3/envs/myenv/lib/python3.8/site-packages (from imitation) (4.66.2)\n",
      "Collecting rich (from imitation)\n",
      "  Using cached rich-13.7.1-py3-none-any.whl.metadata (18 kB)\n",
      "Collecting scikit-learn>=0.21.2 (from imitation)\n",
      "  Downloading scikit_learn-1.3.2-cp38-cp38-manylinux_2_17_x86_64.manylinux2014_x86_64.whl.metadata (11 kB)\n",
      "Collecting seals~=0.2.1 (from imitation)\n",
      "  Using cached seals-0.2.1-py3-none-any.whl.metadata (8.9 kB)\n",
      "Requirement already satisfied: stable-baselines3~=2.0 in /mnt/nfs/work/albertliu/miniconda3/envs/myenv/lib/python3.8/site-packages (from imitation) (2.3.0)\n",
      "Collecting sacred>=0.8.4 (from imitation)\n",
      "  Using cached sacred-0.8.5-py2.py3-none-any.whl.metadata (13 kB)\n",
      "Collecting tensorboard>=1.14 (from imitation)\n",
      "  Using cached tensorboard-2.14.0-py3-none-any.whl.metadata (1.8 kB)\n",
      "Collecting huggingface-sb3~=3.0 (from imitation)\n",
      "  Using cached huggingface_sb3-3.0-py3-none-any.whl.metadata (6.3 kB)\n",
      "Collecting optuna>=3.0.1 (from imitation)\n",
      "  Using cached optuna-3.6.1-py3-none-any.whl.metadata (17 kB)\n",
      "Collecting datasets>=2.8.0 (from imitation)\n",
      "  Using cached datasets-2.18.0-py3-none-any.whl.metadata (20 kB)\n",
      "Requirement already satisfied: filelock in /mnt/nfs/work/albertliu/miniconda3/envs/myenv/lib/python3.8/site-packages (from datasets>=2.8.0->imitation) (3.13.3)\n",
      "Collecting pyarrow>=12.0.0 (from datasets>=2.8.0->imitation)\n",
      "  Downloading pyarrow-15.0.2-cp38-cp38-manylinux_2_28_x86_64.whl.metadata (3.0 kB)\n",
      "Collecting pyarrow-hotfix (from datasets>=2.8.0->imitation)\n",
      "  Using cached pyarrow_hotfix-0.6-py3-none-any.whl.metadata (3.6 kB)\n",
      "Collecting dill<0.3.9,>=0.3.0 (from datasets>=2.8.0->imitation)\n",
      "  Using cached dill-0.3.8-py3-none-any.whl.metadata (10 kB)\n",
      "Requirement already satisfied: pandas in /mnt/nfs/work/albertliu/miniconda3/envs/myenv/lib/python3.8/site-packages (from datasets>=2.8.0->imitation) (2.0.3)\n",
      "Collecting requests>=2.19.0 (from datasets>=2.8.0->imitation)\n",
      "  Using cached requests-2.31.0-py3-none-any.whl.metadata (4.6 kB)\n",
      "Collecting xxhash (from datasets>=2.8.0->imitation)\n",
      "  Downloading xxhash-3.4.1-cp38-cp38-manylinux_2_17_x86_64.manylinux2014_x86_64.whl.metadata (12 kB)\n",
      "Collecting multiprocess (from datasets>=2.8.0->imitation)\n",
      "  Downloading multiprocess-0.70.16-py38-none-any.whl.metadata (7.1 kB)\n",
      "Collecting fsspec<=2024.2.0,>=2023.1.0 (from fsspec[http]<=2024.2.0,>=2023.1.0->datasets>=2.8.0->imitation)\n",
      "  Using cached fsspec-2024.2.0-py3-none-any.whl.metadata (6.8 kB)\n",
      "Collecting aiohttp (from datasets>=2.8.0->imitation)\n",
      "  Downloading aiohttp-3.9.4-cp38-cp38-manylinux_2_17_x86_64.manylinux2014_x86_64.whl.metadata (7.5 kB)\n",
      "Collecting huggingface-hub>=0.19.4 (from datasets>=2.8.0->imitation)\n",
      "  Using cached huggingface_hub-0.22.2-py3-none-any.whl.metadata (12 kB)\n",
      "Requirement already satisfied: packaging in /mnt/nfs/work/albertliu/miniconda3/envs/myenv/lib/python3.8/site-packages (from datasets>=2.8.0->imitation) (24.0)\n",
      "Collecting pyyaml>=5.1 (from datasets>=2.8.0->imitation)\n",
      "  Using cached PyYAML-6.0.1-cp38-cp38-manylinux_2_17_x86_64.manylinux2014_x86_64.whl.metadata (2.1 kB)\n",
      "Requirement already satisfied: cloudpickle>=1.2.0 in /mnt/nfs/work/albertliu/miniconda3/envs/myenv/lib/python3.8/site-packages (from gymnasium~=0.29->gymnasium[classic-control]~=0.29->imitation) (3.0.0)\n",
      "Requirement already satisfied: typing-extensions>=4.3.0 in /mnt/nfs/work/albertliu/miniconda3/envs/myenv/lib/python3.8/site-packages (from gymnasium~=0.29->gymnasium[classic-control]~=0.29->imitation) (4.11.0)\n",
      "Requirement already satisfied: farama-notifications>=0.0.1 in /mnt/nfs/work/albertliu/miniconda3/envs/myenv/lib/python3.8/site-packages (from gymnasium~=0.29->gymnasium[classic-control]~=0.29->imitation) (0.0.4)\n",
      "Requirement already satisfied: importlib-metadata>=4.8.0 in /mnt/nfs/work/albertliu/miniconda3/envs/myenv/lib/python3.8/site-packages (from gymnasium~=0.29->gymnasium[classic-control]~=0.29->imitation) (7.1.0)\n",
      "Requirement already satisfied: pygame>=2.1.3 in /mnt/nfs/work/albertliu/miniconda3/envs/myenv/lib/python3.8/site-packages (from gymnasium[classic-control]~=0.29->imitation) (2.5.2)\n",
      "Collecting wasabi (from huggingface-sb3~=3.0->imitation)\n",
      "  Using cached wasabi-1.1.2-py3-none-any.whl.metadata (28 kB)\n",
      "Collecting alembic>=1.5.0 (from optuna>=3.0.1->imitation)\n",
      "  Using cached alembic-1.13.1-py3-none-any.whl.metadata (7.4 kB)\n",
      "Collecting colorlog (from optuna>=3.0.1->imitation)\n",
      "  Using cached colorlog-6.8.2-py3-none-any.whl.metadata (10 kB)\n",
      "Collecting sqlalchemy>=1.3.0 (from optuna>=3.0.1->imitation)\n",
      "  Downloading SQLAlchemy-2.0.29-cp38-cp38-manylinux_2_17_x86_64.manylinux2014_x86_64.whl.metadata (9.6 kB)\n",
      "Collecting docopt<1.0,>=0.3 (from sacred>=0.8.4->imitation)\n",
      "  Using cached docopt-0.6.2.tar.gz (25 kB)\n",
      "  Preparing metadata (setup.py) ... \u001b[?25ldone\n",
      "\u001b[?25hCollecting jsonpickle>=2.2.0 (from sacred>=0.8.4->imitation)\n",
      "  Using cached jsonpickle-3.0.4-py3-none-any.whl.metadata (2.6 kB)\n",
      "Collecting munch<5.0,>=2.5 (from sacred>=0.8.4->imitation)\n",
      "  Using cached munch-4.0.0-py2.py3-none-any.whl.metadata (5.9 kB)\n",
      "Collecting wrapt<2.0,>=1.0 (from sacred>=0.8.4->imitation)\n",
      "  Downloading wrapt-1.16.0-cp38-cp38-manylinux_2_5_x86_64.manylinux1_x86_64.manylinux_2_17_x86_64.manylinux2014_x86_64.whl.metadata (6.6 kB)\n",
      "Collecting py-cpuinfo>=4.0 (from sacred>=0.8.4->imitation)\n",
      "  Using cached py_cpuinfo-9.0.0-py3-none-any.whl.metadata (794 bytes)\n",
      "Collecting colorama>=0.4 (from sacred>=0.8.4->imitation)\n",
      "  Using cached colorama-0.4.6-py2.py3-none-any.whl.metadata (17 kB)\n",
      "Collecting GitPython (from sacred>=0.8.4->imitation)\n",
      "  Using cached GitPython-3.1.43-py3-none-any.whl.metadata (13 kB)\n",
      "Collecting scipy>=1.5.0 (from scikit-learn>=0.21.2->imitation)\n",
      "  Downloading scipy-1.10.1-cp38-cp38-manylinux_2_17_x86_64.manylinux2014_x86_64.whl.metadata (58 kB)\n",
      "\u001b[2K     ━━━━━━━━━━━━━━━━━━━━━━━━━━━━━━━━━━━━━━━━ 58.9/58.9 kB 1.5 MB/s eta 0:00:00\n",
      "\u001b[?25hCollecting joblib>=1.1.1 (from scikit-learn>=0.21.2->imitation)\n",
      "  Using cached joblib-1.4.0-py3-none-any.whl.metadata (5.4 kB)\n",
      "Collecting threadpoolctl>=2.0.0 (from scikit-learn>=0.21.2->imitation)\n",
      "  Using cached threadpoolctl-3.4.0-py3-none-any.whl.metadata (13 kB)\n",
      "Collecting absl-py>=0.4 (from tensorboard>=1.14->imitation)\n",
      "  Using cached absl_py-2.1.0-py3-none-any.whl.metadata (2.3 kB)\n",
      "Collecting grpcio>=1.48.2 (from tensorboard>=1.14->imitation)\n",
      "  Using cached grpcio-1.62.1-cp38-cp38-manylinux_2_17_x86_64.manylinux2014_x86_64.whl.metadata (4.0 kB)\n",
      "Collecting google-auth<3,>=1.6.3 (from tensorboard>=1.14->imitation)\n",
      "  Using cached google_auth-2.29.0-py2.py3-none-any.whl.metadata (4.7 kB)\n",
      "Collecting google-auth-oauthlib<1.1,>=0.5 (from tensorboard>=1.14->imitation)\n",
      "  Using cached google_auth_oauthlib-1.0.0-py2.py3-none-any.whl.metadata (2.7 kB)\n",
      "Collecting markdown>=2.6.8 (from tensorboard>=1.14->imitation)\n",
      "  Using cached Markdown-3.6-py3-none-any.whl.metadata (7.0 kB)\n",
      "Collecting protobuf>=3.19.6 (from tensorboard>=1.14->imitation)\n",
      "  Using cached protobuf-5.26.1-cp37-abi3-manylinux2014_x86_64.whl.metadata (592 bytes)\n",
      "Requirement already satisfied: setuptools>=41.0.0 in /mnt/nfs/work/albertliu/miniconda3/envs/myenv/lib/python3.8/site-packages (from tensorboard>=1.14->imitation) (68.2.2)\n",
      "Collecting tensorboard-data-server<0.8.0,>=0.7.0 (from tensorboard>=1.14->imitation)\n",
      "  Using cached tensorboard_data_server-0.7.2-py3-none-manylinux_2_31_x86_64.whl.metadata (1.1 kB)\n",
      "Collecting werkzeug>=1.0.1 (from tensorboard>=1.14->imitation)\n",
      "  Using cached werkzeug-3.0.2-py3-none-any.whl.metadata (4.1 kB)\n",
      "Requirement already satisfied: wheel>=0.26 in /mnt/nfs/work/albertliu/miniconda3/envs/myenv/lib/python3.8/site-packages (from tensorboard>=1.14->imitation) (0.41.2)\n",
      "Requirement already satisfied: sympy in /mnt/nfs/work/albertliu/miniconda3/envs/myenv/lib/python3.8/site-packages (from torch>=1.4.0->imitation) (1.12)\n",
      "Requirement already satisfied: networkx in /mnt/nfs/work/albertliu/miniconda3/envs/myenv/lib/python3.8/site-packages (from torch>=1.4.0->imitation) (3.1)\n",
      "Requirement already satisfied: jinja2 in /mnt/nfs/work/albertliu/miniconda3/envs/myenv/lib/python3.8/site-packages (from torch>=1.4.0->imitation) (3.1.3)\n",
      "Requirement already satisfied: nvidia-cuda-nvrtc-cu12==12.1.105 in /mnt/nfs/work/albertliu/miniconda3/envs/myenv/lib/python3.8/site-packages (from torch>=1.4.0->imitation) (12.1.105)\n",
      "Requirement already satisfied: nvidia-cuda-runtime-cu12==12.1.105 in /mnt/nfs/work/albertliu/miniconda3/envs/myenv/lib/python3.8/site-packages (from torch>=1.4.0->imitation) (12.1.105)\n",
      "Requirement already satisfied: nvidia-cuda-cupti-cu12==12.1.105 in /mnt/nfs/work/albertliu/miniconda3/envs/myenv/lib/python3.8/site-packages (from torch>=1.4.0->imitation) (12.1.105)\n",
      "Requirement already satisfied: nvidia-cudnn-cu12==8.9.2.26 in /mnt/nfs/work/albertliu/miniconda3/envs/myenv/lib/python3.8/site-packages (from torch>=1.4.0->imitation) (8.9.2.26)\n",
      "Requirement already satisfied: nvidia-cublas-cu12==12.1.3.1 in /mnt/nfs/work/albertliu/miniconda3/envs/myenv/lib/python3.8/site-packages (from torch>=1.4.0->imitation) (12.1.3.1)\n",
      "Requirement already satisfied: nvidia-cufft-cu12==11.0.2.54 in /mnt/nfs/work/albertliu/miniconda3/envs/myenv/lib/python3.8/site-packages (from torch>=1.4.0->imitation) (11.0.2.54)\n",
      "Requirement already satisfied: nvidia-curand-cu12==10.3.2.106 in /mnt/nfs/work/albertliu/miniconda3/envs/myenv/lib/python3.8/site-packages (from torch>=1.4.0->imitation) (10.3.2.106)\n",
      "Requirement already satisfied: nvidia-cusolver-cu12==11.4.5.107 in /mnt/nfs/work/albertliu/miniconda3/envs/myenv/lib/python3.8/site-packages (from torch>=1.4.0->imitation) (11.4.5.107)\n",
      "Requirement already satisfied: nvidia-cusparse-cu12==12.1.0.106 in /mnt/nfs/work/albertliu/miniconda3/envs/myenv/lib/python3.8/site-packages (from torch>=1.4.0->imitation) (12.1.0.106)\n",
      "Requirement already satisfied: nvidia-nccl-cu12==2.19.3 in /mnt/nfs/work/albertliu/miniconda3/envs/myenv/lib/python3.8/site-packages (from torch>=1.4.0->imitation) (2.19.3)\n",
      "Requirement already satisfied: nvidia-nvtx-cu12==12.1.105 in /mnt/nfs/work/albertliu/miniconda3/envs/myenv/lib/python3.8/site-packages (from torch>=1.4.0->imitation) (12.1.105)\n",
      "Requirement already satisfied: triton==2.2.0 in /mnt/nfs/work/albertliu/miniconda3/envs/myenv/lib/python3.8/site-packages (from torch>=1.4.0->imitation) (2.2.0)\n",
      "Requirement already satisfied: nvidia-nvjitlink-cu12 in /mnt/nfs/work/albertliu/miniconda3/envs/myenv/lib/python3.8/site-packages (from nvidia-cusolver-cu12==11.4.5.107->torch>=1.4.0->imitation) (12.4.127)\n",
      "Requirement already satisfied: contourpy>=1.0.1 in /mnt/nfs/work/albertliu/miniconda3/envs/myenv/lib/python3.8/site-packages (from matplotlib->imitation) (1.1.1)\n",
      "Requirement already satisfied: cycler>=0.10 in /mnt/nfs/work/albertliu/miniconda3/envs/myenv/lib/python3.8/site-packages (from matplotlib->imitation) (0.12.1)\n",
      "Requirement already satisfied: fonttools>=4.22.0 in /mnt/nfs/work/albertliu/miniconda3/envs/myenv/lib/python3.8/site-packages (from matplotlib->imitation) (4.51.0)\n",
      "Requirement already satisfied: kiwisolver>=1.0.1 in /mnt/nfs/work/albertliu/miniconda3/envs/myenv/lib/python3.8/site-packages (from matplotlib->imitation) (1.4.5)\n",
      "Requirement already satisfied: pillow>=6.2.0 in /mnt/nfs/work/albertliu/miniconda3/envs/myenv/lib/python3.8/site-packages (from matplotlib->imitation) (10.3.0)\n",
      "Requirement already satisfied: pyparsing>=2.3.1 in /mnt/nfs/work/albertliu/miniconda3/envs/myenv/lib/python3.8/site-packages (from matplotlib->imitation) (3.1.2)\n",
      "Requirement already satisfied: python-dateutil>=2.7 in /mnt/nfs/work/albertliu/miniconda3/envs/myenv/lib/python3.8/site-packages (from matplotlib->imitation) (2.9.0)\n",
      "Requirement already satisfied: importlib-resources>=3.2.0 in /mnt/nfs/work/albertliu/miniconda3/envs/myenv/lib/python3.8/site-packages (from matplotlib->imitation) (6.4.0)\n",
      "Collecting markdown-it-py>=2.2.0 (from rich->imitation)\n",
      "  Using cached markdown_it_py-3.0.0-py3-none-any.whl.metadata (6.9 kB)\n",
      "Requirement already satisfied: pygments<3.0.0,>=2.13.0 in /mnt/nfs/work/albertliu/miniconda3/envs/myenv/lib/python3.8/site-packages (from rich->imitation) (2.17.2)\n",
      "Collecting Mako (from alembic>=1.5.0->optuna>=3.0.1->imitation)\n",
      "  Using cached Mako-1.3.3-py3-none-any.whl.metadata (2.9 kB)\n",
      "Collecting aiosignal>=1.1.2 (from aiohttp->datasets>=2.8.0->imitation)\n",
      "  Using cached aiosignal-1.3.1-py3-none-any.whl.metadata (4.0 kB)\n",
      "Collecting attrs>=17.3.0 (from aiohttp->datasets>=2.8.0->imitation)\n",
      "  Using cached attrs-23.2.0-py3-none-any.whl.metadata (9.5 kB)\n",
      "Collecting frozenlist>=1.1.1 (from aiohttp->datasets>=2.8.0->imitation)\n",
      "  Downloading frozenlist-1.4.1-cp38-cp38-manylinux_2_5_x86_64.manylinux1_x86_64.manylinux_2_17_x86_64.manylinux2014_x86_64.whl.metadata (12 kB)\n",
      "Collecting multidict<7.0,>=4.5 (from aiohttp->datasets>=2.8.0->imitation)\n",
      "  Downloading multidict-6.0.5-cp38-cp38-manylinux_2_17_x86_64.manylinux2014_x86_64.whl.metadata (4.2 kB)\n",
      "Collecting yarl<2.0,>=1.0 (from aiohttp->datasets>=2.8.0->imitation)\n",
      "  Downloading yarl-1.9.4-cp38-cp38-manylinux_2_17_x86_64.manylinux2014_x86_64.whl.metadata (31 kB)\n",
      "Collecting async-timeout<5.0,>=4.0 (from aiohttp->datasets>=2.8.0->imitation)\n",
      "  Downloading async_timeout-4.0.3-py3-none-any.whl.metadata (4.2 kB)\n",
      "Collecting cachetools<6.0,>=2.0.0 (from google-auth<3,>=1.6.3->tensorboard>=1.14->imitation)\n",
      "  Using cached cachetools-5.3.3-py3-none-any.whl.metadata (5.3 kB)\n",
      "Collecting pyasn1-modules>=0.2.1 (from google-auth<3,>=1.6.3->tensorboard>=1.14->imitation)\n",
      "  Using cached pyasn1_modules-0.4.0-py3-none-any.whl.metadata (3.4 kB)\n",
      "Collecting rsa<5,>=3.1.4 (from google-auth<3,>=1.6.3->tensorboard>=1.14->imitation)\n",
      "  Using cached rsa-4.9-py3-none-any.whl.metadata (4.2 kB)\n",
      "Collecting requests-oauthlib>=0.7.0 (from google-auth-oauthlib<1.1,>=0.5->tensorboard>=1.14->imitation)\n",
      "  Using cached requests_oauthlib-2.0.0-py2.py3-none-any.whl.metadata (11 kB)\n",
      "Requirement already satisfied: zipp>=0.5 in /mnt/nfs/work/albertliu/miniconda3/envs/myenv/lib/python3.8/site-packages (from importlib-metadata>=4.8.0->gymnasium~=0.29->gymnasium[classic-control]~=0.29->imitation) (3.17.0)\n",
      "Collecting mdurl~=0.1 (from markdown-it-py>=2.2.0->rich->imitation)\n",
      "  Using cached mdurl-0.1.2-py3-none-any.whl.metadata (1.6 kB)\n",
      "Requirement already satisfied: six>=1.5 in /mnt/nfs/work/albertliu/miniconda3/envs/myenv/lib/python3.8/site-packages (from python-dateutil>=2.7->matplotlib->imitation) (1.16.0)\n",
      "Collecting charset-normalizer<4,>=2 (from requests>=2.19.0->datasets>=2.8.0->imitation)\n",
      "  Using cached charset_normalizer-3.3.2-cp38-cp38-manylinux_2_17_x86_64.manylinux2014_x86_64.whl.metadata (33 kB)\n",
      "Collecting idna<4,>=2.5 (from requests>=2.19.0->datasets>=2.8.0->imitation)\n",
      "  Downloading idna-3.7-py3-none-any.whl.metadata (9.9 kB)\n",
      "Collecting urllib3<3,>=1.21.1 (from requests>=2.19.0->datasets>=2.8.0->imitation)\n",
      "  Using cached urllib3-2.2.1-py3-none-any.whl.metadata (6.4 kB)\n",
      "Requirement already satisfied: certifi>=2017.4.17 in /mnt/nfs/work/albertliu/miniconda3/envs/myenv/lib/python3.8/site-packages (from requests>=2.19.0->datasets>=2.8.0->imitation) (2024.2.2)\n",
      "Collecting greenlet!=0.4.17 (from sqlalchemy>=1.3.0->optuna>=3.0.1->imitation)\n",
      "  Downloading greenlet-3.0.3-cp38-cp38-manylinux_2_24_x86_64.manylinux_2_28_x86_64.whl.metadata (3.8 kB)\n",
      "Requirement already satisfied: MarkupSafe>=2.1.1 in /mnt/nfs/work/albertliu/miniconda3/envs/myenv/lib/python3.8/site-packages (from werkzeug>=1.0.1->tensorboard>=1.14->imitation) (2.1.5)\n",
      "Collecting gitdb<5,>=4.0.1 (from GitPython->sacred>=0.8.4->imitation)\n",
      "  Using cached gitdb-4.0.11-py3-none-any.whl.metadata (1.2 kB)\n",
      "Requirement already satisfied: pytz>=2020.1 in /mnt/nfs/work/albertliu/miniconda3/envs/myenv/lib/python3.8/site-packages (from pandas->datasets>=2.8.0->imitation) (2024.1)\n",
      "Requirement already satisfied: tzdata>=2022.1 in /mnt/nfs/work/albertliu/miniconda3/envs/myenv/lib/python3.8/site-packages (from pandas->datasets>=2.8.0->imitation) (2024.1)\n",
      "Requirement already satisfied: mpmath>=0.19 in /mnt/nfs/work/albertliu/miniconda3/envs/myenv/lib/python3.8/site-packages (from sympy->torch>=1.4.0->imitation) (1.3.0)\n",
      "Collecting smmap<6,>=3.0.1 (from gitdb<5,>=4.0.1->GitPython->sacred>=0.8.4->imitation)\n",
      "  Using cached smmap-5.0.1-py3-none-any.whl.metadata (4.3 kB)\n",
      "Collecting pyasn1<0.7.0,>=0.4.6 (from pyasn1-modules>=0.2.1->google-auth<3,>=1.6.3->tensorboard>=1.14->imitation)\n",
      "  Using cached pyasn1-0.6.0-py2.py3-none-any.whl.metadata (8.3 kB)\n",
      "Collecting oauthlib>=3.0.0 (from requests-oauthlib>=0.7.0->google-auth-oauthlib<1.1,>=0.5->tensorboard>=1.14->imitation)\n",
      "  Using cached oauthlib-3.2.2-py3-none-any.whl.metadata (7.5 kB)\n",
      "Using cached imitation-1.0.0-py3-none-any.whl (216 kB)\n",
      "Using cached datasets-2.18.0-py3-none-any.whl (510 kB)\n",
      "Using cached huggingface_sb3-3.0-py3-none-any.whl (9.7 kB)\n",
      "Using cached optuna-3.6.1-py3-none-any.whl (380 kB)\n",
      "Using cached sacred-0.8.5-py2.py3-none-any.whl (107 kB)\n",
      "Downloading scikit_learn-1.3.2-cp38-cp38-manylinux_2_17_x86_64.manylinux2014_x86_64.whl (11.1 MB)\n",
      "\u001b[2K   ━━━━━━━━━━━━━━━━━━━━━━━━━━━━━━━━━━━━━━━━ 11.1/11.1 MB 31.5 MB/s eta 0:00:00\n",
      "\u001b[?25hUsing cached seals-0.2.1-py3-none-any.whl (35 kB)\n",
      "Using cached tensorboard-2.14.0-py3-none-any.whl (5.5 MB)\n",
      "Using cached rich-13.7.1-py3-none-any.whl (240 kB)\n",
      "Using cached absl_py-2.1.0-py3-none-any.whl (133 kB)\n",
      "Using cached alembic-1.13.1-py3-none-any.whl (233 kB)\n",
      "Using cached colorama-0.4.6-py2.py3-none-any.whl (25 kB)\n",
      "Using cached dill-0.3.8-py3-none-any.whl (116 kB)\n",
      "Using cached fsspec-2024.2.0-py3-none-any.whl (170 kB)\n",
      "Downloading aiohttp-3.9.4-cp38-cp38-manylinux_2_17_x86_64.manylinux2014_x86_64.whl (1.3 MB)\n",
      "\u001b[2K   ━━━━━━━━━━━━━━━━━━━━━━━━━━━━━━━━━━━━━━━━ 1.3/1.3 MB 31.9 MB/s eta 0:00:00\n",
      "\u001b[?25hUsing cached google_auth-2.29.0-py2.py3-none-any.whl (189 kB)\n",
      "Using cached google_auth_oauthlib-1.0.0-py2.py3-none-any.whl (18 kB)\n",
      "Using cached grpcio-1.62.1-cp38-cp38-manylinux_2_17_x86_64.manylinux2014_x86_64.whl (5.6 MB)\n",
      "Using cached huggingface_hub-0.22.2-py3-none-any.whl (388 kB)\n",
      "Using cached joblib-1.4.0-py3-none-any.whl (301 kB)\n",
      "Using cached jsonpickle-3.0.4-py3-none-any.whl (39 kB)\n",
      "Using cached Markdown-3.6-py3-none-any.whl (105 kB)\n",
      "Using cached markdown_it_py-3.0.0-py3-none-any.whl (87 kB)\n",
      "Using cached munch-4.0.0-py2.py3-none-any.whl (9.9 kB)\n",
      "Using cached protobuf-5.26.1-cp37-abi3-manylinux2014_x86_64.whl (302 kB)\n",
      "Using cached py_cpuinfo-9.0.0-py3-none-any.whl (22 kB)\n",
      "Downloading pyarrow-15.0.2-cp38-cp38-manylinux_2_28_x86_64.whl (38.4 MB)\n",
      "\u001b[2K   ━━━━━━━━━━━━━━━━━━━━━━━━━━━━━━━━━━━━━━━━ 38.4/38.4 MB 28.6 MB/s eta 0:00:00\n",
      "\u001b[?25hUsing cached PyYAML-6.0.1-cp38-cp38-manylinux_2_17_x86_64.manylinux2014_x86_64.whl (736 kB)\n",
      "Using cached requests-2.31.0-py3-none-any.whl (62 kB)\n",
      "Downloading scipy-1.10.1-cp38-cp38-manylinux_2_17_x86_64.manylinux2014_x86_64.whl (34.5 MB)\n",
      "\u001b[2K   ━━━━━━━━━━━━━━━━━━━━━━━━━━━━━━━━━━━━━━━━ 34.5/34.5 MB 29.4 MB/s eta 0:00:00\n",
      "\u001b[?25hDownloading SQLAlchemy-2.0.29-cp38-cp38-manylinux_2_17_x86_64.manylinux2014_x86_64.whl (3.1 MB)\n",
      "\u001b[2K   ━━━━━━━━━━━━━━━━━━━━━━━━━━━━━━━━━━━━━━━━ 3.1/3.1 MB 37.1 MB/s eta 0:00:00\n",
      "\u001b[?25hUsing cached tensorboard_data_server-0.7.2-py3-none-manylinux_2_31_x86_64.whl (6.6 MB)\n",
      "Using cached threadpoolctl-3.4.0-py3-none-any.whl (17 kB)\n",
      "Using cached werkzeug-3.0.2-py3-none-any.whl (226 kB)\n",
      "Downloading wrapt-1.16.0-cp38-cp38-manylinux_2_5_x86_64.manylinux1_x86_64.manylinux_2_17_x86_64.manylinux2014_x86_64.whl (83 kB)\n",
      "\u001b[2K   ━━━━━━━━━━━━━━━━━━━━━━━━━━━━━━━━━━━━━━━━ 83.4/83.4 kB 9.9 MB/s eta 0:00:00\n",
      "\u001b[?25hUsing cached colorlog-6.8.2-py3-none-any.whl (11 kB)\n",
      "Using cached GitPython-3.1.43-py3-none-any.whl (207 kB)\n",
      "Downloading multiprocess-0.70.16-py38-none-any.whl (132 kB)\n",
      "\u001b[2K   ━━━━━━━━━━━━━━━━━━━━━━━━━━━━━━━━━━━━━━━━ 132.6/132.6 kB 16.3 MB/s eta 0:00:00\n",
      "\u001b[?25hUsing cached pyarrow_hotfix-0.6-py3-none-any.whl (7.9 kB)\n",
      "Using cached wasabi-1.1.2-py3-none-any.whl (27 kB)\n",
      "Downloading xxhash-3.4.1-cp38-cp38-manylinux_2_17_x86_64.manylinux2014_x86_64.whl (194 kB)\n",
      "\u001b[2K   ━━━━━━━━━━━━━━━━━━━━━━━━━━━━━━━━━━━━━━━━ 194.6/194.6 kB 22.2 MB/s eta 0:00:00\n",
      "\u001b[?25hUsing cached aiosignal-1.3.1-py3-none-any.whl (7.6 kB)\n",
      "Downloading async_timeout-4.0.3-py3-none-any.whl (5.7 kB)\n",
      "Using cached attrs-23.2.0-py3-none-any.whl (60 kB)\n",
      "Using cached cachetools-5.3.3-py3-none-any.whl (9.3 kB)\n",
      "Using cached charset_normalizer-3.3.2-cp38-cp38-manylinux_2_17_x86_64.manylinux2014_x86_64.whl (141 kB)\n",
      "Downloading frozenlist-1.4.1-cp38-cp38-manylinux_2_5_x86_64.manylinux1_x86_64.manylinux_2_17_x86_64.manylinux2014_x86_64.whl (240 kB)\n",
      "\u001b[2K   ━━━━━━━━━━━━━━━━━━━━━━━━━━━━━━━━━━━━━━━━ 240.9/240.9 kB 25.8 MB/s eta 0:00:00\n",
      "\u001b[?25hUsing cached gitdb-4.0.11-py3-none-any.whl (62 kB)\n",
      "Downloading greenlet-3.0.3-cp38-cp38-manylinux_2_24_x86_64.manylinux_2_28_x86_64.whl (622 kB)\n",
      "\u001b[2K   ━━━━━━━━━━━━━━━━━━━━━━━━━━━━━━━━━━━━━━━━ 622.3/622.3 kB 51.8 MB/s eta 0:00:00\n",
      "\u001b[?25hDownloading idna-3.7-py3-none-any.whl (66 kB)\n",
      "\u001b[2K   ━━━━━━━━━━━━━━━━━━━━━━━━━━━━━━━━━━━━━━━━ 66.8/66.8 kB 8.0 MB/s eta 0:00:00\n",
      "\u001b[?25hUsing cached mdurl-0.1.2-py3-none-any.whl (10.0 kB)\n",
      "Downloading multidict-6.0.5-cp38-cp38-manylinux_2_17_x86_64.manylinux2014_x86_64.whl (129 kB)\n",
      "\u001b[2K   ━━━━━━━━━━━━━━━━━━━━━━━━━━━━━━━━━━━━━━━━ 129.3/129.3 kB 37.9 MB/s eta 0:00:00\n",
      "\u001b[?25hUsing cached pyasn1_modules-0.4.0-py3-none-any.whl (181 kB)\n",
      "Using cached requests_oauthlib-2.0.0-py2.py3-none-any.whl (24 kB)\n",
      "Using cached rsa-4.9-py3-none-any.whl (34 kB)\n",
      "Using cached urllib3-2.2.1-py3-none-any.whl (121 kB)\n",
      "Downloading yarl-1.9.4-cp38-cp38-manylinux_2_17_x86_64.manylinux2014_x86_64.whl (308 kB)\n",
      "\u001b[2K   ━━━━━━━━━━━━━━━━━━━━━━━━━━━━━━━━━━━━━━━━ 308.8/308.8 kB 45.9 MB/s eta 0:00:00\n",
      "\u001b[?25hUsing cached Mako-1.3.3-py3-none-any.whl (78 kB)\n",
      "Using cached oauthlib-3.2.2-py3-none-any.whl (151 kB)\n",
      "Using cached pyasn1-0.6.0-py2.py3-none-any.whl (85 kB)\n",
      "Using cached smmap-5.0.1-py3-none-any.whl (24 kB)\n",
      "Building wheels for collected packages: docopt\n",
      "  Building wheel for docopt (setup.py) ... \u001b[?25ldone\n",
      "\u001b[?25h  Created wheel for docopt: filename=docopt-0.6.2-py2.py3-none-any.whl size=13705 sha256=73d873f6b6b420b0e4129b0783109e7b7cd3cdf8d1f98465071a89d5d6f307fa\n",
      "  Stored in directory: /mnt/local/work/albertliu/.cache/pip/wheels/56/ea/58/ead137b087d9e326852a851351d1debf4ada529b6ac0ec4e8c\n",
      "Successfully built docopt\n",
      "Installing collected packages: py-cpuinfo, docopt, xxhash, wrapt, werkzeug, wasabi, urllib3, threadpoolctl, tensorboard-data-server, smmap, scipy, pyyaml, pyasn1, pyarrow-hotfix, pyarrow, protobuf, oauthlib, munch, multidict, mdurl, Mako, jsonpickle, joblib, idna, grpcio, greenlet, fsspec, frozenlist, dill, colorlog, colorama, charset-normalizer, cachetools, attrs, async-timeout, absl-py, yarl, sqlalchemy, scikit-learn, rsa, requests, pyasn1-modules, multiprocess, markdown-it-py, markdown, gitdb, aiosignal, seals, rich, requests-oauthlib, huggingface-hub, google-auth, GitPython, alembic, aiohttp, sacred, optuna, huggingface-sb3, google-auth-oauthlib, tensorboard, datasets, imitation\n",
      "  Attempting uninstall: fsspec\n",
      "    Found existing installation: fsspec 2024.3.1\n",
      "    Uninstalling fsspec-2024.3.1:\n",
      "      Successfully uninstalled fsspec-2024.3.1\n",
      "Successfully installed GitPython-3.1.43 Mako-1.3.3 absl-py-2.1.0 aiohttp-3.9.4 aiosignal-1.3.1 alembic-1.13.1 async-timeout-4.0.3 attrs-23.2.0 cachetools-5.3.3 charset-normalizer-3.3.2 colorama-0.4.6 colorlog-6.8.2 datasets-2.18.0 dill-0.3.8 docopt-0.6.2 frozenlist-1.4.1 fsspec-2024.2.0 gitdb-4.0.11 google-auth-2.29.0 google-auth-oauthlib-1.0.0 greenlet-3.0.3 grpcio-1.62.1 huggingface-hub-0.22.2 huggingface-sb3-3.0 idna-3.7 imitation-1.0.0 joblib-1.4.0 jsonpickle-3.0.4 markdown-3.6 markdown-it-py-3.0.0 mdurl-0.1.2 multidict-6.0.5 multiprocess-0.70.16 munch-4.0.0 oauthlib-3.2.2 optuna-3.6.1 protobuf-5.26.1 py-cpuinfo-9.0.0 pyarrow-15.0.2 pyarrow-hotfix-0.6 pyasn1-0.6.0 pyasn1-modules-0.4.0 pyyaml-6.0.1 requests-2.31.0 requests-oauthlib-2.0.0 rich-13.7.1 rsa-4.9 sacred-0.8.5 scikit-learn-1.3.2 scipy-1.10.1 seals-0.2.1 smmap-5.0.1 sqlalchemy-2.0.29 tensorboard-2.14.0 tensorboard-data-server-0.7.2 threadpoolctl-3.4.0 urllib3-2.2.1 wasabi-1.1.2 werkzeug-3.0.2 wrapt-1.16.0 xxhash-3.4.1 yarl-1.9.4\n"
     ]
    },
    {
     "name": "stderr",
     "output_type": "stream",
     "text": [
      "/mnt/nfs/work/albertliu/miniconda3/envs/myenv/lib/python3.8/site-packages/tqdm/auto.py:21: TqdmWarning: IProgress not found. Please update jupyter and ipywidgets. See https://ipywidgets.readthedocs.io/en/stable/user_install.html\n",
      "  from .autonotebook import tqdm as notebook_tqdm\n"
     ]
    }
   ],
   "source": [
    "!pip install imitation\n",
    "import numpy as np\n",
    "import gymnasium as gym\n",
    "from imitation.policies.serialize import load_policy\n",
    "from imitation.util.util import make_vec_env\n",
    "from imitation.data.wrappers import RolloutInfoWrapper\n",
    "\n",
    "env = make_vec_env(\n",
    "    \"seals:seals/MountainCar-v0\",\n",
    "    rng=np.random.default_rng(),\n",
    "    post_wrappers=[\n",
    "        lambda env, _: RolloutInfoWrapper(env)\n",
    "    ],  # needed for computing rollouts later\n",
    ")\n",
    "expert = load_policy(\n",
    "    \"ppo-huggingface\",\n",
    "    organization=\"HumanCompatibleAI\",\n",
    "    env_name=\"seals/MountainCar-v0\",\n",
    "    venv=env,\n",
    ")"
   ]
  },
  {
   "cell_type": "code",
   "execution_count": 9,
   "metadata": {},
   "outputs": [
    {
     "name": "stdout",
     "output_type": "stream",
     "text": [
      "-97.9\n"
     ]
    }
   ],
   "source": [
    "from stable_baselines3.common.evaluation import evaluate_policy\n",
    "\n",
    "reward, _ = evaluate_policy(expert, env, 10)\n",
    "print(reward)"
   ]
  },
  {
   "cell_type": "code",
   "execution_count": 10,
   "metadata": {},
   "outputs": [],
   "source": [
    "from imitation.data import rollout, types as rtypes"
   ]
  },
  {
   "cell_type": "code",
   "execution_count": 11,
   "metadata": {},
   "outputs": [],
   "source": [
    "\n",
    "rng = np.random.default_rng()\n",
    "rollouts = rollout.rollout(\n",
    "    expert,\n",
    "    env,\n",
    "    rollout.make_sample_until(min_timesteps=None, min_episodes=50),\n",
    "    rng=rng,\n",
    ")\n",
    "transitions = rollout.flatten_trajectories(rollouts)"
   ]
  },
  {
   "cell_type": "code",
   "execution_count": 12,
   "metadata": {},
   "outputs": [
    {
     "name": "stdout",
     "output_type": "stream",
     "text": [
      "(11200, 2) (11200,)\n"
     ]
    }
   ],
   "source": [
    "print(transitions.obs.shape, transitions.acts.shape)\n",
    "my=rtypes.Transitions(obs=observations, acts=actions, dones=dones, infos=info, next_obs=next_obs)\n"
   ]
  },
  {
   "cell_type": "code",
   "execution_count": 13,
   "metadata": {},
   "outputs": [
    {
     "name": "stdout",
     "output_type": "stream",
     "text": [
      "The `rollout` function generated a list of 56 <class 'imitation.data.types.TrajectoryWithRew'>.\n",
      "After flattening, this list is turned into a <class 'imitation.data.types.Transitions'> object containing 11200 transitions.\n",
      "The transitions object contains arrays for: obs, acts, infos, next_obs, dones.\"\n",
      "\n"
     ]
    }
   ],
   "source": [
    "print(\n",
    "    f\"\"\"The `rollout` function generated a list of {len(rollouts)} {type(rollouts[0])}.\n",
    "After flattening, this list is turned into a {type(transitions)} object containing {len(transitions)} transitions.\n",
    "The transitions object contains arrays for: {', '.join(transitions.__dict__.keys())}.\"\n",
    "\"\"\"\n",
    ")\n"
   ]
  },
  {
   "cell_type": "code",
   "execution_count": 14,
   "metadata": {},
   "outputs": [
    {
     "name": "stdout",
     "output_type": "stream",
     "text": [
      "FeedForward32Policy(\n",
      "  (features_extractor): FlattenExtractor(\n",
      "    (flatten): Flatten(start_dim=1, end_dim=-1)\n",
      "  )\n",
      "  (pi_features_extractor): FlattenExtractor(\n",
      "    (flatten): Flatten(start_dim=1, end_dim=-1)\n",
      "  )\n",
      "  (vf_features_extractor): FlattenExtractor(\n",
      "    (flatten): Flatten(start_dim=1, end_dim=-1)\n",
      "  )\n",
      "  (mlp_extractor): MlpExtractor(\n",
      "    (policy_net): Sequential(\n",
      "      (0): Linear(in_features=2, out_features=32, bias=True)\n",
      "      (1): Tanh()\n",
      "      (2): Linear(in_features=32, out_features=32, bias=True)\n",
      "      (3): Tanh()\n",
      "    )\n",
      "    (value_net): Sequential(\n",
      "      (0): Linear(in_features=2, out_features=32, bias=True)\n",
      "      (1): Tanh()\n",
      "      (2): Linear(in_features=32, out_features=32, bias=True)\n",
      "      (3): Tanh()\n",
      "    )\n",
      "  )\n",
      "  (action_net): Linear(in_features=32, out_features=3, bias=True)\n",
      "  (value_net): Linear(in_features=32, out_features=1, bias=True)\n",
      ")\n"
     ]
    }
   ],
   "source": [
    "from imitation.algorithms import bc\n",
    "bc_trainer = bc.BC(\n",
    "    observation_space=env.observation_space,\n",
    "    action_space=env.action_space,\n",
    "    demonstrations=my,\n",
    "    rng=rng,\n",
    "    device=\"cpu\"\n",
    ")\n",
    "print(bc_trainer.policy)"
   ]
  },
  {
   "cell_type": "code",
   "execution_count": 15,
   "metadata": {},
   "outputs": [
    {
     "name": "stdout",
     "output_type": "stream",
     "text": [
      "Reward before training: -200.0\n"
     ]
    }
   ],
   "source": [
    "reward_before_training, _ = evaluate_policy(bc_trainer.policy, env, 10)\n",
    "print(f\"Reward before training: {reward_before_training}\")"
   ]
  },
  {
   "cell_type": "code",
   "execution_count": 16,
   "metadata": {},
   "outputs": [
    {
     "name": "stderr",
     "output_type": "stream",
     "text": [
      "0batch [00:00, ?batch/s]"
     ]
    },
    {
     "name": "stdout",
     "output_type": "stream",
     "text": [
      "--------------------------------\n",
      "| batch_size        | 32       |\n",
      "| bc/               |          |\n",
      "|    batch          | 0        |\n",
      "|    ent_loss       | -0.0011  |\n",
      "|    entropy        | 1.1      |\n",
      "|    epoch          | 0        |\n",
      "|    l2_loss        | 0        |\n",
      "|    l2_norm        | 68.5     |\n",
      "|    loss           | 1.1      |\n",
      "|    neglogp        | 1.1      |\n",
      "|    prob_true_act  | 0.334    |\n",
      "|    samples_so_far | 32       |\n",
      "--------------------------------\n"
     ]
    },
    {
     "name": "stderr",
     "output_type": "stream",
     "text": [
      "470batch [00:01, 427.18batch/s]"
     ]
    },
    {
     "name": "stdout",
     "output_type": "stream",
     "text": [
      "---------------------------------\n",
      "| batch_size        | 32        |\n",
      "| bc/               |           |\n",
      "|    batch          | 500       |\n",
      "|    ent_loss       | -0.000734 |\n",
      "|    entropy        | 0.734     |\n",
      "|    epoch          | 0         |\n",
      "|    l2_loss        | 0         |\n",
      "|    l2_norm        | 92.6      |\n",
      "|    loss           | 0.623     |\n",
      "|    neglogp        | 0.624     |\n",
      "|    prob_true_act  | 0.586     |\n",
      "|    samples_so_far | 16032     |\n",
      "---------------------------------\n"
     ]
    },
    {
     "name": "stderr",
     "output_type": "stream",
     "text": [
      "875batch [00:02, 416.94batch/s]\n"
     ]
    },
    {
     "name": "stdout",
     "output_type": "stream",
     "text": [
      "Reward after training: -122.6\n"
     ]
    }
   ],
   "source": [
    "bc_trainer.train(n_epochs=1)\n",
    "reward_after_training, _ = evaluate_policy(bc_trainer.policy, env, 10)\n",
    "print(f\"Reward after training: {reward_after_training}\")"
   ]
  },
  {
   "cell_type": "code",
   "execution_count": 17,
   "metadata": {},
   "outputs": [
    {
     "name": "stderr",
     "output_type": "stream",
     "text": [
      "Epoch [1/1]:   1%|          | 10/1750 [00:00<00:17, 99.63it/s, loss=0.819]/tmp/ipykernel_725751/3994917655.py:82: UserWarning: Creating a tensor from a list of numpy.ndarrays is extremely slow. Please consider converting the list to a single numpy.ndarray with numpy.array() before converting to a tensor. (Triggered internally at ../torch/csrc/utils/tensor_new.cpp:275.)\n",
      "  state_tensor = torch.tensor([state], dtype=torch.float32).to(device)\n",
      "Epoch [1/1]:   2%|▏         | 32/1750 [00:05<05:16,  5.43it/s, loss=0.689]"
     ]
    },
    {
     "name": "stdout",
     "output_type": "stream",
     "text": [
      "[-200.]\n"
     ]
    },
    {
     "name": "stderr",
     "output_type": "stream",
     "text": [
      "Epoch [1/1]:   4%|▎         | 63/1750 [00:10<04:51,  5.78it/s, loss=0.526]"
     ]
    },
    {
     "name": "stdout",
     "output_type": "stream",
     "text": [
      "[-200.]\n"
     ]
    },
    {
     "name": "stderr",
     "output_type": "stream",
     "text": [
      "Epoch [1/1]:   5%|▌         | 94/1750 [00:15<04:41,  5.88it/s, loss=0.526]"
     ]
    },
    {
     "name": "stdout",
     "output_type": "stream",
     "text": [
      "[-200.]\n"
     ]
    },
    {
     "name": "stderr",
     "output_type": "stream",
     "text": [
      "Epoch [1/1]:   7%|▋         | 125/1750 [00:20<04:32,  5.95it/s, loss=0.447]"
     ]
    },
    {
     "name": "stdout",
     "output_type": "stream",
     "text": [
      "[-200.]\n"
     ]
    },
    {
     "name": "stderr",
     "output_type": "stream",
     "text": [
      "Epoch [1/1]:   9%|▉         | 157/1750 [00:25<04:22,  6.07it/s, loss=0.399]"
     ]
    },
    {
     "name": "stdout",
     "output_type": "stream",
     "text": [
      "[-195.9]\n"
     ]
    },
    {
     "name": "stderr",
     "output_type": "stream",
     "text": [
      "Epoch [1/1]:  11%|█         | 188/1750 [00:31<04:17,  6.06it/s, loss=0.318]"
     ]
    },
    {
     "name": "stdout",
     "output_type": "stream",
     "text": [
      "[-196.2]\n"
     ]
    },
    {
     "name": "stderr",
     "output_type": "stream",
     "text": [
      "Epoch [1/1]:  13%|█▎        | 219/1750 [00:36<04:11,  6.08it/s, loss=0.556]"
     ]
    },
    {
     "name": "stdout",
     "output_type": "stream",
     "text": [
      "[-174.7]\n"
     ]
    },
    {
     "name": "stderr",
     "output_type": "stream",
     "text": [
      "Epoch [1/1]:  14%|█▍        | 250/1750 [00:40<03:55,  6.37it/s, loss=0.251]"
     ]
    },
    {
     "name": "stdout",
     "output_type": "stream",
     "text": [
      "[-177.8]\n"
     ]
    },
    {
     "name": "stderr",
     "output_type": "stream",
     "text": [
      "Epoch [1/1]:  16%|█▌        | 282/1750 [00:44<03:38,  6.73it/s, loss=0.247] "
     ]
    },
    {
     "name": "stdout",
     "output_type": "stream",
     "text": [
      "[-152.8]\n"
     ]
    },
    {
     "name": "stderr",
     "output_type": "stream",
     "text": [
      "Epoch [1/1]:  18%|█▊        | 313/1750 [00:48<03:22,  7.09it/s, loss=0.421] "
     ]
    },
    {
     "name": "stdout",
     "output_type": "stream",
     "text": [
      "[-157.9]\n"
     ]
    },
    {
     "name": "stderr",
     "output_type": "stream",
     "text": [
      "Epoch [1/1]:  20%|█▉        | 344/1750 [00:51<03:02,  7.70it/s, loss=0.283] "
     ]
    },
    {
     "name": "stdout",
     "output_type": "stream",
     "text": [
      "[-150.3]\n"
     ]
    },
    {
     "name": "stderr",
     "output_type": "stream",
     "text": [
      "Epoch [1/1]:  21%|██▏       | 375/1750 [00:56<03:09,  7.27it/s, loss=0.206]"
     ]
    },
    {
     "name": "stdout",
     "output_type": "stream",
     "text": [
      "[-150.7]\n"
     ]
    },
    {
     "name": "stderr",
     "output_type": "stream",
     "text": [
      "Epoch [1/1]:  23%|██▎       | 407/1750 [00:59<02:46,  8.08it/s, loss=0.164] "
     ]
    },
    {
     "name": "stdout",
     "output_type": "stream",
     "text": [
      "[-133.7]\n"
     ]
    },
    {
     "name": "stderr",
     "output_type": "stream",
     "text": [
      "Epoch [1/1]:  25%|██▌       | 438/1750 [01:03<02:49,  7.72it/s, loss=0.247] "
     ]
    },
    {
     "name": "stdout",
     "output_type": "stream",
     "text": [
      "[-137.5]\n"
     ]
    },
    {
     "name": "stderr",
     "output_type": "stream",
     "text": [
      "Epoch [1/1]:  27%|██▋       | 469/1750 [01:06<02:32,  8.37it/s, loss=0.261] "
     ]
    },
    {
     "name": "stdout",
     "output_type": "stream",
     "text": [
      "[-144.2]\n"
     ]
    },
    {
     "name": "stderr",
     "output_type": "stream",
     "text": [
      "Epoch [1/1]:  29%|██▊       | 500/1750 [01:10<02:27,  8.49it/s, loss=0.256] "
     ]
    },
    {
     "name": "stdout",
     "output_type": "stream",
     "text": [
      "[-118.3]\n"
     ]
    },
    {
     "name": "stderr",
     "output_type": "stream",
     "text": [
      "Epoch [1/1]:  30%|███       | 532/1750 [01:13<02:12,  9.16it/s, loss=0.258] "
     ]
    },
    {
     "name": "stdout",
     "output_type": "stream",
     "text": [
      "[-116.8]\n"
     ]
    },
    {
     "name": "stderr",
     "output_type": "stream",
     "text": [
      "Epoch [1/1]:  32%|███▏      | 563/1750 [01:17<02:16,  8.68it/s, loss=0.346] "
     ]
    },
    {
     "name": "stdout",
     "output_type": "stream",
     "text": [
      "[-130.3]\n"
     ]
    },
    {
     "name": "stderr",
     "output_type": "stream",
     "text": [
      "Epoch [1/1]:  34%|███▍      | 594/1750 [01:20<02:06,  9.12it/s, loss=0.201] "
     ]
    },
    {
     "name": "stdout",
     "output_type": "stream",
     "text": [
      "[-115.1]\n"
     ]
    },
    {
     "name": "stderr",
     "output_type": "stream",
     "text": [
      "Epoch [1/1]:  36%|███▌      | 625/1750 [01:24<02:16,  8.25it/s, loss=0.369] "
     ]
    },
    {
     "name": "stdout",
     "output_type": "stream",
     "text": [
      "[-150.8]\n"
     ]
    },
    {
     "name": "stderr",
     "output_type": "stream",
     "text": [
      "Epoch [1/1]:  38%|███▊      | 657/1750 [01:27<02:02,  8.91it/s, loss=0.24]  "
     ]
    },
    {
     "name": "stdout",
     "output_type": "stream",
     "text": [
      "[-123.1]\n"
     ]
    },
    {
     "name": "stderr",
     "output_type": "stream",
     "text": [
      "Epoch [1/1]:  39%|███▉      | 688/1750 [01:31<02:01,  8.71it/s, loss=0.0574]"
     ]
    },
    {
     "name": "stdout",
     "output_type": "stream",
     "text": [
      "[-145.2]\n"
     ]
    },
    {
     "name": "stderr",
     "output_type": "stream",
     "text": [
      "Epoch [1/1]:  41%|████      | 719/1750 [01:35<02:02,  8.40it/s, loss=0.0909]"
     ]
    },
    {
     "name": "stdout",
     "output_type": "stream",
     "text": [
      "[-125.4]\n"
     ]
    },
    {
     "name": "stderr",
     "output_type": "stream",
     "text": [
      "Epoch [1/1]:  43%|████▎     | 750/1750 [01:38<01:52,  8.88it/s, loss=0.243] "
     ]
    },
    {
     "name": "stdout",
     "output_type": "stream",
     "text": [
      "[-133.7]\n"
     ]
    },
    {
     "name": "stderr",
     "output_type": "stream",
     "text": [
      "Epoch [1/1]:  45%|████▍     | 782/1750 [01:41<01:39,  9.69it/s, loss=0.351] "
     ]
    },
    {
     "name": "stdout",
     "output_type": "stream",
     "text": [
      "[-129.1]\n"
     ]
    },
    {
     "name": "stderr",
     "output_type": "stream",
     "text": [
      "Epoch [1/1]:  46%|████▋     | 813/1750 [01:45<01:46,  8.77it/s, loss=0.345] "
     ]
    },
    {
     "name": "stdout",
     "output_type": "stream",
     "text": [
      "[-120.3]\n"
     ]
    },
    {
     "name": "stderr",
     "output_type": "stream",
     "text": [
      "Epoch [1/1]:  48%|████▊     | 844/1750 [01:48<01:38,  9.24it/s, loss=0.0833]"
     ]
    },
    {
     "name": "stdout",
     "output_type": "stream",
     "text": [
      "[-120.1]\n"
     ]
    },
    {
     "name": "stderr",
     "output_type": "stream",
     "text": [
      "Epoch [1/1]:  50%|█████     | 875/1750 [01:52<01:42,  8.56it/s, loss=0.433] "
     ]
    },
    {
     "name": "stdout",
     "output_type": "stream",
     "text": [
      "[-150.8]\n"
     ]
    },
    {
     "name": "stderr",
     "output_type": "stream",
     "text": [
      "Epoch [1/1]:  52%|█████▏    | 907/1750 [01:55<01:32,  9.13it/s, loss=0.25]  "
     ]
    },
    {
     "name": "stdout",
     "output_type": "stream",
     "text": [
      "[-132.2]\n"
     ]
    },
    {
     "name": "stderr",
     "output_type": "stream",
     "text": [
      "Epoch [1/1]:  54%|█████▎    | 938/1750 [01:59<01:35,  8.52it/s, loss=0.226] "
     ]
    },
    {
     "name": "stdout",
     "output_type": "stream",
     "text": [
      "[-132.7]\n"
     ]
    },
    {
     "name": "stderr",
     "output_type": "stream",
     "text": [
      "Epoch [1/1]:  55%|█████▌    | 969/1750 [02:02<01:23,  9.35it/s, loss=0.33]  "
     ]
    },
    {
     "name": "stdout",
     "output_type": "stream",
     "text": [
      "[-124.7]\n"
     ]
    },
    {
     "name": "stderr",
     "output_type": "stream",
     "text": [
      "Epoch [1/1]:  57%|█████▋    | 1000/1750 [02:05<01:17,  9.72it/s, loss=0.451] "
     ]
    },
    {
     "name": "stdout",
     "output_type": "stream",
     "text": [
      "[-121.6]\n"
     ]
    },
    {
     "name": "stderr",
     "output_type": "stream",
     "text": [
      "Epoch [1/1]:  59%|█████▉    | 1032/1750 [02:07<01:07, 10.58it/s, loss=0.509] "
     ]
    },
    {
     "name": "stdout",
     "output_type": "stream",
     "text": [
      "[-110.3]\n"
     ]
    },
    {
     "name": "stderr",
     "output_type": "stream",
     "text": [
      "Epoch [1/1]:  61%|██████    | 1063/1750 [02:11<01:09,  9.85it/s, loss=0.312] "
     ]
    },
    {
     "name": "stdout",
     "output_type": "stream",
     "text": [
      "[-131.5]\n"
     ]
    },
    {
     "name": "stderr",
     "output_type": "stream",
     "text": [
      "Epoch [1/1]:  63%|██████▎   | 1094/1750 [02:14<01:06,  9.83it/s, loss=0.349]  "
     ]
    },
    {
     "name": "stdout",
     "output_type": "stream",
     "text": [
      "[-122.7]\n"
     ]
    },
    {
     "name": "stderr",
     "output_type": "stream",
     "text": [
      "Epoch [1/1]:  64%|██████▍   | 1125/1750 [02:17<01:01, 10.09it/s, loss=0.0344]"
     ]
    },
    {
     "name": "stdout",
     "output_type": "stream",
     "text": [
      "[-113.]\n"
     ]
    },
    {
     "name": "stderr",
     "output_type": "stream",
     "text": [
      "Epoch [1/1]:  66%|██████▌   | 1157/1750 [02:20<00:57, 10.37it/s, loss=0.0389]"
     ]
    },
    {
     "name": "stdout",
     "output_type": "stream",
     "text": [
      "[-109.5]\n"
     ]
    },
    {
     "name": "stderr",
     "output_type": "stream",
     "text": [
      "Epoch [1/1]:  68%|██████▊   | 1188/1750 [02:23<00:53, 10.52it/s, loss=0.0199]"
     ]
    },
    {
     "name": "stdout",
     "output_type": "stream",
     "text": [
      "[-118.1]\n"
     ]
    },
    {
     "name": "stderr",
     "output_type": "stream",
     "text": [
      "Epoch [1/1]:  70%|██████▉   | 1219/1750 [02:26<00:50, 10.50it/s, loss=0.396] "
     ]
    },
    {
     "name": "stdout",
     "output_type": "stream",
     "text": [
      "[-117.4]\n"
     ]
    },
    {
     "name": "stderr",
     "output_type": "stream",
     "text": [
      "Epoch [1/1]:  71%|███████▏  | 1250/1750 [02:28<00:45, 11.03it/s, loss=0.13]  "
     ]
    },
    {
     "name": "stdout",
     "output_type": "stream",
     "text": [
      "[-121.]\n"
     ]
    },
    {
     "name": "stderr",
     "output_type": "stream",
     "text": [
      "Epoch [1/1]:  73%|███████▎  | 1282/1750 [02:31<00:43, 10.88it/s, loss=0.161] "
     ]
    },
    {
     "name": "stdout",
     "output_type": "stream",
     "text": [
      "[-112.7]\n"
     ]
    },
    {
     "name": "stderr",
     "output_type": "stream",
     "text": [
      "Epoch [1/1]:  75%|███████▌  | 1313/1750 [02:34<00:40, 10.79it/s, loss=0.658] "
     ]
    },
    {
     "name": "stdout",
     "output_type": "stream",
     "text": [
      "[-115.2]\n"
     ]
    },
    {
     "name": "stderr",
     "output_type": "stream",
     "text": [
      "Epoch [1/1]:  77%|███████▋  | 1344/1750 [02:37<00:37, 10.92it/s, loss=0.196] "
     ]
    },
    {
     "name": "stdout",
     "output_type": "stream",
     "text": [
      "[-108.]\n"
     ]
    },
    {
     "name": "stderr",
     "output_type": "stream",
     "text": [
      "Epoch [1/1]:  79%|███████▊  | 1375/1750 [02:40<00:33, 11.13it/s, loss=0.115] "
     ]
    },
    {
     "name": "stdout",
     "output_type": "stream",
     "text": [
      "[-114.6]\n"
     ]
    },
    {
     "name": "stderr",
     "output_type": "stream",
     "text": [
      "Epoch [1/1]:  80%|████████  | 1407/1750 [02:43<00:32, 10.55it/s, loss=0.204] "
     ]
    },
    {
     "name": "stdout",
     "output_type": "stream",
     "text": [
      "[-132.9]\n"
     ]
    },
    {
     "name": "stderr",
     "output_type": "stream",
     "text": [
      "Epoch [1/1]:  82%|████████▏ | 1438/1750 [02:46<00:28, 10.76it/s, loss=0.204] "
     ]
    },
    {
     "name": "stdout",
     "output_type": "stream",
     "text": [
      "[-112.8]\n"
     ]
    },
    {
     "name": "stderr",
     "output_type": "stream",
     "text": [
      "Epoch [1/1]:  84%|████████▍ | 1469/1750 [02:49<00:26, 10.78it/s, loss=0.0182]"
     ]
    },
    {
     "name": "stdout",
     "output_type": "stream",
     "text": [
      "[-119.5]\n"
     ]
    },
    {
     "name": "stderr",
     "output_type": "stream",
     "text": [
      "Epoch [1/1]:  86%|████████▌ | 1500/1750 [02:53<00:25,  9.63it/s, loss=0.256] "
     ]
    },
    {
     "name": "stdout",
     "output_type": "stream",
     "text": [
      "[-126.5]\n"
     ]
    },
    {
     "name": "stderr",
     "output_type": "stream",
     "text": [
      "Epoch [1/1]:  88%|████████▊ | 1532/1750 [02:57<00:25,  8.54it/s, loss=0.255] "
     ]
    },
    {
     "name": "stdout",
     "output_type": "stream",
     "text": [
      "[-128.5]\n"
     ]
    },
    {
     "name": "stderr",
     "output_type": "stream",
     "text": [
      "Epoch [1/1]:  89%|████████▉ | 1563/1750 [03:00<00:20,  9.05it/s, loss=0.293] "
     ]
    },
    {
     "name": "stdout",
     "output_type": "stream",
     "text": [
      "[-118.3]\n"
     ]
    },
    {
     "name": "stderr",
     "output_type": "stream",
     "text": [
      "Epoch [1/1]:  91%|█████████ | 1594/1750 [03:03<00:16,  9.42it/s, loss=0.416] "
     ]
    },
    {
     "name": "stdout",
     "output_type": "stream",
     "text": [
      "[-120.7]\n"
     ]
    },
    {
     "name": "stderr",
     "output_type": "stream",
     "text": [
      "Epoch [1/1]:  93%|█████████▎| 1625/1750 [03:06<00:12, 10.01it/s, loss=0.0262]"
     ]
    },
    {
     "name": "stdout",
     "output_type": "stream",
     "text": [
      "[-110.]\n"
     ]
    },
    {
     "name": "stderr",
     "output_type": "stream",
     "text": [
      "Epoch [1/1]:  95%|█████████▍| 1657/1750 [03:08<00:08, 10.65it/s, loss=0.245] "
     ]
    },
    {
     "name": "stdout",
     "output_type": "stream",
     "text": [
      "[-112.6]\n"
     ]
    },
    {
     "name": "stderr",
     "output_type": "stream",
     "text": [
      "Epoch [1/1]:  96%|█████████▋| 1688/1750 [03:12<00:05, 10.51it/s, loss=0.239] "
     ]
    },
    {
     "name": "stdout",
     "output_type": "stream",
     "text": [
      "[-138.9]\n"
     ]
    },
    {
     "name": "stderr",
     "output_type": "stream",
     "text": [
      "Epoch [1/1]:  98%|█████████▊| 1719/1750 [03:15<00:02, 10.47it/s, loss=0.371] "
     ]
    },
    {
     "name": "stdout",
     "output_type": "stream",
     "text": [
      "[-129.7]\n"
     ]
    },
    {
     "name": "stderr",
     "output_type": "stream",
     "text": [
      "Epoch [1/1]: 100%|██████████| 1750/1750 [03:19<00:00,  8.78it/s, loss=0.264]"
     ]
    },
    {
     "name": "stdout",
     "output_type": "stream",
     "text": [
      "[-122.]\n"
     ]
    },
    {
     "name": "stderr",
     "output_type": "stream",
     "text": [
      "\n"
     ]
    }
   ],
   "source": [
    "# show line number below\n",
    "from stable_baselines3.common.env_util import make_vec_env as make_vec_env_sb3\n",
    "\n",
    "policy_network = PolicyNetwork(\n",
    "    env.observation_space.shape[0],env.action_space.n ).to(device)\n",
    "# nn init kaiming\n",
    "torch.nn.init.kaiming_normal_(policy_network.fc1.weight)\n",
    "torch.nn.init.kaiming_normal_(policy_network.fc2.weight)\n",
    "torch.nn.init.kaiming_normal_(policy_network.fc3.weight)\n",
    "\n",
    "# build training set and validation set\n",
    "train_size = int(1* len(observations))\n",
    "train_observations = observations[:train_size]\n",
    "train_actions = actions[:train_size]\n",
    "# val_observations = observations[train_size:]\n",
    "# val_actions = actions[train_size:]\n",
    "\n",
    "# build dataset\n",
    "train_dataset = CustomDataset(observations, actions)\n",
    "# val_dataset = CustomDataset(val_observations, val_actions)\n",
    "env = make_vec_env_sb3(env_id, n_envs=1)\n",
    "\n",
    "optimizer = torch.optim.Adam(policy_network.parameters(), lr=0.0017601048183920826,weight_decay=2.350251568550711e-5,eps=1e-8)\n",
    "\n",
    "\n",
    "# Training loop\n",
    "num_epochs = 1\n",
    "batch_size = 16\n",
    "\n",
    "train_dataloader = DataLoader(train_dataset , batch_size=batch_size, shuffle=True)\n",
    "# val_dataloader = DataLoader(val_dataset , batch_size=batch_size, shuffle=True)\n",
    "loss_func = nn.CrossEntropyLoss()\n",
    "log_interval = 500\n",
    "num_test=10\n",
    "\n",
    "now_log=0\n",
    "now_pos=0\n",
    "graph=[]\n",
    "eval_rewards=[]\n",
    "for epoch in range(num_epochs):\n",
    "    policy_network.train()\n",
    "\n",
    "    # Compute the log probabilities of the actions\n",
    "    pbar=tqdm(train_dataloader,position=0,leave=True)\n",
    "    now_log=0\n",
    "    \n",
    "    for step, (obs_batch,act_batch) in enumerate(pbar):\n",
    "        now_log+=obs_batch.shape[0]\n",
    "        now_pos+=obs_batch.shape[0]\n",
    "        \n",
    "        logits = policy_network(obs_batch)\n",
    "        # cross entropy\n",
    "        loss=loss_func(logits, act_batch.long())\n",
    "        \n",
    "        # Optimize the policy\n",
    "        optimizer.zero_grad()\n",
    "\n",
    "        loss.backward()\n",
    "        optimizer.step()\n",
    "\n",
    "\n",
    "\n",
    "\n",
    "        #scheduler\n",
    "\n",
    "        graph.append(loss.detach().item())\n",
    "        if now_log>=log_interval:\n",
    "            now_log-=log_interval\n",
    "            \n",
    "            policy_network.eval()  # 切换到评估模式\n",
    "\n",
    "            \n",
    "\n",
    "            total_reward=0\n",
    "            # test the policy and save as the first test as gif\n",
    "            frames = []\n",
    "            saved_frame = False\n",
    "            for _ in range(num_test):\n",
    "                state = env.reset()\n",
    "                done = False\n",
    "                while not done:\n",
    "                    state_tensor = torch.tensor([state], dtype=torch.float32).to(device)\n",
    "                    with torch.no_grad():\n",
    "                        action = Categorical(logits=(policy_network(state_tensor))).sample().cpu().numpy()[0]\n",
    "                        \n",
    "                    state, reward, done, _ = env.step(action)  # 执行动作\n",
    "                    total_reward += reward\n",
    "                    if not saved_frame:\n",
    "                        frame = env.render(mode=\"rgb_array\")\n",
    "                        frames.append(frame)  # 添加到帧列表中\n",
    "                # 保存为GIF\n",
    "                if not saved_frame:\n",
    "                    saved_frame = True\n",
    "                    image_path = f\"cartpole_iteration_{now_pos}.gif\"\n",
    "                    imageio.mimsave(\"/mnt/nfs/work/albertliu/RL/CartPole-v1/BC/gif/\"+image_path, frames)\n",
    "\n",
    "\n",
    "            \n",
    "            print(total_reward/num_test)\n",
    "                \n",
    "            eval_rewards.append(total_reward/num_test)\n",
    "\n",
    "            policy_network.train()      \n",
    "        pbar.set_description((f\"Epoch [{epoch+1}/{num_epochs}]\"))\n",
    "        pbar.set_postfix({\"loss\":loss.detach().item()})\n",
    "env.close()\n",
    "\n",
    "    \n"
   ]
  },
  {
   "cell_type": "code",
   "execution_count": 18,
   "metadata": {},
   "outputs": [
    {
     "data": {
      "image/png": "[encoded data removed]",
      "text/plain": [
       "<Figure size 640x480 with 1 Axes>"
      ]
     },
     "metadata": {},
     "output_type": "display_data"
    },
    {
     "data": {
      "image/png": "[encoded data removed]",
      "text/plain": [
       "<Figure size 640x480 with 1 Axes>"
      ]
     },
     "metadata": {},
     "output_type": "display_data"
    },
    {
     "data": {
      "text/plain": [
       "<Figure size 640x480 with 0 Axes>"
      ]
     },
     "metadata": {},
     "output_type": "display_data"
    }
   ],
   "source": [
    "# save to /mnt/nfs/work/albertliu/RL/CartPole-v1/BC\n",
    "# draw the loss graph\n",
    "import matplotlib.pyplot as plt\n",
    "plt.plot(graph)\n",
    "plt.xlabel(\"iteration\")\n",
    "plt.ylabel(\"Loss\")\n",
    "plt.title(\"Loss vs Epoch\")\n",
    "plt.show()\n",
    "plt.savefig(\"/mnt/nfs/work/albertliu/RL/CartPole-v1/BC/loss.png\")\n",
    "\n",
    "# draw the reward graph\n",
    "plt.plot(eval_rewards)\n",
    "plt.xlabel(\"iteration\")\n",
    "plt.ylabel(\"Reward\")\n",
    "plt.title(\"Reward vs Epoch\")\n",
    "plt.show()\n",
    "plt.savefig(\"/mnt/nfs/work/albertliu/RL/CartPole-v1/BC/reward.png\")\n",
    "\n",
    "\n"
   ]
  }
 ],
 "metadata": {
  "kernelspec": {
   "display_name": "atari",
   "language": "python",
   "name": "python3"
  },
  "language_info": {
   "codemirror_mode": {
    "name": "ipython",
    "version": 3
   },
   "file_extension": ".py",
   "mimetype": "text/x-python",
   "name": "python",
   "nbconvert_exporter": "python",
   "pygments_lexer": "ipython3",
   "version": "3.8.19"
  }
 },
 "nbformat": 4,
 "nbformat_minor": 2
}
